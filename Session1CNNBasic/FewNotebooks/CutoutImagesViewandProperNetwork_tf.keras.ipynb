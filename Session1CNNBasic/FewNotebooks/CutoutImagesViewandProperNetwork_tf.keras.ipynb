{
  "nbformat": 4,
  "nbformat_minor": 0,
  "metadata": {
    "colab": {
      "name": "EVA_Assignment14_Final_G1_v2.ipynb",
      "version": "0.3.2",
      "provenance": [],
      "collapsed_sections": []
    },
    "kernelspec": {
      "name": "python3",
      "display_name": "Python 3"
    },
    "accelerator": "GPU"
  },
  "cells": [
    {
      "cell_type": "code",
      "metadata": {
        "id": "QEtVTK3uYk9p",
        "colab_type": "code",
        "colab": {}
      },
      "source": [
        "import numpy as np\n",
        "import time, math\n",
        "import cv2\n",
        "from tqdm import tqdm_notebook as tqdm\n",
        "\n",
        "import tensorflow as tf\n",
        "from tensorflow.keras.regularizers import l2\n",
        "import tensorflow.contrib.eager as tfe\n",
        "\n",
        "import matplotlib.pyplot as plt\n",
        "% matplotlib inline"
      ],
      "execution_count": 0,
      "outputs": []
    },
    {
      "cell_type": "code",
      "metadata": {
        "id": "p5mkJO53h-Zs",
        "colab_type": "code",
        "colab": {}
      },
      "source": [
        "learning_rate = 0.4 \n",
        "epochs = 25\n",
        "batch_size = 512\n",
        "end_percentage = 0.05\n",
        "triangle_tilt = 0.7"
      ],
      "execution_count": 0,
      "outputs": []
    },
    {
      "cell_type": "code",
      "metadata": {
        "id": "6WR3LO8tidAc",
        "colab_type": "code",
        "outputId": "561bed83-8f0e-4c56-f19e-17efa42bfb65",
        "colab": {
          "base_uri": "https://localhost:8080/",
          "height": 51
        }
      },
      "source": [
        "# Loading the CIFAR10 60000 Training and 10000 Test data into respective numpy arrays\n",
        "(X_train, y_train), (X_test, y_test) = tf.keras.datasets.cifar10.load_data()\n",
        "\n",
        "n_train, n_test = X_train.shape[0], X_test.shape[0]\n",
        "img_size = X_train.shape[1]\n",
        "n_classes = y_train.max() + 1"
      ],
      "execution_count": 3,
      "outputs": [
        {
          "output_type": "stream",
          "text": [
            "Downloading data from https://www.cs.toronto.edu/~kriz/cifar-10-python.tar.gz\n",
            "170500096/170498071 [==============================] - 2s 0us/step\n"
          ],
          "name": "stdout"
        }
      ]
    },
    {
      "cell_type": "code",
      "metadata": {
        "id": "qJq-7uMpmU6x",
        "colab_type": "code",
        "colab": {}
      },
      "source": [
        "X_train = X_train.astype('float32')/255\n",
        "X_test = X_test.astype('float32')/255\n",
        "Y_train = tf.keras.utils.to_categorical(y_train, n_classes)\n",
        "Y_test = tf.keras.utils.to_categorical(y_test, n_classes)"
      ],
      "execution_count": 0,
      "outputs": []
    },
    {
      "cell_type": "code",
      "metadata": {
        "id": "n6QYdPNtQ99J",
        "colab_type": "code",
        "outputId": "190c9272-d4e1-4aad-9dab-898575bac287",
        "colab": {
          "base_uri": "https://localhost:8080/",
          "height": 34
        }
      },
      "source": [
        "X_train_mean = np.mean(X_train, axis=(0,1,2))\n",
        "X_train_std = np.std(X_train, axis=(0,1,2))\n",
        "print(X_train_mean, X_train_std)"
      ],
      "execution_count": 5,
      "outputs": [
        {
          "output_type": "stream",
          "text": [
            "[0.4914009  0.48215896 0.4465308 ] [0.24703279 0.24348423 0.26158753]\n"
          ],
          "name": "stdout"
        }
      ]
    },
    {
      "cell_type": "code",
      "metadata": {
        "id": "pzRLfIA8Q-xx",
        "colab_type": "code",
        "outputId": "b9b03b97-0600-48b8-ff3d-6cfd4e34206e",
        "colab": {
          "base_uri": "https://localhost:8080/",
          "height": 34
        }
      },
      "source": [
        "X_test_mean = np.mean(X_test, axis=(0,1,2))\n",
        "X_test_std = np.std(X_test, axis=(0,1,2))\n",
        "print(X_test_mean, X_test_std)"
      ],
      "execution_count": 6,
      "outputs": [
        {
          "output_type": "stream",
          "text": [
            "[0.49421427 0.4851322  0.45040992] [0.24665268 0.24289216 0.2615922 ]\n"
          ],
          "name": "stdout"
        }
      ]
    },
    {
      "cell_type": "code",
      "metadata": {
        "id": "oOh0j981RHnW",
        "colab_type": "code",
        "colab": {}
      },
      "source": [
        "X_train = (X_train - X_train_mean) / X_train_std\n",
        "X_test = (X_test - X_test_mean) / X_test_std"
      ],
      "execution_count": 0,
      "outputs": []
    },
    {
      "cell_type": "code",
      "metadata": {
        "id": "2smHikv8OChz",
        "colab_type": "code",
        "colab": {}
      },
      "source": [
        "def plot_model_history(model_history):\n",
        "    fig, axs = plt.subplots(1,2,figsize=(15,5))\n",
        "    # summarize history for accuracy\n",
        "    axs[0].plot(range(1,len(model_history.history['acc'])+1),model_history.history['acc'])\n",
        "    axs[0].plot(range(1,len(model_history.history['val_acc'])+1),model_history.history['val_acc'])\n",
        "    axs[0].set_title('Model Accuracy')\n",
        "    axs[0].set_ylabel('Accuracy')\n",
        "    axs[0].set_xlabel('Epoch')\n",
        "    axs[0].set_xticks(np.arange(1,len(model_history.history['acc'])+1),len(model_history.history['acc'])/10)\n",
        "    axs[0].legend(['train', 'val'], loc='best')\n",
        "    # summarize history for loss\n",
        "    axs[1].plot(range(1,len(model_history.history['loss'])+1),model_history.history['loss'])\n",
        "    axs[1].plot(range(1,len(model_history.history['val_loss'])+1),model_history.history['val_loss'])\n",
        "    axs[1].set_title('Model Loss')\n",
        "    axs[1].set_ylabel('Loss')\n",
        "    axs[1].set_xlabel('Epoch')\n",
        "    axs[1].set_xticks(np.arange(1,len(model_history.history['loss'])+1),len(model_history.history['loss'])/10)\n",
        "    axs[1].legend(['train', 'val'], loc='best')\n",
        "    plt.show()"
      ],
      "execution_count": 0,
      "outputs": []
    },
    {
      "cell_type": "code",
      "metadata": {
        "id": "W7S_Eg5lODYv",
        "colab_type": "code",
        "colab": {}
      },
      "source": [
        "def accuracy(validation_iterator, test_y, model):\n",
        "    result = model.evaluate_generator(validation_iterator, steps = len(validation_iterator))\n",
        "    predicted_class = np.argmax(result, axis=1)\n",
        "    true_class = np.argmax(test_y, axis=1)\n",
        "    num_correct = np.sum(predicted_class == true_class) \n",
        "    accuracy = float(num_correct)/result.shape[0]\n",
        "    return (accuracy * 100)"
      ],
      "execution_count": 0,
      "outputs": []
    },
    {
      "cell_type": "code",
      "metadata": {
        "id": "wMpsqn_O0CvI",
        "colab_type": "code",
        "colab": {}
      },
      "source": [
        "def show_examples(X,y,classes):\n",
        "    rows = int(np.ceil(len(X)/5))\n",
        "    if X.shape[1] > 64:\n",
        "        multiplier = 2\n",
        "    else:\n",
        "        multiplier = 1\n",
        "    fig = plt.figure(figsize=(10*multiplier, rows*2*multiplier))\n",
        "    for idx in np.arange(len(X)):\n",
        "        img = X[idx]\n",
        "        assert (len(img.shape)==3 and img.shape[2] in [1,3,4]) or len(img.shape)==2\n",
        "        ax = fig.add_subplot(rows, 5, idx + 1, xticks=[], yticks=[])\n",
        "        cmap = None\n",
        "        if (len(img.shape)==3 and img.shape[2]==1) or len(img.shape)==2:\n",
        "            cmap=\"binary\"\n",
        "        if len(img.shape)==3 and img.shape[2]==1:\n",
        "            img = img.reshape((img.shape[0],img.shape[1]))\n",
        "        ax.imshow(img,cmap=cmap)\n",
        "        ax.set_title(classes[np.argmax(y[idx])])\n",
        "    plt.show()"
      ],
      "execution_count": 0,
      "outputs": []
    },
    {
      "cell_type": "code",
      "metadata": {
        "id": "PFJt6i8e0IzH",
        "colab_type": "code",
        "colab": {}
      },
      "source": [
        "def get_cifar10_labels():\n",
        "    return ['airplane','automobile','bird','cat','deer','dog','frog','horse','ship','truck']"
      ],
      "execution_count": 0,
      "outputs": []
    },
    {
      "cell_type": "code",
      "metadata": {
        "id": "GMBWETcC0wi4",
        "colab_type": "code",
        "colab": {}
      },
      "source": [
        "def min_max_scale(X):\n",
        "  return (X - np.min(X))/(np.max(X)-np.min(X))"
      ],
      "execution_count": 0,
      "outputs": []
    },
    {
      "cell_type": "code",
      "metadata": {
        "id": "dDK_7gDlHEFC",
        "colab_type": "code",
        "colab": {}
      },
      "source": [
        "def get_cutout_eraser_and_padcrop(p=0.5, s_l=0.3, s_h=0.3, r_1=0.3, r_2=1 / 0.3, max_erasures_per_image=1, pixel_level=True, random_crop_size=(32, 32), padding_pixels=4):\n",
        "    \"\"\"\n",
        "    :param p:\n",
        "    :param s_l: Minimum Area Proportion of Original that may be cut\n",
        "    :param s_h: Maximum Area Proportion of Original that may be cut\n",
        "    :param r_1: Min Aspect Ratio\n",
        "    :param r_2: Max Aspect Ratio\n",
        "    :param max_erasures_per_image:\n",
        "    :param pixel_level:\n",
        "    :return: Eraser to be used as Preprocessing Function\n",
        "    \"\"\"\n",
        "    assert max_erasures_per_image >= 1\n",
        "\n",
        "    def eraser(input_img):\n",
        "        v_l = np.min(input_img)\n",
        "        v_h = np.max(input_img)\n",
        "        img_h, img_w, img_c = input_img.shape\n",
        "        p_1 = np.random.rand()\n",
        "\n",
        "        if p_1 > p:\n",
        "            return input_img\n",
        "\n",
        "        mx = np.random.randint(1, max_erasures_per_image + 1)\n",
        "        # print(\"Erasures = \",mx,end =\", \")\n",
        "        for i in range(mx):\n",
        "            while True:\n",
        "                s = np.random.uniform(s_l, s_h) * img_h * img_w\n",
        "                r = np.random.uniform(r_1, r_2)\n",
        "                w = int(np.sqrt(s / r))\n",
        "                h = int(np.sqrt(s * r))\n",
        "                left = np.random.randint(0, img_w)\n",
        "                top = np.random.randint(0, img_h)\n",
        "\n",
        "                if left + w <= img_w and top + h <= img_h:\n",
        "                    break\n",
        "\n",
        "            # print(\"W = \",w,\"H = \",h,end =\", \")\n",
        "\n",
        "            if pixel_level:\n",
        "                # print(np.max(img_c),np.min(img_c),v_l,v_h)\n",
        "                c = np.random.uniform(v_l, v_h, (h, w, img_c))\n",
        "                # print(c.shape,np.min(c),np.max(c),np.median(c))\n",
        "            else:\n",
        "                c = np.random.uniform(v_l, v_h)\n",
        "\n",
        "            input_img[top:top + h, left:left + w, :] = c\n",
        "\n",
        "        # print()\n",
        "        return input_img\n",
        "     \n",
        "    def random_crop(input_image):\n",
        "          # Note: image_data_format is 'channel_last'\n",
        "          assert input_image.shape[2] == 3\n",
        "          \n",
        "          #Pad by 4 pixels\n",
        "          img = cv2.copyMakeBorder(input_image, padding_pixels, padding_pixels, padding_pixels, padding_pixels, cv2.BORDER_REPLICATE)\n",
        "          \n",
        "          height, width = img.shape[0], img.shape[1]\n",
        "          dy, dx = random_crop_size\n",
        "          x = np.random.randint(0, width - dx + 1)\n",
        "          y = np.random.randint(0, height - dy + 1)\n",
        "          return img[y:(y+dy), x:(x+dx), :]\n",
        "        \n",
        "    def preproc_image(input_image):\n",
        "      #return eraser\n",
        "      return eraser(random_crop(input_image))\n",
        "\n",
        "    return preproc_image\n",
        "      \n",
        "        "
      ],
      "execution_count": 0,
      "outputs": []
    },
    {
      "cell_type": "code",
      "metadata": {
        "id": "JBPdtlO75o2O",
        "colab_type": "code",
        "outputId": "c14c4c1f-53b3-44cb-f30e-07b8dafa7ee6",
        "colab": {
          "base_uri": "https://localhost:8080/",
          "height": 265
        }
      },
      "source": [
        "datagen = tf.keras.preprocessing.image.ImageDataGenerator(\n",
        "   #featurewise_center=True,\n",
        "   #featurewise_std_normalization=True,\n",
        "   horizontal_flip=0.5,                 # randomly flip images                                     \n",
        "   preprocessing_function=get_cutout_eraser_and_padcrop(p=0.5, s_l=0.05, s_h=0.05, r_1=0.2, r_2=1 / 0.3, max_erasures_per_image=1, pixel_level=False))\n",
        "\n",
        "_ = datagen.fit(X_train)\n",
        "train_iterator = datagen.flow(X_train, Y_train, batch_size=batch_size, shuffle=False)\n",
        "\n",
        "X_e, Y_e = train_iterator.next()\n",
        "X_e = min_max_scale(X_e)\n",
        "show_examples(X_e[0:10], Y_e[0:10], classes = get_cifar10_labels())"
      ],
      "execution_count": 14,
      "outputs": [
        {
          "output_type": "display_data",
          "data": {
            "image/png": "[encoded data removed]",
            "text/plain": [
              "<Figure size 720x288 with 10 Axes>"
            ]
          },
          "metadata": {
            "tags": []
          }
        }
      ]
    },
    {
      "cell_type": "code",
      "metadata": {
        "id": "oxc5QhiQR1X6",
        "colab_type": "code",
        "colab": {}
      },
      "source": [
        "datagen_validation = tf.keras.preprocessing.image.ImageDataGenerator()\n",
        "datagen_validation.fit(X_test)\n",
        "validation_iterator = datagen_validation.flow(X_test, Y_test, batch_size=batch_size, shuffle=False)"
      ],
      "execution_count": 0,
      "outputs": []
    },
    {
      "cell_type": "code",
      "metadata": {
        "id": "10HGAQbDDg6d",
        "colab_type": "code",
        "colab": {}
      },
      "source": [
        "input_shape=(32, 32, 3)\n",
        "num_outputs = 10"
      ],
      "execution_count": 0,
      "outputs": []
    },
    {
      "cell_type": "code",
      "metadata": {
        "id": "37S1oFpA2wUJ",
        "colab_type": "code",
        "colab": {
          "base_uri": "https://localhost:8080/",
          "height": 105
        },
        "outputId": "a74d5ea9-4ea5-40af-dc86-013d8bc6bebd"
      },
      "source": [
        "#Define DawnNet model\n",
        "input = tf.keras.layers.Input(shape=input_shape)\n",
        "\n",
        "prep = tf.keras.layers.Conv2D(filters=32,\n",
        "                          kernel_size=(3, 3),\n",
        "                          strides=(1, 1),\n",
        "                          padding=\"same\",\n",
        "                          #kernel_initializer=\"he_normal\",\n",
        "                          kernel_regularizer=l2(0.0001))(input)\n",
        "prep = tf.keras.layers.BatchNormalization(axis=3,momentum=0.9, epsilon=1e-5)(prep)\n",
        "prep = tf.keras.layers.Activation(\"relu\")(prep)\n",
        "\n",
        "layer1 = tf.keras.layers.Conv2D(filters=64,\n",
        "                          kernel_size=(3, 3),\n",
        "                          strides=(1, 1),\n",
        "                          padding=\"same\",\n",
        "                          #kernel_initializer=\"he_normal\",\n",
        "                          kernel_regularizer=l2(0.0001))(prep)\n",
        "layer1 = tf.keras.layers.BatchNormalization(axis=3,momentum=0.9, epsilon=1e-5)(layer1)\n",
        "layer1 = tf.keras.layers.Activation(\"relu\")(layer1)\n",
        "layer1 = tf.keras.layers.MaxPooling2D(pool_size=(2, 2), strides=(2, 2), padding=\"same\")(layer1)\n",
        "\n",
        "layer1_res1_identity = tf.keras.layers.Conv2D(filters=32,\n",
        "                          kernel_size=(1, 1),\n",
        "                          strides=(1, 1),\n",
        "                          padding=\"same\",\n",
        "                          #kernel_initializer=\"he_normal\",\n",
        "                          kernel_regularizer=l2(0.0001))(layer1)\n",
        "layer1_res1 = tf.keras.layers.Conv2D(filters=64,\n",
        "                          kernel_size=(3, 3),\n",
        "                          strides=(1, 1),\n",
        "                          padding=\"same\",\n",
        "                          #kernel_initializer=\"he_normal\",\n",
        "                          kernel_regularizer=l2(0.0001))(layer1_res1_identity)\n",
        "layer1_res1 = tf.keras.layers.BatchNormalization(axis=3,momentum=0.9, epsilon=1e-5)(layer1_res1)\n",
        "layer1_res1 = tf.keras.layers.Activation(\"relu\")(layer1_res1)\n",
        "\n",
        "#concat1 = tf.keras.layers.concatenate([layer1, layer1_res1])\n",
        "\n",
        "layer1_res2 = tf.keras.layers.Conv2D(filters=64,\n",
        "                          kernel_size=(3, 3),\n",
        "                          strides=(1, 1),\n",
        "                          padding=\"same\",\n",
        "                          #kernel_initializer=\"he_normal\",\n",
        "                          kernel_regularizer=l2(0.0001))(layer1_res1)\n",
        "layer1_res2 = tf.keras.layers.BatchNormalization(axis=3,momentum=0.9, epsilon=1e-5)(layer1_res2)\n",
        "layer1_res2 = tf.keras.layers.Activation(\"relu\")(layer1_res2)\n",
        "\n",
        "concat1 = tf.keras.layers.concatenate([layer1, layer1_res2])\n",
        "\n",
        "\n",
        "layer2 = tf.keras.layers.Conv2D(filters=128,\n",
        "                          kernel_size=(3, 3),\n",
        "                          strides=(1, 1),\n",
        "                          padding=\"same\",\n",
        "                          #kernel_initializer=\"he_normal\",\n",
        "                          kernel_regularizer=l2(0.0001))(concat1)\n",
        "layer2 = tf.keras.layers.BatchNormalization(axis=3,momentum=0.9, epsilon=1e-5)(layer2)\n",
        "layer2 = tf.keras.layers.Activation(\"relu\")(layer2)\n",
        "layer2 = tf.keras.layers.MaxPooling2D(pool_size=(2, 2), strides=(2, 2), padding=\"same\")(layer2)\n",
        "\n",
        "\n",
        "layer3 = tf.keras.layers.Conv2D(filters=256,\n",
        "                          kernel_size=(3, 3),\n",
        "                          strides=(1, 1),\n",
        "                          padding=\"same\",\n",
        "                          #kernel_initializer=\"he_normal\",\n",
        "                          kernel_regularizer=l2(0.0001))(layer2)\n",
        "layer3 = tf.keras.layers.BatchNormalization(axis=3,momentum=0.9, epsilon=1e-5)(layer3)\n",
        "layer3 = tf.keras.layers.Activation(\"relu\")(layer3)\n",
        "layer3 = tf.keras.layers.MaxPooling2D(pool_size=(2, 2), strides=(2, 2), padding=\"same\")(layer3)\n",
        "\n",
        "layer3_res1_identity = tf.keras.layers.Conv2D(filters=128,\n",
        "                          kernel_size=(1, 1),\n",
        "                          strides=(1, 1),\n",
        "                          padding=\"same\",\n",
        "                          #kernel_initializer=\"he_normal\",\n",
        "                          kernel_regularizer=l2(0.0001))(layer3)\n",
        "layer3_res1 = tf.keras.layers.Conv2D(filters=256,\n",
        "                          kernel_size=(3, 3),\n",
        "                          strides=(1, 1),\n",
        "                          padding=\"same\",\n",
        "                          #kernel_initializer=\"he_normal\",\n",
        "                          kernel_regularizer=l2(0.0001))(layer3_res1_identity)\n",
        "layer3_res1 = tf.keras.layers.BatchNormalization(axis=3,momentum=0.9, epsilon=1e-5)(layer3_res1)\n",
        "layer3_res1 = tf.keras.layers.Activation(\"relu\")(layer3_res1)\n",
        "\n",
        "layer3_res2 = tf.keras.layers.Conv2D(filters=256,\n",
        "                          kernel_size=(3, 3),\n",
        "                          strides=(1, 1),\n",
        "                          padding=\"same\",\n",
        "                          #kernel_initializer=\"he_normal\",\n",
        "                          kernel_regularizer=l2(0.0001))(layer3_res1)\n",
        "layer3_res2 = tf.keras.layers.BatchNormalization(axis=3,momentum=0.9, epsilon=1e-5)(layer3_res2)\n",
        "layer3_res2 = tf.keras.layers.Activation(\"relu\")(layer3_res2)\n",
        "\n",
        "concat2 = tf.keras.layers.concatenate([layer3, layer3_res2])\n",
        "\n",
        "gmp = tf.keras.layers.GlobalMaxPooling2D()(concat2)\n",
        "dense = tf.keras.layers.Dense(units=num_outputs, activation=\"softmax\")(gmp) #kernel_initializer=\"he_normal\", \n",
        "\n",
        "model = tf.keras.models.Model(inputs=input, outputs=dense)"
      ],
      "execution_count": 17,
      "outputs": [
        {
          "output_type": "stream",
          "text": [
            "WARNING: Logging before flag parsing goes to stderr.\n",
            "W0815 17:18:21.054956 139670874630016 deprecation.py:506] From /usr/local/lib/python3.6/dist-packages/tensorflow/python/ops/init_ops.py:1251: calling VarianceScaling.__init__ (from tensorflow.python.ops.init_ops) with dtype is deprecated and will be removed in a future version.\n",
            "Instructions for updating:\n",
            "Call initializer instance with the dtype argument instead of passing it to the constructor\n"
          ],
          "name": "stderr"
        }
      ]
    },
    {
      "cell_type": "code",
      "metadata": {
        "id": "JRKvgcZrFgIj",
        "colab_type": "code",
        "outputId": "693bdd52-fcf1-409b-8a5f-531cdfde7fa2",
        "colab": {
          "base_uri": "https://localhost:8080/",
          "height": 1000
        }
      },
      "source": [
        "model.summary()"
      ],
      "execution_count": 18,
      "outputs": [
        {
          "output_type": "stream",
          "text": [
            "Model: \"model\"\n",
            "__________________________________________________________________________________________________\n",
            "Layer (type)                    Output Shape         Param #     Connected to                     \n",
            "==================================================================================================\n",
            "input_1 (InputLayer)            [(None, 32, 32, 3)]  0                                            \n",
            "__________________________________________________________________________________________________\n",
            "conv2d (Conv2D)                 (None, 32, 32, 32)   896         input_1[0][0]                    \n",
            "__________________________________________________________________________________________________\n",
            "batch_normalization (BatchNorma (None, 32, 32, 32)   128         conv2d[0][0]                     \n",
            "__________________________________________________________________________________________________\n",
            "activation (Activation)         (None, 32, 32, 32)   0           batch_normalization[0][0]        \n",
            "__________________________________________________________________________________________________\n",
            "conv2d_1 (Conv2D)               (None, 32, 32, 64)   18496       activation[0][0]                 \n",
            "__________________________________________________________________________________________________\n",
            "batch_normalization_1 (BatchNor (None, 32, 32, 64)   256         conv2d_1[0][0]                   \n",
            "__________________________________________________________________________________________________\n",
            "activation_1 (Activation)       (None, 32, 32, 64)   0           batch_normalization_1[0][0]      \n",
            "__________________________________________________________________________________________________\n",
            "max_pooling2d (MaxPooling2D)    (None, 16, 16, 64)   0           activation_1[0][0]               \n",
            "__________________________________________________________________________________________________\n",
            "conv2d_2 (Conv2D)               (None, 16, 16, 32)   2080        max_pooling2d[0][0]              \n",
            "__________________________________________________________________________________________________\n",
            "conv2d_3 (Conv2D)               (None, 16, 16, 64)   18496       conv2d_2[0][0]                   \n",
            "__________________________________________________________________________________________________\n",
            "batch_normalization_2 (BatchNor (None, 16, 16, 64)   256         conv2d_3[0][0]                   \n",
            "__________________________________________________________________________________________________\n",
            "activation_2 (Activation)       (None, 16, 16, 64)   0           batch_normalization_2[0][0]      \n",
            "__________________________________________________________________________________________________\n",
            "conv2d_4 (Conv2D)               (None, 16, 16, 64)   36928       activation_2[0][0]               \n",
            "__________________________________________________________________________________________________\n",
            "batch_normalization_3 (BatchNor (None, 16, 16, 64)   256         conv2d_4[0][0]                   \n",
            "__________________________________________________________________________________________________\n",
            "activation_3 (Activation)       (None, 16, 16, 64)   0           batch_normalization_3[0][0]      \n",
            "__________________________________________________________________________________________________\n",
            "concatenate (Concatenate)       (None, 16, 16, 128)  0           max_pooling2d[0][0]              \n",
            "                                                                 activation_3[0][0]               \n",
            "__________________________________________________________________________________________________\n",
            "conv2d_5 (Conv2D)               (None, 16, 16, 128)  147584      concatenate[0][0]                \n",
            "__________________________________________________________________________________________________\n",
            "batch_normalization_4 (BatchNor (None, 16, 16, 128)  512         conv2d_5[0][0]                   \n",
            "__________________________________________________________________________________________________\n",
            "activation_4 (Activation)       (None, 16, 16, 128)  0           batch_normalization_4[0][0]      \n",
            "__________________________________________________________________________________________________\n",
            "max_pooling2d_1 (MaxPooling2D)  (None, 8, 8, 128)    0           activation_4[0][0]               \n",
            "__________________________________________________________________________________________________\n",
            "conv2d_6 (Conv2D)               (None, 8, 8, 256)    295168      max_pooling2d_1[0][0]            \n",
            "__________________________________________________________________________________________________\n",
            "batch_normalization_5 (BatchNor (None, 8, 8, 256)    1024        conv2d_6[0][0]                   \n",
            "__________________________________________________________________________________________________\n",
            "activation_5 (Activation)       (None, 8, 8, 256)    0           batch_normalization_5[0][0]      \n",
            "__________________________________________________________________________________________________\n",
            "max_pooling2d_2 (MaxPooling2D)  (None, 4, 4, 256)    0           activation_5[0][0]               \n",
            "__________________________________________________________________________________________________\n",
            "conv2d_7 (Conv2D)               (None, 4, 4, 128)    32896       max_pooling2d_2[0][0]            \n",
            "__________________________________________________________________________________________________\n",
            "conv2d_8 (Conv2D)               (None, 4, 4, 256)    295168      conv2d_7[0][0]                   \n",
            "__________________________________________________________________________________________________\n",
            "batch_normalization_6 (BatchNor (None, 4, 4, 256)    1024        conv2d_8[0][0]                   \n",
            "__________________________________________________________________________________________________\n",
            "activation_6 (Activation)       (None, 4, 4, 256)    0           batch_normalization_6[0][0]      \n",
            "__________________________________________________________________________________________________\n",
            "conv2d_9 (Conv2D)               (None, 4, 4, 256)    590080      activation_6[0][0]               \n",
            "__________________________________________________________________________________________________\n",
            "batch_normalization_7 (BatchNor (None, 4, 4, 256)    1024        conv2d_9[0][0]                   \n",
            "__________________________________________________________________________________________________\n",
            "activation_7 (Activation)       (None, 4, 4, 256)    0           batch_normalization_7[0][0]      \n",
            "__________________________________________________________________________________________________\n",
            "concatenate_1 (Concatenate)     (None, 4, 4, 512)    0           max_pooling2d_2[0][0]            \n",
            "                                                                 activation_7[0][0]               \n",
            "__________________________________________________________________________________________________\n",
            "global_max_pooling2d (GlobalMax (None, 512)          0           concatenate_1[0][0]              \n",
            "__________________________________________________________________________________________________\n",
            "dense (Dense)                   (None, 10)           5130        global_max_pooling2d[0][0]       \n",
            "==================================================================================================\n",
            "Total params: 1,447,402\n",
            "Trainable params: 1,445,162\n",
            "Non-trainable params: 2,240\n",
            "__________________________________________________________________________________________________\n"
          ],
          "name": "stdout"
        }
      ]
    },
    {
      "cell_type": "code",
      "metadata": {
        "id": "suxU4w1SF6EX",
        "colab_type": "code",
        "outputId": "d9508d1f-163a-4a40-84b4-628afac12b83",
        "colab": {
          "base_uri": "https://localhost:8080/",
          "height": 298
        }
      },
      "source": [
        "def min_max_scaler(iterations, num_iterations, end_percentage, min_val, max_val, invert = False, triangle_tilt = 0.65):\n",
        "  non_slant_mid_cycle_id = int(num_iterations * ((1. - end_percentage)) / float(2))\n",
        "  mid_cycle_id = int(triangle_tilt*int(num_iterations * ((1. - end_percentage)) / float(2)))\n",
        "  value = 0\n",
        "  if iterations > 2 * non_slant_mid_cycle_id:\n",
        "    \n",
        "    \n",
        "      extra_iters = (iterations - 2 * non_slant_mid_cycle_id)\n",
        "      current_percentage = 1 - (1 - 1/10)*extra_iters/(num_iterations - 2 * non_slant_mid_cycle_id)\n",
        "            \n",
        "\n",
        "  elif iterations >  mid_cycle_id:\n",
        "      current_percentage = 1. - (iterations - mid_cycle_id) / (2*non_slant_mid_cycle_id - mid_cycle_id)\n",
        "      \n",
        "  else:\n",
        "      current_percentage = iterations / mid_cycle_id\n",
        "      \n",
        "  if invert:\n",
        "    if iterations > 2 * non_slant_mid_cycle_id:\n",
        "      return max_val\n",
        "    return max_val - current_percentage * (max_val - min_val)\n",
        "  else:\n",
        "    if iterations > 2 * non_slant_mid_cycle_id:\n",
        "      return min_val * current_percentage\n",
        "    return min_val + current_percentage * (max_val - min_val)\n",
        "  \n",
        "    \n",
        "\n",
        "print(\"=\"*80)\n",
        "scales = []\n",
        "for i in range(1000):\n",
        "  p = min_max_scaler(i,1000,0.1,min_val=0.1,max_val=1, invert=False)\n",
        "  scales.append(p)\n",
        "  \n",
        "plt.plot(np.array(scales))\n",
        "plt.title(\"LR Graph\")\n",
        "plt.show()"
      ],
      "execution_count": 19,
      "outputs": [
        {
          "output_type": "stream",
          "text": [
            "================================================================================\n"
          ],
          "name": "stdout"
        },
        {
          "output_type": "display_data",
          "data": {
            "image/png": "[encoded data removed]",
            "text/plain": [
              "<Figure size 432x288 with 1 Axes>"
            ]
          },
          "metadata": {
            "tags": []
          }
        }
      ]
    },
    {
      "cell_type": "code",
      "metadata": {
        "id": "v_zaj292F7PD",
        "colab_type": "code",
        "colab": {}
      },
      "source": [
        "import os\n",
        "import numpy as np\n",
        "import warnings\n",
        "\n",
        "from tensorflow.keras.callbacks import Callback\n",
        "from tensorflow.keras import backend as K\n",
        "\n",
        "from tensorflow.keras.layers import (\n",
        "    Conv2D,\n",
        "    MaxPooling2D,\n",
        "    AveragePooling2D\n",
        ")\n",
        "\n",
        "\n",
        "# Code is ported from https://github.com/fastai/fastai\n",
        "class OneCycleLR(Callback):\n",
        "    def __init__(self,\n",
        "                 epochs,\n",
        "                 batch_size,\n",
        "                 samples,\n",
        "                 steps,\n",
        "                 max_lr,\n",
        "                 end_percentage=0.1,\n",
        "                 scale=100,\n",
        "                 maximum_momentum=0.95,\n",
        "                 minimum_momentum=0.85,\n",
        "                 triangle_tilt = 0.75,\n",
        "                 verbose=True):\n",
        "        \"\"\" This callback implements a cyclical learning rate policy (CLR).\n",
        "        This is a special case of Cyclic Learning Rates, where we have only 1 cycle.\n",
        "        After the completion of 1 cycle, the learning rate will decrease rapidly to\n",
        "        100th its initial lowest value.\n",
        "        # Arguments:\n",
        "            max_lr: Float. Initial learning rate. This also sets the\n",
        "                starting learning rate (which will be 10x smaller than\n",
        "                this), and will increase to this value during the first cycle.\n",
        "            end_percentage: Float. The percentage of all the epochs of training\n",
        "                that will be dedicated to sharply decreasing the learning\n",
        "                rate after the completion of 1 cycle. Must be between 0 and 1.\n",
        "            scale_percentage: Float or None. If float, must be between 0 and 1.\n",
        "                If None, it will compute the scale_percentage automatically\n",
        "                based on the `end_percentage`.\n",
        "            maximum_momentum: Optional. Sets the maximum momentum (initial)\n",
        "                value, which gradually drops to its lowest value in half-cycle,\n",
        "                then gradually increases again to stay constant at this max value.\n",
        "                Can only be used with SGD Optimizer.\n",
        "            minimum_momentum: Optional. Sets the minimum momentum at the end of\n",
        "                the half-cycle. Can only be used with SGD Optimizer.\n",
        "            verbose: Bool. Whether to print the current learning rate after every\n",
        "                epoch.\n",
        "        # Reference\n",
        "            - [A disciplined approach to neural network hyper-parameters: Part 1 -- learning rate, batch size, weight_decay, and weight decay](https://arxiv.org/abs/1803.09820)\n",
        "            - [Super-Convergence: Very Fast Training of Residual Networks Using Large Learning Rates](https://arxiv.org/abs/1708.07120)\n",
        "        \"\"\"\n",
        "        super(OneCycleLR, self).__init__()\n",
        "\n",
        "        if end_percentage < 0. or end_percentage > 1.:\n",
        "            raise ValueError(\"`end_percentage` must be between 0 and 1\")\n",
        "\n",
        "\n",
        "        self.initial_lr = max_lr\n",
        "        self.end_percentage = end_percentage\n",
        "        self.scale = scale\n",
        "        self.max_momentum = maximum_momentum\n",
        "        self.min_momentum = minimum_momentum\n",
        "        self.verbose = verbose\n",
        "\n",
        "        if self.max_momentum is not None and self.min_momentum is not None:\n",
        "            self._update_momentum = True\n",
        "        else:\n",
        "            self._update_momentum = False\n",
        "\n",
        "        self.clr_iterations = 0.\n",
        "        self.history = {}\n",
        "\n",
        "        self.epochs = epochs\n",
        "        self.batch_size = batch_size\n",
        "        self.samples = samples\n",
        "        self.steps = steps\n",
        "        self.num_iterations = None\n",
        "        self.mid_cycle_id = None\n",
        "\n",
        "    def _reset(self):\n",
        "        \"\"\"\n",
        "        Reset the callback.\n",
        "        \"\"\"\n",
        "        self.clr_iterations = 0.\n",
        "        self.history = {}\n",
        "\n",
        "    def compute_lr(self):\n",
        "        \"\"\"\n",
        "        Compute the learning rate based on which phase of the cycle it is in.\n",
        "        - If in the first half of training, the learning rate gradually increases.\n",
        "        - If in the second half of training, the learning rate gradually decreases.\n",
        "        - If in the final `end_percentage` portion of training, the learning rate\n",
        "            is quickly reduced to near 100th of the original min learning rate.\n",
        "        # Returns:\n",
        "            the new learning rate\n",
        "        \"\"\"\n",
        "        new_lr = min_max_scaler(self.clr_iterations, self.num_iterations, self.end_percentage, self.initial_lr/self.scale, self.initial_lr, invert = False, triangle_tilt=triangle_tilt)\n",
        "        return new_lr\n",
        "\n",
        "    def compute_momentum(self):\n",
        "        \"\"\"\n",
        "         Compute the momentum based on which phase of the cycle it is in.\n",
        "        - If in the first half of training, the momentum gradually decreases.\n",
        "        - If in the second half of training, the momentum gradually increases.\n",
        "        - If in the final `end_percentage` portion of training, the momentum value\n",
        "            is kept constant at the maximum initial value.\n",
        "        # Returns:\n",
        "            the new momentum value\n",
        "        \"\"\"    \n",
        "        new_momentum = min_max_scaler(self.clr_iterations, self.num_iterations, self.end_percentage, self.min_momentum, self.max_momentum, invert = True, triangle_tilt=triangle_tilt)\n",
        "        return new_momentum\n",
        "\n",
        "    def on_train_begin(self, logs={}):\n",
        "        logs = logs or {}\n",
        "\n",
        "        if self.steps is not None:\n",
        "            self.num_iterations = self.epochs * self.steps\n",
        "        else:\n",
        "            if (self.samples % self.batch_size) == 0:\n",
        "                remainder = 0\n",
        "            else:\n",
        "                remainder = 1\n",
        "            self.num_iterations = (self.epochs + remainder) * self.samples // self.batch_size\n",
        "\n",
        "        self.mid_cycle_id = int(self.num_iterations * ((1. - self.end_percentage)) / float(2))\n",
        "\n",
        "        self._reset()\n",
        "        K.set_value(self.model.optimizer.lr, self.compute_lr())\n",
        "\n",
        "        if self._update_momentum:\n",
        "            if not hasattr(self.model.optimizer, 'momentum'):\n",
        "                raise ValueError(\"Momentum can be updated only on SGD optimizer !\")\n",
        "\n",
        "            new_momentum = self.compute_momentum()\n",
        "            K.set_value(self.model.optimizer.momentum, new_momentum)\n",
        "\n",
        "    def on_batch_end(self, epoch, logs=None):\n",
        "        logs = logs or {}\n",
        "\n",
        "        self.clr_iterations += 1\n",
        "        new_lr = self.compute_lr()\n",
        "\n",
        "        self.history.setdefault('lr', []).append(\n",
        "            K.get_value(self.model.optimizer.lr))\n",
        "        K.set_value(self.model.optimizer.lr, new_lr)\n",
        "\n",
        "        if self._update_momentum:\n",
        "            if not hasattr(self.model.optimizer, 'momentum'):\n",
        "                raise ValueError(\"Momentum can be updated only on SGD optimizer !\")\n",
        "\n",
        "            new_momentum = self.compute_momentum()\n",
        "\n",
        "            self.history.setdefault('momentum', []).append(\n",
        "                K.get_value(self.model.optimizer.momentum))\n",
        "            K.set_value(self.model.optimizer.momentum, new_momentum)\n",
        "\n",
        "        for k, v in logs.items():\n",
        "            self.history.setdefault(k, []).append(v)\n",
        "\n",
        "    def on_epoch_end(self, epoch, logs=None):\n",
        "        if self.verbose:\n",
        "            if self._update_momentum:\n",
        "                print(\" - lr: %0.5f - momentum: %0.2f \" %\n",
        "                      (self.history['lr'][-1], self.history['momentum'][-1]))\n",
        "\n",
        "            else:\n",
        "                print(\" - lr: %0.5f \" % (self.history['lr'][-1]))\n",
        "                \n",
        "    \n",
        "    def plot(self):\n",
        "        plt.title(\"LR-Plot\")\n",
        "        plt.plot(self.history['lr'])\n",
        "        plt.xlabel(\"Epochs\")\n",
        "        plt.ylabel(\"LR\")\n",
        "        plt.show()\n",
        "        \n",
        "        plt.title(\"Momentum-Plot\")\n",
        "        plt.plot(self.history['momentum'])\n",
        "        plt.xlabel(\"Epochs\")\n",
        "        plt.ylabel(\"Momentum\")\n",
        "        plt.show()"
      ],
      "execution_count": 0,
      "outputs": []
    },
    {
      "cell_type": "code",
      "metadata": {
        "id": "H_e-8-U1IRRx",
        "colab_type": "code",
        "colab": {}
      },
      "source": [
        "class StopAtAccValue(Callback):\n",
        "  def __init__(self,validation_iterator, threshold = 0.9, ):\n",
        "    super(StopAtAccValue, self).__init__()\n",
        "    self.threshold = threshold\n",
        "    self.validation_iterator = validation_iterator\n",
        "  def on_epoch_end(self, epoch, logs={}):\n",
        "    score = self.model.evaluate_generator(self.validation_iterator,steps=len(self.validation_iterator))\n",
        "    acc = score[1]\n",
        "    if acc >= self.threshold:\n",
        "      self.model.stop_training = True\n",
        "      print(\"Stopping Training:: Val Acc = %.3f Achieved\"%(acc))\n",
        "    else:\n",
        "      print(\"Continue Training:: Val Acc = %.3f, Threshold = %.3f\"%(acc,self.threshold))"
      ],
      "execution_count": 0,
      "outputs": []
    },
    {
      "cell_type": "code",
      "metadata": {
        "id": "-NblM6VSGBNm",
        "colab_type": "code",
        "colab": {}
      },
      "source": [
        "olr = OneCycleLR(epochs=epochs, batch_size = batch_size,steps=len(train_iterator), \n",
        "                 samples=X_train.shape[0], max_lr=learning_rate, verbose = True, scale = 50, end_percentage=end_percentage,\n",
        "                 maximum_momentum = 0.95, minimum_momentum=0.85, triangle_tilt=triangle_tilt)"
      ],
      "execution_count": 0,
      "outputs": []
    },
    {
      "cell_type": "code",
      "metadata": {
        "id": "YWaEbb0BlBK_",
        "colab_type": "code",
        "colab": {}
      },
      "source": [
        "sgd = tf.keras.optimizers.SGD(lr=0.0018, decay=5e-4, momentum=0.9, nesterov=True)\n",
        "\n",
        "# Compile the model\n",
        "model.compile(optimizer=sgd, loss='categorical_crossentropy', metrics=['accuracy'])"
      ],
      "execution_count": 0,
      "outputs": []
    },
    {
      "cell_type": "code",
      "metadata": {
        "id": "EecCH-q0Ege3",
        "colab_type": "code",
        "colab": {}
      },
      "source": [
        "# Specifying the path to store the weights\n",
        "#filepath=\"/content/gdrive/My Drive/Assignment13_v3.4.hdf5\"\n",
        "filepath = \"/content/model.hdf5\"\n",
        "checkpoint = tf.keras.callbacks.ModelCheckpoint(filepath, monitor='val_acc', verbose=0, save_best_only=True, save_weights_only=True, mode='max')"
      ],
      "execution_count": 0,
      "outputs": []
    },
    {
      "cell_type": "code",
      "metadata": {
        "id": "4M47dMHTIU7y",
        "colab_type": "code",
        "colab": {}
      },
      "source": [
        "stopper = StopAtAccValue(validation_iterator, threshold = 0.94)"
      ],
      "execution_count": 0,
      "outputs": []
    },
    {
      "cell_type": "code",
      "metadata": {
        "id": "XSTRlAv4KUuA",
        "colab_type": "code",
        "colab": {}
      },
      "source": [
        "callbacks = [olr]"
      ],
      "execution_count": 0,
      "outputs": []
    },
    {
      "cell_type": "code",
      "metadata": {
        "id": "HaDjaDz3szBx",
        "colab_type": "code",
        "outputId": "6806f64e-c6a6-46cf-c1c1-f2114df94ad0",
        "colab": {
          "base_uri": "https://localhost:8080/",
          "height": 1000
        }
      },
      "source": [
        "# train the model\n",
        "start = time.time()\n",
        "# Train the model\n",
        "\n",
        "model_info = model.fit_generator(train_iterator,\n",
        "                                 steps_per_epoch = len(train_iterator), epochs = epochs, \n",
        "                                 validation_data = validation_iterator, \n",
        "                                 validation_steps = len(validation_iterator),\n",
        "                                 verbose=2, callbacks=callbacks)\n",
        "end = time.time()\n",
        "print (\"Model took %0.2f seconds to train\"%(end - start))\n",
        "# plot model history\n",
        "plot_model_history(model_info)"
      ],
      "execution_count": 27,
      "outputs": [
        {
          "output_type": "stream",
          "text": [
            "Epoch 1/25\n",
            " - lr: 0.05471 - momentum: 0.94 \n",
            "98/98 - 21s - loss: 2.2221 - acc: 0.3709 - val_loss: 1.6693 - val_acc: 0.4849\n",
            "Epoch 2/25\n",
            " - lr: 0.10191 - momentum: 0.93 \n",
            "98/98 - 12s - loss: 1.4554 - acc: 0.5473 - val_loss: 1.3262 - val_acc: 0.6037\n",
            "Epoch 3/25\n",
            " - lr: 0.14910 - momentum: 0.91 \n",
            "98/98 - 12s - loss: 1.0649 - acc: 0.6750 - val_loss: 0.8657 - val_acc: 0.7429\n",
            "Epoch 4/25\n",
            " - lr: 0.19629 - momentum: 0.90 \n",
            "98/98 - 12s - loss: 0.8818 - acc: 0.7367 - val_loss: 0.9741 - val_acc: 0.7260\n",
            "Epoch 5/25\n",
            " - lr: 0.24349 - momentum: 0.89 \n",
            "98/98 - 12s - loss: 0.7955 - acc: 0.7743 - val_loss: 0.7485 - val_acc: 0.7866\n",
            "Epoch 6/25\n",
            " - lr: 0.29068 - momentum: 0.88 \n",
            "98/98 - 12s - loss: 0.7153 - acc: 0.7994 - val_loss: 0.8049 - val_acc: 0.7756\n",
            "Epoch 7/25\n",
            " - lr: 0.33788 - momentum: 0.87 \n",
            "98/98 - 12s - loss: 0.6681 - acc: 0.8180 - val_loss: 0.7001 - val_acc: 0.8064\n",
            "Epoch 8/25\n",
            " - lr: 0.38507 - momentum: 0.85 \n",
            "98/98 - 12s - loss: 0.6357 - acc: 0.8308 - val_loss: 0.6885 - val_acc: 0.8220\n",
            "Epoch 9/25\n",
            " - lr: 0.38263 - momentum: 0.85 \n",
            "98/98 - 12s - loss: 0.6049 - acc: 0.8419 - val_loss: 0.6722 - val_acc: 0.8261\n",
            "Epoch 10/25\n",
            " - lr: 0.35722 - momentum: 0.86 \n",
            "98/98 - 12s - loss: 0.5612 - acc: 0.8601 - val_loss: 0.6391 - val_acc: 0.8320\n",
            "Epoch 11/25\n",
            " - lr: 0.33181 - momentum: 0.87 \n",
            "98/98 - 12s - loss: 0.5266 - acc: 0.8714 - val_loss: 0.6847 - val_acc: 0.8320\n",
            "Epoch 12/25\n",
            " - lr: 0.30641 - momentum: 0.87 \n",
            "98/98 - 12s - loss: 0.4957 - acc: 0.8820 - val_loss: 0.5854 - val_acc: 0.8583\n",
            "Epoch 13/25\n",
            " - lr: 0.28100 - momentum: 0.88 \n",
            "98/98 - 12s - loss: 0.4704 - acc: 0.8916 - val_loss: 0.5875 - val_acc: 0.8624\n",
            "Epoch 14/25\n",
            " - lr: 0.25559 - momentum: 0.89 \n",
            "98/98 - 12s - loss: 0.4522 - acc: 0.8971 - val_loss: 0.5277 - val_acc: 0.8798\n",
            "Epoch 15/25\n",
            " - lr: 0.23019 - momentum: 0.89 \n",
            "98/98 - 12s - loss: 0.4323 - acc: 0.9052 - val_loss: 0.5256 - val_acc: 0.8779\n",
            "Epoch 16/25\n",
            " - lr: 0.20478 - momentum: 0.90 \n",
            "98/98 - 12s - loss: 0.4126 - acc: 0.9114 - val_loss: 0.5129 - val_acc: 0.8843\n",
            "Epoch 17/25\n",
            " - lr: 0.17937 - momentum: 0.91 \n",
            "98/98 - 12s - loss: 0.3962 - acc: 0.9172 - val_loss: 0.5473 - val_acc: 0.8776\n",
            "Epoch 18/25\n",
            " - lr: 0.15396 - momentum: 0.91 \n",
            "98/98 - 12s - loss: 0.3767 - acc: 0.9242 - val_loss: 0.4950 - val_acc: 0.8888\n",
            "Epoch 19/25\n",
            " - lr: 0.12856 - momentum: 0.92 \n",
            "98/98 - 12s - loss: 0.3534 - acc: 0.9312 - val_loss: 0.4778 - val_acc: 0.8967\n",
            "Epoch 20/25\n",
            " - lr: 0.10315 - momentum: 0.93 \n",
            "98/98 - 12s - loss: 0.3378 - acc: 0.9360 - val_loss: 0.4954 - val_acc: 0.8977\n",
            "Epoch 21/25\n",
            " - lr: 0.07774 - momentum: 0.93 \n",
            "98/98 - 12s - loss: 0.3162 - acc: 0.9433 - val_loss: 0.4784 - val_acc: 0.9008\n",
            "Epoch 22/25\n",
            " - lr: 0.05233 - momentum: 0.94 \n",
            "98/98 - 12s - loss: 0.2964 - acc: 0.9502 - val_loss: 0.4585 - val_acc: 0.9060\n",
            "Epoch 23/25\n",
            " - lr: 0.02693 - momentum: 0.95 \n",
            "98/98 - 12s - loss: 0.2750 - acc: 0.9575 - val_loss: 0.4667 - val_acc: 0.9092\n",
            "Epoch 24/25\n",
            " - lr: 0.00655 - momentum: 0.95 \n",
            "98/98 - 12s - loss: 0.2603 - acc: 0.9632 - val_loss: 0.4387 - val_acc: 0.9130\n",
            "Epoch 25/25\n",
            " - lr: 0.00086 - momentum: 0.95 \n",
            "98/98 - 12s - loss: 0.2453 - acc: 0.9689 - val_loss: 0.4365 - val_acc: 0.9149\n",
            "Model took 317.81 seconds to train\n"
          ],
          "name": "stdout"
        },
        {
          "output_type": "display_data",
          "data": {
            "image/png": "[encoded data removed]",
            "text/plain": [
              "<Figure size 1080x360 with 2 Axes>"
            ]
          },
          "metadata": {
            "tags": []
          }
        }
      ]
    },
    {
      "cell_type": "code",
      "metadata": {
        "id": "cgwIhCP8pe5_",
        "colab_type": "code",
        "colab": {
          "base_uri": "https://localhost:8080/",
          "height": 34
        },
        "outputId": "acc07c64-a795-41fb-d1c1-031d633c7814"
      },
      "source": [
        "# compute test accuracy\n",
        "result = model.evaluate_generator(validation_iterator, steps = len(validation_iterator))\n",
        "print(result)"
      ],
      "execution_count": 28,
      "outputs": [
        {
          "output_type": "stream",
          "text": [
            "[0.43652025163173674, 0.9149]\n"
          ],
          "name": "stdout"
        }
      ]
    },
    {
      "cell_type": "code",
      "metadata": {
        "id": "U9lgMpGjJG1C",
        "colab_type": "code",
        "colab": {
          "base_uri": "https://localhost:8080/",
          "height": 573
        },
        "outputId": "f2fac2a1-4ac1-45a6-e8af-22fe273178ee"
      },
      "source": [
        "layer = [layer for layer in model.layers[0:] if type(layer)==Conv2D][-2]\n",
        "olr.plot()"
      ],
      "execution_count": 29,
      "outputs": [
        {
          "output_type": "display_data",
          "data": {
            "image/png": "[encoded data removed]",
            "text/plain": [
              "<Figure size 432x288 with 1 Axes>"
            ]
          },
          "metadata": {
            "tags": []
          }
        },
        {
          "output_type": "display_data",
          "data": {
            "image/png": "[encoded data removed]",
            "text/plain": [
              "<Figure size 432x288 with 1 Axes>"
            ]
          },
          "metadata": {
            "tags": []
          }
        }
      ]
    }
  ]
}