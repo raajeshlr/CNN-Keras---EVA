{
  "nbformat": 4,
  "nbformat_minor": 0,
  "metadata": {
    "accelerator": "GPU",
    "colab": {
      "name": "Save Data Augmentation.ipynb",
      "version": "0.3.2",
      "provenance": [],
      "collapsed_sections": [],
      "machine_shape": "hm"
    },
    "kernelspec": {
      "name": "python3",
      "display_name": "Python 3"
    },
    "language_info": {
      "codemirror_mode": {
        "name": "ipython",
        "version": 3
      },
      "file_extension": ".py",
      "mimetype": "text/x-python",
      "name": "python",
      "nbconvert_exporter": "python",
      "pygments_lexer": "ipython3",
      "version": "3.7.1"
    }
  },
  "cells": [
    {
      "cell_type": "code",
      "metadata": {
        "colab_type": "code",
        "id": "sw4nNhM8mN2z",
        "outputId": "72dfb7d5-10b8-40c1-90b0-1398d3fc53e6",
        "colab": {
          "base_uri": "https://localhost:8080/",
          "height": 34
        }
      },
      "source": [
        "import numpy as np\n",
        "import tensorflow as tf\n",
        "import os\n",
        "\n",
        "from keras.utils import np_utils\n",
        "import cv2\n",
        "from matplotlib import pyplot as plt\n",
        "#tf.enable_eager_execution()"
      ],
      "execution_count": 1,
      "outputs": [
        {
          "output_type": "stream",
          "text": [
            "Using TensorFlow backend.\n"
          ],
          "name": "stderr"
        }
      ]
    },
    {
      "cell_type": "code",
      "metadata": {
        "colab_type": "code",
        "id": "VeLRe4cBmbu_",
        "colab": {
          "base_uri": "https://localhost:8080/",
          "height": 52
        },
        "outputId": "1b75c2ae-3f76-4ea7-d3a6-c750b5c470d0"
      },
      "source": [
        "(train_features, train_labels), (test_features, test_labels) = tf.keras.datasets.cifar10.load_data()\n",
        "num_train, img_channels, img_rows, img_cols =  train_features.shape\n",
        "num_test, _, _, _ =  test_features.shape\n",
        "num_classes = len(np.unique(train_labels))"
      ],
      "execution_count": 2,
      "outputs": [
        {
          "output_type": "stream",
          "text": [
            "Downloading data from https://www.cs.toronto.edu/~kriz/cifar-10-python.tar.gz\n",
            "170500096/170498071 [==============================] - 2s 0us/step\n"
          ],
          "name": "stdout"
        }
      ]
    },
    {
      "cell_type": "code",
      "metadata": {
        "colab_type": "code",
        "id": "w9Men1oDmesN",
        "colab": {}
      },
      "source": [
        "train_features = train_features.astype('float32')/255\n",
        "test_features = test_features.astype('float32')/255\n",
        "# convert class labels to binary class labels\n",
        "train_labels = np_utils.to_categorical(train_labels, num_classes)\n",
        "test_labels = np_utils.to_categorical(test_labels, num_classes)"
      ],
      "execution_count": 0,
      "outputs": []
    },
    {
      "cell_type": "code",
      "metadata": {
        "id": "YhAmhrsOLQRq",
        "colab_type": "code",
        "outputId": "10a6c490-5b7b-45c5-8273-33892a2636b4",
        "colab": {
          "base_uri": "https://localhost:8080/",
          "height": 34
        }
      },
      "source": [
        "train_features.shape"
      ],
      "execution_count": 4,
      "outputs": [
        {
          "output_type": "execute_result",
          "data": {
            "text/plain": [
              "(50000, 32, 32, 3)"
            ]
          },
          "metadata": {
            "tags": []
          },
          "execution_count": 4
        }
      ]
    },
    {
      "cell_type": "code",
      "metadata": {
        "id": "LcQrJ2EnKUvP",
        "colab_type": "code",
        "colab": {}
      },
      "source": [
        "def random_crop(input_image,padding_pixels=4,random_crop_size=(32,32)):\n",
        "    assert input_image.shape[2]==3\n",
        "\n",
        "    #pad for 4 pixels\n",
        "    img = cv2.copyMakeBorder(input_image,padding_pixels,padding_pixels,padding_pixels,padding_pixels,cv2.BORDER_REPLICATE)\n",
        "    height , width =img.shape[0],img.shape[1]\n",
        "    dy,dx = random_crop_size\n",
        "    x = np.random.randint(0,width - dx + 1)\n",
        "    y = np.random.randint(0,height - dy + 1)\n",
        "    return img[y:(y+dy),x:(x+dx),:]\n",
        "\n",
        "#lambda_feat = lambda t : random_crop(t)\n",
        "tr_seq = list(range(len(train_features)))\n",
        "te_seq = list(range(len(test_features)))\n",
        "train_func = lambda i:random_crop(train_features[i])\n",
        "train_features = list(map(train_func,tr_seq))\n",
        "\n",
        "train_features = np.asarray(train_features)\n"
      ],
      "execution_count": 0,
      "outputs": []
    },
    {
      "cell_type": "code",
      "metadata": {
        "id": "KLsU1VFWQ7n_",
        "colab_type": "code",
        "outputId": "d539dcfc-bd33-4a3c-af4e-7e73f43578b3",
        "colab": {
          "base_uri": "https://localhost:8080/",
          "height": 286
        }
      },
      "source": [
        "plt.imshow(train_features[0])"
      ],
      "execution_count": 6,
      "outputs": [
        {
          "output_type": "execute_result",
          "data": {
            "text/plain": [
              "<matplotlib.image.AxesImage at 0x7f2a511b08d0>"
            ]
          },
          "metadata": {
            "tags": []
          },
          "execution_count": 6
        },
        {
          "output_type": "display_data",
          "data": {
            "image/png": "[encoded data removed]",
            "text/plain": [
              "<Figure size 432x288 with 1 Axes>"
            ]
          },
          "metadata": {
            "tags": []
          }
        }
      ]
    },
    {
      "cell_type": "code",
      "metadata": {
        "colab_type": "code",
        "id": "Q5EigjQNmhWU",
        "colab": {}
      },
      "source": [
        "def get_cutout_eraser_and_random_crop(p=0.4,s_l=0.05,s_h=0.3,r_1=0.3,r_2=1/0.3,max_erasers_per_image=1,pixel_level=True,random_crop_size=(32,32),padding_pixels=4):\n",
        "  \n",
        "  assert max_erasers_per_image>=1 \n",
        "  def eraser(input_img):\n",
        "        v_l = np.min(input_img)\n",
        "        v_h = np.max(input_img)\n",
        "        img_h, img_w, img_c = input_img.shape\n",
        "        p_1 = np.random.rand()\n",
        "\n",
        "        if p_1 > p:\n",
        "            return input_img\n",
        "        mx = np.random.randint(1,max_erasers_per_image+1)\n",
        "        for i in range(mx):\n",
        "          while True:\n",
        "              s = np.random.uniform(s_l, s_h) * img_h * img_w\n",
        "              r = np.random.uniform(r_1, r_2)\n",
        "              w = int(np.sqrt(s / r))\n",
        "              h = int(np.sqrt(s * r))\n",
        "              left = np.random.randint(0, img_w)\n",
        "              top = np.random.randint(0, img_h)\n",
        "\n",
        "              if left + w <= img_w and top + h <= img_h:\n",
        "                  break\n",
        "\n",
        "          if pixel_level:\n",
        "              c = np.random.uniform(v_l, v_h, (h, w, img_c))\n",
        "          else:\n",
        "              c = np.random.uniform(v_l, v_h)\n",
        "\n",
        "          input_img[top:top + h, left:left + w, :] = c\n",
        "        return input_img\n",
        "\n",
        "  def preprocess_image(input_image):\n",
        "    return eraser(input_image)\n",
        "  \n",
        "  return preprocess_image"
      ],
      "execution_count": 0,
      "outputs": []
    },
    {
      "cell_type": "code",
      "metadata": {
        "id": "vf7MTd6B-rYA",
        "colab_type": "code",
        "colab": {}
      },
      "source": [
        "x_train_mean = np.mean(test_features,axis=(0,1,2))\n",
        "x_train_std = np.mean(test_features,axis=(0,1,2))"
      ],
      "execution_count": 0,
      "outputs": []
    },
    {
      "cell_type": "code",
      "metadata": {
        "colab_type": "code",
        "id": "2tOuprdCpqSB",
        "colab": {}
      },
      "source": [
        "datagen_aug = tf.keras.preprocessing.image.ImageDataGenerator(horizontal_flip=0.5,featurewise_center=True, featurewise_std_normalization=True,preprocessing_function=get_cutout_eraser_and_random_crop())\n",
        "datagen_aug.mean = np.array(x_train_mean, dtype=np.float32).reshape((1,1,3)) # ordering: [R, G, B]\n",
        "datagen_aug.std = np.array(x_train_std, dtype=np.float32).reshape((1,1,3)) # ordering: [R, G, B]\n",
        "#datagen.fit(train_features)\n",
        "train_generator = datagen_aug.flow(train_features,train_labels,batch_size=256)\n",
        "\n"
      ],
      "execution_count": 0,
      "outputs": []
    },
    {
      "cell_type": "code",
      "metadata": {
        "id": "VlSUtRPeOIxp",
        "colab_type": "code",
        "colab": {}
      },
      "source": [
        "x_test_mean = np.mean(test_features,axis=(0,1,2))\n",
        "x_test_std = np.mean(test_features,axis=(0,1,2))"
      ],
      "execution_count": 0,
      "outputs": []
    },
    {
      "cell_type": "code",
      "metadata": {
        "colab_type": "code",
        "id": "AMi1CeDsqUyv",
        "colab": {}
      },
      "source": [
        "test_datagen = tf.keras.preprocessing.image.ImageDataGenerator(featurewise_center=True, featurewise_std_normalization=True)\n",
        "test_datagen.mean = np.array(x_test_mean, dtype=np.float32).reshape((1,1,3)) # ordering: [R, G, B]\n",
        "test_datagen.std = np.array(x_test_std, dtype=np.float32).reshape((1,1,3)) # ordering: [R, G, B]\n",
        "test_datagen.fit(test_features)\n",
        "test_generator = test_datagen.flow(test_features,test_labels,batch_size=512)"
      ],
      "execution_count": 0,
      "outputs": []
    },
    {
      "cell_type": "code",
      "metadata": {
        "id": "mZVue0KrdH2T",
        "colab_type": "code",
        "colab": {}
      },
      "source": [
        "# aug_img=np.zeros((256,32,32,3))\n",
        "# train_gen = train_generator.next()\n",
        "# aug_img[:256]= train_gen[0]"
      ],
      "execution_count": 0,
      "outputs": []
    },
    {
      "cell_type": "code",
      "metadata": {
        "id": "-B_Gdr7lP-rq",
        "colab_type": "code",
        "outputId": "cf9e0ee8-4f2d-4c2c-93c9-027fbeaf2f2f",
        "colab": {
          "base_uri": "https://localhost:8080/",
          "height": 357
        }
      },
      "source": [
        "import h5py\n",
        "f = h5py.File('aug_img.hdf5', 'w')\n",
        "d = f.create_dataset('dataset', (500000,32,32,3),chunks=(256,32,32,3))\n",
        "l = f.create_dataset('labels',(500000,10),chunks=(256,10))\n",
        "\n",
        "\n",
        "batch_size=256\n",
        "EPOCHS =20\n",
        "aug_lbl=[]\n",
        "tmp=0\n",
        "for i in range(EPOCHS):\n",
        "  print(\"tmp \", tmp)\n",
        "  for j in range(len(train_generator)):\n",
        "    initial = j*batch_size+tmp\n",
        "    train_gen = train_generator.next()\n",
        "    if(j == 195 ):\n",
        "      final += 80\n",
        "      d[initial:final]= train_gen[0]\n",
        "      l[initial:final]= train_gen[1]\n",
        "      continue \n",
        "      \n",
        "    \n",
        "    final = initial + 256\n",
        "    d[initial:final]= train_gen[0]\n",
        "    l[initial:final]= train_gen[1]\n",
        "  \n",
        "  tmp = final\n",
        "\n",
        "# f.close()\n",
        "\n",
        "  \n",
        "  "
      ],
      "execution_count": 0,
      "outputs": [
        {
          "output_type": "stream",
          "text": [
            "tmp  0\n",
            "tmp  50000\n",
            "tmp  100000\n",
            "tmp  150000\n",
            "tmp  200000\n",
            "tmp  250000\n",
            "tmp  300000\n",
            "tmp  350000\n",
            "tmp  400000\n",
            "tmp  450000\n",
            "tmp  500000\n",
            "tmp  550000\n",
            "tmp  600000\n",
            "tmp  650000\n",
            "tmp  700000\n",
            "tmp  750000\n",
            "tmp  800000\n",
            "tmp  850000\n",
            "tmp  900000\n",
            "tmp  950000\n"
          ],
          "name": "stdout"
        }
      ]
    },
    {
      "cell_type": "code",
      "metadata": {
        "id": "2FzTlimoW3X_",
        "colab_type": "code",
        "outputId": "1c0a08d3-e687-40f6-c2dd-9a65f485a98a",
        "colab": {
          "base_uri": "https://localhost:8080/",
          "height": 105
        }
      },
      "source": [
        "# tmp_aug=[]\n",
        "# tmp_not_aug=[]\n",
        "# for i in range(len(train_generator_aug)):\n",
        "#   tmp_aug.append(train_generator_aug.next())\n",
        "#   tmp_not_aug.append(train_not_aug.next())\n",
        "  \n",
        "\n",
        "##contains the 256 images batch --\n",
        "#aug_images = np.asarray(tmp)\n",
        "#wo_aug_images = "
      ],
      "execution_count": 0,
      "outputs": [
        {
          "output_type": "stream",
          "text": [
            "/usr/local/lib/python3.6/dist-packages/keras_preprocessing/image/image_data_generator.py:716: UserWarning: This ImageDataGenerator specifies `featurewise_center`, but it hasn't been fit on any training data. Fit it first by calling `.fit(numpy_data)`.\n",
            "  warnings.warn('This ImageDataGenerator specifies '\n",
            "/usr/local/lib/python3.6/dist-packages/keras_preprocessing/image/image_data_generator.py:724: UserWarning: This ImageDataGenerator specifies `featurewise_std_normalization`, but it hasn't been fit on any training data. Fit it first by calling `.fit(numpy_data)`.\n",
            "  warnings.warn('This ImageDataGenerator specifies '\n"
          ],
          "name": "stderr"
        }
      ]
    },
    {
      "cell_type": "markdown",
      "metadata": {
        "colab_type": "text",
        "id": "Za7Xax0zyZc2"
      },
      "source": [
        "#Resnet Model Creation"
      ]
    },
    {
      "cell_type": "code",
      "metadata": {
        "id": "7xp2uGvCQcTq",
        "colab_type": "code",
        "outputId": "5aac88d5-54cd-465e-cb60-a59b6f4c8139",
        "colab": {
          "base_uri": "https://localhost:8080/",
          "height": 105
        }
      },
      "source": [
        "# import time, math\n",
        "# def init_pytorch(shape, dtype=tf.float32, partition_info=None):\n",
        "#   fan = np.prod(shape[:-1])\n",
        "#   bound = 1 / math.sqrt(fan)\n",
        "#   return tf.random.uniform(shape, minval=-bound, maxval=bound, dtype=dtype)\n",
        "\n",
        "initializer = tf.keras.initializers.glorot_normal(seed=None)"
      ],
      "execution_count": 0,
      "outputs": [
        {
          "output_type": "stream",
          "text": [
            "WARNING: Logging before flag parsing goes to stderr.\n",
            "W0815 14:12:49.983681 140405211772800 deprecation.py:506] From /usr/local/lib/python3.6/dist-packages/tensorflow/python/ops/init_ops.py:1288: calling VarianceScaling.__init__ (from tensorflow.python.ops.init_ops) with dtype is deprecated and will be removed in a future version.\n",
            "Instructions for updating:\n",
            "Call initializer instance with the dtype argument instead of passing it to the constructor\n"
          ],
          "name": "stderr"
        }
      ]
    },
    {
      "cell_type": "code",
      "metadata": {
        "colab_type": "code",
        "id": "B41YNxNtCUwa",
        "colab": {}
      },
      "source": [
        "def ResNetBlock(input_layer, channels,stride=1):\n",
        "  \n",
        "  bn_1 = tf.keras.layers.BatchNormalization(momentum=0.9,epsilon=1e-5)(input_layer)\n",
        "  activation_layer_b1 = tf.keras.layers.Activation('relu')(bn_1)\n",
        "  if(stride==2):\n",
        "    block_layer_1 = tf.keras.layers.Conv2D(channels, (3,3) ,padding='same',kernel_initializer=initializer,use_bias=False)(activation_layer_b1)\n",
        "    block_layer_1= tf.keras.layers.MaxPooling2D()(block_layer_1)\n",
        "  else:\n",
        "    block_layer_1 = tf.keras.layers.Conv2D(channels, (3,3), padding='same',kernel_initializer=initializer,use_bias=False)(activation_layer_b1)\n",
        "  \n",
        "  bn_2 = tf.keras.layers.BatchNormalization(momentum=0.9,epsilon=1e-5)(block_layer_1)\n",
        "  activation_layer_b2 = tf.keras.layers.Activation('relu')(bn_2) \n",
        "  block_layer_2 = tf.keras.layers.Conv2D(channels, (3,3), padding='same',kernel_initializer=initializer,use_bias=False)(activation_layer_b2)\n",
        "   \n",
        "  \n",
        "  return block_layer_2\n",
        "  "
      ],
      "execution_count": 0,
      "outputs": []
    },
    {
      "cell_type": "code",
      "metadata": {
        "colab_type": "code",
        "id": "7zl45v4UBTff",
        "colab": {}
      },
      "source": [
        "# from tf.keras.layers import Input, add, GlobalAveragePooling2D, Dense\n",
        "#from tf.keras.models import Model\n",
        "\n",
        "inputs = tf.keras.layers.Input(shape=(32, 32, 3))\n",
        "\n",
        "x1 = tf.keras.layers.Conv2D(64, (3, 3),padding='same',kernel_initializer=initializer,use_bias=False)(inputs)   #32x32 \n",
        "activation_x1 = tf.keras.layers.Activation('relu')(x1)\n",
        "bn1 = tf.keras.layers.BatchNormalization(momentum=0.9,epsilon=1e-5)(activation_x1)\n",
        "\n",
        "# x2 = tf.keras.layers.Conv2D(64, (3, 3),padding='same',kernel_initializer=initializer)(bn1)   #32x32 \n",
        "# activation_x2 = tf.keras.layers.Activation('relu')(x2)\n",
        "# bn2 = tf.keras.layers.BatchNormalization(momentum=0.9,epsilon=1e-5)(activation_x2)\n",
        "\n",
        "# x3 = tf.keras.layers.Conv2D(64, (3, 3),padding='same')(activation_x2)   #32x32 \n",
        "# activation_x3 = tf.keras.layers.Activation('relu')(x3)\n",
        "# bn3 = tf.keras.layers.BatchNormalization(momentum=0.9,epsilon=1e-5)(activation_x3)\n",
        "\n",
        "# mx_p= tf.keras.layers.MaxPooling2D()(bn1)\n",
        "\n",
        "\n",
        "\n",
        "##block 1\n",
        "\n",
        "blk1 = ResNetBlock(bn1,64)  ##32x32\n",
        "z1 = tf.keras.layers.add([blk1,bn1])\n",
        "\n",
        "blk1_c = ResNetBlock(z1,64)\n",
        "z1_c = tf.keras.layers.add([blk1_c,z1])\n",
        "\n",
        "drp_1 = tf.keras.layers.SpatialDropout2D(0.1)(z1_c)\n",
        "\n",
        "\n",
        "##block 2\n",
        "\n",
        "blk2 = ResNetBlock(drp_1,128,stride=2)\n",
        "one_blk = tf.keras.layers.Conv2D(128, (1, 1), padding='same',strides=2)(drp_1)\n",
        "z2 = tf.keras.layers.add([blk2,one_blk])\n",
        "\n",
        "blk2_c = ResNetBlock(z2,128)\n",
        "z2_c = tf.keras.layers.add([blk2_c,z2])\n",
        "\n",
        "\n",
        "drp_2 = tf.keras.layers.SpatialDropout2D(0.1)(z2_c)\n",
        "\n",
        "##block3\n",
        "\n",
        "blk3 = ResNetBlock(drp_2,256,stride=2)\n",
        "one_blk_1 = tf.keras.layers.Conv2D(256, (1, 1), padding='same',strides=2)(drp_2)\n",
        "z3 = tf.keras.layers.add([blk3,one_blk_1])\n",
        "\n",
        "blk3_c = ResNetBlock(z3,256)\n",
        "z3_c = tf.keras.layers.add([blk3_c,z3])\n",
        "\n",
        "\n",
        "drp_3 = tf.keras.layers.Dropout(0.1)(z3_c)\n",
        "#block4\n",
        "\n",
        "blk4 = ResNetBlock(drp_3,256,stride=2)\n",
        "one_blk_2 = tf.keras.layers.Conv2D(256, (1, 1), padding='same',strides=2)(drp_3)\n",
        "z4 = tf.keras.layers.add([blk4,one_blk_2])\n",
        "\n",
        "blk4_c = ResNetBlock(z4,256)\n",
        "z4_c = tf.keras.layers.add([blk4_c,z4])\n",
        "\n",
        "\n",
        "\n",
        "\n",
        "avg_pool_layer = tf.keras.layers.GlobalAveragePooling2D()(z4_c)\n",
        "\n",
        "\n",
        "fc_layer = tf.keras.layers.Dense(10, activation='softmax',kernel_initializer=initializer)(avg_pool_layer)\n",
        "\n",
        "\n",
        "model = tf.keras.models.Model(inputs=inputs, outputs= fc_layer)\n"
      ],
      "execution_count": 0,
      "outputs": []
    },
    {
      "cell_type": "code",
      "metadata": {
        "colab_type": "code",
        "id": "sV-nVdlMDwva",
        "outputId": "1e579fa6-75b4-413c-ad2b-a67321c6fe7e",
        "colab": {
          "base_uri": "https://localhost:8080/",
          "height": 1000
        }
      },
      "source": [
        "model.summary()"
      ],
      "execution_count": 0,
      "outputs": [
        {
          "output_type": "stream",
          "text": [
            "Model: \"model\"\n",
            "__________________________________________________________________________________________________\n",
            "Layer (type)                    Output Shape         Param #     Connected to                     \n",
            "==================================================================================================\n",
            "input_2 (InputLayer)            [(None, 32, 32, 3)]  0                                            \n",
            "__________________________________________________________________________________________________\n",
            "conv2d_3 (Conv2D)               (None, 32, 32, 64)   1728        input_2[0][0]                    \n",
            "__________________________________________________________________________________________________\n",
            "activation_3 (Activation)       (None, 32, 32, 64)   0           conv2d_3[0][0]                   \n",
            "__________________________________________________________________________________________________\n",
            "batch_normalization_3 (BatchNor (None, 32, 32, 64)   256         activation_3[0][0]               \n",
            "__________________________________________________________________________________________________\n",
            "batch_normalization_4 (BatchNor (None, 32, 32, 64)   256         batch_normalization_3[0][0]      \n",
            "__________________________________________________________________________________________________\n",
            "activation_4 (Activation)       (None, 32, 32, 64)   0           batch_normalization_4[0][0]      \n",
            "__________________________________________________________________________________________________\n",
            "conv2d_4 (Conv2D)               (None, 32, 32, 64)   36864       activation_4[0][0]               \n",
            "__________________________________________________________________________________________________\n",
            "batch_normalization_5 (BatchNor (None, 32, 32, 64)   256         conv2d_4[0][0]                   \n",
            "__________________________________________________________________________________________________\n",
            "activation_5 (Activation)       (None, 32, 32, 64)   0           batch_normalization_5[0][0]      \n",
            "__________________________________________________________________________________________________\n",
            "conv2d_5 (Conv2D)               (None, 32, 32, 64)   36864       activation_5[0][0]               \n",
            "__________________________________________________________________________________________________\n",
            "add_1 (Add)                     (None, 32, 32, 64)   0           conv2d_5[0][0]                   \n",
            "                                                                 batch_normalization_3[0][0]      \n",
            "__________________________________________________________________________________________________\n",
            "batch_normalization_6 (BatchNor (None, 32, 32, 64)   256         add_1[0][0]                      \n",
            "__________________________________________________________________________________________________\n",
            "activation_6 (Activation)       (None, 32, 32, 64)   0           batch_normalization_6[0][0]      \n",
            "__________________________________________________________________________________________________\n",
            "conv2d_6 (Conv2D)               (None, 32, 32, 64)   36864       activation_6[0][0]               \n",
            "__________________________________________________________________________________________________\n",
            "batch_normalization_7 (BatchNor (None, 32, 32, 64)   256         conv2d_6[0][0]                   \n",
            "__________________________________________________________________________________________________\n",
            "activation_7 (Activation)       (None, 32, 32, 64)   0           batch_normalization_7[0][0]      \n",
            "__________________________________________________________________________________________________\n",
            "conv2d_7 (Conv2D)               (None, 32, 32, 64)   36864       activation_7[0][0]               \n",
            "__________________________________________________________________________________________________\n",
            "add_2 (Add)                     (None, 32, 32, 64)   0           conv2d_7[0][0]                   \n",
            "                                                                 add_1[0][0]                      \n",
            "__________________________________________________________________________________________________\n",
            "spatial_dropout2d (SpatialDropo (None, 32, 32, 64)   0           add_2[0][0]                      \n",
            "__________________________________________________________________________________________________\n",
            "batch_normalization_8 (BatchNor (None, 32, 32, 64)   256         spatial_dropout2d[0][0]          \n",
            "__________________________________________________________________________________________________\n",
            "activation_8 (Activation)       (None, 32, 32, 64)   0           batch_normalization_8[0][0]      \n",
            "__________________________________________________________________________________________________\n",
            "conv2d_8 (Conv2D)               (None, 32, 32, 128)  73728       activation_8[0][0]               \n",
            "__________________________________________________________________________________________________\n",
            "max_pooling2d (MaxPooling2D)    (None, 16, 16, 128)  0           conv2d_8[0][0]                   \n",
            "__________________________________________________________________________________________________\n",
            "batch_normalization_9 (BatchNor (None, 16, 16, 128)  512         max_pooling2d[0][0]              \n",
            "__________________________________________________________________________________________________\n",
            "activation_9 (Activation)       (None, 16, 16, 128)  0           batch_normalization_9[0][0]      \n",
            "__________________________________________________________________________________________________\n",
            "conv2d_9 (Conv2D)               (None, 16, 16, 128)  147456      activation_9[0][0]               \n",
            "__________________________________________________________________________________________________\n",
            "conv2d_10 (Conv2D)              (None, 16, 16, 128)  8320        spatial_dropout2d[0][0]          \n",
            "__________________________________________________________________________________________________\n",
            "add_3 (Add)                     (None, 16, 16, 128)  0           conv2d_9[0][0]                   \n",
            "                                                                 conv2d_10[0][0]                  \n",
            "__________________________________________________________________________________________________\n",
            "batch_normalization_10 (BatchNo (None, 16, 16, 128)  512         add_3[0][0]                      \n",
            "__________________________________________________________________________________________________\n",
            "activation_10 (Activation)      (None, 16, 16, 128)  0           batch_normalization_10[0][0]     \n",
            "__________________________________________________________________________________________________\n",
            "conv2d_11 (Conv2D)              (None, 16, 16, 128)  147456      activation_10[0][0]              \n",
            "__________________________________________________________________________________________________\n",
            "batch_normalization_11 (BatchNo (None, 16, 16, 128)  512         conv2d_11[0][0]                  \n",
            "__________________________________________________________________________________________________\n",
            "activation_11 (Activation)      (None, 16, 16, 128)  0           batch_normalization_11[0][0]     \n",
            "__________________________________________________________________________________________________\n",
            "conv2d_12 (Conv2D)              (None, 16, 16, 128)  147456      activation_11[0][0]              \n",
            "__________________________________________________________________________________________________\n",
            "add_4 (Add)                     (None, 16, 16, 128)  0           conv2d_12[0][0]                  \n",
            "                                                                 add_3[0][0]                      \n",
            "__________________________________________________________________________________________________\n",
            "spatial_dropout2d_1 (SpatialDro (None, 16, 16, 128)  0           add_4[0][0]                      \n",
            "__________________________________________________________________________________________________\n",
            "batch_normalization_12 (BatchNo (None, 16, 16, 128)  512         spatial_dropout2d_1[0][0]        \n",
            "__________________________________________________________________________________________________\n",
            "activation_12 (Activation)      (None, 16, 16, 128)  0           batch_normalization_12[0][0]     \n",
            "__________________________________________________________________________________________________\n",
            "conv2d_13 (Conv2D)              (None, 16, 16, 256)  294912      activation_12[0][0]              \n",
            "__________________________________________________________________________________________________\n",
            "max_pooling2d_1 (MaxPooling2D)  (None, 8, 8, 256)    0           conv2d_13[0][0]                  \n",
            "__________________________________________________________________________________________________\n",
            "batch_normalization_13 (BatchNo (None, 8, 8, 256)    1024        max_pooling2d_1[0][0]            \n",
            "__________________________________________________________________________________________________\n",
            "activation_13 (Activation)      (None, 8, 8, 256)    0           batch_normalization_13[0][0]     \n",
            "__________________________________________________________________________________________________\n",
            "conv2d_14 (Conv2D)              (None, 8, 8, 256)    589824      activation_13[0][0]              \n",
            "__________________________________________________________________________________________________\n",
            "conv2d_15 (Conv2D)              (None, 8, 8, 256)    33024       spatial_dropout2d_1[0][0]        \n",
            "__________________________________________________________________________________________________\n",
            "add_5 (Add)                     (None, 8, 8, 256)    0           conv2d_14[0][0]                  \n",
            "                                                                 conv2d_15[0][0]                  \n",
            "__________________________________________________________________________________________________\n",
            "batch_normalization_14 (BatchNo (None, 8, 8, 256)    1024        add_5[0][0]                      \n",
            "__________________________________________________________________________________________________\n",
            "activation_14 (Activation)      (None, 8, 8, 256)    0           batch_normalization_14[0][0]     \n",
            "__________________________________________________________________________________________________\n",
            "conv2d_16 (Conv2D)              (None, 8, 8, 256)    589824      activation_14[0][0]              \n",
            "__________________________________________________________________________________________________\n",
            "batch_normalization_15 (BatchNo (None, 8, 8, 256)    1024        conv2d_16[0][0]                  \n",
            "__________________________________________________________________________________________________\n",
            "activation_15 (Activation)      (None, 8, 8, 256)    0           batch_normalization_15[0][0]     \n",
            "__________________________________________________________________________________________________\n",
            "conv2d_17 (Conv2D)              (None, 8, 8, 256)    589824      activation_15[0][0]              \n",
            "__________________________________________________________________________________________________\n",
            "add_6 (Add)                     (None, 8, 8, 256)    0           conv2d_17[0][0]                  \n",
            "                                                                 add_5[0][0]                      \n",
            "__________________________________________________________________________________________________\n",
            "dropout (Dropout)               (None, 8, 8, 256)    0           add_6[0][0]                      \n",
            "__________________________________________________________________________________________________\n",
            "batch_normalization_16 (BatchNo (None, 8, 8, 256)    1024        dropout[0][0]                    \n",
            "__________________________________________________________________________________________________\n",
            "activation_16 (Activation)      (None, 8, 8, 256)    0           batch_normalization_16[0][0]     \n",
            "__________________________________________________________________________________________________\n",
            "conv2d_18 (Conv2D)              (None, 8, 8, 256)    589824      activation_16[0][0]              \n",
            "__________________________________________________________________________________________________\n",
            "max_pooling2d_2 (MaxPooling2D)  (None, 4, 4, 256)    0           conv2d_18[0][0]                  \n",
            "__________________________________________________________________________________________________\n",
            "batch_normalization_17 (BatchNo (None, 4, 4, 256)    1024        max_pooling2d_2[0][0]            \n",
            "__________________________________________________________________________________________________\n",
            "activation_17 (Activation)      (None, 4, 4, 256)    0           batch_normalization_17[0][0]     \n",
            "__________________________________________________________________________________________________\n",
            "conv2d_19 (Conv2D)              (None, 4, 4, 256)    589824      activation_17[0][0]              \n",
            "__________________________________________________________________________________________________\n",
            "conv2d_20 (Conv2D)              (None, 4, 4, 256)    65792       dropout[0][0]                    \n",
            "__________________________________________________________________________________________________\n",
            "add_7 (Add)                     (None, 4, 4, 256)    0           conv2d_19[0][0]                  \n",
            "                                                                 conv2d_20[0][0]                  \n",
            "__________________________________________________________________________________________________\n",
            "batch_normalization_18 (BatchNo (None, 4, 4, 256)    1024        add_7[0][0]                      \n",
            "__________________________________________________________________________________________________\n",
            "activation_18 (Activation)      (None, 4, 4, 256)    0           batch_normalization_18[0][0]     \n",
            "__________________________________________________________________________________________________\n",
            "conv2d_21 (Conv2D)              (None, 4, 4, 256)    589824      activation_18[0][0]              \n",
            "__________________________________________________________________________________________________\n",
            "batch_normalization_19 (BatchNo (None, 4, 4, 256)    1024        conv2d_21[0][0]                  \n",
            "__________________________________________________________________________________________________\n",
            "activation_19 (Activation)      (None, 4, 4, 256)    0           batch_normalization_19[0][0]     \n",
            "__________________________________________________________________________________________________\n",
            "conv2d_22 (Conv2D)              (None, 4, 4, 256)    589824      activation_19[0][0]              \n",
            "__________________________________________________________________________________________________\n",
            "add_8 (Add)                     (None, 4, 4, 256)    0           conv2d_22[0][0]                  \n",
            "                                                                 add_7[0][0]                      \n",
            "__________________________________________________________________________________________________\n",
            "global_average_pooling2d (Globa (None, 256)          0           add_8[0][0]                      \n",
            "__________________________________________________________________________________________________\n",
            "dense (Dense)                   (None, 10)           2570        global_average_pooling2d[0][0]   \n",
            "==================================================================================================\n",
            "Total params: 5,209,418\n",
            "Trainable params: 5,204,042\n",
            "Non-trainable params: 5,376\n",
            "__________________________________________________________________________________________________\n"
          ],
          "name": "stdout"
        }
      ]
    },
    {
      "cell_type": "markdown",
      "metadata": {
        "colab_type": "text",
        "id": "HDMPrA1Gj01s"
      },
      "source": [
        "#Best LR would be 0.01"
      ]
    },
    {
      "cell_type": "code",
      "metadata": {
        "id": "V-5l4Uuj2MLs",
        "colab_type": "code",
        "colab": {}
      },
      "source": [
        "# for 24 epochs only\n",
        "\n",
        "# MAX_LR= 0.2\n",
        "# base_lr = 0.01\n",
        "# p = 0\n",
        "# def lr_func(epoch,lr):\n",
        "#   lr = base_lr\n",
        "#   #print(\"lwr\",tf.train.get_or_create_global_step())\n",
        "#   max_lr = MAX_LR\n",
        "#   print(\"p value \",p)\n",
        "#   if(p == 0):\n",
        "#     lr = base_lr\n",
        "#   elif(p>0 and p<5):\n",
        "#     lr += (max_lr-base_lr)*(p)/5\n",
        "#   else:\n",
        "#     lr = max_lr - (max_lr-base_lr)*(p-5)/18\n",
        "#   print(\"final lr \",round(lr,5))\n",
        "  \n",
        "#   p +=1\n",
        "#   return round(lr,5)\n",
        "  "
      ],
      "execution_count": 0,
      "outputs": []
    },
    {
      "cell_type": "code",
      "metadata": {
        "colab_type": "code",
        "id": "PjzOgXaWj_uE",
        "colab": {}
      },
      "source": [
        "opt = tf.keras.optimizers.SGD(momentum=0.9,nesterov=True)\n",
        "model.compile(optimizer=opt , loss='categorical_crossentropy', metrics=['accuracy'])"
      ],
      "execution_count": 0,
      "outputs": []
    },
    {
      "cell_type": "code",
      "metadata": {
        "id": "9kZvjcz46ICr",
        "colab_type": "code",
        "colab": {}
      },
      "source": [
        "##previous approch ::\n",
        "\n",
        "# sequence = list(range(len(tmp_aug)))\n",
        "# #train_data = lambda t: print(t)\n",
        "# sess = tf.compat.v1.Session()\n",
        "# #train_data = lambda t: print(t)\n",
        "# train_data = lambda t : (np.concatenate((np.array(tmp_aug[t][0]),np.array(tmp_not_aug[t][0])),axis=0),\\\n",
        "#                        np.concatenate((np.array(tmp_aug[t][1]),np.array(tmp_not_aug[t][1])),axis=0))\n",
        "# #global_step = tf.train.get_or_create_global_step()\n",
        "# #i=0\n",
        "# #train_data_func = lambda: train_data(global_step)\n",
        "\n",
        "# train_data_f = list(map(train_data,sequence))\n",
        "# #test_data = lambda : test_generator.next()"
      ],
      "execution_count": 0,
      "outputs": []
    },
    {
      "cell_type": "code",
      "metadata": {
        "id": "ohvayfmZ1Nnp",
        "colab_type": "code",
        "colab": {}
      },
      "source": [
        "# newimage = np.zeros((512*98,32,32,3))\n",
        "# newlabel = np.zeros((512*98,10))"
      ],
      "execution_count": 0,
      "outputs": []
    },
    {
      "cell_type": "code",
      "metadata": {
        "id": "9PBKCabd7BNb",
        "colab_type": "code",
        "colab": {}
      },
      "source": [
        "# import h5py\n",
        "# with h5py.File('aug_img.hdf5', 'r') as f:\n",
        "#     data = list(f['dataset'])\n",
        "#     label = list(f['labels'])\n",
        "    \n",
        "# f.close()"
      ],
      "execution_count": 0,
      "outputs": []
    },
    {
      "cell_type": "code",
      "metadata": {
        "id": "kCMcOyj5cz-5",
        "colab_type": "code",
        "colab": {}
      },
      "source": [
        "data = tf.keras.utils.HDF5Matrix('aug_img.hdf5','dataset')\n",
        "label = tf.keras.utils.HDF5Matrix('aug_img.hdf5','labels')"
      ],
      "execution_count": 0,
      "outputs": []
    },
    {
      "cell_type": "code",
      "metadata": {
        "id": "CMpz9Oa8sQrx",
        "colab_type": "code",
        "colab": {}
      },
      "source": [
        "##from HDF5 ---\n",
        "import random\n",
        "\n",
        "train_data_aug_l = lambda i: (np.array(data[i:i+168]),np.array(label[i:i+168]))\n",
        "train_data_wo_l = lambda i: (np.array(train_features[i:i+168]),np.array(train_labels[i:i+168]))\n",
        "\n",
        "train_data_aug = lambda i: (np.array(data[i:i+256]),np.array(label[i:i+256]))\n",
        "train_data_wo = lambda i: (np.array(train_features[i:i+256]),np.array(train_labels[i:i+256]))\n",
        "\n",
        "num_seq = list(range(len(train_features)//512+1))\n",
        "\n",
        "\n",
        "def data_generator():\n",
        "  \n",
        "  train_data= np.zeros(shape=(50000,32,32,3))\n",
        "  train_lbl = np.zeros(shape=(50000,10))\n",
        "  \n",
        "  \n",
        "  tmp=0\n",
        "  for k in num_seq:\n",
        "    aug_ran = random.randrange(0,len(data)-256)\n",
        "    wo_aug = random.randrange(0,len(train_features)-256)\n",
        "\n",
        "    inital=tmp\n",
        "    if(k == 97):\n",
        "      final = inital+336\n",
        "      train_data[inital:final] = np.concatenate((train_data_aug_l(aug_ran)[0],train_data_wo_l(wo_aug)[0]),axis=0)\n",
        "      train_lbl[inital:final] = np.concatenate((train_data_aug_l(aug_ran)[1],train_data_wo_l(wo_aug)[1]),axis=0)\n",
        "    else:\n",
        "      final  = inital+512\n",
        "      train_data[inital:final] = np.concatenate((train_data_aug(aug_ran)[0],train_data_wo(wo_aug)[0]),axis=0)\n",
        "      train_lbl[inital:final] = np.concatenate((train_data_aug(aug_ran)[1],train_data_wo(wo_aug)[1]),axis=0)\n",
        "\n",
        "    tmp += 512\n",
        "  \n",
        "  return train_data,train_lbl\n",
        "  \n",
        "  \n"
      ],
      "execution_count": 0,
      "outputs": []
    },
    {
      "cell_type": "code",
      "metadata": {
        "id": "VNoxs2zSTpUs",
        "colab_type": "code",
        "colab": {}
      },
      "source": [
        "x,y = data_generator()"
      ],
      "execution_count": 0,
      "outputs": []
    },
    {
      "cell_type": "code",
      "metadata": {
        "id": "fKx2xkNOTuZ0",
        "colab_type": "code",
        "outputId": "1d284822-0d39-4e5e-9cce-517da7ca2d31",
        "colab": {
          "base_uri": "https://localhost:8080/",
          "height": 323
        }
      },
      "source": [
        "class_names = ['airplane','automobile','bird','cat','deer',\n",
        "               'dog','frog','horse','ship','truck']\n",
        "plt.imshow(x[4634])\n",
        "y[4634]\n",
        "#x.shape"
      ],
      "execution_count": 0,
      "outputs": [
        {
          "output_type": "stream",
          "text": [
            "W0815 14:14:00.678377 140405211772800 image.py:648] Clipping input data to the valid range for imshow with RGB data ([0..1] for floats or [0..255] for integers).\n"
          ],
          "name": "stderr"
        },
        {
          "output_type": "execute_result",
          "data": {
            "text/plain": [
              "array([0., 0., 0., 0., 1., 0., 0., 0., 0., 0.])"
            ]
          },
          "metadata": {
            "tags": []
          },
          "execution_count": 23
        },
        {
          "output_type": "display_data",
          "data": {
            "image/png": "[encoded data removed]",
            "text/plain": [
              "<Figure size 432x288 with 1 Axes>"
            ]
          },
          "metadata": {
            "tags": []
          }
        }
      ]
    },
    {
      "cell_type": "code",
      "metadata": {
        "colab_type": "code",
        "id": "upsNiPO4JWjb",
        "outputId": "7ba7a514-e008-4d0d-e6df-4b56d1c5a6a9",
        "colab": {
          "base_uri": "https://localhost:8080/",
          "height": 377
        }
      },
      "source": [
        "filepath = \"Resnet-13-test1.hdf5\"\n",
        "from tensorflow.keras.callbacks import ModelCheckpoint,LearningRateScheduler\n",
        "\n",
        "checkpoint = tf.keras.callbacks.ModelCheckpoint(filepath, monitor='val_acc', verbose=1, save_best_only=True, mode='max')\n",
        "\n",
        "tmp_gen = tf.keras.preprocessing.image.ImageDataGenerator()\n",
        "\n",
        "##Train the model\n",
        "# model_info = model.fit_generator(train_generator,\n",
        "#                                  steps_per_epoch=np.ceil(50000/128), epochs=24,  \n",
        "#                                  validation_data = test_generator, verbose=1,callbacks=[checkpoint,LearningRateScheduler(lr_func, verbose=1)])\n",
        "\n",
        "MAX_LR= 0.15\n",
        "base_lr = 0.005\n",
        "EPOCHS=24\n",
        "for i in range(EPOCHS): \n",
        "  \n",
        "  def lr_func(epoch,lr):\n",
        "    lr = base_lr\n",
        "    #print(\"lwr\",tf.train.get_or_create_global_step())\n",
        "    max_lr = MAX_LR\n",
        "    \n",
        "    if(i == 0):\n",
        "      lr = base_lr\n",
        "    elif(i>0 and i<5):\n",
        "      lr += (max_lr-base_lr)*(i)/5\n",
        "    else:\n",
        "      lr = max_lr - (max_lr-base_lr)*(i-5)/18\n",
        "    print(\"final lr \",round(lr,5))\n",
        "\n",
        "    return round(lr,5)\n",
        "\n",
        "  \n",
        "\n",
        "for i in range(20):\n",
        "  \n",
        "  X_train,X_label = data_generator()\n",
        "  model.fit(tmp_gen.flow(X_train,X_label,batch_size=512),steps_per_epoch=np.ceil(50000/512),\n",
        "                               epochs=1,validation_data=test_generator)\n",
        "                         # callbacks=[LearningRateScheduler(lr_func, verbose=1)]"
      ],
      "execution_count": 0,
      "outputs": [
        {
          "output_type": "stream",
          "text": [
            "98/98 [==============================] - 98s 1s/step - loss: 2.9418 - acc: 0.2472 - val_loss: 2.4038 - val_acc: 0.2862\n",
            "98/98 [==============================] - 86s 876ms/step - loss: 1.6334 - acc: 0.3958 - val_loss: 1.8181 - val_acc: 0.3905\n",
            "98/98 [==============================] - 86s 876ms/step - loss: 1.4598 - acc: 0.4644 - val_loss: 1.5969 - val_acc: 0.4544\n",
            "98/98 [==============================] - 86s 876ms/step - loss: 1.3127 - acc: 0.5245 - val_loss: 1.4899 - val_acc: 0.4995\n",
            "98/98 [==============================] - 86s 876ms/step - loss: 1.1779 - acc: 0.5778 - val_loss: 1.6016 - val_acc: 0.4844\n",
            "98/98 [==============================] - 86s 875ms/step - loss: 1.0692 - acc: 0.6158 - val_loss: 1.5167 - val_acc: 0.5287\n",
            "98/98 [==============================] - 86s 876ms/step - loss: 0.9810 - acc: 0.6502 - val_loss: 1.2447 - val_acc: 0.5800\n",
            "98/98 [==============================] - 86s 876ms/step - loss: 0.9037 - acc: 0.6790 - val_loss: 1.4962 - val_acc: 0.5489\n",
            "98/98 [==============================] - 86s 876ms/step - loss: 0.8100 - acc: 0.7111 - val_loss: 1.1308 - val_acc: 0.6339\n",
            "98/98 [==============================] - 86s 875ms/step - loss: 0.7591 - acc: 0.7302 - val_loss: 1.0852 - val_acc: 0.6390\n",
            "98/98 [==============================] - 86s 874ms/step - loss: 0.6993 - acc: 0.7523 - val_loss: 1.1398 - val_acc: 0.6471\n",
            "98/98 [==============================] - 86s 875ms/step - loss: 0.6576 - acc: 0.7682 - val_loss: 1.5308 - val_acc: 0.5950\n",
            "98/98 [==============================] - 86s 877ms/step - loss: 0.6057 - acc: 0.7867 - val_loss: 1.0184 - val_acc: 0.6908\n",
            "98/98 [==============================] - 86s 877ms/step - loss: 0.5645 - acc: 0.8008 - val_loss: 1.0934 - val_acc: 0.6653\n",
            "98/98 [==============================] - 86s 876ms/step - loss: 0.5342 - acc: 0.8121 - val_loss: 1.0403 - val_acc: 0.6851\n",
            "98/98 [==============================] - 86s 878ms/step - loss: 0.4942 - acc: 0.8270 - val_loss: 1.3838 - val_acc: 0.6249\n",
            "98/98 [==============================] - 86s 876ms/step - loss: 0.4569 - acc: 0.8408 - val_loss: 0.9658 - val_acc: 0.6977\n",
            "98/98 [==============================] - 86s 877ms/step - loss: 0.4364 - acc: 0.8483 - val_loss: 1.1442 - val_acc: 0.6836\n",
            "98/98 [==============================] - 86s 878ms/step - loss: 0.4071 - acc: 0.8581 - val_loss: 0.9900 - val_acc: 0.7103\n",
            "98/98 [==============================] - 86s 877ms/step - loss: 0.3836 - acc: 0.8663 - val_loss: 0.9514 - val_acc: 0.7106\n"
          ],
          "name": "stdout"
        }
      ]
    },
    {
      "cell_type": "code",
      "metadata": {
        "id": "7cQmN6Lxeugu",
        "colab_type": "code",
        "outputId": "3ed7e259-a2d1-41fc-c732-3c3bfc8abfa9",
        "colab": {
          "base_uri": "https://localhost:8080/",
          "height": 323
        }
      },
      "source": [
        "plt.imshow(X_train[19])\n",
        "X_label[19]\n",
        "#class_names = ['airplane','automobile','bird','cat','deer',\n",
        " #              'dog','frog','horse','ship','truck']"
      ],
      "execution_count": 0,
      "outputs": [
        {
          "output_type": "stream",
          "text": [
            "W0815 13:37:01.823027 140478476994432 image.py:648] Clipping input data to the valid range for imshow with RGB data ([0..1] for floats or [0..255] for integers).\n"
          ],
          "name": "stderr"
        },
        {
          "output_type": "execute_result",
          "data": {
            "text/plain": [
              "array([0., 0., 0., 0., 0., 0., 0., 0., 1., 0.])"
            ]
          },
          "metadata": {
            "tags": []
          },
          "execution_count": 41
        },
        {
          "output_type": "display_data",
          "data": {
            "image/png": "[encoded data removed]",
            "text/plain": [
              "<Figure size 432x288 with 1 Axes>"
            ]
          },
          "metadata": {
            "tags": []
          }
        }
      ]
    },
    {
      "cell_type": "code",
      "metadata": {
        "id": "DD1_C-6ufxyR",
        "colab_type": "code",
        "colab": {}
      },
      "source": [
        ""
      ],
      "execution_count": 0,
      "outputs": []
    },
    {
      "cell_type": "code",
      "metadata": {
        "id": "gMVf9mb2As40",
        "colab_type": "code",
        "colab": {}
      },
      "source": [
        "9"
      ],
      "execution_count": 0,
      "outputs": []
    }
  ]
}