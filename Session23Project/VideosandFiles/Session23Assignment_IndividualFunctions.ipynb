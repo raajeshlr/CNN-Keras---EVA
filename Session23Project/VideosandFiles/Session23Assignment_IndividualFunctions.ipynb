{
  "nbformat": 4,
  "nbformat_minor": 0,
  "metadata": {
    "accelerator": "GPU",
    "colab": {
      "name": "Session23Assignment_IndividualFunctions.ipynb",
      "provenance": [],
      "collapsed_sections": [],
      "toc_visible": true
    },
    "kernelspec": {
      "display_name": "Python 3",
      "language": "python",
      "name": "python3"
    },
    "language_info": {
      "codemirror_mode": {
        "name": "ipython",
        "version": 3
      },
      "file_extension": ".py",
      "mimetype": "text/x-python",
      "name": "python",
      "nbconvert_exporter": "python",
      "pygments_lexer": "ipython3",
      "version": "3.6.7"
    }
  },
  "cells": [
    {
      "cell_type": "markdown",
      "metadata": {
        "id": "zhzNl3oodHIr",
        "colab_type": "text"
      },
      "source": [
        "Facial Landmark Detection Code"
      ]
    },
    {
      "cell_type": "code",
      "metadata": {
        "id": "AByFf-0sdDdw",
        "colab_type": "code",
        "colab": {}
      },
      "source": [
        "import dlib\n",
        "import cv2\n",
        "import numpy as np\n",
        "from renderFace import renderFace"
      ],
      "execution_count": 0,
      "outputs": []
    },
    {
      "cell_type": "code",
      "metadata": {
        "id": "hG3bzAlldNxx",
        "colab_type": "code",
        "colab": {}
      },
      "source": [
        "import matplotlib.pyplot as plt\n",
        "%matplotlib inline"
      ],
      "execution_count": 0,
      "outputs": []
    },
    {
      "cell_type": "code",
      "metadata": {
        "id": "6TOZ55dOdQUT",
        "colab_type": "code",
        "colab": {}
      },
      "source": [
        "import matplotlib\n",
        "matplotlib.rcParams['figure.figsize'] = (6.0,6.0)\n",
        "matplotlib.rcParams['image.cmap'] = 'gray'"
      ],
      "execution_count": 0,
      "outputs": []
    },
    {
      "cell_type": "code",
      "metadata": {
        "id": "mRxt_efMdT9x",
        "colab_type": "code",
        "colab": {}
      },
      "source": [
        "def writeLandmarksToFile(landmarks, landmarksFileName):\n",
        "  with open(landmarksFileName, 'w') as f:\n",
        "    for p in landmarks.parts():\n",
        "      f.write(\"%s %s\\n\" %(int(p.x),int(p.y)))\n",
        "\n",
        "  f.close()"
      ],
      "execution_count": 0,
      "outputs": []
    },
    {
      "cell_type": "code",
      "metadata": {
        "id": "X8x1EyGVfZAo",
        "colab_type": "code",
        "colab": {}
      },
      "source": [
        "MODEL_PATH = '/content/'"
      ],
      "execution_count": 0,
      "outputs": []
    },
    {
      "cell_type": "code",
      "metadata": {
        "id": "ZthqfuBBgrXS",
        "colab_type": "code",
        "colab": {}
      },
      "source": [
        "DATA_PATH = '/content/'"
      ],
      "execution_count": 0,
      "outputs": []
    },
    {
      "cell_type": "code",
      "metadata": {
        "id": "FSaM4VYzdX0f",
        "colab_type": "code",
        "colab": {}
      },
      "source": [
        "# Landmark model location\n",
        "PREDICTOR_PATH = MODEL_PATH + \"shape_predictor_68_face_landmarks.dat\""
      ],
      "execution_count": 0,
      "outputs": []
    },
    {
      "cell_type": "code",
      "metadata": {
        "id": "ItgwbafJgjdO",
        "colab_type": "code",
        "colab": {}
      },
      "source": [
        "# Get the face detector instance\n",
        "faceDetector = dlib.get_frontal_face_detector()"
      ],
      "execution_count": 0,
      "outputs": []
    },
    {
      "cell_type": "code",
      "metadata": {
        "id": "OuUSpH14gkzd",
        "colab_type": "code",
        "colab": {}
      },
      "source": [
        "# The landmark detector is implemented in the shape_predictor class\n",
        "landmarkDetector = dlib.shape_predictor(PREDICTOR_PATH)\n",
        "\n",
        "# Read image\n",
        "imageFilename = DATA_PATH + \"Family.jpg\"\n",
        "im= cv2.imread(imageFilename)\n",
        "\n",
        "# landmarks will be stored in results/family_i.txt\n",
        "landmarksBasename = \"Family\""
      ],
      "execution_count": 0,
      "outputs": []
    },
    {
      "cell_type": "code",
      "metadata": {
        "id": "qM8xEnmqg3ds",
        "colab_type": "code",
        "colab": {}
      },
      "source": [
        "plt.imshow(im[:,:,::-1])\n",
        "plt.show()"
      ],
      "execution_count": 0,
      "outputs": []
    },
    {
      "cell_type": "code",
      "metadata": {
        "id": "iqLdsn_Qg6qw",
        "colab_type": "code",
        "outputId": "7c1969ed-8dcc-41c0-c448-ae4d40db8151",
        "colab": {
          "base_uri": "https://localhost:8080/",
          "height": 34
        }
      },
      "source": [
        "# Detect faces in the image\n",
        "faceRects = faceDetector(im, 0)\n",
        "print(\"Number of faces detected: \",len(faceRects))\n",
        "\n",
        "# List to store landmarks of all detected faces\n",
        "landmarksAll = []"
      ],
      "execution_count": 0,
      "outputs": [
        {
          "output_type": "stream",
          "text": [
            "Number of faces detected:  1\n"
          ],
          "name": "stdout"
        }
      ]
    },
    {
      "cell_type": "code",
      "metadata": {
        "id": "PQwRLxqXg-yz",
        "colab_type": "code",
        "outputId": "91650aba-3811-4749-8a87-f6932e40a55f",
        "colab": {
          "base_uri": "https://localhost:8080/",
          "height": 52
        }
      },
      "source": [
        "# Loop over all detected face rectangles\n",
        "for i in range(0, len(faceRects)):\n",
        "  newRect = dlib.rectangle(int(faceRects[i].left()),\n",
        "                          int(faceRects[i].top()),\n",
        "                          int(faceRects[i].right()),\n",
        "                          int(faceRects[i].bottom()))\n",
        "  # For every face rectangle, run landmarkDetector\n",
        "  landmarks = landmarkDetector(im, newRect)\n",
        "  # Print number of landmarks\n",
        "  if i==0:\n",
        "    print(\"Number of landmarks\",len(landmarks.parts()))\n",
        "\n",
        "  # Store landmarks for current face\n",
        "  landmarksAll.append(landmarks)\n",
        "\n",
        "  # Next, we render the outline of the face using\n",
        "  # detected landmarks.\n",
        "  renderFace(im, landmarks)\n",
        "\n",
        "  # The code below saves the landmarks to \n",
        "  # results/family_0.txt … results/family_4.txt.\n",
        "  landmarksFileName = landmarksBasename +\"_\"+ str(i)+ \".txt\"\n",
        "  print(\"Saving landmarks to\", landmarksFileName)\n",
        "  # Write landmarks to disk\n",
        "  writeLandmarksToFile(landmarks, landmarksFileName)"
      ],
      "execution_count": 0,
      "outputs": [
        {
          "output_type": "stream",
          "text": [
            "Number of landmarks 68\n",
            "Saving landmarks to KirutigaSaree_0.txt\n"
          ],
          "name": "stdout"
        }
      ]
    },
    {
      "cell_type": "code",
      "metadata": {
        "id": "39hUkD3qhDns",
        "colab_type": "code",
        "outputId": "04ba3ad0-3c16-49d4-9f49-eb1cc939ce51",
        "colab": {
          "base_uri": "https://localhost:8080/",
          "height": 52
        }
      },
      "source": [
        "outputFileName = \"FamilyOutput.jpg\"\n",
        "print(\"Saving output image to\", outputFileName)\n",
        "cv2.imwrite(outputFileName, im)"
      ],
      "execution_count": 0,
      "outputs": [
        {
          "output_type": "stream",
          "text": [
            "Saving output image to KirutigaSareeOutput.jpg\n"
          ],
          "name": "stdout"
        },
        {
          "output_type": "execute_result",
          "data": {
            "text/plain": [
              "True"
            ]
          },
          "metadata": {
            "tags": []
          },
          "execution_count": 57
        }
      ]
    },
    {
      "cell_type": "code",
      "metadata": {
        "id": "4F1GneMPhVaH",
        "colab_type": "code",
        "colab": {}
      },
      "source": [
        "plt.figure(figsize=(15,15))\n",
        "plt.imshow(im[:,:,::-1])\n",
        "plt.title(\"Facial Landmark detector\")\n",
        "plt.show()"
      ],
      "execution_count": 0,
      "outputs": []
    }
  ]
}