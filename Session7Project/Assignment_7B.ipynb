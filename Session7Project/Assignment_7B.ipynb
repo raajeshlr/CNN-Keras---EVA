{
  "nbformat": 4,
  "nbformat_minor": 0,
  "metadata": {
    "colab": {
      "name": "Assignment 7B.ipynb",
      "version": "0.3.2",
      "provenance": [],
      "collapsed_sections": []
    },
    "kernelspec": {
      "name": "python3",
      "display_name": "Python 3"
    },
    "accelerator": "GPU"
  },
  "cells": [
    {
      "cell_type": "code",
      "metadata": {
        "id": "LmwiIB1WfQzK",
        "colab_type": "code",
        "colab": {
          "base_uri": "https://localhost:8080/",
          "height": 34
        },
        "outputId": "bd864817-1968-4096-adbc-7e5c2a547c88"
      },
      "source": [
        "# https://keras.io/\n",
        "!pip install -q keras\n",
        "import keras\n",
        "from keras import utils as np_utils\n",
        "import keras\n",
        "import numpy as np\n",
        "import matplotlib.pyplot as plt\n",
        "from keras.datasets import cifar10\n",
        "from keras.models import Model, Sequential\n",
        "from keras.layers import Dense, Dropout, Flatten, Input, AveragePooling2D, merge, Activation, SeparableConv2D\n",
        "from keras.layers import Conv2D, MaxPooling2D, BatchNormalization\n",
        "from keras.layers import Concatenate\n",
        "from keras.optimizers import Adam\n",
        "from keras.layers.advanced_activations import LeakyReLU\n",
        "from keras.layers import Reshape, Activation, Conv2D, Input, MaxPooling2D, BatchNormalization, Flatten, Dense, Lambda\n",
        "from keras.layers.merge import concatenate\n",
        "\n",
        "# this part will prevent tensorflow to allocate all the avaliable GPU Memory\n",
        "# backend\n",
        "import tensorflow as tf\n",
        "from keras import backend as k\n",
        "\n",
        "\n",
        "# Don't pre-allocate memory; allocate as-needed\n",
        "config = tf.ConfigProto()\n",
        "config.gpu_options.allow_growth = True\n",
        "\n",
        "# Create a session with the above options specified.\n",
        "k.tensorflow_backend.set_session(tf.Session(config=config))"
      ],
      "execution_count": 1,
      "outputs": [
        {
          "output_type": "stream",
          "text": [
            "Using TensorFlow backend.\n"
          ],
          "name": "stderr"
        }
      ]
    },
    {
      "cell_type": "code",
      "metadata": {
        "id": "NHpnoCHZfO8g",
        "colab_type": "code",
        "colab": {
          "base_uri": "https://localhost:8080/",
          "height": 51
        },
        "outputId": "2d1574af-018c-4aac-8050-39ee3701f770"
      },
      "source": [
        "from keras.datasets import cifar10\n",
        "(train_features, train_labels), (test_features, test_labels) = cifar10.load_data()\n",
        "num_train, img_rows, img_cols, img_channels =  train_features.shape\n",
        "num_test, _, _, _ =  test_features.shape\n",
        "num_classes = len(np.unique(train_labels))"
      ],
      "execution_count": 2,
      "outputs": [
        {
          "output_type": "stream",
          "text": [
            "Downloading data from https://www.cs.toronto.edu/~kriz/cifar-10-python.tar.gz\n",
            "170500096/170498071 [==============================] - 4s 0us/step\n"
          ],
          "name": "stdout"
        }
      ]
    },
    {
      "cell_type": "code",
      "metadata": {
        "id": "hp79XUksR0Za",
        "colab_type": "code",
        "outputId": "7dfbf583-340a-4697-ccfa-828202e6af69",
        "colab": {
          "base_uri": "https://localhost:8080/",
          "height": 68
        }
      },
      "source": [
        "print(img_rows)\n",
        "print(img_cols)\n",
        "print(img_channels)"
      ],
      "execution_count": 3,
      "outputs": [
        {
          "output_type": "stream",
          "text": [
            "32\n",
            "32\n",
            "3\n"
          ],
          "name": "stdout"
        }
      ]
    },
    {
      "cell_type": "markdown",
      "metadata": {
        "id": "g0nhMHvVSBt8",
        "colab_type": "text"
      },
      "source": [
        "#### EXPLANATION\n",
        "\n",
        "-  We are looping through class by class and taking the index of one specific class in loop.\n",
        "-  Taking all those indexes training features and as features_idx.\n",
        "-  Picking random number and displaying that image and setting title."
      ]
    },
    {
      "cell_type": "code",
      "metadata": {
        "id": "14HyBUXdfS6G",
        "colab_type": "code",
        "outputId": "d58fc6db-b8ac-4e74-8a3f-5e3bc323806b",
        "colab": {
          "base_uri": "https://localhost:8080/",
          "height": 213
        }
      },
      "source": [
        "class_names = ['airplane','automobile','bird','cat','deer',\n",
        "               'dog','frog','horse','ship','truck']\n",
        "fig = plt.figure(figsize=(8,3))\n",
        "for i in range(num_classes):\n",
        "    ax = fig.add_subplot(2, 5, 1 + i, xticks=[], yticks=[])\n",
        "    idx = np.where(train_labels[:]==i)[0]\n",
        "    features_idx = train_features[idx,::]\n",
        "    img_num = np.random.randint(features_idx.shape[0])\n",
        "    im = features_idx[img_num]\n",
        "    ax.set_title(class_names[i])\n",
        "    plt.imshow(im)\n",
        "plt.show()"
      ],
      "execution_count": 4,
      "outputs": [
        {
          "output_type": "display_data",
          "data": {
            "image/png": "[encoded data removed]",
            "text/plain": [
              "<Figure size 576x216 with 10 Axes>"
            ]
          },
          "metadata": {
            "tags": []
          }
        }
      ]
    },
    {
      "cell_type": "code",
      "metadata": {
        "id": "bmfsk76-fadV",
        "colab_type": "code",
        "colab": {}
      },
      "source": [
        "def plot_model_history(model_history):\n",
        "    fig, axs = plt.subplots(1,2,figsize=(15,5))\n",
        "    # summarize history for accuracy\n",
        "    axs[0].plot(range(1,len(model_history.history['acc'])+1),model_history.history['acc'])\n",
        "    axs[0].plot(range(1,len(model_history.history['val_acc'])+1),model_history.history['val_acc'])\n",
        "    axs[0].set_title('Model Accuracy')\n",
        "    axs[0].set_ylabel('Accuracy')\n",
        "    axs[0].set_xlabel('Epoch')\n",
        "    axs[0].set_xticks(np.arange(1,len(model_history.history['acc'])+1),len(model_history.history['acc'])/10)\n",
        "    axs[0].legend(['train', 'val'], loc='best')\n",
        "    # summarize history for loss\n",
        "    axs[1].plot(range(1,len(model_history.history['loss'])+1),model_history.history['loss'])\n",
        "    axs[1].plot(range(1,len(model_history.history['val_loss'])+1),model_history.history['val_loss'])\n",
        "    axs[1].set_title('Model Loss')\n",
        "    axs[1].set_ylabel('Loss')\n",
        "    axs[1].set_xlabel('Epoch')\n",
        "    axs[1].set_xticks(np.arange(1,len(model_history.history['loss'])+1),len(model_history.history['loss'])/10)\n",
        "    axs[1].legend(['train', 'val'], loc='best')\n",
        "    plt.show()"
      ],
      "execution_count": 0,
      "outputs": []
    },
    {
      "cell_type": "markdown",
      "metadata": {
        "id": "GIWjip6USHQ5",
        "colab_type": "text"
      },
      "source": [
        "#### EXPLANATION\n",
        "\n",
        "-  It predicts test results and take the maximum index value and so it means model predicted that index category.\n",
        "-  Equate the results, sum it, divide and print the accuracy."
      ]
    },
    {
      "cell_type": "code",
      "metadata": {
        "id": "YJMT4rjgfdZz",
        "colab_type": "code",
        "colab": {}
      },
      "source": [
        "def accuracy(test_x, test_y, model):\n",
        "    result = model.predict(test_x)\n",
        "    predicted_class = np.argmax(result, axis=1)\n",
        "    true_class = np.argmax(test_y, axis=1)\n",
        "    num_correct = np.sum(predicted_class == true_class) \n",
        "    accuracy = float(num_correct)/result.shape[0]\n",
        "    return (accuracy * 100)"
      ],
      "execution_count": 0,
      "outputs": []
    },
    {
      "cell_type": "code",
      "metadata": {
        "id": "T5c5nDvxm6zR",
        "colab_type": "code",
        "colab": {}
      },
      "source": [
        "train_features = train_features.astype('float32')/255\n",
        "test_features = test_features.astype('float32')/255\n",
        "# convert class labels to binary class labels\n",
        "train_labels = np_utils.to_categorical(train_labels, num_classes)\n",
        "test_labels = np_utils.to_categorical(test_labels, num_classes)"
      ],
      "execution_count": 0,
      "outputs": []
    },
    {
      "cell_type": "code",
      "metadata": {
        "id": "6l8OMGvnFgn2",
        "colab_type": "code",
        "outputId": "d83b5849-5d2d-4b35-9b84-c798fc554438",
        "colab": {
          "base_uri": "https://localhost:8080/",
          "height": 34
        }
      },
      "source": [
        "test_features.shape"
      ],
      "execution_count": 8,
      "outputs": [
        {
          "output_type": "execute_result",
          "data": {
            "text/plain": [
              "(10000, 32, 32, 3)"
            ]
          },
          "metadata": {
            "tags": []
          },
          "execution_count": 8
        }
      ]
    },
    {
      "cell_type": "code",
      "metadata": {
        "id": "iQNo7BhQFbwm",
        "colab_type": "code",
        "outputId": "458cf14b-a209-4cba-ecdb-252df2e4129f",
        "colab": {
          "base_uri": "https://localhost:8080/",
          "height": 34
        }
      },
      "source": [
        "test_labels.shape"
      ],
      "execution_count": 9,
      "outputs": [
        {
          "output_type": "execute_result",
          "data": {
            "text/plain": [
              "(10000, 10)"
            ]
          },
          "metadata": {
            "tags": []
          },
          "execution_count": 9
        }
      ]
    },
    {
      "cell_type": "code",
      "metadata": {
        "id": "_tk7dXukEx9-",
        "colab_type": "code",
        "outputId": "4df3d4ef-5734-49aa-d30a-68a702387677",
        "colab": {
          "base_uri": "https://localhost:8080/",
          "height": 34
        }
      },
      "source": [
        "train_labels.shape"
      ],
      "execution_count": 10,
      "outputs": [
        {
          "output_type": "execute_result",
          "data": {
            "text/plain": [
              "(50000, 10)"
            ]
          },
          "metadata": {
            "tags": []
          },
          "execution_count": 10
        }
      ]
    },
    {
      "cell_type": "markdown",
      "metadata": {
        "id": "7nRtNRwGSQ5I",
        "colab_type": "text"
      },
      "source": [
        "#### EXPLANATION\n",
        "-  It usually reduce the resolution by half and increases the channels by four times, used while concatenate."
      ]
    },
    {
      "cell_type": "code",
      "metadata": {
        "id": "eaFWtiLwe5e7",
        "colab_type": "code",
        "colab": {}
      },
      "source": [
        "# Reduce dimensions to half\n",
        "def space_to_depth_x1(x):\n",
        "    return tf.space_to_depth(x, block_size=2)"
      ],
      "execution_count": 0,
      "outputs": []
    },
    {
      "cell_type": "code",
      "metadata": {
        "id": "qX0kGDmpffbZ",
        "colab_type": "code",
        "colab": {}
      },
      "source": [
        "# Reduce dimensions to quarter\n",
        "def space_to_depth_x2(x):\n",
        "    return tf.space_to_depth(x, block_size=4)"
      ],
      "execution_count": 0,
      "outputs": []
    },
    {
      "cell_type": "markdown",
      "metadata": {
        "id": "pYyJhhvQVWVX",
        "colab_type": "text"
      },
      "source": [
        "#### EXPLANATION\n",
        "-  I have used only 32 channels in all layers, not followed ENAS paper and copied layers.\n",
        "-  Gave a proper go through of all the connections from the architecture diagram and added.\n",
        "-  Understood how to reduce dimensions, add it."
      ]
    },
    {
      "cell_type": "code",
      "metadata": {
        "id": "Z7OZ5I_Cn00d",
        "colab_type": "code",
        "outputId": "90bfb790-1f39-4c07-c158-5d85fc55fbd2",
        "colab": {
          "base_uri": "https://localhost:8080/",
          "height": 326
        }
      },
      "source": [
        "#Input\n",
        "input = Input(shape=(img_rows,img_cols,img_channels,))\n",
        "\n",
        "#Reducing dimensions to half = To concatenate to any other layer after first max pool.\n",
        "#Reducing dimensions to quarter = To concatenate to any other layer after second max pool.\n",
        "\n",
        "#Layer1 + Layer1_Half_Dimension + Layer1_Quarter_Dimension\n",
        "layer1 = SeparableConv2D(32,(5,5),strides=(1,1),name='conv_1',border_mode='same',use_bias=False)(input)\n",
        "layer1 = BatchNormalization()(layer1)\n",
        "layer1 = Activation('relu')(layer1)\n",
        "layer1skip = layer1\n",
        "layer1half = Lambda(space_to_depth_x1)(layer1skip)\n",
        "layer1quarter = Lambda(space_to_depth_x2)(layer1skip)\n",
        "\n",
        "#Layer2 + Layer2_Half_Dimension + Layer2_Quarter_Dimension\n",
        "layer2 = Conv2D(32,(5,5), strides=(1,1),name='conv_2',border_mode='same', use_bias=False)(layer1)\n",
        "layer2 = BatchNormalization()(layer2)\n",
        "layer2 = Activation('relu')(layer2)\n",
        "layer2skip = layer2\n",
        "layer2half = Lambda(space_to_depth_x1)(layer2skip)\n",
        "layer2quarter = Lambda(space_to_depth_x2)(layer2skip)\n",
        "\n",
        "#Layer3 + Layer3_Half_Dimension + Layer3_Quarter_Dimension\n",
        "layer3 = Conv2D(32,(5,5), strides=(1,1),name='conv_3',border_mode='same', use_bias=False)(layer2)\n",
        "layer3 = BatchNormalization()(layer3)\n",
        "layer3 = Activation('relu')(layer3)\n",
        "layer3skip = layer3\n",
        "layer3half = Lambda(space_to_depth_x1)(layer3skip)\n",
        "layer3quarter = Lambda(space_to_depth_x2)(layer3skip)\n",
        "\n",
        "Confirst = concatenate([layer1,layer3])\n",
        "\n",
        "#Layer4 + Layer4_Half_Dimension + Layer4_Quarter_Dimension\n",
        "layer4 = SeparableConv2D(32,(5,5),strides=(1,1),name='conv_4',border_mode='same',use_bias=False)(Confirst)\n",
        "layer4 = BatchNormalization()(layer4)\n",
        "layer4 = Activation('relu')(layer4)\n",
        "layer4skip = layer4\n",
        "layer4half = Lambda(space_to_depth_x1)(layer4skip)\n",
        "layer4quarter = Lambda(space_to_depth_x2)(layer4skip)\n",
        "\n",
        "Consecond = concatenate([layer1,layer4])\n",
        "\n",
        "Maxpool1 = MaxPooling2D(pool_size=(2, 2))(Consecond)\n",
        "Maxpool1skip = Maxpool1\n",
        "\n",
        "#Layer5 + Layer5_Half_Dimension + Layer5_Quarter_Dimension\n",
        "layer5 = SeparableConv2D(32,(3,3),strides=(1,1),name='conv_5',border_mode='same',use_bias=False)(Maxpool1)\n",
        "layer5 = BatchNormalization()(layer5)\n",
        "layer5 = Activation('relu')(layer5)\n",
        "layer5skip = layer5\n",
        "layer5half = Lambda(space_to_depth_x1)(layer5skip)\n",
        "\n",
        "Conthird = concatenate([layer5,layer1half,layer2half])\n",
        "\n",
        "#Layer6 + Layer6_Half_Dimension + Layer6_Quarter_Dimension\n",
        "layer6 = Conv2D(32,(5,5), strides=(1,1),name='conv_6',border_mode='same', use_bias=False)(Conthird)\n",
        "layer6 = BatchNormalization()(layer6)\n",
        "layer6 = Activation('relu')(layer6)\n",
        "layer6skip = layer6\n",
        "layer6half = Lambda(space_to_depth_x1)(layer6skip)\n",
        "\n",
        "Confourth = concatenate([layer5,layer3half,layer1half,layer6])\n",
        "\n",
        "#Layer7 + Layer7_Half_Dimension + Layer7_Quarter_Dimension\n",
        "layer7 = SeparableConv2D(32,(3,3),strides=(1,1),name='conv_7',border_mode='same',use_bias=False)(Confourth)\n",
        "layer7 = BatchNormalization()(layer7)\n",
        "layer7 = Activation('relu')(layer7)\n",
        "layer7skip = layer7\n",
        "layer7half = Lambda(space_to_depth_x1)(layer7skip)\n",
        "\n",
        "Confifth = concatenate([layer1half,layer3half,layer4half,layer5,layer6,layer7])\n",
        "\n",
        "#Layer8 + Layer8_Half_Dimension + Layer8_Quarter_Dimension\n",
        "layer8 = SeparableConv2D(32,(5,5),strides=(1,1),name='conv_8',border_mode='same',use_bias=False)(Confifth)\n",
        "layer8 = BatchNormalization()(layer8)\n",
        "layer8 = Activation('relu')(layer8)\n",
        "layer8skip = layer8\n",
        "layer8half = Lambda(space_to_depth_x1)(layer8skip)\n",
        "\n",
        "Consixth = concatenate([layer1half,layer4half,layer5,layer8,layer7])\n",
        "\n",
        "Maxpool2 = MaxPooling2D(pool_size=(2, 2))(Consixth)\n",
        "Maxpool2skip = Maxpool2\n",
        "\n",
        "Conseventh = concatenate([layer6half,Maxpool2])\n",
        "\n",
        "#Layer9 + Layer9_Half_Dimension + Layer9_Quarter_Dimension\n",
        "layer9 = Conv2D(32,(5,5), strides=(1,1),name='conv_9',border_mode='same', use_bias=False)(Conseventh)\n",
        "layer9 = BatchNormalization()(layer9)\n",
        "layer9 = Activation('relu')(layer9)\n",
        "layer9skip = layer9\n",
        "\n",
        "Coneighth = concatenate([layer1quarter,layer2quarter,layer7half,layer9])\n",
        "\n",
        "#Layer10 + Layer10_Half_Dimension + Layer10_Quarter_Dimension\n",
        "layer10 = SeparableConv2D(32,(5,5),strides=(1,1),name='conv_10',border_mode='same',use_bias=False)(Coneighth)\n",
        "layer10 = BatchNormalization()(layer10)\n",
        "layer10 = Activation('relu')(layer10)\n",
        "layer10skip = layer10\n",
        "\n",
        "Conninth = concatenate([layer3quarter,layer2quarter,layer5half,layer9,layer10])\n",
        "\n",
        "#Layer11 + Layer11_Half_Dimension + Layer11_Quarter_Dimension\n",
        "layer11 = Conv2D(32,(3,3), strides=(1,1),name='conv_11',border_mode='same', use_bias=False)(Conninth)\n",
        "layer11 = BatchNormalization()(layer11)\n",
        "layer11 = Activation('relu')(layer11)\n",
        "layer11skip = layer11\n",
        "\n",
        "Contenth = concatenate([layer3quarter,layer1quarter,layer4quarter,layer5half,layer7half,layer10,layer11])\n",
        "\n",
        "#Layer12 + Layer12_Half_Dimension + Layer12_Quarter_Dimension\n",
        "layer12 = SeparableConv2D(32,(5,5),strides=(1,1),name='conv_12',border_mode='same',use_bias=False)(Contenth)\n",
        "layer12 = BatchNormalization()(layer12)\n",
        "layer12 = Activation('relu')(layer12)\n",
        "layer12skip = layer12\n",
        "\n",
        "Coneleventh = concatenate([layer4quarter,layer7half,layer12,layer11])\n",
        "\n",
        "#Layer13\n",
        "layer13 = Conv2D(10,(8,8),strides=(1,1),name='conv_13',use_bias=False)(Coneleventh)\n",
        "layer14 = Flatten()(layer13)\n",
        "\n",
        "output = Activation('softmax')(layer14)"
      ],
      "execution_count": 13,
      "outputs": [
        {
          "output_type": "stream",
          "text": [
            "WARNING:tensorflow:From /usr/local/lib/python3.6/dist-packages/tensorflow/python/framework/op_def_library.py:263: colocate_with (from tensorflow.python.framework.ops) is deprecated and will be removed in a future version.\n",
            "Instructions for updating:\n",
            "Colocations handled automatically by placer.\n"
          ],
          "name": "stdout"
        },
        {
          "output_type": "stream",
          "text": [
            "/usr/local/lib/python3.6/dist-packages/ipykernel_launcher.py:7: UserWarning: Update your `SeparableConv2D` call to the Keras 2 API: `SeparableConv2D(32, (5, 5), strides=(1, 1), name=\"conv_1\", use_bias=False, padding=\"same\")`\n",
            "  import sys\n",
            "/usr/local/lib/python3.6/dist-packages/ipykernel_launcher.py:15: UserWarning: Update your `Conv2D` call to the Keras 2 API: `Conv2D(32, (5, 5), strides=(1, 1), name=\"conv_2\", use_bias=False, padding=\"same\")`\n",
            "  from ipykernel import kernelapp as app\n",
            "/usr/local/lib/python3.6/dist-packages/ipykernel_launcher.py:23: UserWarning: Update your `Conv2D` call to the Keras 2 API: `Conv2D(32, (5, 5), strides=(1, 1), name=\"conv_3\", use_bias=False, padding=\"same\")`\n",
            "/usr/local/lib/python3.6/dist-packages/ipykernel_launcher.py:33: UserWarning: Update your `SeparableConv2D` call to the Keras 2 API: `SeparableConv2D(32, (5, 5), strides=(1, 1), name=\"conv_4\", use_bias=False, padding=\"same\")`\n",
            "/usr/local/lib/python3.6/dist-packages/ipykernel_launcher.py:46: UserWarning: Update your `SeparableConv2D` call to the Keras 2 API: `SeparableConv2D(32, (3, 3), strides=(1, 1), name=\"conv_5\", use_bias=False, padding=\"same\")`\n",
            "/usr/local/lib/python3.6/dist-packages/ipykernel_launcher.py:55: UserWarning: Update your `Conv2D` call to the Keras 2 API: `Conv2D(32, (5, 5), strides=(1, 1), name=\"conv_6\", use_bias=False, padding=\"same\")`\n",
            "/usr/local/lib/python3.6/dist-packages/ipykernel_launcher.py:64: UserWarning: Update your `SeparableConv2D` call to the Keras 2 API: `SeparableConv2D(32, (3, 3), strides=(1, 1), name=\"conv_7\", use_bias=False, padding=\"same\")`\n",
            "/usr/local/lib/python3.6/dist-packages/ipykernel_launcher.py:73: UserWarning: Update your `SeparableConv2D` call to the Keras 2 API: `SeparableConv2D(32, (5, 5), strides=(1, 1), name=\"conv_8\", use_bias=False, padding=\"same\")`\n",
            "/usr/local/lib/python3.6/dist-packages/ipykernel_launcher.py:87: UserWarning: Update your `Conv2D` call to the Keras 2 API: `Conv2D(32, (5, 5), strides=(1, 1), name=\"conv_9\", use_bias=False, padding=\"same\")`\n",
            "/usr/local/lib/python3.6/dist-packages/ipykernel_launcher.py:95: UserWarning: Update your `SeparableConv2D` call to the Keras 2 API: `SeparableConv2D(32, (5, 5), strides=(1, 1), name=\"conv_10\", use_bias=False, padding=\"same\")`\n",
            "/usr/local/lib/python3.6/dist-packages/ipykernel_launcher.py:103: UserWarning: Update your `Conv2D` call to the Keras 2 API: `Conv2D(32, (3, 3), strides=(1, 1), name=\"conv_11\", use_bias=False, padding=\"same\")`\n",
            "/usr/local/lib/python3.6/dist-packages/ipykernel_launcher.py:111: UserWarning: Update your `SeparableConv2D` call to the Keras 2 API: `SeparableConv2D(32, (5, 5), strides=(1, 1), name=\"conv_12\", use_bias=False, padding=\"same\")`\n"
          ],
          "name": "stderr"
        }
      ]
    },
    {
      "cell_type": "code",
      "metadata": {
        "id": "_gXJ4-XPrY6r",
        "colab_type": "code",
        "outputId": "b67a0095-ed46-4da7-f657-fe106b6174a6",
        "colab": {
          "base_uri": "https://localhost:8080/",
          "height": 2873
        }
      },
      "source": [
        "model = Model(inputs=[input], outputs=[output])\n",
        "model.summary()"
      ],
      "execution_count": 14,
      "outputs": [
        {
          "output_type": "stream",
          "text": [
            "__________________________________________________________________________________________________\n",
            "Layer (type)                    Output Shape         Param #     Connected to                     \n",
            "==================================================================================================\n",
            "input_1 (InputLayer)            (None, 32, 32, 3)    0                                            \n",
            "__________________________________________________________________________________________________\n",
            "conv_1 (SeparableConv2D)        (None, 32, 32, 32)   171         input_1[0][0]                    \n",
            "__________________________________________________________________________________________________\n",
            "batch_normalization_1 (BatchNor (None, 32, 32, 32)   128         conv_1[0][0]                     \n",
            "__________________________________________________________________________________________________\n",
            "activation_1 (Activation)       (None, 32, 32, 32)   0           batch_normalization_1[0][0]      \n",
            "__________________________________________________________________________________________________\n",
            "conv_2 (Conv2D)                 (None, 32, 32, 32)   25600       activation_1[0][0]               \n",
            "__________________________________________________________________________________________________\n",
            "batch_normalization_2 (BatchNor (None, 32, 32, 32)   128         conv_2[0][0]                     \n",
            "__________________________________________________________________________________________________\n",
            "activation_2 (Activation)       (None, 32, 32, 32)   0           batch_normalization_2[0][0]      \n",
            "__________________________________________________________________________________________________\n",
            "conv_3 (Conv2D)                 (None, 32, 32, 32)   25600       activation_2[0][0]               \n",
            "__________________________________________________________________________________________________\n",
            "batch_normalization_3 (BatchNor (None, 32, 32, 32)   128         conv_3[0][0]                     \n",
            "__________________________________________________________________________________________________\n",
            "activation_3 (Activation)       (None, 32, 32, 32)   0           batch_normalization_3[0][0]      \n",
            "__________________________________________________________________________________________________\n",
            "concatenate_1 (Concatenate)     (None, 32, 32, 64)   0           activation_1[0][0]               \n",
            "                                                                 activation_3[0][0]               \n",
            "__________________________________________________________________________________________________\n",
            "conv_4 (SeparableConv2D)        (None, 32, 32, 32)   3648        concatenate_1[0][0]              \n",
            "__________________________________________________________________________________________________\n",
            "batch_normalization_4 (BatchNor (None, 32, 32, 32)   128         conv_4[0][0]                     \n",
            "__________________________________________________________________________________________________\n",
            "activation_4 (Activation)       (None, 32, 32, 32)   0           batch_normalization_4[0][0]      \n",
            "__________________________________________________________________________________________________\n",
            "concatenate_2 (Concatenate)     (None, 32, 32, 64)   0           activation_1[0][0]               \n",
            "                                                                 activation_4[0][0]               \n",
            "__________________________________________________________________________________________________\n",
            "max_pooling2d_1 (MaxPooling2D)  (None, 16, 16, 64)   0           concatenate_2[0][0]              \n",
            "__________________________________________________________________________________________________\n",
            "conv_5 (SeparableConv2D)        (None, 16, 16, 32)   2624        max_pooling2d_1[0][0]            \n",
            "__________________________________________________________________________________________________\n",
            "batch_normalization_5 (BatchNor (None, 16, 16, 32)   128         conv_5[0][0]                     \n",
            "__________________________________________________________________________________________________\n",
            "activation_5 (Activation)       (None, 16, 16, 32)   0           batch_normalization_5[0][0]      \n",
            "__________________________________________________________________________________________________\n",
            "lambda_1 (Lambda)               (None, 16, 16, 128)  0           activation_1[0][0]               \n",
            "__________________________________________________________________________________________________\n",
            "lambda_3 (Lambda)               (None, 16, 16, 128)  0           activation_2[0][0]               \n",
            "__________________________________________________________________________________________________\n",
            "concatenate_3 (Concatenate)     (None, 16, 16, 288)  0           activation_5[0][0]               \n",
            "                                                                 lambda_1[0][0]                   \n",
            "                                                                 lambda_3[0][0]                   \n",
            "__________________________________________________________________________________________________\n",
            "conv_6 (Conv2D)                 (None, 16, 16, 32)   230400      concatenate_3[0][0]              \n",
            "__________________________________________________________________________________________________\n",
            "batch_normalization_6 (BatchNor (None, 16, 16, 32)   128         conv_6[0][0]                     \n",
            "__________________________________________________________________________________________________\n",
            "lambda_5 (Lambda)               (None, 16, 16, 128)  0           activation_3[0][0]               \n",
            "__________________________________________________________________________________________________\n",
            "activation_6 (Activation)       (None, 16, 16, 32)   0           batch_normalization_6[0][0]      \n",
            "__________________________________________________________________________________________________\n",
            "concatenate_4 (Concatenate)     (None, 16, 16, 320)  0           activation_5[0][0]               \n",
            "                                                                 lambda_5[0][0]                   \n",
            "                                                                 lambda_1[0][0]                   \n",
            "                                                                 activation_6[0][0]               \n",
            "__________________________________________________________________________________________________\n",
            "conv_7 (SeparableConv2D)        (None, 16, 16, 32)   13120       concatenate_4[0][0]              \n",
            "__________________________________________________________________________________________________\n",
            "batch_normalization_7 (BatchNor (None, 16, 16, 32)   128         conv_7[0][0]                     \n",
            "__________________________________________________________________________________________________\n",
            "activation_7 (Activation)       (None, 16, 16, 32)   0           batch_normalization_7[0][0]      \n",
            "__________________________________________________________________________________________________\n",
            "lambda_7 (Lambda)               (None, 16, 16, 128)  0           activation_4[0][0]               \n",
            "__________________________________________________________________________________________________\n",
            "concatenate_5 (Concatenate)     (None, 16, 16, 480)  0           lambda_1[0][0]                   \n",
            "                                                                 lambda_5[0][0]                   \n",
            "                                                                 lambda_7[0][0]                   \n",
            "                                                                 activation_5[0][0]               \n",
            "                                                                 activation_6[0][0]               \n",
            "                                                                 activation_7[0][0]               \n",
            "__________________________________________________________________________________________________\n",
            "conv_8 (SeparableConv2D)        (None, 16, 16, 32)   27360       concatenate_5[0][0]              \n",
            "__________________________________________________________________________________________________\n",
            "batch_normalization_8 (BatchNor (None, 16, 16, 32)   128         conv_8[0][0]                     \n",
            "__________________________________________________________________________________________________\n",
            "activation_8 (Activation)       (None, 16, 16, 32)   0           batch_normalization_8[0][0]      \n",
            "__________________________________________________________________________________________________\n",
            "concatenate_6 (Concatenate)     (None, 16, 16, 352)  0           lambda_1[0][0]                   \n",
            "                                                                 lambda_7[0][0]                   \n",
            "                                                                 activation_5[0][0]               \n",
            "                                                                 activation_8[0][0]               \n",
            "                                                                 activation_7[0][0]               \n",
            "__________________________________________________________________________________________________\n",
            "lambda_10 (Lambda)              (None, 8, 8, 128)    0           activation_6[0][0]               \n",
            "__________________________________________________________________________________________________\n",
            "max_pooling2d_2 (MaxPooling2D)  (None, 8, 8, 352)    0           concatenate_6[0][0]              \n",
            "__________________________________________________________________________________________________\n",
            "concatenate_7 (Concatenate)     (None, 8, 8, 480)    0           lambda_10[0][0]                  \n",
            "                                                                 max_pooling2d_2[0][0]            \n",
            "__________________________________________________________________________________________________\n",
            "conv_9 (Conv2D)                 (None, 8, 8, 32)     384000      concatenate_7[0][0]              \n",
            "__________________________________________________________________________________________________\n",
            "batch_normalization_9 (BatchNor (None, 8, 8, 32)     128         conv_9[0][0]                     \n",
            "__________________________________________________________________________________________________\n",
            "lambda_11 (Lambda)              (None, 8, 8, 128)    0           activation_7[0][0]               \n",
            "__________________________________________________________________________________________________\n",
            "lambda_2 (Lambda)               (None, 8, 8, 512)    0           activation_1[0][0]               \n",
            "__________________________________________________________________________________________________\n",
            "lambda_4 (Lambda)               (None, 8, 8, 512)    0           activation_2[0][0]               \n",
            "__________________________________________________________________________________________________\n",
            "activation_9 (Activation)       (None, 8, 8, 32)     0           batch_normalization_9[0][0]      \n",
            "__________________________________________________________________________________________________\n",
            "concatenate_8 (Concatenate)     (None, 8, 8, 1184)   0           lambda_2[0][0]                   \n",
            "                                                                 lambda_4[0][0]                   \n",
            "                                                                 lambda_11[0][0]                  \n",
            "                                                                 activation_9[0][0]               \n",
            "__________________________________________________________________________________________________\n",
            "conv_10 (SeparableConv2D)       (None, 8, 8, 32)     67488       concatenate_8[0][0]              \n",
            "__________________________________________________________________________________________________\n",
            "batch_normalization_10 (BatchNo (None, 8, 8, 32)     128         conv_10[0][0]                    \n",
            "__________________________________________________________________________________________________\n",
            "lambda_6 (Lambda)               (None, 8, 8, 512)    0           activation_3[0][0]               \n",
            "__________________________________________________________________________________________________\n",
            "lambda_9 (Lambda)               (None, 8, 8, 128)    0           activation_5[0][0]               \n",
            "__________________________________________________________________________________________________\n",
            "activation_10 (Activation)      (None, 8, 8, 32)     0           batch_normalization_10[0][0]     \n",
            "__________________________________________________________________________________________________\n",
            "concatenate_9 (Concatenate)     (None, 8, 8, 1216)   0           lambda_6[0][0]                   \n",
            "                                                                 lambda_4[0][0]                   \n",
            "                                                                 lambda_9[0][0]                   \n",
            "                                                                 activation_9[0][0]               \n",
            "                                                                 activation_10[0][0]              \n",
            "__________________________________________________________________________________________________\n",
            "conv_11 (Conv2D)                (None, 8, 8, 32)     350208      concatenate_9[0][0]              \n",
            "__________________________________________________________________________________________________\n",
            "batch_normalization_11 (BatchNo (None, 8, 8, 32)     128         conv_11[0][0]                    \n",
            "__________________________________________________________________________________________________\n",
            "lambda_8 (Lambda)               (None, 8, 8, 512)    0           activation_4[0][0]               \n",
            "__________________________________________________________________________________________________\n",
            "activation_11 (Activation)      (None, 8, 8, 32)     0           batch_normalization_11[0][0]     \n",
            "__________________________________________________________________________________________________\n",
            "concatenate_10 (Concatenate)    (None, 8, 8, 1856)   0           lambda_6[0][0]                   \n",
            "                                                                 lambda_2[0][0]                   \n",
            "                                                                 lambda_8[0][0]                   \n",
            "                                                                 lambda_9[0][0]                   \n",
            "                                                                 lambda_11[0][0]                  \n",
            "                                                                 activation_10[0][0]              \n",
            "                                                                 activation_11[0][0]              \n",
            "__________________________________________________________________________________________________\n",
            "conv_12 (SeparableConv2D)       (None, 8, 8, 32)     105792      concatenate_10[0][0]             \n",
            "__________________________________________________________________________________________________\n",
            "batch_normalization_12 (BatchNo (None, 8, 8, 32)     128         conv_12[0][0]                    \n",
            "__________________________________________________________________________________________________\n",
            "activation_12 (Activation)      (None, 8, 8, 32)     0           batch_normalization_12[0][0]     \n",
            "__________________________________________________________________________________________________\n",
            "concatenate_11 (Concatenate)    (None, 8, 8, 704)    0           lambda_8[0][0]                   \n",
            "                                                                 lambda_11[0][0]                  \n",
            "                                                                 activation_12[0][0]              \n",
            "                                                                 activation_11[0][0]              \n",
            "__________________________________________________________________________________________________\n",
            "conv_13 (Conv2D)                (None, 1, 1, 10)     450560      concatenate_11[0][0]             \n",
            "__________________________________________________________________________________________________\n",
            "flatten_1 (Flatten)             (None, 10)           0           conv_13[0][0]                    \n",
            "__________________________________________________________________________________________________\n",
            "activation_13 (Activation)      (None, 10)           0           flatten_1[0][0]                  \n",
            "==================================================================================================\n",
            "Total params: 1,688,107\n",
            "Trainable params: 1,687,339\n",
            "Non-trainable params: 768\n",
            "__________________________________________________________________________________________________\n"
          ],
          "name": "stdout"
        }
      ]
    },
    {
      "cell_type": "code",
      "metadata": {
        "id": "qvuuwv-Wf4XJ",
        "colab_type": "code",
        "colab": {}
      },
      "source": [
        "model.compile(optimizer='adam', loss='categorical_crossentropy', metrics=['accuracy'])"
      ],
      "execution_count": 0,
      "outputs": []
    },
    {
      "cell_type": "code",
      "metadata": {
        "id": "lLNNXlAUElfr",
        "colab_type": "code",
        "outputId": "1dc11288-346e-48b6-efe0-ab3845c9ab5f",
        "colab": {
          "base_uri": "https://localhost:8080/",
          "height": 34
        }
      },
      "source": [
        "train_labels.shape"
      ],
      "execution_count": 16,
      "outputs": [
        {
          "output_type": "execute_result",
          "data": {
            "text/plain": [
              "(50000, 10)"
            ]
          },
          "metadata": {
            "tags": []
          },
          "execution_count": 16
        }
      ]
    },
    {
      "cell_type": "code",
      "metadata": {
        "id": "JO01BvgARVCF",
        "colab_type": "code",
        "colab": {}
      },
      "source": [
        "import time"
      ],
      "execution_count": 0,
      "outputs": []
    },
    {
      "cell_type": "code",
      "metadata": {
        "id": "5oK_V7WyfsXX",
        "colab_type": "code",
        "outputId": "2884d0b9-a7be-483a-a9d3-aee69f921ab6",
        "colab": {
          "base_uri": "https://localhost:8080/",
          "height": 3923
        }
      },
      "source": [
        "from keras.preprocessing.image import ImageDataGenerator\n",
        "\n",
        "datagen = ImageDataGenerator(zoom_range=0.0, \n",
        "                             horizontal_flip=False)\n",
        "\n",
        "\n",
        "#train the model\n",
        "start = time.time()\n",
        "#Train the model\n",
        "model_info = model.fit_generator(datagen.flow(train_features, train_labels, batch_size = 128),\n",
        "                                 samples_per_epoch = train_features.shape[0], nb_epoch = 100, \n",
        "                                 validation_data = (test_features, test_labels), verbose=1)\n",
        "end = time.time()\n",
        "print (\"Model took %0.2f seconds to train\"%(end - start))\n",
        "# plot model history\n",
        "plot_model_history(model_info)\n",
        "# compute test accuracy\n",
        "print (\"Accuracy on test data is: %0.2f\"%accuracy(test_features, test_labels, model))"
      ],
      "execution_count": 18,
      "outputs": [
        {
          "output_type": "stream",
          "text": [
            "WARNING:tensorflow:From /usr/local/lib/python3.6/dist-packages/tensorflow/python/ops/math_ops.py:3066: to_int32 (from tensorflow.python.ops.math_ops) is deprecated and will be removed in a future version.\n",
            "Instructions for updating:\n",
            "Use tf.cast instead.\n"
          ],
          "name": "stdout"
        },
        {
          "output_type": "stream",
          "text": [
            "/usr/local/lib/python3.6/dist-packages/ipykernel_launcher.py:12: UserWarning: The semantics of the Keras 2 argument `steps_per_epoch` is not the same as the Keras 1 argument `samples_per_epoch`. `steps_per_epoch` is the number of batches to draw from the generator at each epoch. Basically steps_per_epoch = samples_per_epoch/batch_size. Similarly `nb_val_samples`->`validation_steps` and `val_samples`->`steps` arguments have changed. Update your method calls accordingly.\n",
            "  if sys.path[0] == '':\n",
            "/usr/local/lib/python3.6/dist-packages/ipykernel_launcher.py:12: UserWarning: Update your `fit_generator` call to the Keras 2 API: `fit_generator(<keras_pre..., validation_data=(array([[[..., verbose=1, steps_per_epoch=390, epochs=100)`\n",
            "  if sys.path[0] == '':\n"
          ],
          "name": "stderr"
        },
        {
          "output_type": "stream",
          "text": [
            "Epoch 1/100\n",
            "390/390 [==============================] - 46s 117ms/step - loss: 5.6007 - acc: 0.3248 - val_loss: 4.3176 - val_acc: 0.3497\n",
            "Epoch 2/100\n",
            "390/390 [==============================] - 41s 104ms/step - loss: 2.0401 - acc: 0.4974 - val_loss: 1.7653 - val_acc: 0.4862\n",
            "Epoch 3/100\n",
            "390/390 [==============================] - 40s 102ms/step - loss: 1.4399 - acc: 0.5877 - val_loss: 1.5870 - val_acc: 0.5489\n",
            "Epoch 4/100\n",
            "390/390 [==============================] - 40s 102ms/step - loss: 1.1952 - acc: 0.6414 - val_loss: 4.3240 - val_acc: 0.4289\n",
            "Epoch 5/100\n",
            "390/390 [==============================] - 40s 102ms/step - loss: 1.1237 - acc: 0.6633 - val_loss: 1.0635 - val_acc: 0.6265\n",
            "Epoch 6/100\n",
            "390/390 [==============================] - 40s 102ms/step - loss: 0.8262 - acc: 0.7146 - val_loss: 0.9786 - val_acc: 0.6618\n",
            "Epoch 7/100\n",
            "390/390 [==============================] - 40s 102ms/step - loss: 0.7198 - acc: 0.7495 - val_loss: 0.9961 - val_acc: 0.6612\n",
            "Epoch 8/100\n",
            "390/390 [==============================] - 40s 102ms/step - loss: 0.6098 - acc: 0.7905 - val_loss: 1.0096 - val_acc: 0.6687\n",
            "Epoch 9/100\n",
            "390/390 [==============================] - 40s 102ms/step - loss: 0.5106 - acc: 0.8232 - val_loss: 1.0330 - val_acc: 0.6712\n",
            "Epoch 10/100\n",
            "390/390 [==============================] - 40s 102ms/step - loss: 0.4020 - acc: 0.8636 - val_loss: 1.1089 - val_acc: 0.6702\n",
            "Epoch 11/100\n",
            "390/390 [==============================] - 40s 102ms/step - loss: 0.3063 - acc: 0.8947 - val_loss: 1.2752 - val_acc: 0.6605\n",
            "Epoch 12/100\n",
            "390/390 [==============================] - 40s 102ms/step - loss: 0.2184 - acc: 0.9280 - val_loss: 1.3321 - val_acc: 0.6635\n",
            "Epoch 13/100\n",
            "390/390 [==============================] - 40s 102ms/step - loss: 0.1557 - acc: 0.9504 - val_loss: 1.5521 - val_acc: 0.6445\n",
            "Epoch 14/100\n",
            "390/390 [==============================] - 40s 102ms/step - loss: 0.1058 - acc: 0.9681 - val_loss: 1.6026 - val_acc: 0.6536\n",
            "Epoch 15/100\n",
            "390/390 [==============================] - 40s 102ms/step - loss: 0.0837 - acc: 0.9748 - val_loss: 1.5767 - val_acc: 0.6640\n",
            "Epoch 16/100\n",
            "390/390 [==============================] - 40s 102ms/step - loss: 0.0676 - acc: 0.9799 - val_loss: 1.5805 - val_acc: 0.6725\n",
            "Epoch 17/100\n",
            "390/390 [==============================] - 40s 102ms/step - loss: 0.0627 - acc: 0.9807 - val_loss: 1.7009 - val_acc: 0.6628\n",
            "Epoch 18/100\n",
            "390/390 [==============================] - 40s 102ms/step - loss: 0.0689 - acc: 0.9784 - val_loss: 1.8324 - val_acc: 0.6547\n",
            "Epoch 19/100\n",
            "390/390 [==============================] - 40s 102ms/step - loss: 0.0572 - acc: 0.9831 - val_loss: 1.9908 - val_acc: 0.6400\n",
            "Epoch 20/100\n",
            "390/390 [==============================] - 40s 102ms/step - loss: 0.0379 - acc: 0.9896 - val_loss: 1.9183 - val_acc: 0.6608\n",
            "Epoch 21/100\n",
            "390/390 [==============================] - 40s 102ms/step - loss: 0.0470 - acc: 0.9852 - val_loss: 2.1376 - val_acc: 0.6410\n",
            "Epoch 22/100\n",
            "390/390 [==============================] - 40s 102ms/step - loss: 0.0522 - acc: 0.9834 - val_loss: 1.9755 - val_acc: 0.6578\n",
            "Epoch 23/100\n",
            "390/390 [==============================] - 40s 102ms/step - loss: 0.0504 - acc: 0.9832 - val_loss: 2.0246 - val_acc: 0.6540\n",
            "Epoch 24/100\n",
            "390/390 [==============================] - 40s 102ms/step - loss: 0.0365 - acc: 0.9888 - val_loss: 2.0910 - val_acc: 0.6576\n",
            "Epoch 25/100\n",
            "390/390 [==============================] - 40s 102ms/step - loss: 0.0279 - acc: 0.9914 - val_loss: 2.0430 - val_acc: 0.6695\n",
            "Epoch 26/100\n",
            "390/390 [==============================] - 40s 102ms/step - loss: 0.0346 - acc: 0.9888 - val_loss: 2.1765 - val_acc: 0.6489\n",
            "Epoch 27/100\n",
            "390/390 [==============================] - 40s 102ms/step - loss: 0.0460 - acc: 0.9847 - val_loss: 2.3080 - val_acc: 0.6458\n",
            "Epoch 28/100\n",
            "390/390 [==============================] - 40s 102ms/step - loss: 0.0321 - acc: 0.9895 - val_loss: 2.1248 - val_acc: 0.6632\n",
            "Epoch 29/100\n",
            "390/390 [==============================] - 40s 102ms/step - loss: 0.0216 - acc: 0.9936 - val_loss: 2.3102 - val_acc: 0.6477\n",
            "Epoch 30/100\n",
            "390/390 [==============================] - 40s 102ms/step - loss: 0.0282 - acc: 0.9903 - val_loss: 2.2000 - val_acc: 0.6705\n",
            "Epoch 31/100\n",
            "390/390 [==============================] - 40s 102ms/step - loss: 0.0455 - acc: 0.9839 - val_loss: 2.3193 - val_acc: 0.6485\n",
            "Epoch 32/100\n",
            "390/390 [==============================] - 40s 102ms/step - loss: 0.0259 - acc: 0.9919 - val_loss: 2.2216 - val_acc: 0.6633\n",
            "Epoch 33/100\n",
            "390/390 [==============================] - 40s 102ms/step - loss: 0.0127 - acc: 0.9966 - val_loss: 2.2024 - val_acc: 0.6777\n",
            "Epoch 34/100\n",
            "390/390 [==============================] - 40s 102ms/step - loss: 0.0093 - acc: 0.9976 - val_loss: 2.1365 - val_acc: 0.6782\n",
            "Epoch 35/100\n",
            "390/390 [==============================] - 40s 102ms/step - loss: 0.0191 - acc: 0.9942 - val_loss: 2.7665 - val_acc: 0.6235\n",
            "Epoch 36/100\n",
            "390/390 [==============================] - 40s 102ms/step - loss: 0.0663 - acc: 0.9769 - val_loss: 2.3210 - val_acc: 0.6536\n",
            "Epoch 37/100\n",
            "390/390 [==============================] - 40s 102ms/step - loss: 0.0259 - acc: 0.9910 - val_loss: 2.2069 - val_acc: 0.6702\n",
            "Epoch 38/100\n",
            "390/390 [==============================] - 40s 102ms/step - loss: 0.0132 - acc: 0.9961 - val_loss: 2.2226 - val_acc: 0.6744\n",
            "Epoch 39/100\n",
            "390/390 [==============================] - 40s 102ms/step - loss: 0.0048 - acc: 0.9992 - val_loss: 2.1815 - val_acc: 0.6892\n",
            "Epoch 40/100\n",
            "390/390 [==============================] - 40s 102ms/step - loss: 0.0014 - acc: 0.9999 - val_loss: 2.2654 - val_acc: 0.6817\n",
            "Epoch 41/100\n",
            "390/390 [==============================] - 40s 101ms/step - loss: 5.7989e-04 - acc: 1.0000 - val_loss: 2.1832 - val_acc: 0.6882\n",
            "Epoch 42/100\n",
            "390/390 [==============================] - 40s 102ms/step - loss: 3.1954e-04 - acc: 1.0000 - val_loss: 2.1825 - val_acc: 0.6928\n",
            "Epoch 43/100\n",
            "390/390 [==============================] - 40s 102ms/step - loss: 2.2634e-04 - acc: 1.0000 - val_loss: 2.1933 - val_acc: 0.6932\n",
            "Epoch 44/100\n",
            "390/390 [==============================] - 40s 101ms/step - loss: 1.9238e-04 - acc: 1.0000 - val_loss: 2.2122 - val_acc: 0.6948\n",
            "Epoch 45/100\n",
            "390/390 [==============================] - 40s 101ms/step - loss: 1.5111e-04 - acc: 1.0000 - val_loss: 2.2286 - val_acc: 0.6932\n",
            "Epoch 46/100\n",
            "390/390 [==============================] - 40s 101ms/step - loss: 1.3260e-04 - acc: 1.0000 - val_loss: 2.2379 - val_acc: 0.6942\n",
            "Epoch 47/100\n",
            "390/390 [==============================] - 40s 102ms/step - loss: 1.0493e-04 - acc: 1.0000 - val_loss: 2.2510 - val_acc: 0.6955\n",
            "Epoch 48/100\n",
            "390/390 [==============================] - 40s 102ms/step - loss: 0.1561 - acc: 0.9535 - val_loss: 2.1713 - val_acc: 0.6503\n",
            "Epoch 49/100\n",
            "390/390 [==============================] - 40s 101ms/step - loss: 0.0598 - acc: 0.9800 - val_loss: 2.4131 - val_acc: 0.6452\n",
            "Epoch 50/100\n",
            "390/390 [==============================] - 40s 102ms/step - loss: 0.0166 - acc: 0.9950 - val_loss: 2.2205 - val_acc: 0.6700\n",
            "Epoch 51/100\n",
            "390/390 [==============================] - 40s 102ms/step - loss: 0.0043 - acc: 0.9992 - val_loss: 2.1443 - val_acc: 0.6853\n",
            "Epoch 52/100\n",
            "390/390 [==============================] - 40s 102ms/step - loss: 0.0012 - acc: 0.9999 - val_loss: 2.1685 - val_acc: 0.6855\n",
            "Epoch 53/100\n",
            "390/390 [==============================] - 40s 102ms/step - loss: 6.5160e-04 - acc: 1.0000 - val_loss: 2.1907 - val_acc: 0.6874\n",
            "Epoch 54/100\n",
            "390/390 [==============================] - 40s 102ms/step - loss: 3.9874e-04 - acc: 1.0000 - val_loss: 2.2067 - val_acc: 0.6889\n",
            "Epoch 55/100\n",
            "390/390 [==============================] - 40s 101ms/step - loss: 3.0104e-04 - acc: 1.0000 - val_loss: 2.2257 - val_acc: 0.6891\n",
            "Epoch 56/100\n",
            "390/390 [==============================] - 39s 101ms/step - loss: 2.4731e-04 - acc: 1.0000 - val_loss: 2.2429 - val_acc: 0.6894\n",
            "Epoch 57/100\n",
            "390/390 [==============================] - 40s 101ms/step - loss: 1.8527e-04 - acc: 1.0000 - val_loss: 2.2566 - val_acc: 0.6899\n",
            "Epoch 58/100\n",
            "390/390 [==============================] - 40s 102ms/step - loss: 1.6702e-04 - acc: 1.0000 - val_loss: 2.2766 - val_acc: 0.6902\n",
            "Epoch 59/100\n",
            "390/390 [==============================] - 40s 101ms/step - loss: 1.3060e-04 - acc: 1.0000 - val_loss: 2.2907 - val_acc: 0.6909\n",
            "Epoch 60/100\n",
            "390/390 [==============================] - 40s 101ms/step - loss: 1.1668e-04 - acc: 1.0000 - val_loss: 2.3020 - val_acc: 0.6900\n",
            "Epoch 61/100\n",
            "390/390 [==============================] - 40s 101ms/step - loss: 9.1512e-05 - acc: 1.0000 - val_loss: 2.3301 - val_acc: 0.6926\n",
            "Epoch 62/100\n",
            "390/390 [==============================] - 40s 102ms/step - loss: 7.6509e-05 - acc: 1.0000 - val_loss: 2.3394 - val_acc: 0.6916\n",
            "Epoch 63/100\n",
            "390/390 [==============================] - 40s 101ms/step - loss: 6.3837e-05 - acc: 1.0000 - val_loss: 2.3561 - val_acc: 0.6915\n",
            "Epoch 64/100\n",
            "390/390 [==============================] - 40s 102ms/step - loss: 6.3099e-05 - acc: 1.0000 - val_loss: 2.3746 - val_acc: 0.6947\n",
            "Epoch 65/100\n",
            "390/390 [==============================] - 40s 102ms/step - loss: 4.8576e-05 - acc: 1.0000 - val_loss: 2.4004 - val_acc: 0.6943\n",
            "Epoch 66/100\n",
            "390/390 [==============================] - 40s 102ms/step - loss: 4.5665e-05 - acc: 1.0000 - val_loss: 2.4092 - val_acc: 0.6908\n",
            "Epoch 67/100\n",
            "390/390 [==============================] - 40s 101ms/step - loss: 3.2863e-05 - acc: 1.0000 - val_loss: 2.4200 - val_acc: 0.6937\n",
            "Epoch 68/100\n",
            "390/390 [==============================] - 40s 102ms/step - loss: 2.6495e-05 - acc: 1.0000 - val_loss: 2.4314 - val_acc: 0.6941\n",
            "Epoch 69/100\n",
            "390/390 [==============================] - 40s 102ms/step - loss: 2.1605e-05 - acc: 1.0000 - val_loss: 2.4613 - val_acc: 0.6950\n",
            "Epoch 70/100\n",
            "390/390 [==============================] - 40s 102ms/step - loss: 1.8108e-05 - acc: 1.0000 - val_loss: 2.4721 - val_acc: 0.6944\n",
            "Epoch 71/100\n",
            "390/390 [==============================] - 40s 101ms/step - loss: 1.5600e-05 - acc: 1.0000 - val_loss: 2.4881 - val_acc: 0.6950\n",
            "Epoch 72/100\n",
            "390/390 [==============================] - 40s 102ms/step - loss: 1.1660e-05 - acc: 1.0000 - val_loss: 2.5083 - val_acc: 0.6948\n",
            "Epoch 73/100\n",
            "390/390 [==============================] - 40s 102ms/step - loss: 1.0146e-05 - acc: 1.0000 - val_loss: 2.5236 - val_acc: 0.6955\n",
            "Epoch 74/100\n",
            "390/390 [==============================] - 40s 101ms/step - loss: 9.4983e-06 - acc: 1.0000 - val_loss: 2.5321 - val_acc: 0.6964\n",
            "Epoch 75/100\n",
            "390/390 [==============================] - 40s 101ms/step - loss: 7.3795e-06 - acc: 1.0000 - val_loss: 2.5491 - val_acc: 0.6938\n",
            "Epoch 76/100\n",
            "390/390 [==============================] - 40s 101ms/step - loss: 0.1720 - acc: 0.9521 - val_loss: 2.3888 - val_acc: 0.6630\n",
            "Epoch 77/100\n",
            "390/390 [==============================] - 40s 102ms/step - loss: 0.0241 - acc: 0.9919 - val_loss: 2.3256 - val_acc: 0.6746\n",
            "Epoch 78/100\n",
            "390/390 [==============================] - 40s 101ms/step - loss: 0.0050 - acc: 0.9989 - val_loss: 2.2801 - val_acc: 0.6795\n",
            "Epoch 79/100\n",
            "390/390 [==============================] - 40s 102ms/step - loss: 0.0016 - acc: 0.9998 - val_loss: 2.2839 - val_acc: 0.6806\n",
            "Epoch 80/100\n",
            "390/390 [==============================] - 40s 101ms/step - loss: 5.3652e-04 - acc: 1.0000 - val_loss: 2.2955 - val_acc: 0.6824\n",
            "Epoch 81/100\n",
            "390/390 [==============================] - 40s 102ms/step - loss: 3.3644e-04 - acc: 1.0000 - val_loss: 2.3244 - val_acc: 0.6838\n",
            "Epoch 82/100\n",
            "390/390 [==============================] - 40s 102ms/step - loss: 2.7181e-04 - acc: 1.0000 - val_loss: 2.3374 - val_acc: 0.6832\n",
            "Epoch 83/100\n",
            "390/390 [==============================] - 40s 102ms/step - loss: 2.0566e-04 - acc: 1.0000 - val_loss: 2.3467 - val_acc: 0.6841\n",
            "Epoch 84/100\n",
            "390/390 [==============================] - 40s 101ms/step - loss: 1.6603e-04 - acc: 1.0000 - val_loss: 2.3619 - val_acc: 0.6844\n",
            "Epoch 85/100\n",
            "390/390 [==============================] - 39s 101ms/step - loss: 1.3413e-04 - acc: 1.0000 - val_loss: 2.3786 - val_acc: 0.6853\n",
            "Epoch 86/100\n",
            "390/390 [==============================] - 40s 101ms/step - loss: 1.1090e-04 - acc: 1.0000 - val_loss: 2.3930 - val_acc: 0.6849\n",
            "Epoch 87/100\n",
            "390/390 [==============================] - 39s 101ms/step - loss: 9.2444e-05 - acc: 1.0000 - val_loss: 2.4087 - val_acc: 0.6830\n",
            "Epoch 88/100\n",
            "390/390 [==============================] - 39s 101ms/step - loss: 7.8645e-05 - acc: 1.0000 - val_loss: 2.4311 - val_acc: 0.6854\n",
            "Epoch 89/100\n",
            "390/390 [==============================] - 40s 102ms/step - loss: 6.8115e-05 - acc: 1.0000 - val_loss: 2.4375 - val_acc: 0.6854\n",
            "Epoch 90/100\n",
            "390/390 [==============================] - 40s 101ms/step - loss: 5.7054e-05 - acc: 1.0000 - val_loss: 2.4575 - val_acc: 0.6853\n",
            "Epoch 91/100\n",
            "390/390 [==============================] - 40s 102ms/step - loss: 4.9526e-05 - acc: 1.0000 - val_loss: 2.4684 - val_acc: 0.6846\n",
            "Epoch 92/100\n",
            "390/390 [==============================] - 40s 103ms/step - loss: 4.0048e-05 - acc: 1.0000 - val_loss: 2.4867 - val_acc: 0.6856\n",
            "Epoch 93/100\n",
            "390/390 [==============================] - 40s 102ms/step - loss: 3.1850e-05 - acc: 1.0000 - val_loss: 2.4987 - val_acc: 0.6879\n",
            "Epoch 94/100\n",
            "390/390 [==============================] - 40s 102ms/step - loss: 2.7452e-05 - acc: 1.0000 - val_loss: 2.5084 - val_acc: 0.6862\n",
            "Epoch 95/100\n",
            "390/390 [==============================] - 40s 102ms/step - loss: 2.4546e-05 - acc: 1.0000 - val_loss: 2.5247 - val_acc: 0.6880\n",
            "Epoch 96/100\n",
            "390/390 [==============================] - 40s 102ms/step - loss: 2.0034e-05 - acc: 1.0000 - val_loss: 2.5391 - val_acc: 0.6876\n",
            "Epoch 97/100\n",
            "390/390 [==============================] - 40s 102ms/step - loss: 1.6022e-05 - acc: 1.0000 - val_loss: 2.5519 - val_acc: 0.6878\n",
            "Epoch 98/100\n",
            "390/390 [==============================] - 40s 102ms/step - loss: 1.2932e-05 - acc: 1.0000 - val_loss: 2.5720 - val_acc: 0.6894\n",
            "Epoch 99/100\n",
            "390/390 [==============================] - 40s 102ms/step - loss: 1.1454e-05 - acc: 1.0000 - val_loss: 2.5894 - val_acc: 0.6892\n",
            "Epoch 100/100\n",
            "390/390 [==============================] - 40s 102ms/step - loss: 9.1042e-06 - acc: 1.0000 - val_loss: 2.6000 - val_acc: 0.6890\n",
            "Model took 3974.39 seconds to train\n"
          ],
          "name": "stdout"
        },
        {
          "output_type": "display_data",
          "data": {
            "image/png": "[encoded data removed]",
            "text/plain": [
              "<Figure size 1080x360 with 2 Axes>"
            ]
          },
          "metadata": {
            "tags": []
          }
        },
        {
          "output_type": "stream",
          "text": [
            "Accuracy on test data is: 68.91\n"
          ],
          "name": "stdout"
        }
      ]
    }
  ]
}