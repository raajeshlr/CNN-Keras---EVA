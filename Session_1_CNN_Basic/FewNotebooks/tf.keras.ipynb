{
 "cells": [
  {
   "cell_type": "code",
   "execution_count": 0,
   "metadata": {
    "colab": {},
    "colab_type": "code",
    "id": "QEtVTK3uYk9p"
   },
   "outputs": [],
   "source": [
    "import numpy as np\n",
    "import time, math\n",
    "import cv2\n",
    "from tqdm import tqdm_notebook as tqdm\n",
    "\n",
    "import tensorflow as tf\n",
    "from tensorflow.keras.regularizers import l2\n",
    "import tensorflow.contrib.eager as tfe\n",
    "\n",
    "import matplotlib.pyplot as plt\n",
    "% matplotlib inline"
   ]
  },
  {
   "cell_type": "code",
   "execution_count": 0,
   "metadata": {
    "colab": {},
    "colab_type": "code",
    "id": "p5mkJO53h-Zs"
   },
   "outputs": [],
   "source": [
    "learning_rate = 0.4\n",
    "epochs = 25\n",
    "batch_size = 512\n",
    "end_percentage = 0.05\n",
    "triangle_tilt = 0.7"
   ]
  },
  {
   "cell_type": "code",
   "execution_count": 0,
   "metadata": {
    "colab": {},
    "colab_type": "code",
    "id": "6WR3LO8tidAc"
   },
   "outputs": [],
   "source": [
    "# Loading the CIFAR10 60000 Training and 10000 Test data into respective numpy arrays\n",
    "(X_train, y_train), (X_test, y_test) = tf.keras.datasets.cifar10.load_data()\n",
    "\n",
    "n_train, n_test = X_train.shape[0], X_test.shape[0]\n",
    "img_size = X_train.shape[1]\n",
    "n_classes = y_train.max() + 1"
   ]
  },
  {
   "cell_type": "code",
   "execution_count": 0,
   "metadata": {
    "colab": {},
    "colab_type": "code",
    "id": "qJq-7uMpmU6x"
   },
   "outputs": [],
   "source": [
    "X_train = X_train.astype('float32')/255\n",
    "X_test = X_test.astype('float32')/255\n",
    "Y_train = tf.keras.utils.to_categorical(y_train, n_classes)\n",
    "Y_test = tf.keras.utils.to_categorical(y_test, n_classes)"
   ]
  },
  {
   "cell_type": "code",
   "execution_count": 5,
   "metadata": {
    "colab": {
     "base_uri": "https://localhost:8080/",
     "height": 34
    },
    "colab_type": "code",
    "id": "n6QYdPNtQ99J",
    "outputId": "b8589547-152b-4b1f-86af-6404497b1090"
   },
   "outputs": [
    {
     "name": "stdout",
     "output_type": "stream",
     "text": [
      "[0.4914009  0.48215896 0.4465308 ] [0.24703279 0.24348423 0.26158753]\n"
     ]
    }
   ],
   "source": [
    "X_train_mean = np.mean(X_train, axis=(0,1,2))\n",
    "X_train_std = np.std(X_train, axis=(0,1,2))\n",
    "print(X_train_mean, X_train_std)"
   ]
  },
  {
   "cell_type": "code",
   "execution_count": 6,
   "metadata": {
    "colab": {
     "base_uri": "https://localhost:8080/",
     "height": 34
    },
    "colab_type": "code",
    "id": "pzRLfIA8Q-xx",
    "outputId": "a081b8d8-c11a-4ae6-a0bd-b0cb81a747a7"
   },
   "outputs": [
    {
     "name": "stdout",
     "output_type": "stream",
     "text": [
      "[0.49421427 0.4851322  0.45040992] [0.24665268 0.24289216 0.2615922 ]\n"
     ]
    }
   ],
   "source": [
    "X_test_mean = np.mean(X_test, axis=(0,1,2))\n",
    "X_test_std = np.std(X_test, axis=(0,1,2))\n",
    "print(X_test_mean, X_test_std)"
   ]
  },
  {
   "cell_type": "code",
   "execution_count": 0,
   "metadata": {
    "colab": {},
    "colab_type": "code",
    "id": "oOh0j981RHnW"
   },
   "outputs": [],
   "source": [
    "X_train = (X_train - X_train_mean) / X_train_std\n",
    "X_test = (X_test - X_test_mean) / X_test_std"
   ]
  },
  {
   "cell_type": "code",
   "execution_count": 0,
   "metadata": {
    "colab": {},
    "colab_type": "code",
    "id": "yOtVSU6qrjI9"
   },
   "outputs": [],
   "source": [
    "def random_crop(input_image,padding_pixels=4,random_crop_size=(32,32)):\n",
    "          # Note: image_data_format is 'channel_last'\n",
    "          assert input_image.shape[2] == 3\n",
    "          \n",
    "          #Pad by 4 pixels\n",
    "          img = cv2.copyMakeBorder(input_image, padding_pixels, padding_pixels, padding_pixels, padding_pixels, cv2.BORDER_REPLICATE)\n",
    "          \n",
    "          height, width = img.shape[0], img.shape[1]\n",
    "          dy, dx = random_crop_size\n",
    "          x = np.random.randint(0, width - dx + 1)\n",
    "          y = np.random.randint(0, height - dy + 1)\n",
    "          return img[y:(y+dy), x:(x+dx), :]\n",
    "        \n",
    "tr_seq = list(range(len(X_train)))\n",
    "train_func = lambda i:random_crop(X_train[i])\n",
    "train_features = list(map(train_func,tr_seq))\n",
    "\n",
    "train_features = np.asarray(train_features)\n",
    "train_labels = Y_train "
   ]
  },
  {
   "cell_type": "code",
   "execution_count": 0,
   "metadata": {
    "colab": {},
    "colab_type": "code",
    "id": "dDK_7gDlHEFC"
   },
   "outputs": [],
   "source": [
    "def get_cutout_eraser_and_padcrop(p=0.5, s_l=0.3, s_h=0.3, r_1=0.3, r_2=1 / 0.3, max_erasures_per_image=1, pixel_level=True, random_crop_size=(32, 32), padding_pixels=4):\n",
    "    \"\"\"\n",
    "    :param p:\n",
    "    :param s_l: Minimum Area Proportion of Original that may be cut\n",
    "    :param s_h: Maximum Area Proportion of Original that may be cut\n",
    "    :param r_1: Min Aspect Ratio\n",
    "    :param r_2: Max Aspect Ratio\n",
    "    :param max_erasures_per_image:\n",
    "    :param pixel_level:\n",
    "    :return: Eraser to be used as Preprocessing Function\n",
    "    \"\"\"\n",
    "    assert max_erasures_per_image >= 1\n",
    "\n",
    "    def eraser(input_img):\n",
    "        v_l = np.min(input_img)\n",
    "        v_h = np.max(input_img)\n",
    "        img_h, img_w, img_c = input_img.shape\n",
    "        p_1 = np.random.rand()\n",
    "\n",
    "        if p_1 > p:\n",
    "            return input_img\n",
    "\n",
    "        mx = np.random.randint(1, max_erasures_per_image + 1)\n",
    "        # print(\"Erasures = \",mx,end =\", \")\n",
    "        for i in range(mx):\n",
    "            while True:\n",
    "                s = np.random.uniform(s_l, s_h) * img_h * img_w\n",
    "                r = np.random.uniform(r_1, r_2)\n",
    "                w = int(np.sqrt(s / r))\n",
    "                h = int(np.sqrt(s * r))\n",
    "                left = np.random.randint(0, img_w)\n",
    "                top = np.random.randint(0, img_h)\n",
    "\n",
    "                if left + w <= img_w and top + h <= img_h:\n",
    "                    break\n",
    "\n",
    "            # print(\"W = \",w,\"H = \",h,end =\", \")\n",
    "\n",
    "            if pixel_level:\n",
    "                # print(np.max(img_c),np.min(img_c),v_l,v_h)\n",
    "                c = np.random.uniform(v_l, v_h, (h, w, img_c))\n",
    "                # print(c.shape,np.min(c),np.max(c),np.median(c))\n",
    "            else:\n",
    "                c = np.random.uniform(v_l, v_h)\n",
    "\n",
    "            input_img[top:top + h, left:left + w, :] = c\n",
    "\n",
    "        # print()\n",
    "        return input_img\n",
    "     \n",
    "    \n",
    "        \n",
    "    def preproc_image(input_image):\n",
    "      #return eraser\n",
    "      return eraser(input_image)\n",
    "\n",
    "    return preproc_image\n",
    "      \n",
    "        "
   ]
  },
  {
   "cell_type": "code",
   "execution_count": 0,
   "metadata": {
    "colab": {},
    "colab_type": "code",
    "id": "JBPdtlO75o2O"
   },
   "outputs": [],
   "source": [
    "datagen = tf.keras.preprocessing.image.ImageDataGenerator(\n",
    "   #featurewise_center=True,\n",
    "   #featurewise_std_normalization=True,\n",
    "   horizontal_flip=0.5,                 # randomly flip images                                     \n",
    "   preprocessing_function=get_cutout_eraser_and_padcrop(p=0.5, s_l=0.15, s_h=0.15, r_1=0.2, r_2=1 / 0.3, max_erasures_per_image=1, pixel_level=False))\n",
    "\n",
    "_ = datagen.fit(X_train)\n",
    "train_iterator = datagen.flow(X_train, Y_train, batch_size=256, shuffle=False)\n",
    "\n",
    "# X_e, Y_e = train_iterator.next()\n",
    "# X_e = min_max_scale(X_e)\n",
    "# show_examples(X_e[0:10], Y_e[0:10], classes = get_cifar10_labels())"
   ]
  },
  {
   "cell_type": "code",
   "execution_count": 0,
   "metadata": {
    "colab": {},
    "colab_type": "code",
    "id": "oxc5QhiQR1X6"
   },
   "outputs": [],
   "source": [
    "datagen_validation = tf.keras.preprocessing.image.ImageDataGenerator()\n",
    "datagen_validation.fit(X_test)\n",
    "validation_iterator = datagen_validation.flow(X_test, Y_test, batch_size=batch_size, shuffle=False)"
   ]
  },
  {
   "cell_type": "code",
   "execution_count": 12,
   "metadata": {
    "colab": {
     "base_uri": "https://localhost:8080/",
     "height": 425
    },
    "colab_type": "code",
    "id": "bp09LebQfo4O",
    "outputId": "d27ddaf0-3279-48b5-ed1a-e23d6e7e74e4"
   },
   "outputs": [
    {
     "name": "stdout",
     "output_type": "stream",
     "text": [
      "tmp  0\n",
      "tmp  50000\n",
      "tmp  100000\n",
      "tmp  150000\n",
      "tmp  200000\n",
      "tmp  250000\n",
      "tmp  300000\n",
      "tmp  350000\n",
      "tmp  400000\n",
      "tmp  450000\n",
      "tmp  500000\n",
      "tmp  550000\n",
      "tmp  600000\n",
      "tmp  650000\n",
      "tmp  700000\n",
      "tmp  750000\n",
      "tmp  800000\n",
      "tmp  850000\n",
      "tmp  900000\n",
      "tmp  950000\n",
      "tmp  1000000\n",
      "tmp  1050000\n",
      "tmp  1100000\n",
      "tmp  1150000\n"
     ]
    }
   ],
   "source": [
    "import h5py\n",
    "f = h5py.File('aug_img.hdf5', 'w')\n",
    "d = f.create_dataset('dataset', (1200000,32,32,3),chunks=(256,32,32,3))\n",
    "l = f.create_dataset('labels',(1200000,10),chunks=(256,10))\n",
    "\n",
    "\n",
    "batch_size=256\n",
    "EPOCHS =24\n",
    "aug_lbl=[]\n",
    "tmp=0\n",
    "for i in range(EPOCHS):\n",
    "  print(\"tmp \", tmp)\n",
    "  for j in range(len(train_iterator)):\n",
    "    initial = j*batch_size+tmp\n",
    "    train_gen = train_iterator.next()\n",
    "    if(j == 195 ):\n",
    "      final += 80\n",
    "      d[initial:final]= train_gen[0]\n",
    "      l[initial:final]= train_gen[1]\n",
    "      continue \n",
    "      \n",
    "    \n",
    "    final = initial + 256\n",
    "    d[initial:final]= train_gen[0]\n",
    "    l[initial:final]= train_gen[1]\n",
    "  \n",
    "  tmp = final\n"
   ]
  },
  {
   "cell_type": "code",
   "execution_count": 0,
   "metadata": {
    "colab": {},
    "colab_type": "code",
    "id": "10HGAQbDDg6d"
   },
   "outputs": [],
   "source": [
    "input_shape=(32, 32, 3)\n",
    "num_outputs = 10"
   ]
  },
  {
   "cell_type": "code",
   "execution_count": 13,
   "metadata": {
    "colab": {
     "base_uri": "https://localhost:8080/",
     "height": 105
    },
    "colab_type": "code",
    "id": "37S1oFpA2wUJ",
    "outputId": "32a09408-4008-441c-923a-b97ad2bb4f87"
   },
   "outputs": [
    {
     "name": "stderr",
     "output_type": "stream",
     "text": [
      "WARNING: Logging before flag parsing goes to stderr.\n",
      "W0818 04:52:39.871843 139740285003648 deprecation.py:506] From /usr/local/lib/python3.6/dist-packages/tensorflow/python/ops/init_ops.py:1251: calling VarianceScaling.__init__ (from tensorflow.python.ops.init_ops) with dtype is deprecated and will be removed in a future version.\n",
      "Instructions for updating:\n",
      "Call initializer instance with the dtype argument instead of passing it to the constructor\n"
     ]
    }
   ],
   "source": [
    "#Define DawnNet model\n",
    "input = tf.keras.layers.Input(shape=input_shape)\n",
    "\n",
    "prep = tf.keras.layers.Conv2D(filters=32,\n",
    "                          kernel_size=(3, 3),\n",
    "                          strides=(1, 1),\n",
    "                          padding=\"same\",\n",
    "                          #kernel_initializer=\"he_normal\",kernel_regularizer=l2(0.0001)\n",
    "                          )(input)\n",
    "prep = tf.keras.layers.BatchNormalization(axis=3,momentum=0.9, epsilon=1e-5)(prep)\n",
    "prep = tf.keras.layers.Activation(\"relu\")(prep)\n",
    "\n",
    "#drp_0 = tf.keras.layers.Dropout(0.05)(prep)\n",
    "gn_= tf.keras.layers.GaussianNoise(0.5)(prep)\n",
    "layer1 = tf.keras.layers.Conv2D(filters=64,\n",
    "                          kernel_size=(3, 3),\n",
    "                          strides=(1, 1),\n",
    "                          padding=\"same\",\n",
    "                          #kernel_initializer=\"he_normal\",kernel_regularizer=l2(0.0001)\n",
    "                          )(gn_)\n",
    "layer1 = tf.keras.layers.BatchNormalization(axis=3,momentum=0.9, epsilon=1e-5)(layer1)\n",
    "layer1 = tf.keras.layers.Activation(\"relu\")(layer1)\n",
    "layer1 = tf.keras.layers.MaxPooling2D(pool_size=(2, 2), strides=(2, 2), padding=\"same\")(layer1)\n",
    "\n",
    "#drp_1 = tf.keras.layers.Dropout(0.05)(layer1)\n",
    "gn_0 = tf.keras.layers.GaussianNoise(0.5)(layer1)\n",
    "layer1_res1_identity = tf.keras.layers.Conv2D(filters=32,\n",
    "                          kernel_size=(1, 1),\n",
    "                          strides=(1, 1),\n",
    "                          padding=\"same\",\n",
    "                          #kernel_initializer=\"he_normal\",kernel_regularizer=l2(0.0001)\n",
    "                          )(gn_0)\n",
    "layer1_res1 = tf.keras.layers.Conv2D(filters=64,\n",
    "                          kernel_size=(3, 3),\n",
    "                          strides=(1, 1),\n",
    "                          padding=\"same\",\n",
    "                          #kernel_initializer=\"he_normal\",kernel_regularizer=l2(0.0001)\n",
    "                          )(layer1_res1_identity)\n",
    "layer1_res1 = tf.keras.layers.BatchNormalization(axis=3,momentum=0.9, epsilon=1e-5)(layer1_res1)\n",
    "layer1_res1 = tf.keras.layers.Activation(\"relu\")(layer1_res1)\n",
    "\n",
    "#concat1 = tf.keras.layers.concatenate([layer1, layer1_res1])\n",
    "\n",
    "\n",
    "\n",
    "layer1_res2 = tf.keras.layers.Conv2D(filters=64,\n",
    "                          kernel_size=(3, 3),\n",
    "                          strides=(1, 1),\n",
    "                          padding=\"same\",\n",
    "                          #kernel_initializer=\"he_normal\",kernel_regularizer=l2(0.0001)\n",
    "                          )(layer1_res1)\n",
    "layer1_res2 = tf.keras.layers.BatchNormalization(axis=3,momentum=0.9, epsilon=1e-5)(layer1_res2)\n",
    "layer1_res2 = tf.keras.layers.Activation(\"relu\")(layer1_res2)\n",
    "\n",
    "concat1 = tf.keras.layers.concatenate([layer1, layer1_res2])\n",
    "\n",
    "#drp_3 = tf.keras.layers.SpatialDropout2D(0.05)(concat1)\n",
    "gn_1 = tf.keras.layers.GaussianNoise(0.5)(concat1)\n",
    "layer2 = tf.keras.layers.Conv2D(filters=128,\n",
    "                          kernel_size=(3, 3),\n",
    "                          strides=(1, 1),\n",
    "                          padding=\"same\",\n",
    "                          #kernel_initializer=\"he_normal\",kernel_regularizer=l2(0.0001)\n",
    "                          )(gn_1)\n",
    "layer2 = tf.keras.layers.BatchNormalization(axis=3,momentum=0.9, epsilon=1e-5)(layer2)\n",
    "layer2 = tf.keras.layers.Activation(\"relu\")(layer2)\n",
    "layer2 = tf.keras.layers.MaxPooling2D(pool_size=(2, 2), strides=(2, 2), padding=\"same\")(layer2)\n",
    "\n",
    "#drp_4 = tf.keras.layers.SpatialDropout2D(0.05)(layer2)\n",
    "gn_2 = tf.keras.layers.GaussianNoise(0.5)(layer2)\n",
    "layer3 = tf.keras.layers.Conv2D(filters=256,\n",
    "                          kernel_size=(3, 3),\n",
    "                          strides=(1, 1),\n",
    "                          padding=\"same\",\n",
    "                          #kernel_initializer=\"he_normal\",kernel_regularizer=l2(0.0001)\n",
    "                          )(gn_2)\n",
    "layer3 = tf.keras.layers.BatchNormalization(axis=3,momentum=0.9, epsilon=1e-5)(layer3)\n",
    "layer3 = tf.keras.layers.Activation(\"relu\")(layer3)\n",
    "layer3 = tf.keras.layers.MaxPooling2D(pool_size=(2, 2), strides=(2, 2), padding=\"same\")(layer3)\n",
    "\n",
    "layer3_res1_identity = tf.keras.layers.Conv2D(filters=128,\n",
    "                          kernel_size=(1, 1),\n",
    "                          strides=(1, 1),\n",
    "                          padding=\"same\",\n",
    "                          #kernel_initializer=\"he_normal\", kernel_regularizer=l2(0.0001)\n",
    "                         )(layer3)\n",
    "layer3_res1 = tf.keras.layers.Conv2D(filters=256,\n",
    "                          kernel_size=(3, 3),\n",
    "                          strides=(1, 1),\n",
    "                          padding=\"same\",\n",
    "                          #kernel_initializer=\"he_normal\",kernel_regularizer=l2(0.001)\n",
    "                          )(layer3_res1_identity)\n",
    "layer3_res1 = tf.keras.layers.BatchNormalization(axis=3,momentum=0.9, epsilon=1e-5)(layer3_res1)\n",
    "layer3_res1 = tf.keras.layers.Activation(\"relu\")(layer3_res1)\n",
    "\n",
    "\n",
    "layer3_res2 = tf.keras.layers.Conv2D(filters=256,\n",
    "                          kernel_size=(3, 3),\n",
    "                          strides=(1, 1),\n",
    "                          padding=\"same\",\n",
    "                          #kernel_initializer=\"he_normal\",kernel_regularizer=l2(0.0001)\n",
    "                          )(layer3_res1)\n",
    "layer3_res2 = tf.keras.layers.BatchNormalization(axis=3,momentum=0.9, epsilon=1e-5)(layer3_res2)\n",
    "layer3_res2 = tf.keras.layers.Activation(\"relu\")(layer3_res2)\n",
    "\n",
    "concat2 = tf.keras.layers.concatenate([layer3, layer3_res2])\n",
    "\n",
    "gmp = tf.keras.layers.GlobalAveragePooling2D()(concat2)\n",
    "dense = tf.keras.layers.Dense(units=num_outputs, activation=\"softmax\")(gmp) #kernel_initializer=\"he_normal\", \n",
    "\n",
    "model = tf.keras.models.Model(inputs=input, outputs=dense)"
   ]
  },
  {
   "cell_type": "code",
   "execution_count": 14,
   "metadata": {
    "colab": {
     "base_uri": "https://localhost:8080/",
     "height": 1000
    },
    "colab_type": "code",
    "id": "JRKvgcZrFgIj",
    "outputId": "4c3ad458-caff-42d8-9683-97c0e58f12d5"
   },
   "outputs": [
    {
     "name": "stdout",
     "output_type": "stream",
     "text": [
      "Model: \"model\"\n",
      "__________________________________________________________________________________________________\n",
      "Layer (type)                    Output Shape         Param #     Connected to                     \n",
      "==================================================================================================\n",
      "input_1 (InputLayer)            [(None, 32, 32, 3)]  0                                            \n",
      "__________________________________________________________________________________________________\n",
      "conv2d (Conv2D)                 (None, 32, 32, 32)   896         input_1[0][0]                    \n",
      "__________________________________________________________________________________________________\n",
      "batch_normalization (BatchNorma (None, 32, 32, 32)   128         conv2d[0][0]                     \n",
      "__________________________________________________________________________________________________\n",
      "activation (Activation)         (None, 32, 32, 32)   0           batch_normalization[0][0]        \n",
      "__________________________________________________________________________________________________\n",
      "gaussian_noise (GaussianNoise)  (None, 32, 32, 32)   0           activation[0][0]                 \n",
      "__________________________________________________________________________________________________\n",
      "conv2d_1 (Conv2D)               (None, 32, 32, 64)   18496       gaussian_noise[0][0]             \n",
      "__________________________________________________________________________________________________\n",
      "batch_normalization_1 (BatchNor (None, 32, 32, 64)   256         conv2d_1[0][0]                   \n",
      "__________________________________________________________________________________________________\n",
      "activation_1 (Activation)       (None, 32, 32, 64)   0           batch_normalization_1[0][0]      \n",
      "__________________________________________________________________________________________________\n",
      "max_pooling2d (MaxPooling2D)    (None, 16, 16, 64)   0           activation_1[0][0]               \n",
      "__________________________________________________________________________________________________\n",
      "gaussian_noise_1 (GaussianNoise (None, 16, 16, 64)   0           max_pooling2d[0][0]              \n",
      "__________________________________________________________________________________________________\n",
      "conv2d_2 (Conv2D)               (None, 16, 16, 32)   2080        gaussian_noise_1[0][0]           \n",
      "__________________________________________________________________________________________________\n",
      "conv2d_3 (Conv2D)               (None, 16, 16, 64)   18496       conv2d_2[0][0]                   \n",
      "__________________________________________________________________________________________________\n",
      "batch_normalization_2 (BatchNor (None, 16, 16, 64)   256         conv2d_3[0][0]                   \n",
      "__________________________________________________________________________________________________\n",
      "activation_2 (Activation)       (None, 16, 16, 64)   0           batch_normalization_2[0][0]      \n",
      "__________________________________________________________________________________________________\n",
      "conv2d_4 (Conv2D)               (None, 16, 16, 64)   36928       activation_2[0][0]               \n",
      "__________________________________________________________________________________________________\n",
      "batch_normalization_3 (BatchNor (None, 16, 16, 64)   256         conv2d_4[0][0]                   \n",
      "__________________________________________________________________________________________________\n",
      "activation_3 (Activation)       (None, 16, 16, 64)   0           batch_normalization_3[0][0]      \n",
      "__________________________________________________________________________________________________\n",
      "concatenate (Concatenate)       (None, 16, 16, 128)  0           max_pooling2d[0][0]              \n",
      "                                                                 activation_3[0][0]               \n",
      "__________________________________________________________________________________________________\n",
      "gaussian_noise_2 (GaussianNoise (None, 16, 16, 128)  0           concatenate[0][0]                \n",
      "__________________________________________________________________________________________________\n",
      "conv2d_5 (Conv2D)               (None, 16, 16, 128)  147584      gaussian_noise_2[0][0]           \n",
      "__________________________________________________________________________________________________\n",
      "batch_normalization_4 (BatchNor (None, 16, 16, 128)  512         conv2d_5[0][0]                   \n",
      "__________________________________________________________________________________________________\n",
      "activation_4 (Activation)       (None, 16, 16, 128)  0           batch_normalization_4[0][0]      \n",
      "__________________________________________________________________________________________________\n",
      "max_pooling2d_1 (MaxPooling2D)  (None, 8, 8, 128)    0           activation_4[0][0]               \n",
      "__________________________________________________________________________________________________\n",
      "gaussian_noise_3 (GaussianNoise (None, 8, 8, 128)    0           max_pooling2d_1[0][0]            \n",
      "__________________________________________________________________________________________________\n",
      "conv2d_6 (Conv2D)               (None, 8, 8, 256)    295168      gaussian_noise_3[0][0]           \n",
      "__________________________________________________________________________________________________\n",
      "batch_normalization_5 (BatchNor (None, 8, 8, 256)    1024        conv2d_6[0][0]                   \n",
      "__________________________________________________________________________________________________\n",
      "activation_5 (Activation)       (None, 8, 8, 256)    0           batch_normalization_5[0][0]      \n",
      "__________________________________________________________________________________________________\n",
      "max_pooling2d_2 (MaxPooling2D)  (None, 4, 4, 256)    0           activation_5[0][0]               \n",
      "__________________________________________________________________________________________________\n",
      "conv2d_7 (Conv2D)               (None, 4, 4, 128)    32896       max_pooling2d_2[0][0]            \n",
      "__________________________________________________________________________________________________\n",
      "conv2d_8 (Conv2D)               (None, 4, 4, 256)    295168      conv2d_7[0][0]                   \n",
      "__________________________________________________________________________________________________\n",
      "batch_normalization_6 (BatchNor (None, 4, 4, 256)    1024        conv2d_8[0][0]                   \n",
      "__________________________________________________________________________________________________\n",
      "activation_6 (Activation)       (None, 4, 4, 256)    0           batch_normalization_6[0][0]      \n",
      "__________________________________________________________________________________________________\n",
      "conv2d_9 (Conv2D)               (None, 4, 4, 256)    590080      activation_6[0][0]               \n",
      "__________________________________________________________________________________________________\n",
      "batch_normalization_7 (BatchNor (None, 4, 4, 256)    1024        conv2d_9[0][0]                   \n",
      "__________________________________________________________________________________________________\n",
      "activation_7 (Activation)       (None, 4, 4, 256)    0           batch_normalization_7[0][0]      \n",
      "__________________________________________________________________________________________________\n",
      "concatenate_1 (Concatenate)     (None, 4, 4, 512)    0           max_pooling2d_2[0][0]            \n",
      "                                                                 activation_7[0][0]               \n",
      "__________________________________________________________________________________________________\n",
      "global_average_pooling2d (Globa (None, 512)          0           concatenate_1[0][0]              \n",
      "__________________________________________________________________________________________________\n",
      "dense (Dense)                   (None, 10)           5130        global_average_pooling2d[0][0]   \n",
      "==================================================================================================\n",
      "Total params: 1,447,402\n",
      "Trainable params: 1,445,162\n",
      "Non-trainable params: 2,240\n",
      "__________________________________________________________________________________________________\n"
     ]
    }
   ],
   "source": [
    "model.summary()"
   ]
  },
  {
   "cell_type": "code",
   "execution_count": 15,
   "metadata": {
    "colab": {
     "base_uri": "https://localhost:8080/",
     "height": 298
    },
    "colab_type": "code",
    "id": "suxU4w1SF6EX",
    "outputId": "bb69839a-cd79-4234-81bd-bd6d7dc617e0"
   },
   "outputs": [
    {
     "name": "stdout",
     "output_type": "stream",
     "text": [
      "================================================================================\n"
     ]
    },
    {
     "data": {
      "image/png": "[encoded data removed]",
      "text/plain": [
       "<Figure size 432x288 with 1 Axes>"
      ]
     },
     "metadata": {
      "tags": []
     },
     "output_type": "display_data"
    }
   ],
   "source": [
    "def min_max_scaler(iterations, num_iterations, end_percentage, min_val, max_val, invert = False, triangle_tilt = 0.65):\n",
    "  non_slant_mid_cycle_id = int(num_iterations * ((1. - end_percentage)) / float(2))\n",
    "  mid_cycle_id = int(triangle_tilt*int(num_iterations * ((1. - end_percentage)) / float(2)))\n",
    "  value = 0\n",
    "  if iterations > 2 * non_slant_mid_cycle_id:\n",
    "    \n",
    "    \n",
    "      extra_iters = (iterations - 2 * non_slant_mid_cycle_id)\n",
    "      current_percentage = 1 - (1 - 1/10)*extra_iters/(num_iterations - 2 * non_slant_mid_cycle_id)\n",
    "            \n",
    "\n",
    "  elif iterations >  mid_cycle_id:\n",
    "      current_percentage = 1. - (iterations - mid_cycle_id) / (2*non_slant_mid_cycle_id - mid_cycle_id)\n",
    "      \n",
    "  else:\n",
    "      current_percentage = iterations / mid_cycle_id\n",
    "      \n",
    "  if invert:\n",
    "    if iterations > 2 * non_slant_mid_cycle_id:\n",
    "      return max_val\n",
    "    return max_val - current_percentage * (max_val - min_val)\n",
    "  else:\n",
    "    if iterations > 2 * non_slant_mid_cycle_id:\n",
    "      return min_val * current_percentage\n",
    "    return min_val + current_percentage * (max_val - min_val)\n",
    "  \n",
    "    \n",
    "\n",
    "print(\"=\"*80)\n",
    "scales = []\n",
    "for i in range(1000):\n",
    "  p = min_max_scaler(i,1000,0.1,min_val=0.1,max_val=1, invert=False)\n",
    "  scales.append(p)\n",
    "  \n",
    "plt.plot(np.array(scales))\n",
    "plt.title(\"LR Graph\")\n",
    "plt.show()"
   ]
  },
  {
   "cell_type": "code",
   "execution_count": 0,
   "metadata": {
    "colab": {},
    "colab_type": "code",
    "id": "v_zaj292F7PD"
   },
   "outputs": [],
   "source": [
    "import os\n",
    "import numpy as np\n",
    "import warnings\n",
    "\n",
    "from tensorflow.keras.callbacks import Callback\n",
    "from tensorflow.keras import backend as K\n",
    "\n",
    "from tensorflow.keras.layers import (\n",
    "    Conv2D,\n",
    "    MaxPooling2D,\n",
    "    AveragePooling2D\n",
    ")\n",
    "\n",
    "\n",
    "# Code is ported from https://github.com/fastai/fastai\n",
    "class OneCycleLR(Callback):\n",
    "    def __init__(self,\n",
    "                 epochs,\n",
    "                 batch_size,\n",
    "                 samples,\n",
    "                 steps,\n",
    "                 max_lr,\n",
    "                 end_percentage=0.1,\n",
    "                 scale=100,\n",
    "                 maximum_momentum=0.95,\n",
    "                 minimum_momentum=0.85,\n",
    "                 triangle_tilt = 0.75,\n",
    "                 verbose=True):\n",
    "        \"\"\" This callback implements a cyclical learning rate policy (CLR).\n",
    "        This is a special case of Cyclic Learning Rates, where we have only 1 cycle.\n",
    "        After the completion of 1 cycle, the learning rate will decrease rapidly to\n",
    "        100th its initial lowest value.\n",
    "        # Arguments:\n",
    "            max_lr: Float. Initial learning rate. This also sets the\n",
    "                starting learning rate (which will be 10x smaller than\n",
    "                this), and will increase to this value during the first cycle.\n",
    "            end_percentage: Float. The percentage of all the epochs of training\n",
    "                that will be dedicated to sharply decreasing the learning\n",
    "                rate after the completion of 1 cycle. Must be between 0 and 1.\n",
    "            scale_percentage: Float or None. If float, must be between 0 and 1.\n",
    "                If None, it will compute the scale_percentage automatically\n",
    "                based on the `end_percentage`.\n",
    "            maximum_momentum: Optional. Sets the maximum momentum (initial)\n",
    "                value, which gradually drops to its lowest value in half-cycle,\n",
    "                then gradually increases again to stay constant at this max value.\n",
    "                Can only be used with SGD Optimizer.\n",
    "            minimum_momentum: Optional. Sets the minimum momentum at the end of\n",
    "                the half-cycle. Can only be used with SGD Optimizer.\n",
    "            verbose: Bool. Whether to print the current learning rate after every\n",
    "                epoch.\n",
    "        # Reference\n",
    "            - [A disciplined approach to neural network hyper-parameters: Part 1 -- learning rate, batch size, weight_decay, and weight decay](https://arxiv.org/abs/1803.09820)\n",
    "            - [Super-Convergence: Very Fast Training of Residual Networks Using Large Learning Rates](https://arxiv.org/abs/1708.07120)\n",
    "        \"\"\"\n",
    "        super(OneCycleLR, self).__init__()\n",
    "\n",
    "        if end_percentage < 0. or end_percentage > 1.:\n",
    "            raise ValueError(\"`end_percentage` must be between 0 and 1\")\n",
    "\n",
    "\n",
    "        self.initial_lr = max_lr\n",
    "        self.end_percentage = end_percentage\n",
    "        self.scale = scale\n",
    "        self.max_momentum = maximum_momentum\n",
    "        self.min_momentum = minimum_momentum\n",
    "        self.verbose = verbose\n",
    "\n",
    "        if self.max_momentum is not None and self.min_momentum is not None:\n",
    "            self._update_momentum = True\n",
    "        else:\n",
    "            self._update_momentum = False\n",
    "\n",
    "        self.clr_iterations = 0.\n",
    "        self.history = {}\n",
    "\n",
    "        self.epochs = epochs\n",
    "        self.batch_size = batch_size\n",
    "        self.samples = samples\n",
    "        self.steps = steps\n",
    "        self.num_iterations = None\n",
    "        self.mid_cycle_id = None\n",
    "\n",
    "    def _reset(self):\n",
    "        \"\"\"\n",
    "        Reset the callback.\n",
    "        \"\"\"\n",
    "        self.clr_iterations = 0.\n",
    "        self.history = {}\n",
    "\n",
    "    def compute_lr(self):\n",
    "        \"\"\"\n",
    "        Compute the learning rate based on which phase of the cycle it is in.\n",
    "        - If in the first half of training, the learning rate gradually increases.\n",
    "        - If in the second half of training, the learning rate gradually decreases.\n",
    "        - If in the final `end_percentage` portion of training, the learning rate\n",
    "            is quickly reduced to near 100th of the original min learning rate.\n",
    "        # Returns:\n",
    "            the new learning rate\n",
    "        \"\"\"\n",
    "        new_lr = min_max_scaler(self.clr_iterations, self.num_iterations, self.end_percentage, self.initial_lr/self.scale, self.initial_lr, invert = False, triangle_tilt=triangle_tilt)\n",
    "        return new_lr\n",
    "\n",
    "    def compute_momentum(self):\n",
    "        \"\"\"\n",
    "         Compute the momentum based on which phase of the cycle it is in.\n",
    "        - If in the first half of training, the momentum gradually decreases.\n",
    "        - If in the second half of training, the momentum gradually increases.\n",
    "        - If in the final `end_percentage` portion of training, the momentum value\n",
    "            is kept constant at the maximum initial value.\n",
    "        # Returns:\n",
    "            the new momentum value\n",
    "        \"\"\"    \n",
    "        new_momentum = min_max_scaler(self.clr_iterations, self.num_iterations, self.end_percentage, self.min_momentum, self.max_momentum, invert = True, triangle_tilt=triangle_tilt)\n",
    "        return new_momentum\n",
    "\n",
    "    def on_train_begin(self, logs={}):\n",
    "        logs = logs or {}\n",
    "\n",
    "        if self.steps is not None:\n",
    "            self.num_iterations = self.epochs * self.steps\n",
    "        else:\n",
    "            if (self.samples % self.batch_size) == 0:\n",
    "                remainder = 0\n",
    "            else:\n",
    "                remainder = 1\n",
    "            self.num_iterations = (self.epochs + remainder) * self.samples // self.batch_size\n",
    "\n",
    "        self.mid_cycle_id = int(self.num_iterations * ((1. - self.end_percentage)) / float(2))\n",
    "\n",
    "        self._reset()\n",
    "        K.set_value(self.model.optimizer.lr, self.compute_lr())\n",
    "\n",
    "        if self._update_momentum:\n",
    "            if not hasattr(self.model.optimizer, 'momentum'):\n",
    "                raise ValueError(\"Momentum can be updated only on SGD optimizer !\")\n",
    "\n",
    "            new_momentum = self.compute_momentum()\n",
    "            K.set_value(self.model.optimizer.momentum, new_momentum)\n",
    "\n",
    "    def on_batch_end(self, epoch, logs=None):\n",
    "        logs = logs or {}\n",
    "\n",
    "        self.clr_iterations += 1\n",
    "        new_lr = self.compute_lr()\n",
    "\n",
    "        self.history.setdefault('lr', []).append(\n",
    "            K.get_value(self.model.optimizer.lr))\n",
    "        K.set_value(self.model.optimizer.lr, new_lr)\n",
    "\n",
    "        if self._update_momentum:\n",
    "            if not hasattr(self.model.optimizer, 'momentum'):\n",
    "                raise ValueError(\"Momentum can be updated only on SGD optimizer !\")\n",
    "\n",
    "            new_momentum = self.compute_momentum()\n",
    "\n",
    "            self.history.setdefault('momentum', []).append(\n",
    "                K.get_value(self.model.optimizer.momentum))\n",
    "            K.set_value(self.model.optimizer.momentum, new_momentum)\n",
    "\n",
    "        for k, v in logs.items():\n",
    "            self.history.setdefault(k, []).append(v)\n",
    "\n",
    "    def on_epoch_end(self, epoch, logs=None):\n",
    "        if self.verbose:\n",
    "            if self._update_momentum:\n",
    "                print(\" - lr: %0.5f - momentum: %0.2f \" %\n",
    "                      (self.history['lr'][-1], self.history['momentum'][-1]))\n",
    "\n",
    "            else:\n",
    "                print(\" - lr: %0.5f \" % (self.history['lr'][-1]))\n",
    "                \n",
    "    \n",
    "    def plot(self):\n",
    "        plt.title(\"LR-Plot\")\n",
    "        plt.plot(self.history['lr'])\n",
    "        plt.xlabel(\"Epochs\")\n",
    "        plt.ylabel(\"LR\")\n",
    "        plt.show()\n",
    "        \n",
    "        plt.title(\"Momentum-Plot\")\n",
    "        plt.plot(self.history['momentum'])\n",
    "        plt.xlabel(\"Epochs\")\n",
    "        plt.ylabel(\"Momentum\")\n",
    "        plt.show()"
   ]
  },
  {
   "cell_type": "code",
   "execution_count": 0,
   "metadata": {
    "colab": {},
    "colab_type": "code",
    "id": "-NblM6VSGBNm"
   },
   "outputs": [],
   "source": [
    "olr = OneCycleLR(epochs=20, batch_size = batch_size,steps=196, \n",
    "                 samples=X_train.shape[0], max_lr=learning_rate, verbose = True, scale = 50, end_percentage=0.05,\n",
    "                 maximum_momentum = 0.95, minimum_momentum=0.85, triangle_tilt=0.7)"
   ]
  },
  {
   "cell_type": "code",
   "execution_count": 0,
   "metadata": {
    "colab": {},
    "colab_type": "code",
    "id": "uc-tKb2_zudZ"
   },
   "outputs": [],
   "source": [
    "def custom_loss(actual, predicted):\n",
    "  weights = model.get_weights()\n",
    "  sum_weights = 0\n",
    "  for i in range(len(weights)):\n",
    "    sum_weights +=  np.sum(np.sum(np.sum(np.square(weights[i]))))\n",
    "    \n",
    "  hyperparameter = 1e-2\n",
    "  l2_regularizer = hyperparameter*sum_weights/(2*512)\n",
    "  return tf.keras.losses.categorical_crossentropy(actual, predicted) + l2_regularizer"
   ]
  },
  {
   "cell_type": "code",
   "execution_count": 0,
   "metadata": {
    "colab": {},
    "colab_type": "code",
    "id": "YWaEbb0BlBK_"
   },
   "outputs": [],
   "source": [
    "sgd = tf.keras.optimizers.SGD(lr=0.0018, decay=5e-4, momentum=0.9, nesterov=True)\n",
    "\n",
    "# Compile the model\n",
    "model.compile(optimizer=sgd, loss=custom_loss, metrics=['accuracy'])"
   ]
  },
  {
   "cell_type": "code",
   "execution_count": 0,
   "metadata": {
    "colab": {},
    "colab_type": "code",
    "id": "KsdzrKXZglo8"
   },
   "outputs": [],
   "source": [
    "data = tf.keras.utils.HDF5Matrix('./aug_img.hdf5','dataset')\n",
    "label = tf.keras.utils.HDF5Matrix('./aug_img.hdf5','labels')"
   ]
  },
  {
   "cell_type": "code",
   "execution_count": 21,
   "metadata": {
    "colab": {
     "base_uri": "https://localhost:8080/",
     "height": 34
    },
    "colab_type": "code",
    "id": "4teA41AsgUid",
    "outputId": "793ed7c4-25db-4a8b-ea85-bcb44b001cbd"
   },
   "outputs": [
    {
     "name": "stderr",
     "output_type": "stream",
     "text": [
      "Using TensorFlow backend.\n"
     ]
    }
   ],
   "source": [
    "import numpy as np\n",
    "import keras\n",
    "import random\n",
    "class DataGenerator(tf.keras.utils.Sequence):\n",
    "    'Generates data for Keras'\n",
    "    def __init__(self, data, label, train_features,train_labels, batch_size=512, dim=(32,32), n_channels=3,\n",
    "                 n_classes=10, shuffle=True):\n",
    "        'Initialization'\n",
    "        self.dim = dim\n",
    "        self.batch_size = batch_size\n",
    "        self.label = label\n",
    "        self.data = data\n",
    "        self.n_channels = n_channels\n",
    "        self.n_classes = n_classes\n",
    "        self.shuffle = shuffle\n",
    "        self.train_features = train_features\n",
    "        self.train_labels = train_labels\n",
    "        self.on_epoch_end()\n",
    "\n",
    "    def __len__(self):\n",
    "        'Denotes the number of batches per epoch'\n",
    "        return int(np.floor(len(self.data) / self.batch_size))\n",
    "\n",
    "    def __getitem__(self, index):\n",
    "        'Generate one batch of data'\n",
    "        \n",
    "        # Generate indexes of the batch\n",
    "        #indexes = self.indexes[index*self.batch_size:(index+1)*self.batch_size]\n",
    "        aug_ran = random.randrange(0,len(self.data)-256)\n",
    "        wo_aug = random.randrange(0,len(self.train_features)-256)\n",
    "        #print(aug_ran)\n",
    "        train_data_aug = lambda i: (np.array(self.data[i:i+256]),np.array(self.label[i:i+256]))\n",
    "        train_data_wo = lambda i: (np.array(self.train_features[i:i+256]),np.array(self.train_labels[i:i+256]))\n",
    "        \n",
    "        \n",
    "        X = np.concatenate((train_data_aug(aug_ran)[0],train_data_wo(wo_aug)[0]),axis=0)\n",
    "        y = np.concatenate((train_data_aug(aug_ran)[1],train_data_wo(wo_aug)[1]),axis=0)\n",
    "        #print(\"label\",y.shape, \" \" ,X.shape)\n",
    "        #plt.imshow(X[0])\n",
    "        # Generate data\n",
    "        #X, y = self.__data_generation(list_IDs_temp)\n",
    "\n",
    "        return X, y\n",
    "\n",
    "    def on_epoch_end(self):\n",
    "        'Updates indexes after each epoch'\n",
    "        self.indexes = np.arange(len(self.data))\n",
    "        if self.shuffle == True:\n",
    "            np.random.shuffle(self.indexes)\n",
    "            \n",
    "gen = DataGenerator(data,label,train_features,train_labels,512)"
   ]
  },
  {
   "cell_type": "code",
   "execution_count": 25,
   "metadata": {
    "colab": {
     "base_uri": "https://localhost:8080/",
     "height": 561
    },
    "colab_type": "code",
    "id": "HaDjaDz3szBx",
    "outputId": "09a098d0-b955-4211-e641-3dd62d6a0404"
   },
   "outputs": [
    {
     "name": "stdout",
     "output_type": "stream",
     "text": [
      "Epoch 1/7\n",
      "195/196 [============================>.] - ETA: 0s - loss: 0.0987 - acc: 0.9798 - lr: 0.06666 - momentum: 0.94 \n",
      "196/196 [==============================] - 25s 129ms/step - loss: 0.0987 - acc: 0.9799 - val_loss: 0.3982 - val_acc: 0.9001\n",
      "Epoch 2/7\n",
      "195/196 [============================>.] - ETA: 0s - loss: 0.1008 - acc: 0.9780 - lr: 0.12563 - momentum: 0.92 \n",
      "196/196 [==============================] - 25s 130ms/step - loss: 0.1010 - acc: 0.9779 - val_loss: 0.4114 - val_acc: 0.8974\n",
      "Epoch 3/7\n",
      "195/196 [============================>.] - ETA: 0s - loss: 0.1063 - acc: 0.9754 - lr: 0.18460 - momentum: 0.90 \n",
      "196/196 [==============================] - 25s 128ms/step - loss: 0.1063 - acc: 0.9755 - val_loss: 0.4284 - val_acc: 0.8949\n",
      "Epoch 4/7\n",
      " 65/196 [========>.....................] - ETA: 16s - loss: 0.1098 - acc: 0.9746"
     ]
    },
    {
     "ename": "KeyboardInterrupt",
     "evalue": "ignored",
     "output_type": "error",
     "traceback": [
      "\u001b[0;31m---------------------------------------------------------------------------\u001b[0m",
      "\u001b[0;31mKeyboardInterrupt\u001b[0m                         Traceback (most recent call last)",
      "\u001b[0;32m<ipython-input-25-3f7ab8b2bf6f>\u001b[0m in \u001b[0;36m<module>\u001b[0;34m()\u001b[0m\n\u001b[1;32m      6\u001b[0m                                  \u001b[0mvalidation_data\u001b[0m \u001b[0;34m=\u001b[0m \u001b[0mvalidation_iterator\u001b[0m\u001b[0;34m,\u001b[0m\u001b[0;34m\u001b[0m\u001b[0;34m\u001b[0m\u001b[0m\n\u001b[1;32m      7\u001b[0m                                  \u001b[0mvalidation_steps\u001b[0m \u001b[0;34m=\u001b[0m \u001b[0mlen\u001b[0m\u001b[0;34m(\u001b[0m\u001b[0mvalidation_iterator\u001b[0m\u001b[0;34m)\u001b[0m\u001b[0;34m,\u001b[0m\u001b[0;34m\u001b[0m\u001b[0;34m\u001b[0m\u001b[0m\n\u001b[0;32m----> 8\u001b[0;31m                                  verbose=1, callbacks=[olr])\n\u001b[0m\u001b[1;32m      9\u001b[0m \u001b[0mend\u001b[0m \u001b[0;34m=\u001b[0m \u001b[0mtime\u001b[0m\u001b[0;34m.\u001b[0m\u001b[0mtime\u001b[0m\u001b[0;34m(\u001b[0m\u001b[0;34m)\u001b[0m\u001b[0;34m\u001b[0m\u001b[0;34m\u001b[0m\u001b[0m\n\u001b[1;32m     10\u001b[0m \u001b[0mprint\u001b[0m \u001b[0;34m(\u001b[0m\u001b[0;34m\"Model took %0.2f seconds to train\"\u001b[0m\u001b[0;34m%\u001b[0m\u001b[0;34m(\u001b[0m\u001b[0mend\u001b[0m \u001b[0;34m-\u001b[0m \u001b[0mstart\u001b[0m\u001b[0;34m)\u001b[0m\u001b[0;34m)\u001b[0m\u001b[0;34m\u001b[0m\u001b[0;34m\u001b[0m\u001b[0m\n",
      "\u001b[0;32m/usr/local/lib/python3.6/dist-packages/tensorflow/python/keras/engine/training.py\u001b[0m in \u001b[0;36mfit_generator\u001b[0;34m(self, generator, steps_per_epoch, epochs, verbose, callbacks, validation_data, validation_steps, validation_freq, class_weight, max_queue_size, workers, use_multiprocessing, shuffle, initial_epoch)\u001b[0m\n\u001b[1;32m   1431\u001b[0m         \u001b[0mshuffle\u001b[0m\u001b[0;34m=\u001b[0m\u001b[0mshuffle\u001b[0m\u001b[0;34m,\u001b[0m\u001b[0;34m\u001b[0m\u001b[0;34m\u001b[0m\u001b[0m\n\u001b[1;32m   1432\u001b[0m         \u001b[0minitial_epoch\u001b[0m\u001b[0;34m=\u001b[0m\u001b[0minitial_epoch\u001b[0m\u001b[0;34m,\u001b[0m\u001b[0;34m\u001b[0m\u001b[0;34m\u001b[0m\u001b[0m\n\u001b[0;32m-> 1433\u001b[0;31m         steps_name='steps_per_epoch')\n\u001b[0m\u001b[1;32m   1434\u001b[0m \u001b[0;34m\u001b[0m\u001b[0m\n\u001b[1;32m   1435\u001b[0m   def evaluate_generator(self,\n",
      "\u001b[0;32m/usr/local/lib/python3.6/dist-packages/tensorflow/python/keras/engine/training_generator.py\u001b[0m in \u001b[0;36mmodel_iteration\u001b[0;34m(model, data, steps_per_epoch, epochs, verbose, callbacks, validation_data, validation_steps, validation_freq, class_weight, max_queue_size, workers, use_multiprocessing, shuffle, initial_epoch, mode, batch_size, steps_name, **kwargs)\u001b[0m\n\u001b[1;32m    262\u001b[0m \u001b[0;34m\u001b[0m\u001b[0m\n\u001b[1;32m    263\u001b[0m       \u001b[0mis_deferred\u001b[0m \u001b[0;34m=\u001b[0m \u001b[0;32mnot\u001b[0m \u001b[0mmodel\u001b[0m\u001b[0;34m.\u001b[0m\u001b[0m_is_compiled\u001b[0m\u001b[0;34m\u001b[0m\u001b[0;34m\u001b[0m\u001b[0m\n\u001b[0;32m--> 264\u001b[0;31m       \u001b[0mbatch_outs\u001b[0m \u001b[0;34m=\u001b[0m \u001b[0mbatch_function\u001b[0m\u001b[0;34m(\u001b[0m\u001b[0;34m*\u001b[0m\u001b[0mbatch_data\u001b[0m\u001b[0;34m)\u001b[0m\u001b[0;34m\u001b[0m\u001b[0;34m\u001b[0m\u001b[0m\n\u001b[0m\u001b[1;32m    265\u001b[0m       \u001b[0;32mif\u001b[0m \u001b[0;32mnot\u001b[0m \u001b[0misinstance\u001b[0m\u001b[0;34m(\u001b[0m\u001b[0mbatch_outs\u001b[0m\u001b[0;34m,\u001b[0m \u001b[0mlist\u001b[0m\u001b[0;34m)\u001b[0m\u001b[0;34m:\u001b[0m\u001b[0;34m\u001b[0m\u001b[0;34m\u001b[0m\u001b[0m\n\u001b[1;32m    266\u001b[0m         \u001b[0mbatch_outs\u001b[0m \u001b[0;34m=\u001b[0m \u001b[0;34m[\u001b[0m\u001b[0mbatch_outs\u001b[0m\u001b[0;34m]\u001b[0m\u001b[0;34m\u001b[0m\u001b[0;34m\u001b[0m\u001b[0m\n",
      "\u001b[0;32m/usr/local/lib/python3.6/dist-packages/tensorflow/python/keras/engine/training.py\u001b[0m in \u001b[0;36mtrain_on_batch\u001b[0;34m(self, x, y, sample_weight, class_weight, reset_metrics)\u001b[0m\n\u001b[1;32m   1173\u001b[0m       \u001b[0mself\u001b[0m\u001b[0;34m.\u001b[0m\u001b[0m_update_sample_weight_modes\u001b[0m\u001b[0;34m(\u001b[0m\u001b[0msample_weights\u001b[0m\u001b[0;34m=\u001b[0m\u001b[0msample_weights\u001b[0m\u001b[0;34m)\u001b[0m\u001b[0;34m\u001b[0m\u001b[0;34m\u001b[0m\u001b[0m\n\u001b[1;32m   1174\u001b[0m       \u001b[0mself\u001b[0m\u001b[0;34m.\u001b[0m\u001b[0m_make_train_function\u001b[0m\u001b[0;34m(\u001b[0m\u001b[0;34m)\u001b[0m\u001b[0;34m\u001b[0m\u001b[0;34m\u001b[0m\u001b[0m\n\u001b[0;32m-> 1175\u001b[0;31m       \u001b[0moutputs\u001b[0m \u001b[0;34m=\u001b[0m \u001b[0mself\u001b[0m\u001b[0;34m.\u001b[0m\u001b[0mtrain_function\u001b[0m\u001b[0;34m(\u001b[0m\u001b[0mins\u001b[0m\u001b[0;34m)\u001b[0m  \u001b[0;31m# pylint: disable=not-callable\u001b[0m\u001b[0;34m\u001b[0m\u001b[0;34m\u001b[0m\u001b[0m\n\u001b[0m\u001b[1;32m   1176\u001b[0m \u001b[0;34m\u001b[0m\u001b[0m\n\u001b[1;32m   1177\u001b[0m     \u001b[0;32mif\u001b[0m \u001b[0mreset_metrics\u001b[0m\u001b[0;34m:\u001b[0m\u001b[0;34m\u001b[0m\u001b[0;34m\u001b[0m\u001b[0m\n",
      "\u001b[0;32m/usr/local/lib/python3.6/dist-packages/tensorflow/python/keras/backend.py\u001b[0m in \u001b[0;36m__call__\u001b[0;34m(self, inputs)\u001b[0m\n\u001b[1;32m   3290\u001b[0m \u001b[0;34m\u001b[0m\u001b[0m\n\u001b[1;32m   3291\u001b[0m     fetched = self._callable_fn(*array_vals,\n\u001b[0;32m-> 3292\u001b[0;31m                                 run_metadata=self.run_metadata)\n\u001b[0m\u001b[1;32m   3293\u001b[0m     \u001b[0mself\u001b[0m\u001b[0;34m.\u001b[0m\u001b[0m_call_fetch_callbacks\u001b[0m\u001b[0;34m(\u001b[0m\u001b[0mfetched\u001b[0m\u001b[0;34m[\u001b[0m\u001b[0;34m-\u001b[0m\u001b[0mlen\u001b[0m\u001b[0;34m(\u001b[0m\u001b[0mself\u001b[0m\u001b[0;34m.\u001b[0m\u001b[0m_fetches\u001b[0m\u001b[0;34m)\u001b[0m\u001b[0;34m:\u001b[0m\u001b[0;34m]\u001b[0m\u001b[0;34m)\u001b[0m\u001b[0;34m\u001b[0m\u001b[0;34m\u001b[0m\u001b[0m\n\u001b[1;32m   3294\u001b[0m     output_structure = nest.pack_sequence_as(\n",
      "\u001b[0;32m/usr/local/lib/python3.6/dist-packages/tensorflow/python/client/session.py\u001b[0m in \u001b[0;36m__call__\u001b[0;34m(self, *args, **kwargs)\u001b[0m\n\u001b[1;32m   1456\u001b[0m         ret = tf_session.TF_SessionRunCallable(self._session._session,\n\u001b[1;32m   1457\u001b[0m                                                \u001b[0mself\u001b[0m\u001b[0;34m.\u001b[0m\u001b[0m_handle\u001b[0m\u001b[0;34m,\u001b[0m \u001b[0margs\u001b[0m\u001b[0;34m,\u001b[0m\u001b[0;34m\u001b[0m\u001b[0;34m\u001b[0m\u001b[0m\n\u001b[0;32m-> 1458\u001b[0;31m                                                run_metadata_ptr)\n\u001b[0m\u001b[1;32m   1459\u001b[0m         \u001b[0;32mif\u001b[0m \u001b[0mrun_metadata\u001b[0m\u001b[0;34m:\u001b[0m\u001b[0;34m\u001b[0m\u001b[0;34m\u001b[0m\u001b[0m\n\u001b[1;32m   1460\u001b[0m           \u001b[0mproto_data\u001b[0m \u001b[0;34m=\u001b[0m \u001b[0mtf_session\u001b[0m\u001b[0;34m.\u001b[0m\u001b[0mTF_GetBuffer\u001b[0m\u001b[0;34m(\u001b[0m\u001b[0mrun_metadata_ptr\u001b[0m\u001b[0;34m)\u001b[0m\u001b[0;34m\u001b[0m\u001b[0;34m\u001b[0m\u001b[0m\n",
      "\u001b[0;31mKeyboardInterrupt\u001b[0m: "
     ]
    }
   ],
   "source": [
    "# train the model\n",
    "start = time.time()\n",
    "# Train the model\n",
    "\n",
    "model_info = model.fit_generator(gen,\n",
    "                                 steps_per_epoch = 196, epochs = 7, \n",
    "                                 validation_data = validation_iterator, \n",
    "                                 validation_steps = len(validation_iterator),\n",
    "                                 verbose=1, callbacks=[olr])\n",
    "end = time.time()\n",
    "print (\"Model took %0.2f seconds to train\"%(end - start))\n",
    "# plot model history\n",
    "# plot_model_history(model_info)"
   ]
  },
  {
   "cell_type": "code",
   "execution_count": 23,
   "metadata": {
    "colab": {
     "base_uri": "https://localhost:8080/",
     "height": 34
    },
    "colab_type": "code",
    "id": "cgwIhCP8pe5_",
    "outputId": "8136d4e2-6cdb-4c93-8f41-de5481b41add"
   },
   "outputs": [
    {
     "name": "stdout",
     "output_type": "stream",
     "text": [
      "[0.38216881155967714, 0.9053]\n"
     ]
    }
   ],
   "source": [
    "# compute test accuracy\n",
    "result = model.evaluate_generator(validation_iterator, steps = len(validation_iterator))\n",
    "print(result)"
   ]
  },
  {
   "cell_type": "code",
   "execution_count": 24,
   "metadata": {
    "colab": {
     "base_uri": "https://localhost:8080/",
     "height": 573
    },
    "colab_type": "code",
    "id": "U9lgMpGjJG1C",
    "outputId": "48f598be-f0d9-4e91-9e9a-24e96d38b108"
   },
   "outputs": [
    {
     "data": {
      "image/png": "[encoded data removed]",
      "text/plain": [
       "<Figure size 432x288 with 1 Axes>"
      ]
     },
     "metadata": {
      "tags": []
     },
     "output_type": "display_data"
    },
    {
     "data": {
      "image/png": "[encoded data removed]",
      "text/plain": [
       "<Figure size 432x288 with 1 Axes>"
      ]
     },
     "metadata": {
      "tags": []
     },
     "output_type": "display_data"
    }
   ],
   "source": [
    "layer = [layer for layer in model.layers[0:] if type(layer)==Conv2D][-2]\n",
    "olr.plot()"
   ]
  },
  {
   "cell_type": "code",
   "execution_count": 0,
   "metadata": {
    "colab": {},
    "colab_type": "code",
    "id": "Mdl0WrdEEiRl"
   },
   "outputs": [],
   "source": []
  }
 ],
 "metadata": {
  "accelerator": "GPU",
  "colab": {
   "collapsed_sections": [],
   "name": "EVA_Assignment14_david-19",
   "provenance": [],
   "version": "0.3.2"
  },
  "kernelspec": {
   "display_name": "Python 3",
   "language": "python",
   "name": "python3"
  },
  "language_info": {
   "codemirror_mode": {
    "name": "ipython",
    "version": 3
   },
   "file_extension": ".py",
   "mimetype": "text/x-python",
   "name": "python",
   "nbconvert_exporter": "python",
   "pygments_lexer": "ipython3",
   "version": "3.6.5"
  }
 },
 "nbformat": 4,
 "nbformat_minor": 1
}
