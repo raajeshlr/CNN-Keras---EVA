{
  "nbformat": 4,
  "nbformat_minor": 0,
  "metadata": {
    "colab": {
      "name": "Session3Assignment99.42Accuracy_76thEpoch.ipynb",
      "version": "0.3.2",
      "provenance": [],
      "collapsed_sections": []
    },
    "kernelspec": {
      "name": "python3",
      "display_name": "Python 3"
    },
    "accelerator": "GPU"
  },
  "cells": [
    {
      "cell_type": "markdown",
      "metadata": {
        "id": "aNyZv-Ec52ot",
        "colab_type": "text"
      },
      "source": [
        "# **Import Libraries and modules**"
      ]
    },
    {
      "cell_type": "markdown",
      "metadata": {
        "id": "KhHj1TBhTMIY",
        "colab_type": "text"
      },
      "source": [
        "### Accuracy reached : 99.42\n",
        "### Epochs : 80\n",
        "### Convolutions Used : 3x3 and 1x1\n",
        "### Other things used : Dropout, BatchNormalization, MaxPooling.\n",
        "### Global Receptive field : Reached till 24x24 Because its not needed to reach 28x28 as we dont have any important information on the corners for this MNIST DATASET.\n",
        "\n",
        "####For every layers, i have used :\n",
        "- 3x3 to increase the number of channels to 32\n",
        "- 1x1 to decrease the number of channesl to 10\n",
        "- BatchNormalization\n",
        "- Dropout\n",
        "\n",
        "## SAVED BEST WEIGHTS AND LOADED THE WEIGHTS FOR CONTINUING THE EPOCHS USING MODEL CHECKPOINTS, CYCLIC LEARNING RATE NOT USED.a"
      ]
    },
    {
      "cell_type": "code",
      "metadata": {
        "id": "3m3w1Cw49Zkt",
        "colab_type": "code",
        "outputId": "8fd1c849-2b51-42fe-df5f-1fa988577aad",
        "colab": {
          "base_uri": "https://localhost:8080/",
          "height": 34
        }
      },
      "source": [
        "# https://keras.io/\n",
        "!pip install -q keras\n",
        "import keras\n",
        "\n",
        "### EXPLANATION ###\n",
        "\n",
        "# It is just an library which has the ability to run on top of tensorflow.\n",
        "# It makes our job easier where we can just need to how should be the flow of architecture, everything else keras will take care if we just calls that method."
      ],
      "execution_count": 0,
      "outputs": [
        {
          "output_type": "stream",
          "text": [
            "Using TensorFlow backend.\n"
          ],
          "name": "stderr"
        }
      ]
    },
    {
      "cell_type": "code",
      "metadata": {
        "id": "Eso6UHE080D4",
        "colab_type": "code",
        "colab": {}
      },
      "source": [
        "import numpy as np\n",
        "\n",
        "from keras.models import Sequential\n",
        "from keras.layers import Dense, Dropout, Activation, Flatten, Add\n",
        "from keras.layers import Convolution2D, MaxPooling2D, BatchNormalization\n",
        "from keras.utils import np_utils\n",
        "\n",
        "from keras.datasets import mnist\n",
        "\n",
        "### EXPLANATION ###\n",
        "\n",
        "# Sequential Class imported - We have an method \"add\" inside this class \"Sequential\". It helps us to define the model architecture. So for every image, model follows the architecture we \n",
        "# defined and generates the results. \n",
        "\n",
        "# Flatten Class imported - It is to convert any dimensional array to 1D array. Basically we use it at the end to flatten to the number of categories we have in the dataset.\n",
        "\n",
        "# Convolution2D Class imported - This is the base class which we call whenever we use filters to convolute over an image. We together pass the strides, activation function, shape when \n",
        "# we are passing this Convolution2D as one of the attribute to \"add\" method.\n",
        "\n",
        "# np_utils method imported - It helps us to do one-hot encoding for the output variables."
      ],
      "execution_count": 0,
      "outputs": []
    },
    {
      "cell_type": "markdown",
      "metadata": {
        "id": "zByEi95J86RD",
        "colab_type": "text"
      },
      "source": [
        "### Load pre-shuffled MNIST data into train and test sets"
      ]
    },
    {
      "cell_type": "code",
      "metadata": {
        "id": "7eRM0QWN83PV",
        "colab_type": "code",
        "colab": {}
      },
      "source": [
        "(X_train, y_train), (X_test, y_test) = mnist.load_data()\n",
        "\n",
        "### EXPLANATION ###\n",
        "\n",
        "# mnist is one such dataset we can directly download online.\n",
        "# We have also splitted mnist to training and test dataset like how we use usually use \"train_test_split\" method."
      ],
      "execution_count": 0,
      "outputs": []
    },
    {
      "cell_type": "code",
      "metadata": {
        "id": "4a4Be72j8-ZC",
        "colab_type": "code",
        "outputId": "37b1c749-8e28-4ef0-a4ff-16c28736aa74",
        "colab": {
          "base_uri": "https://localhost:8080/",
          "height": 304
        }
      },
      "source": [
        "print (X_train.shape)\n",
        "from matplotlib import pyplot as plt\n",
        "%matplotlib inline\n",
        "plt.imshow(X_train[0])\n",
        "\n",
        "### EXPLANATION ###\n",
        "\n",
        "# We are just looking the diemensions of the image using the \"shape\" method. It is 28*28.\n",
        "# Also to view the image, we are using \"plt\" method.\n",
        "# We are seeing the first image in the training dataset."
      ],
      "execution_count": 0,
      "outputs": [
        {
          "output_type": "stream",
          "text": [
            "(60000, 28, 28)\n"
          ],
          "name": "stdout"
        },
        {
          "output_type": "execute_result",
          "data": {
            "text/plain": [
              "<matplotlib.image.AxesImage at 0x7f9c69a73898>"
            ]
          },
          "metadata": {
            "tags": []
          },
          "execution_count": 4
        },
        {
          "output_type": "display_data",
          "data": {
            "image/png": "[encoded data removed]",
            "text/plain": [
              "<Figure size 432x288 with 1 Axes>"
            ]
          },
          "metadata": {
            "tags": []
          }
        }
      ]
    },
    {
      "cell_type": "code",
      "metadata": {
        "id": "dkmprriw9AnZ",
        "colab_type": "code",
        "colab": {}
      },
      "source": [
        "X_train = X_train.reshape(X_train.shape[0], 28, 28,1)\n",
        "X_test = X_test.reshape(X_test.shape[0], 28, 28,1)\n",
        "\n",
        "\n",
        "### EXPLANATION ###\n",
        "\n",
        "# We have grayscale image and so we are reshaping all the images to single channel.\n",
        "# We are reshaping both the training and test set images."
      ],
      "execution_count": 0,
      "outputs": []
    },
    {
      "cell_type": "code",
      "metadata": {
        "id": "X2m4YS4E9CRh",
        "colab_type": "code",
        "colab": {}
      },
      "source": [
        "X_train = X_train.astype('float32')\n",
        "X_test = X_test.astype('float32')\n",
        "X_train /= 255\n",
        "X_test /= 255\n",
        "\n",
        "### EXPLANATION ###\n",
        "\n",
        "# Actually we are normalizing here which is bringing all the values from 0 to 1.\n",
        "# It is grayscale image and so we have values from 0 to 255, dividing each pixel by 255 gives us the pixels range from 0 to 1."
      ],
      "execution_count": 0,
      "outputs": []
    },
    {
      "cell_type": "code",
      "metadata": {
        "id": "0Mn0vAYD9DvB",
        "colab_type": "code",
        "outputId": "1b333bdc-5f73-4e74-9dfa-d128db2113fa",
        "colab": {
          "base_uri": "https://localhost:8080/",
          "height": 34
        }
      },
      "source": [
        "y_train[:10]\n",
        "\n",
        "### EXPLANATION ###\n",
        "\n",
        "# We are just printing output variable y_train values from 0 to 9."
      ],
      "execution_count": 0,
      "outputs": [
        {
          "output_type": "execute_result",
          "data": {
            "text/plain": [
              "array([5, 0, 4, 1, 9, 2, 1, 3, 1, 4], dtype=uint8)"
            ]
          },
          "metadata": {
            "tags": []
          },
          "execution_count": 7
        }
      ]
    },
    {
      "cell_type": "code",
      "metadata": {
        "id": "ZG8JiXR39FHC",
        "colab_type": "code",
        "colab": {}
      },
      "source": [
        "# Convert 1-dimensional class arrays to 10-dimensional class matrices\n",
        "Y_train = np_utils.to_categorical(y_train, 10)\n",
        "Y_test = np_utils.to_categorical(y_test, 10)\n",
        "\n",
        "### EXPLANATION ###\n",
        "\n",
        "# Machines is not able to understand when we give 0,1,2,3,.. as the output variables and it will be not able to calculate cost function.\n",
        "# So we are using one-hot encoding to convert the 1D output variable to matrix."
      ],
      "execution_count": 0,
      "outputs": []
    },
    {
      "cell_type": "code",
      "metadata": {
        "id": "fYlFRvKS9HMB",
        "colab_type": "code",
        "outputId": "9289e066-0dce-4013-bf88-c7bd4f694eea",
        "colab": {
          "base_uri": "https://localhost:8080/",
          "height": 194
        }
      },
      "source": [
        "Y_train[:10]\n",
        "\n",
        "### EXPLANATION ###\n",
        "\n",
        "# We are now printing the same 10 output variables in the matrix format.\n"
      ],
      "execution_count": 0,
      "outputs": [
        {
          "output_type": "execute_result",
          "data": {
            "text/plain": [
              "array([[0., 0., 0., 0., 0., 1., 0., 0., 0., 0.],\n",
              "       [1., 0., 0., 0., 0., 0., 0., 0., 0., 0.],\n",
              "       [0., 0., 0., 0., 1., 0., 0., 0., 0., 0.],\n",
              "       [0., 1., 0., 0., 0., 0., 0., 0., 0., 0.],\n",
              "       [0., 0., 0., 0., 0., 0., 0., 0., 0., 1.],\n",
              "       [0., 0., 1., 0., 0., 0., 0., 0., 0., 0.],\n",
              "       [0., 1., 0., 0., 0., 0., 0., 0., 0., 0.],\n",
              "       [0., 0., 0., 1., 0., 0., 0., 0., 0., 0.],\n",
              "       [0., 1., 0., 0., 0., 0., 0., 0., 0., 0.],\n",
              "       [0., 0., 0., 0., 1., 0., 0., 0., 0., 0.]], dtype=float32)"
            ]
          },
          "metadata": {
            "tags": []
          },
          "execution_count": 9
        }
      ]
    },
    {
      "cell_type": "code",
      "metadata": {
        "id": "osKqT73Q9JJB",
        "colab_type": "code",
        "outputId": "6274c040-b282-4f04-8874-c8425bedacbd",
        "colab": {
          "base_uri": "https://localhost:8080/",
          "height": 143
        }
      },
      "source": [
        "from keras.layers import Activation # We have imported Activation function (to bring output total sum to 1) and MaxPooling2D to pass only the shouting pixel.\n",
        "model = Sequential() # \"model\" is an object here for \"Sequential\" Class. It is here helpful for doing our sequential architecture.\n",
        "\n",
        " \n",
        "model.add(Convolution2D(32, (3, 3), activation='relu', input_shape=(28,28,1))) # Input Size : 28*28*1 Receptive Field : 3*3 Output Size : 26*26*32\n",
        "model.add(BatchNormalization(name='norm_1'))\n",
        "model.add(Convolution2D(10, (1,1), activation='relu',)) # Input Size : 26*26*32 Receptive Field : 3*3 Output Size : 26*26*10\n",
        "model.add(Dropout(0.25))\n",
        "\n",
        "model.add(Convolution2D(32, (3, 3), activation='relu', input_shape=(28,28,1))) # Input Size : 26*26*10 Receptive Field : 5*5 Output Size : 24*24*32\n",
        "model.add(BatchNormalization(name='norm_2'))\n",
        "model.add(Convolution2D(10, (1,1), activation='relu',)) # Input Size : 24*24*32 Receptive Field : 5*5 Output Size : 24*24*10\n",
        "model.add(Dropout(0.25))\n",
        "\n",
        "model.add(Convolution2D(32, (3, 3), activation='relu', input_shape=(28,28,1))) # Input Size : 24*24*10 Receptive Field : 7*7 Output Size : 22*22*32\n",
        "model.add(BatchNormalization(name='norm_3'))\n",
        "model.add(Convolution2D(10, (1,1), activation='relu',)) # Input Size : 22*22*32 Receptive Field : 7*7 Output Size : 22*22*10\n",
        "model.add(Dropout(0.25))\n",
        "\n",
        "model.add(MaxPooling2D(pool_size=(2,2))) # Input Size : 22*22*10 Receptive Field : 14*14 Output Size : 11*11*10\n",
        "model.add(Dropout(0.25))\n",
        "\n",
        "model.add(Convolution2D(32, (3, 3), activation='relu', input_shape=(28,28,1))) # Input Size : 11*11*10 Receptive Field : 16*16 Output Size : 9*9*32\n",
        "model.add(BatchNormalization(name='norm_4'))\n",
        "model.add(Convolution2D(10, (1,1), activation='relu',)) # Input Size : 9*9*32 Receptive Field : 16*16 Output Size : 9*9*10\n",
        "model.add(Dropout(0.25))\n",
        "\n",
        "model.add(Convolution2D(32, (3, 3), activation='relu', input_shape=(28,28,1))) # Input Size : 9*9*10 Receptive Field : 18*18 Output Size : 7*7*32\n",
        "model.add(BatchNormalization(name='norm_5'))\n",
        "model.add(Convolution2D(10, (1,1), activation='relu',)) # Input Size : 7*7*32 Receptive Field : 18*18 Output Size : 7*7*10\n",
        "model.add(Dropout(0.25))\n",
        "\n",
        "model.add(Convolution2D(16, (3, 3), activation='relu', input_shape=(28,28,1))) # Input Size : 7*7*10 Receptive Field : 20*20 Output Size : 5*5*16\n",
        "model.add(BatchNormalization(name='norm_6'))\n",
        "model.add(Convolution2D(10, (1,1), activation='relu',)) # Input Size : 5*5*16 Receptive Field : 7*7 Output Size : 5*5*10\n",
        "model.add(Dropout(0.25))\n",
        "\n",
        "model.add(Convolution2D(16, (3, 3), activation='relu', input_shape=(28,28,1))) # Input Size : 5*5*10 Receptive Field : 22*22 Output Size : 3*3*16\n",
        "model.add(BatchNormalization(name='norm_7'))\n",
        "model.add(Convolution2D(10, (1,1), activation='relu',)) # Input Size : 3*3*16 Receptive Field : 22*22 Output Size : 3*3*10\n",
        "model.add(Dropout(0.25))\n",
        "\n",
        "model.add(Convolution2D(16, (3, 3), input_shape=(28,28,1))) # Input Size : 3*3*10 Receptive Field : 24*24 Output Size : 1*1*16\n",
        "model.add(BatchNormalization(name='norm_8'))\n",
        "model.add(Convolution2D(10, (1,1))) # Input Size : 1*1*16 Receptive Field : 24*24 Output Size : 1*1*10\n",
        "\n",
        "\n",
        "model.add(Flatten()) # From 2D Array - 1*1*10 , we are converting it into 1D Array - Just 10 numbers.\n",
        "model.add(Activation('softmax')) # It will take those 10 numbers and use softmax activation function and make the total count equals to 1."
      ],
      "execution_count": 0,
      "outputs": [
        {
          "output_type": "stream",
          "text": [
            "WARNING:tensorflow:From /usr/local/lib/python3.6/dist-packages/tensorflow/python/framework/op_def_library.py:263: colocate_with (from tensorflow.python.framework.ops) is deprecated and will be removed in a future version.\n",
            "Instructions for updating:\n",
            "Colocations handled automatically by placer.\n",
            "WARNING:tensorflow:From /usr/local/lib/python3.6/dist-packages/keras/backend/tensorflow_backend.py:3445: calling dropout (from tensorflow.python.ops.nn_ops) with keep_prob is deprecated and will be removed in a future version.\n",
            "Instructions for updating:\n",
            "Please use `rate` instead of `keep_prob`. Rate should be set to `rate = 1 - keep_prob`.\n"
          ],
          "name": "stdout"
        }
      ]
    },
    {
      "cell_type": "code",
      "metadata": {
        "id": "TzdAYg1k9K7Z",
        "colab_type": "code",
        "outputId": "af5c3935-96a2-4e0a-af10-43467c08d3c3",
        "colab": {
          "base_uri": "https://localhost:8080/",
          "height": 1385
        }
      },
      "source": [
        "model.summary() # It will list you how the architecture looks like."
      ],
      "execution_count": 0,
      "outputs": [
        {
          "output_type": "stream",
          "text": [
            "_________________________________________________________________\n",
            "Layer (type)                 Output Shape              Param #   \n",
            "=================================================================\n",
            "conv2d_1 (Conv2D)            (None, 26, 26, 32)        320       \n",
            "_________________________________________________________________\n",
            "norm_1 (BatchNormalization)  (None, 26, 26, 32)        128       \n",
            "_________________________________________________________________\n",
            "conv2d_2 (Conv2D)            (None, 26, 26, 10)        330       \n",
            "_________________________________________________________________\n",
            "dropout_1 (Dropout)          (None, 26, 26, 10)        0         \n",
            "_________________________________________________________________\n",
            "conv2d_3 (Conv2D)            (None, 24, 24, 32)        2912      \n",
            "_________________________________________________________________\n",
            "norm_2 (BatchNormalization)  (None, 24, 24, 32)        128       \n",
            "_________________________________________________________________\n",
            "conv2d_4 (Conv2D)            (None, 24, 24, 10)        330       \n",
            "_________________________________________________________________\n",
            "dropout_2 (Dropout)          (None, 24, 24, 10)        0         \n",
            "_________________________________________________________________\n",
            "conv2d_5 (Conv2D)            (None, 22, 22, 32)        2912      \n",
            "_________________________________________________________________\n",
            "norm_3 (BatchNormalization)  (None, 22, 22, 32)        128       \n",
            "_________________________________________________________________\n",
            "conv2d_6 (Conv2D)            (None, 22, 22, 10)        330       \n",
            "_________________________________________________________________\n",
            "dropout_3 (Dropout)          (None, 22, 22, 10)        0         \n",
            "_________________________________________________________________\n",
            "max_pooling2d_1 (MaxPooling2 (None, 11, 11, 10)        0         \n",
            "_________________________________________________________________\n",
            "dropout_4 (Dropout)          (None, 11, 11, 10)        0         \n",
            "_________________________________________________________________\n",
            "conv2d_7 (Conv2D)            (None, 9, 9, 32)          2912      \n",
            "_________________________________________________________________\n",
            "norm_4 (BatchNormalization)  (None, 9, 9, 32)          128       \n",
            "_________________________________________________________________\n",
            "conv2d_8 (Conv2D)            (None, 9, 9, 10)          330       \n",
            "_________________________________________________________________\n",
            "dropout_5 (Dropout)          (None, 9, 9, 10)          0         \n",
            "_________________________________________________________________\n",
            "conv2d_9 (Conv2D)            (None, 7, 7, 32)          2912      \n",
            "_________________________________________________________________\n",
            "norm_5 (BatchNormalization)  (None, 7, 7, 32)          128       \n",
            "_________________________________________________________________\n",
            "conv2d_10 (Conv2D)           (None, 7, 7, 10)          330       \n",
            "_________________________________________________________________\n",
            "dropout_6 (Dropout)          (None, 7, 7, 10)          0         \n",
            "_________________________________________________________________\n",
            "conv2d_11 (Conv2D)           (None, 5, 5, 16)          1456      \n",
            "_________________________________________________________________\n",
            "norm_6 (BatchNormalization)  (None, 5, 5, 16)          64        \n",
            "_________________________________________________________________\n",
            "conv2d_12 (Conv2D)           (None, 5, 5, 10)          170       \n",
            "_________________________________________________________________\n",
            "dropout_7 (Dropout)          (None, 5, 5, 10)          0         \n",
            "_________________________________________________________________\n",
            "conv2d_13 (Conv2D)           (None, 3, 3, 16)          1456      \n",
            "_________________________________________________________________\n",
            "norm_7 (BatchNormalization)  (None, 3, 3, 16)          64        \n",
            "_________________________________________________________________\n",
            "conv2d_14 (Conv2D)           (None, 3, 3, 10)          170       \n",
            "_________________________________________________________________\n",
            "dropout_8 (Dropout)          (None, 3, 3, 10)          0         \n",
            "_________________________________________________________________\n",
            "conv2d_15 (Conv2D)           (None, 1, 1, 16)          1456      \n",
            "_________________________________________________________________\n",
            "norm_8 (BatchNormalization)  (None, 1, 1, 16)          64        \n",
            "_________________________________________________________________\n",
            "conv2d_16 (Conv2D)           (None, 1, 1, 10)          170       \n",
            "_________________________________________________________________\n",
            "flatten_1 (Flatten)          (None, 10)                0         \n",
            "_________________________________________________________________\n",
            "activation_1 (Activation)    (None, 10)                0         \n",
            "=================================================================\n",
            "Total params: 19,328\n",
            "Trainable params: 18,912\n",
            "Non-trainable params: 416\n",
            "_________________________________________________________________\n"
          ],
          "name": "stdout"
        }
      ]
    },
    {
      "cell_type": "code",
      "metadata": {
        "id": "Zp6SuGrL9M3h",
        "colab_type": "code",
        "colab": {}
      },
      "source": [
        "model.compile(loss='categorical_crossentropy',\n",
        "             optimizer='adam',\n",
        "             metrics=['accuracy'])\n",
        "\n",
        "## EXPLANATION ###\n",
        "\n",
        "# We have defined the loss as categorical_crossentropy as we are dealing with 10 categories.\n",
        "# We are using adam optimizer which does Back propagation and iterate the weights.\n",
        "# For validating the model, we are considering the accuracy as the parameter.\n"
      ],
      "execution_count": 0,
      "outputs": []
    },
    {
      "cell_type": "code",
      "metadata": {
        "id": "CTIe6dT98Z8O",
        "colab_type": "code",
        "outputId": "ed44963a-f0f5-45e9-ef12-e0dad2b7d41d",
        "colab": {
          "base_uri": "https://localhost:8080/",
          "height": 34
        }
      },
      "source": [
        "# For retrieving the saved best results\n",
        "from google.colab import drive\n",
        "drive.mount('/content/gdrive')\n",
        "\n",
        "## EXPLANATION ###\n",
        "\n",
        "# I have mounted the gdrive to save the best weights and load it again.\n"
      ],
      "execution_count": 0,
      "outputs": [
        {
          "output_type": "stream",
          "text": [
            "Drive already mounted at /content/gdrive; to attempt to forcibly remount, call drive.mount(\"/content/gdrive\", force_remount=True).\n"
          ],
          "name": "stdout"
        }
      ]
    },
    {
      "cell_type": "code",
      "metadata": {
        "id": "gV-a92GR8iBc",
        "colab_type": "code",
        "outputId": "b259a088-4811-4e16-bb45-94f3052888c4",
        "colab": {
          "base_uri": "https://localhost:8080/",
          "height": 212
        }
      },
      "source": [
        "!wget https://raw.githubusercontent.com/bckenstler/CLR/master/clr_callback.py\n",
        "from clr_callback import *\n",
        "\n",
        "## EXPLANATION ###\n",
        "\n",
        "# I have just got raw link of the callback python file.\n",
        "# I have used model check points and saved the weights.\n"
      ],
      "execution_count": 0,
      "outputs": [
        {
          "output_type": "stream",
          "text": [
            "--2019-05-13 19:07:19--  https://raw.githubusercontent.com/bckenstler/CLR/master/clr_callback.py\n",
            "Resolving raw.githubusercontent.com (raw.githubusercontent.com)... 151.101.0.133, 151.101.64.133, 151.101.128.133, ...\n",
            "Connecting to raw.githubusercontent.com (raw.githubusercontent.com)|151.101.0.133|:443... connected.\n",
            "HTTP request sent, awaiting response... 200 OK\n",
            "Length: 5326 (5.2K) [text/plain]\n",
            "Saving to: ‘clr_callback.py.5’\n",
            "\n",
            "\rclr_callback.py.5     0%[                    ]       0  --.-KB/s               \rclr_callback.py.5   100%[===================>]   5.20K  --.-KB/s    in 0s      \n",
            "\n",
            "2019-05-13 19:07:19 (102 MB/s) - ‘clr_callback.py.5’ saved [5326/5326]\n",
            "\n"
          ],
          "name": "stdout"
        }
      ]
    },
    {
      "cell_type": "code",
      "metadata": {
        "id": "oTuA-D0v8lDK",
        "colab_type": "code",
        "colab": {}
      },
      "source": [
        "# Defining checkpoints\n",
        "filepath=\"/content/gdrive/My Drive/Raajesh-{epoch:02d}-{val_acc:.2f}.hdf5\"\n",
        "checkpoint = ModelCheckpoint(filepath, monitor='val_acc', verbose=1, save_best_only=True, mode='max')\n",
        "callbacks_list = [checkpoint]\n",
        "\n",
        "## EXPLANATION ###\n",
        "\n",
        "# For saving the best weight."
      ],
      "execution_count": 0,
      "outputs": []
    },
    {
      "cell_type": "code",
      "metadata": {
        "id": "_snGo0I59YWW",
        "colab_type": "code",
        "outputId": "605e1eb4-c1d0-4a11-9131-98e93789cf86",
        "colab": {
          "base_uri": "https://localhost:8080/",
          "height": 2970
        }
      },
      "source": [
        "model.fit(X_train, Y_train, batch_size=32, epochs=40, verbose=1,validation_data=(X_test, Y_test),callbacks=callbacks_list)"
      ],
      "execution_count": 0,
      "outputs": [
        {
          "output_type": "stream",
          "text": [
            "WARNING:tensorflow:From /usr/local/lib/python3.6/dist-packages/tensorflow/python/ops/math_ops.py:3066: to_int32 (from tensorflow.python.ops.math_ops) is deprecated and will be removed in a future version.\n",
            "Instructions for updating:\n",
            "Use tf.cast instead.\n",
            "Train on 60000 samples, validate on 10000 samples\n",
            "Epoch 1/40\n",
            "60000/60000 [==============================] - 32s 536us/step - loss: 0.9692 - acc: 0.6822 - val_loss: 0.1945 - val_acc: 0.9467\n",
            "\n",
            "Epoch 00001: val_acc improved from -inf to 0.94670, saving model to /content/gdrive/My Drive/Raajesh-01-0.95.hdf5\n",
            "Epoch 2/40\n",
            "60000/60000 [==============================] - 31s 512us/step - loss: 0.2875 - acc: 0.9135 - val_loss: 0.1361 - val_acc: 0.9593\n",
            "\n",
            "Epoch 00002: val_acc improved from 0.94670 to 0.95930, saving model to /content/gdrive/My Drive/Raajesh-02-0.96.hdf5\n",
            "Epoch 3/40\n",
            "60000/60000 [==============================] - 29s 489us/step - loss: 0.2057 - acc: 0.9377 - val_loss: 0.1178 - val_acc: 0.9657\n",
            "\n",
            "Epoch 00003: val_acc improved from 0.95930 to 0.96570, saving model to /content/gdrive/My Drive/Raajesh-03-0.97.hdf5\n",
            "Epoch 4/40\n",
            "60000/60000 [==============================] - 29s 491us/step - loss: 0.1695 - acc: 0.9496 - val_loss: 0.1458 - val_acc: 0.9537\n",
            "\n",
            "Epoch 00004: val_acc did not improve from 0.96570\n",
            "Epoch 5/40\n",
            "60000/60000 [==============================] - 31s 522us/step - loss: 0.1528 - acc: 0.9546 - val_loss: 0.0592 - val_acc: 0.9841\n",
            "\n",
            "Epoch 00005: val_acc improved from 0.96570 to 0.98410, saving model to /content/gdrive/My Drive/Raajesh-05-0.98.hdf5\n",
            "Epoch 6/40\n",
            "60000/60000 [==============================] - 29s 489us/step - loss: 0.1364 - acc: 0.9596 - val_loss: 0.0527 - val_acc: 0.9830\n",
            "\n",
            "Epoch 00006: val_acc did not improve from 0.98410\n",
            "Epoch 7/40\n",
            "60000/60000 [==============================] - 31s 512us/step - loss: 0.1319 - acc: 0.9612 - val_loss: 0.0480 - val_acc: 0.9848\n",
            "\n",
            "Epoch 00007: val_acc improved from 0.98410 to 0.98480, saving model to /content/gdrive/My Drive/Raajesh-07-0.98.hdf5\n",
            "Epoch 8/40\n",
            "60000/60000 [==============================] - 29s 490us/step - loss: 0.1262 - acc: 0.9631 - val_loss: 0.0458 - val_acc: 0.9858\n",
            "\n",
            "Epoch 00008: val_acc improved from 0.98480 to 0.98580, saving model to /content/gdrive/My Drive/Raajesh-08-0.99.hdf5\n",
            "Epoch 9/40\n",
            "60000/60000 [==============================] - 29s 488us/step - loss: 0.1154 - acc: 0.9661 - val_loss: 0.0477 - val_acc: 0.9861\n",
            "\n",
            "Epoch 00009: val_acc improved from 0.98580 to 0.98610, saving model to /content/gdrive/My Drive/Raajesh-09-0.99.hdf5\n",
            "Epoch 10/40\n",
            "60000/60000 [==============================] - 32s 530us/step - loss: 0.1134 - acc: 0.9664 - val_loss: 0.0439 - val_acc: 0.9861\n",
            "\n",
            "Epoch 00010: val_acc did not improve from 0.98610\n",
            "Epoch 11/40\n",
            "60000/60000 [==============================] - 29s 489us/step - loss: 0.1032 - acc: 0.9693 - val_loss: 0.0439 - val_acc: 0.9868\n",
            "\n",
            "Epoch 00011: val_acc improved from 0.98610 to 0.98680, saving model to /content/gdrive/My Drive/Raajesh-11-0.99.hdf5\n",
            "Epoch 12/40\n",
            "60000/60000 [==============================] - 30s 494us/step - loss: 0.1032 - acc: 0.9697 - val_loss: 0.0414 - val_acc: 0.9870\n",
            "\n",
            "Epoch 00012: val_acc improved from 0.98680 to 0.98700, saving model to /content/gdrive/My Drive/Raajesh-12-0.99.hdf5\n",
            "Epoch 13/40\n",
            "60000/60000 [==============================] - 30s 504us/step - loss: 0.1035 - acc: 0.9705 - val_loss: 0.0397 - val_acc: 0.9885\n",
            "\n",
            "Epoch 00013: val_acc improved from 0.98700 to 0.98850, saving model to /content/gdrive/My Drive/Raajesh-13-0.99.hdf5\n",
            "Epoch 14/40\n",
            "60000/60000 [==============================] - 29s 487us/step - loss: 0.0999 - acc: 0.9707 - val_loss: 0.0387 - val_acc: 0.9891\n",
            "\n",
            "Epoch 00014: val_acc improved from 0.98850 to 0.98910, saving model to /content/gdrive/My Drive/Raajesh-14-0.99.hdf5\n",
            "Epoch 15/40\n",
            "60000/60000 [==============================] - 31s 522us/step - loss: 0.0960 - acc: 0.9725 - val_loss: 0.0390 - val_acc: 0.9878\n",
            "\n",
            "Epoch 00015: val_acc did not improve from 0.98910\n",
            "Epoch 16/40\n",
            "60000/60000 [==============================] - 29s 488us/step - loss: 0.0958 - acc: 0.9720 - val_loss: 0.0344 - val_acc: 0.9902\n",
            "\n",
            "Epoch 00016: val_acc improved from 0.98910 to 0.99020, saving model to /content/gdrive/My Drive/Raajesh-16-0.99.hdf5\n",
            "Epoch 17/40\n",
            "60000/60000 [==============================] - 29s 487us/step - loss: 0.0942 - acc: 0.9730 - val_loss: 0.0364 - val_acc: 0.9892\n",
            "\n",
            "Epoch 00017: val_acc did not improve from 0.99020\n",
            "Epoch 18/40\n",
            "60000/60000 [==============================] - 31s 508us/step - loss: 0.0890 - acc: 0.9732 - val_loss: 0.0325 - val_acc: 0.9893\n",
            "\n",
            "Epoch 00018: val_acc did not improve from 0.99020\n",
            "Epoch 19/40\n",
            "60000/60000 [==============================] - 32s 536us/step - loss: 0.0894 - acc: 0.9746 - val_loss: 0.0338 - val_acc: 0.9893\n",
            "\n",
            "Epoch 00019: val_acc did not improve from 0.99020\n",
            "Epoch 20/40\n",
            "60000/60000 [==============================] - 32s 541us/step - loss: 0.0891 - acc: 0.9740 - val_loss: 0.0396 - val_acc: 0.9884\n",
            "\n",
            "Epoch 00020: val_acc did not improve from 0.99020\n",
            "Epoch 21/40\n",
            "60000/60000 [==============================] - 30s 501us/step - loss: 0.0840 - acc: 0.9752 - val_loss: 0.0366 - val_acc: 0.9882\n",
            "\n",
            "Epoch 00021: val_acc did not improve from 0.99020\n",
            "Epoch 22/40\n",
            "60000/60000 [==============================] - 30s 493us/step - loss: 0.0856 - acc: 0.9750 - val_loss: 0.0380 - val_acc: 0.9878\n",
            "\n",
            "Epoch 00022: val_acc did not improve from 0.99020\n",
            "Epoch 23/40\n",
            "60000/60000 [==============================] - 31s 517us/step - loss: 0.0817 - acc: 0.9762 - val_loss: 0.0275 - val_acc: 0.9912\n",
            "\n",
            "Epoch 00023: val_acc improved from 0.99020 to 0.99120, saving model to /content/gdrive/My Drive/Raajesh-23-0.99.hdf5\n",
            "Epoch 24/40\n",
            "60000/60000 [==============================] - 30s 494us/step - loss: 0.0816 - acc: 0.9756 - val_loss: 0.0292 - val_acc: 0.9915\n",
            "\n",
            "Epoch 00024: val_acc improved from 0.99120 to 0.99150, saving model to /content/gdrive/My Drive/Raajesh-24-0.99.hdf5\n",
            "Epoch 25/40\n",
            "60000/60000 [==============================] - 30s 507us/step - loss: 0.0810 - acc: 0.9756 - val_loss: 0.0275 - val_acc: 0.9912\n",
            "\n",
            "Epoch 00025: val_acc did not improve from 0.99150\n",
            "Epoch 26/40\n",
            "60000/60000 [==============================] - 31s 517us/step - loss: 0.0789 - acc: 0.9767 - val_loss: 0.0276 - val_acc: 0.9915\n",
            "\n",
            "Epoch 00026: val_acc did not improve from 0.99150\n",
            "Epoch 27/40\n",
            "60000/60000 [==============================] - 30s 494us/step - loss: 0.0807 - acc: 0.9771 - val_loss: 0.0293 - val_acc: 0.9915\n",
            "\n",
            "Epoch 00027: val_acc did not improve from 0.99150\n",
            "Epoch 28/40\n",
            "60000/60000 [==============================] - 31s 515us/step - loss: 0.0791 - acc: 0.9770 - val_loss: 0.0326 - val_acc: 0.9892\n",
            "\n",
            "Epoch 00028: val_acc did not improve from 0.99150\n",
            "Epoch 29/40\n",
            "60000/60000 [==============================] - 30s 496us/step - loss: 0.0773 - acc: 0.9776 - val_loss: 0.0293 - val_acc: 0.9906\n",
            "\n",
            "Epoch 00029: val_acc did not improve from 0.99150\n",
            "Epoch 30/40\n",
            "60000/60000 [==============================] - 31s 522us/step - loss: 0.0763 - acc: 0.9772 - val_loss: 0.0340 - val_acc: 0.9905\n",
            "\n",
            "Epoch 00030: val_acc did not improve from 0.99150\n",
            "Epoch 31/40\n",
            "60000/60000 [==============================] - 31s 518us/step - loss: 0.0774 - acc: 0.9773 - val_loss: 0.0272 - val_acc: 0.9911\n",
            "\n",
            "Epoch 00031: val_acc did not improve from 0.99150\n",
            "Epoch 32/40\n",
            "60000/60000 [==============================] - 30s 492us/step - loss: 0.0752 - acc: 0.9776 - val_loss: 0.0280 - val_acc: 0.9918\n",
            "\n",
            "Epoch 00032: val_acc improved from 0.99150 to 0.99180, saving model to /content/gdrive/My Drive/Raajesh-32-0.99.hdf5\n",
            "Epoch 33/40\n",
            "60000/60000 [==============================] - 30s 494us/step - loss: 0.0764 - acc: 0.9775 - val_loss: 0.0287 - val_acc: 0.9908\n",
            "\n",
            "Epoch 00033: val_acc did not improve from 0.99180\n",
            "Epoch 34/40\n",
            "60000/60000 [==============================] - 31s 517us/step - loss: 0.0739 - acc: 0.9779 - val_loss: 0.0287 - val_acc: 0.9909\n",
            "\n",
            "Epoch 00034: val_acc did not improve from 0.99180\n",
            "Epoch 35/40\n",
            "60000/60000 [==============================] - 30s 505us/step - loss: 0.0709 - acc: 0.9795 - val_loss: 0.0292 - val_acc: 0.9912\n",
            "\n",
            "Epoch 00035: val_acc did not improve from 0.99180\n",
            "Epoch 36/40\n",
            "60000/60000 [==============================] - 31s 520us/step - loss: 0.0740 - acc: 0.9788 - val_loss: 0.0268 - val_acc: 0.9915\n",
            "\n",
            "Epoch 00036: val_acc did not improve from 0.99180\n",
            "Epoch 37/40\n",
            "60000/60000 [==============================] - 30s 492us/step - loss: 0.0728 - acc: 0.9783 - val_loss: 0.0313 - val_acc: 0.9903\n",
            "\n",
            "Epoch 00037: val_acc did not improve from 0.99180\n",
            "Epoch 38/40\n",
            "60000/60000 [==============================] - 30s 494us/step - loss: 0.0715 - acc: 0.9795 - val_loss: 0.0259 - val_acc: 0.9914\n",
            "\n",
            "Epoch 00038: val_acc did not improve from 0.99180\n",
            "Epoch 39/40\n",
            "60000/60000 [==============================] - 31s 517us/step - loss: 0.0709 - acc: 0.9794 - val_loss: 0.0239 - val_acc: 0.9927\n",
            "\n",
            "Epoch 00039: val_acc improved from 0.99180 to 0.99270, saving model to /content/gdrive/My Drive/Raajesh-39-0.99.hdf5\n",
            "Epoch 40/40\n",
            "60000/60000 [==============================] - 31s 522us/step - loss: 0.0713 - acc: 0.9793 - val_loss: 0.0231 - val_acc: 0.9925\n",
            "\n",
            "Epoch 00040: val_acc did not improve from 0.99270\n"
          ],
          "name": "stdout"
        },
        {
          "output_type": "execute_result",
          "data": {
            "text/plain": [
              "<keras.callbacks.History at 0x7f9c39d92dd8>"
            ]
          },
          "metadata": {
            "tags": []
          },
          "execution_count": 16
        }
      ]
    },
    {
      "cell_type": "markdown",
      "metadata": {
        "id": "w6vpWJHjqoFa",
        "colab_type": "text"
      },
      "source": [
        "### Saved the logs for precaution - first 40 epochs, saved the best weight.\n",
        "\n",
        "WARNING:tensorflow:From /usr/local/lib/python3.6/dist-packages/tensorflow/python/ops/math_ops.py:3066: to_int32 (from tensorflow.python.ops.math_ops) is deprecated and will be removed in a future version.\n",
        "Instructions for updating:\n",
        "Use tf.cast instead.\n",
        "Train on 60000 samples, validate on 10000 samples\n",
        "Epoch 1/40\n",
        "60000/60000 [==============================] - 32s 536us/step - loss: 0.9692 - acc: 0.6822 - val_loss: 0.1945 - val_acc: 0.9467\n",
        "\n",
        "Epoch 00001: val_acc improved from -inf to 0.94670, saving model to /content/gdrive/My Drive/Raajesh-01-0.95.hdf5\n",
        "Epoch 2/40\n",
        "60000/60000 [==============================] - 31s 512us/step - loss: 0.2875 - acc: 0.9135 - val_loss: 0.1361 - val_acc: 0.9593\n",
        "\n",
        "Epoch 00002: val_acc improved from 0.94670 to 0.95930, saving model to /content/gdrive/My Drive/Raajesh-02-0.96.hdf5\n",
        "Epoch 3/40\n",
        "60000/60000 [==============================] - 29s 489us/step - loss: 0.2057 - acc: 0.9377 - val_loss: 0.1178 - val_acc: 0.9657\n",
        "\n",
        "Epoch 00003: val_acc improved from 0.95930 to 0.96570, saving model to /content/gdrive/My Drive/Raajesh-03-0.97.hdf5\n",
        "Epoch 4/40\n",
        "60000/60000 [==============================] - 29s 491us/step - loss: 0.1695 - acc: 0.9496 - val_loss: 0.1458 - val_acc: 0.9537\n",
        "\n",
        "Epoch 00004: val_acc did not improve from 0.96570\n",
        "Epoch 5/40\n",
        "60000/60000 [==============================] - 31s 522us/step - loss: 0.1528 - acc: 0.9546 - val_loss: 0.0592 - val_acc: 0.9841\n",
        "\n",
        "Epoch 00005: val_acc improved from 0.96570 to 0.98410, saving model to /content/gdrive/My Drive/Raajesh-05-0.98.hdf5\n",
        "Epoch 6/40\n",
        "60000/60000 [==============================] - 29s 489us/step - loss: 0.1364 - acc: 0.9596 - val_loss: 0.0527 - val_acc: 0.9830\n",
        "\n",
        "Epoch 00006: val_acc did not improve from 0.98410\n",
        "Epoch 7/40\n",
        "60000/60000 [==============================] - 31s 512us/step - loss: 0.1319 - acc: 0.9612 - val_loss: 0.0480 - val_acc: 0.9848\n",
        "\n",
        "Epoch 00007: val_acc improved from 0.98410 to 0.98480, saving model to /content/gdrive/My Drive/Raajesh-07-0.98.hdf5\n",
        "Epoch 8/40\n",
        "60000/60000 [==============================] - 29s 490us/step - loss: 0.1262 - acc: 0.9631 - val_loss: 0.0458 - val_acc: 0.9858\n",
        "\n",
        "Epoch 00008: val_acc improved from 0.98480 to 0.98580, saving model to /content/gdrive/My Drive/Raajesh-08-0.99.hdf5\n",
        "Epoch 9/40\n",
        "60000/60000 [==============================] - 29s 488us/step - loss: 0.1154 - acc: 0.9661 - val_loss: 0.0477 - val_acc: 0.9861\n",
        "\n",
        "Epoch 00009: val_acc improved from 0.98580 to 0.98610, saving model to /content/gdrive/My Drive/Raajesh-09-0.99.hdf5\n",
        "Epoch 10/40\n",
        "60000/60000 [==============================] - 32s 530us/step - loss: 0.1134 - acc: 0.9664 - val_loss: 0.0439 - val_acc: 0.9861\n",
        "\n",
        "Epoch 00010: val_acc did not improve from 0.98610\n",
        "Epoch 11/40\n",
        "60000/60000 [==============================] - 29s 489us/step - loss: 0.1032 - acc: 0.9693 - val_loss: 0.0439 - val_acc: 0.9868\n",
        "\n",
        "Epoch 00011: val_acc improved from 0.98610 to 0.98680, saving model to /content/gdrive/My Drive/Raajesh-11-0.99.hdf5\n",
        "Epoch 12/40\n",
        "60000/60000 [==============================] - 30s 494us/step - loss: 0.1032 - acc: 0.9697 - val_loss: 0.0414 - val_acc: 0.9870\n",
        "\n",
        "Epoch 00012: val_acc improved from 0.98680 to 0.98700, saving model to /content/gdrive/My Drive/Raajesh-12-0.99.hdf5\n",
        "Epoch 13/40\n",
        "60000/60000 [==============================] - 30s 504us/step - loss: 0.1035 - acc: 0.9705 - val_loss: 0.0397 - val_acc: 0.9885\n",
        "\n",
        "Epoch 00013: val_acc improved from 0.98700 to 0.98850, saving model to /content/gdrive/My Drive/Raajesh-13-0.99.hdf5\n",
        "Epoch 14/40\n",
        "60000/60000 [==============================] - 29s 487us/step - loss: 0.0999 - acc: 0.9707 - val_loss: 0.0387 - val_acc: 0.9891\n",
        "\n",
        "Epoch 00014: val_acc improved from 0.98850 to 0.98910, saving model to /content/gdrive/My Drive/Raajesh-14-0.99.hdf5\n",
        "Epoch 15/40\n",
        "60000/60000 [==============================] - 31s 522us/step - loss: 0.0960 - acc: 0.9725 - val_loss: 0.0390 - val_acc: 0.9878\n",
        "\n",
        "Epoch 00015: val_acc did not improve from 0.98910\n",
        "Epoch 16/40\n",
        "60000/60000 [==============================] - 29s 488us/step - loss: 0.0958 - acc: 0.9720 - val_loss: 0.0344 - val_acc: 0.9902\n",
        "\n",
        "Epoch 00016: val_acc improved from 0.98910 to 0.99020, saving model to /content/gdrive/My Drive/Raajesh-16-0.99.hdf5\n",
        "Epoch 17/40\n",
        "60000/60000 [==============================] - 29s 487us/step - loss: 0.0942 - acc: 0.9730 - val_loss: 0.0364 - val_acc: 0.9892\n",
        "\n",
        "Epoch 00017: val_acc did not improve from 0.99020\n",
        "Epoch 18/40\n",
        "60000/60000 [==============================] - 31s 508us/step - loss: 0.0890 - acc: 0.9732 - val_loss: 0.0325 - val_acc: 0.9893\n",
        "\n",
        "Epoch 00018: val_acc did not improve from 0.99020\n",
        "Epoch 19/40\n",
        "60000/60000 [==============================] - 32s 536us/step - loss: 0.0894 - acc: 0.9746 - val_loss: 0.0338 - val_acc: 0.9893\n",
        "\n",
        "Epoch 00019: val_acc did not improve from 0.99020\n",
        "Epoch 20/40\n",
        "60000/60000 [==============================] - 32s 541us/step - loss: 0.0891 - acc: 0.9740 - val_loss: 0.0396 - val_acc: 0.9884\n",
        "\n",
        "Epoch 00020: val_acc did not improve from 0.99020\n",
        "Epoch 21/40\n",
        "60000/60000 [==============================] - 30s 501us/step - loss: 0.0840 - acc: 0.9752 - val_loss: 0.0366 - val_acc: 0.9882\n",
        "\n",
        "Epoch 00021: val_acc did not improve from 0.99020\n",
        "Epoch 22/40\n",
        "60000/60000 [==============================] - 30s 493us/step - loss: 0.0856 - acc: 0.9750 - val_loss: 0.0380 - val_acc: 0.9878\n",
        "\n",
        "Epoch 00022: val_acc did not improve from 0.99020\n",
        "Epoch 23/40\n",
        "60000/60000 [==============================] - 31s 517us/step - loss: 0.0817 - acc: 0.9762 - val_loss: 0.0275 - val_acc: 0.9912\n",
        "\n",
        "Epoch 00023: val_acc improved from 0.99020 to 0.99120, saving model to /content/gdrive/My Drive/Raajesh-23-0.99.hdf5\n",
        "Epoch 24/40\n",
        "60000/60000 [==============================] - 30s 494us/step - loss: 0.0816 - acc: 0.9756 - val_loss: 0.0292 - val_acc: 0.9915\n",
        "\n",
        "Epoch 00024: val_acc improved from 0.99120 to 0.99150, saving model to /content/gdrive/My Drive/Raajesh-24-0.99.hdf5\n",
        "Epoch 25/40\n",
        "60000/60000 [==============================] - 30s 507us/step - loss: 0.0810 - acc: 0.9756 - val_loss: 0.0275 - val_acc: 0.9912\n",
        "\n",
        "Epoch 00025: val_acc did not improve from 0.99150\n",
        "Epoch 26/40\n",
        "60000/60000 [==============================] - 31s 517us/step - loss: 0.0789 - acc: 0.9767 - val_loss: 0.0276 - val_acc: 0.9915\n",
        "\n",
        "Epoch 00026: val_acc did not improve from 0.99150\n",
        "Epoch 27/40\n",
        "60000/60000 [==============================] - 30s 494us/step - loss: 0.0807 - acc: 0.9771 - val_loss: 0.0293 - val_acc: 0.9915\n",
        "\n",
        "Epoch 00027: val_acc did not improve from 0.99150\n",
        "Epoch 28/40\n",
        "60000/60000 [==============================] - 31s 515us/step - loss: 0.0791 - acc: 0.9770 - val_loss: 0.0326 - val_acc: 0.9892\n",
        "\n",
        "Epoch 00028: val_acc did not improve from 0.99150\n",
        "Epoch 29/40\n",
        "60000/60000 [==============================] - 30s 496us/step - loss: 0.0773 - acc: 0.9776 - val_loss: 0.0293 - val_acc: 0.9906\n",
        "\n",
        "Epoch 00029: val_acc did not improve from 0.99150\n",
        "Epoch 30/40\n",
        "60000/60000 [==============================] - 31s 522us/step - loss: 0.0763 - acc: 0.9772 - val_loss: 0.0340 - val_acc: 0.9905\n",
        "\n",
        "Epoch 00030: val_acc did not improve from 0.99150\n",
        "Epoch 31/40\n",
        "60000/60000 [==============================] - 31s 518us/step - loss: 0.0774 - acc: 0.9773 - val_loss: 0.0272 - val_acc: 0.9911\n",
        "\n",
        "Epoch 00031: val_acc did not improve from 0.99150\n",
        "Epoch 32/40\n",
        "60000/60000 [==============================] - 30s 492us/step - loss: 0.0752 - acc: 0.9776 - val_loss: 0.0280 - val_acc: 0.9918\n",
        "\n",
        "Epoch 00032: val_acc improved from 0.99150 to 0.99180, saving model to /content/gdrive/My Drive/Raajesh-32-0.99.hdf5\n",
        "Epoch 33/40\n",
        "60000/60000 [==============================] - 30s 494us/step - loss: 0.0764 - acc: 0.9775 - val_loss: 0.0287 - val_acc: 0.9908\n",
        "\n",
        "Epoch 00033: val_acc did not improve from 0.99180\n",
        "Epoch 34/40\n",
        "60000/60000 [==============================] - 31s 517us/step - loss: 0.0739 - acc: 0.9779 - val_loss: 0.0287 - val_acc: 0.9909\n",
        "\n",
        "Epoch 00034: val_acc did not improve from 0.99180\n",
        "Epoch 35/40\n",
        "60000/60000 [==============================] - 30s 505us/step - loss: 0.0709 - acc: 0.9795 - val_loss: 0.0292 - val_acc: 0.9912\n",
        "\n",
        "Epoch 00035: val_acc did not improve from 0.99180\n",
        "Epoch 36/40\n",
        "60000/60000 [==============================] - 31s 520us/step - loss: 0.0740 - acc: 0.9788 - val_loss: 0.0268 - val_acc: 0.9915\n",
        "\n",
        "Epoch 00036: val_acc did not improve from 0.99180\n",
        "Epoch 37/40\n",
        "60000/60000 [==============================] - 30s 492us/step - loss: 0.0728 - acc: 0.9783 - val_loss: 0.0313 - val_acc: 0.9903\n",
        "\n",
        "Epoch 00037: val_acc did not improve from 0.99180\n",
        "Epoch 38/40\n",
        "60000/60000 [==============================] - 30s 494us/step - loss: 0.0715 - acc: 0.9795 - val_loss: 0.0259 - val_acc: 0.9914\n",
        "\n",
        "Epoch 00038: val_acc did not improve from 0.99180\n",
        "Epoch 39/40\n",
        "60000/60000 [==============================] - 31s 517us/step - loss: 0.0709 - acc: 0.9794 - val_loss: 0.0239 - val_acc: 0.9927\n",
        "\n",
        "Epoch 00039: val_acc improved from 0.99180 to 0.99270, saving model to /content/gdrive/My Drive/Raajesh-39-0.99.hdf5\n",
        "Epoch 40/40\n",
        "60000/60000 [==============================] - 31s 522us/step - loss: 0.0713 - acc: 0.9793 - val_loss: 0.0231 - val_acc: 0.9925"
      ]
    },
    {
      "cell_type": "code",
      "metadata": {
        "id": "OvV4Dmojq9Eg",
        "colab_type": "code",
        "outputId": "439adec9-739f-4d97-f9bd-535e5ea64aef",
        "colab": {
          "base_uri": "https://localhost:8080/",
          "height": 2896
        }
      },
      "source": [
        "model.fit(X_train, Y_train, batch_size=32, epochs=40, verbose=1,validation_data=(X_test, Y_test),callbacks=callbacks_list)"
      ],
      "execution_count": 0,
      "outputs": [
        {
          "output_type": "stream",
          "text": [
            "Train on 60000 samples, validate on 10000 samples\n",
            "Epoch 1/40\n",
            "60000/60000 [==============================] - 32s 532us/step - loss: 0.0714 - acc: 0.9781 - val_loss: 0.0260 - val_acc: 0.9921\n",
            "\n",
            "Epoch 00001: val_acc did not improve from 0.99270\n",
            "Epoch 2/40\n",
            "60000/60000 [==============================] - 29s 490us/step - loss: 0.0681 - acc: 0.9803 - val_loss: 0.0263 - val_acc: 0.9924\n",
            "\n",
            "Epoch 00002: val_acc did not improve from 0.99270\n",
            "Epoch 3/40\n",
            "60000/60000 [==============================] - 31s 513us/step - loss: 0.0700 - acc: 0.9794 - val_loss: 0.0274 - val_acc: 0.9916\n",
            "\n",
            "Epoch 00003: val_acc did not improve from 0.99270\n",
            "Epoch 4/40\n",
            "60000/60000 [==============================] - 29s 489us/step - loss: 0.0658 - acc: 0.9807 - val_loss: 0.0249 - val_acc: 0.9925\n",
            "\n",
            "Epoch 00004: val_acc did not improve from 0.99270\n",
            "Epoch 5/40\n",
            "60000/60000 [==============================] - 30s 507us/step - loss: 0.0684 - acc: 0.9801 - val_loss: 0.0259 - val_acc: 0.9920\n",
            "\n",
            "Epoch 00005: val_acc did not improve from 0.99270\n",
            "Epoch 6/40\n",
            "60000/60000 [==============================] - 32s 535us/step - loss: 0.0695 - acc: 0.9797 - val_loss: 0.0278 - val_acc: 0.9912\n",
            "\n",
            "Epoch 00006: val_acc did not improve from 0.99270\n",
            "Epoch 7/40\n",
            "60000/60000 [==============================] - 31s 511us/step - loss: 0.0667 - acc: 0.9804 - val_loss: 0.0237 - val_acc: 0.9925\n",
            "\n",
            "Epoch 00007: val_acc did not improve from 0.99270\n",
            "Epoch 8/40\n",
            "60000/60000 [==============================] - 32s 528us/step - loss: 0.0670 - acc: 0.9808 - val_loss: 0.0253 - val_acc: 0.9922\n",
            "\n",
            "Epoch 00008: val_acc did not improve from 0.99270\n",
            "Epoch 9/40\n",
            "60000/60000 [==============================] - 30s 507us/step - loss: 0.0686 - acc: 0.9799 - val_loss: 0.0269 - val_acc: 0.9913\n",
            "\n",
            "Epoch 00009: val_acc did not improve from 0.99270\n",
            "Epoch 10/40\n",
            "60000/60000 [==============================] - 30s 502us/step - loss: 0.0654 - acc: 0.9806 - val_loss: 0.0250 - val_acc: 0.9921\n",
            "\n",
            "Epoch 00010: val_acc did not improve from 0.99270\n",
            "Epoch 11/40\n",
            "60000/60000 [==============================] - 32s 538us/step - loss: 0.0651 - acc: 0.9806 - val_loss: 0.0302 - val_acc: 0.9912\n",
            "\n",
            "Epoch 00011: val_acc did not improve from 0.99270\n",
            "Epoch 12/40\n",
            "60000/60000 [==============================] - 30s 498us/step - loss: 0.0657 - acc: 0.9808 - val_loss: 0.0251 - val_acc: 0.9927\n",
            "\n",
            "Epoch 00012: val_acc did not improve from 0.99270\n",
            "Epoch 13/40\n",
            "60000/60000 [==============================] - 31s 513us/step - loss: 0.0641 - acc: 0.9815 - val_loss: 0.0233 - val_acc: 0.9929\n",
            "\n",
            "Epoch 00013: val_acc improved from 0.99270 to 0.99290, saving model to /content/gdrive/My Drive/Raajesh-13-0.99.hdf5\n",
            "Epoch 14/40\n",
            "60000/60000 [==============================] - 29s 490us/step - loss: 0.0654 - acc: 0.9810 - val_loss: 0.0243 - val_acc: 0.9923\n",
            "\n",
            "Epoch 00014: val_acc did not improve from 0.99290\n",
            "Epoch 15/40\n",
            "60000/60000 [==============================] - 29s 491us/step - loss: 0.0640 - acc: 0.9810 - val_loss: 0.0251 - val_acc: 0.9918\n",
            "\n",
            "Epoch 00015: val_acc did not improve from 0.99290\n",
            "Epoch 16/40\n",
            "60000/60000 [==============================] - 32s 528us/step - loss: 0.0639 - acc: 0.9814 - val_loss: 0.0235 - val_acc: 0.9931\n",
            "\n",
            "Epoch 00016: val_acc improved from 0.99290 to 0.99310, saving model to /content/gdrive/My Drive/Raajesh-16-0.99.hdf5\n",
            "Epoch 17/40\n",
            "60000/60000 [==============================] - 30s 504us/step - loss: 0.0627 - acc: 0.9811 - val_loss: 0.0228 - val_acc: 0.9929\n",
            "\n",
            "Epoch 00017: val_acc did not improve from 0.99310\n",
            "Epoch 18/40\n",
            "60000/60000 [==============================] - 30s 498us/step - loss: 0.0633 - acc: 0.9811 - val_loss: 0.0262 - val_acc: 0.9912\n",
            "\n",
            "Epoch 00018: val_acc did not improve from 0.99310\n",
            "Epoch 19/40\n",
            "60000/60000 [==============================] - 30s 506us/step - loss: 0.0620 - acc: 0.9812 - val_loss: 0.0229 - val_acc: 0.9928\n",
            "\n",
            "Epoch 00019: val_acc did not improve from 0.99310\n",
            "Epoch 20/40\n",
            "60000/60000 [==============================] - 30s 492us/step - loss: 0.0649 - acc: 0.9809 - val_loss: 0.0209 - val_acc: 0.9934\n",
            "\n",
            "Epoch 00020: val_acc improved from 0.99310 to 0.99340, saving model to /content/gdrive/My Drive/Raajesh-20-0.99.hdf5\n",
            "Epoch 21/40\n",
            "60000/60000 [==============================] - 31s 522us/step - loss: 0.0650 - acc: 0.9811 - val_loss: 0.0254 - val_acc: 0.9924\n",
            "\n",
            "Epoch 00021: val_acc did not improve from 0.99340\n",
            "Epoch 22/40\n",
            "60000/60000 [==============================] - 29s 490us/step - loss: 0.0627 - acc: 0.9808 - val_loss: 0.0211 - val_acc: 0.9929\n",
            "\n",
            "Epoch 00022: val_acc did not improve from 0.99340\n",
            "Epoch 23/40\n",
            "60000/60000 [==============================] - 29s 491us/step - loss: 0.0605 - acc: 0.9823 - val_loss: 0.0226 - val_acc: 0.9927\n",
            "\n",
            "Epoch 00023: val_acc did not improve from 0.99340\n",
            "Epoch 24/40\n",
            "60000/60000 [==============================] - 31s 514us/step - loss: 0.0612 - acc: 0.9819 - val_loss: 0.0238 - val_acc: 0.9925\n",
            "\n",
            "Epoch 00024: val_acc did not improve from 0.99340\n",
            "Epoch 25/40\n",
            "60000/60000 [==============================] - 29s 490us/step - loss: 0.0623 - acc: 0.9818 - val_loss: 0.0224 - val_acc: 0.9922\n",
            "\n",
            "Epoch 00025: val_acc did not improve from 0.99340\n",
            "Epoch 26/40\n",
            "60000/60000 [==============================] - 30s 496us/step - loss: 0.0593 - acc: 0.9828 - val_loss: 0.0218 - val_acc: 0.9928\n",
            "\n",
            "Epoch 00026: val_acc did not improve from 0.99340\n",
            "Epoch 27/40\n",
            "60000/60000 [==============================] - 32s 530us/step - loss: 0.0605 - acc: 0.9817 - val_loss: 0.0231 - val_acc: 0.9933\n",
            "\n",
            "Epoch 00027: val_acc did not improve from 0.99340\n",
            "Epoch 28/40\n",
            "60000/60000 [==============================] - 29s 491us/step - loss: 0.0596 - acc: 0.9827 - val_loss: 0.0235 - val_acc: 0.9934\n",
            "\n",
            "Epoch 00028: val_acc did not improve from 0.99340\n",
            "Epoch 29/40\n",
            "60000/60000 [==============================] - 31s 514us/step - loss: 0.0590 - acc: 0.9828 - val_loss: 0.0238 - val_acc: 0.9927\n",
            "\n",
            "Epoch 00029: val_acc did not improve from 0.99340\n",
            "Epoch 30/40\n",
            "60000/60000 [==============================] - 29s 491us/step - loss: 0.0616 - acc: 0.9822 - val_loss: 0.0202 - val_acc: 0.9935\n",
            "\n",
            "Epoch 00030: val_acc improved from 0.99340 to 0.99350, saving model to /content/gdrive/My Drive/Raajesh-30-0.99.hdf5\n",
            "Epoch 31/40\n",
            "60000/60000 [==============================] - 30s 496us/step - loss: 0.0599 - acc: 0.9823 - val_loss: 0.0272 - val_acc: 0.9921\n",
            "\n",
            "Epoch 00031: val_acc did not improve from 0.99350\n",
            "Epoch 32/40\n",
            "60000/60000 [==============================] - 31s 522us/step - loss: 0.0637 - acc: 0.9816 - val_loss: 0.0215 - val_acc: 0.9927\n",
            "\n",
            "Epoch 00032: val_acc did not improve from 0.99350\n",
            "Epoch 33/40\n",
            "60000/60000 [==============================] - 29s 491us/step - loss: 0.0601 - acc: 0.9826 - val_loss: 0.0221 - val_acc: 0.9937\n",
            "\n",
            "Epoch 00033: val_acc improved from 0.99350 to 0.99370, saving model to /content/gdrive/My Drive/Raajesh-33-0.99.hdf5\n",
            "Epoch 34/40\n",
            "60000/60000 [==============================] - 30s 500us/step - loss: 0.0610 - acc: 0.9824 - val_loss: 0.0223 - val_acc: 0.9931\n",
            "\n",
            "Epoch 00034: val_acc did not improve from 0.99370\n",
            "Epoch 35/40\n",
            "60000/60000 [==============================] - 30s 504us/step - loss: 0.0577 - acc: 0.9830 - val_loss: 0.0228 - val_acc: 0.9933\n",
            "\n",
            "Epoch 00035: val_acc did not improve from 0.99370\n",
            "Epoch 36/40\n",
            "60000/60000 [==============================] - 29s 490us/step - loss: 0.0582 - acc: 0.9828 - val_loss: 0.0198 - val_acc: 0.9942\n",
            "\n",
            "Epoch 00036: val_acc improved from 0.99370 to 0.99420, saving model to /content/gdrive/My Drive/Raajesh-36-0.99.hdf5\n",
            "Epoch 37/40\n",
            "60000/60000 [==============================] - 32s 528us/step - loss: 0.0564 - acc: 0.9828 - val_loss: 0.0236 - val_acc: 0.9925\n",
            "\n",
            "Epoch 00037: val_acc did not improve from 0.99420\n",
            "Epoch 38/40\n",
            "60000/60000 [==============================] - 29s 491us/step - loss: 0.0550 - acc: 0.9836 - val_loss: 0.0248 - val_acc: 0.9925\n",
            "\n",
            "Epoch 00038: val_acc did not improve from 0.99420\n",
            "Epoch 39/40\n",
            "60000/60000 [==============================] - 29s 491us/step - loss: 0.0561 - acc: 0.9833 - val_loss: 0.0235 - val_acc: 0.9933\n",
            "\n",
            "Epoch 00039: val_acc did not improve from 0.99420\n",
            "Epoch 40/40\n",
            "60000/60000 [==============================] - 31s 512us/step - loss: 0.0596 - acc: 0.9828 - val_loss: 0.0235 - val_acc: 0.9920\n",
            "\n",
            "Epoch 00040: val_acc did not improve from 0.99420\n"
          ],
          "name": "stdout"
        },
        {
          "output_type": "execute_result",
          "data": {
            "text/plain": [
              "<keras.callbacks.History at 0x7f9c38433c88>"
            ]
          },
          "metadata": {
            "tags": []
          },
          "execution_count": 20
        }
      ]
    },
    {
      "cell_type": "markdown",
      "metadata": {
        "id": "PFYxDZQRvy88",
        "colab_type": "text"
      },
      "source": [
        "### Saved the logs for precaution - next 40 epochs.\n",
        "\n",
        "Train on 60000 samples, validate on 10000 samples\n",
        "Epoch 1/40\n",
        "60000/60000 [==============================] - 32s 532us/step - loss: 0.0714 - acc: 0.9781 - val_loss: 0.0260 - val_acc: 0.9921\n",
        "\n",
        "Epoch 00001: val_acc did not improve from 0.99270\n",
        "Epoch 2/40\n",
        "60000/60000 [==============================] - 29s 490us/step - loss: 0.0681 - acc: 0.9803 - val_loss: 0.0263 - val_acc: 0.9924\n",
        "\n",
        "Epoch 00002: val_acc did not improve from 0.99270\n",
        "Epoch 3/40\n",
        "60000/60000 [==============================] - 31s 513us/step - loss: 0.0700 - acc: 0.9794 - val_loss: 0.0274 - val_acc: 0.9916\n",
        "\n",
        "Epoch 00003: val_acc did not improve from 0.99270\n",
        "Epoch 4/40\n",
        "60000/60000 [==============================] - 29s 489us/step - loss: 0.0658 - acc: 0.9807 - val_loss: 0.0249 - val_acc: 0.9925\n",
        "\n",
        "Epoch 00004: val_acc did not improve from 0.99270\n",
        "Epoch 5/40\n",
        "60000/60000 [==============================] - 30s 507us/step - loss: 0.0684 - acc: 0.9801 - val_loss: 0.0259 - val_acc: 0.9920\n",
        "\n",
        "Epoch 00005: val_acc did not improve from 0.99270\n",
        "Epoch 6/40\n",
        "60000/60000 [==============================] - 32s 535us/step - loss: 0.0695 - acc: 0.9797 - val_loss: 0.0278 - val_acc: 0.9912\n",
        "\n",
        "Epoch 00006: val_acc did not improve from 0.99270\n",
        "Epoch 7/40\n",
        "60000/60000 [==============================] - 31s 511us/step - loss: 0.0667 - acc: 0.9804 - val_loss: 0.0237 - val_acc: 0.9925\n",
        "\n",
        "Epoch 00007: val_acc did not improve from 0.99270\n",
        "Epoch 8/40\n",
        "60000/60000 [==============================] - 32s 528us/step - loss: 0.0670 - acc: 0.9808 - val_loss: 0.0253 - val_acc: 0.9922\n",
        "\n",
        "Epoch 00008: val_acc did not improve from 0.99270\n",
        "Epoch 9/40\n",
        "60000/60000 [==============================] - 30s 507us/step - loss: 0.0686 - acc: 0.9799 - val_loss: 0.0269 - val_acc: 0.9913\n",
        "\n",
        "Epoch 00009: val_acc did not improve from 0.99270\n",
        "Epoch 10/40\n",
        "60000/60000 [==============================] - 30s 502us/step - loss: 0.0654 - acc: 0.9806 - val_loss: 0.0250 - val_acc: 0.9921\n",
        "\n",
        "Epoch 00010: val_acc did not improve from 0.99270\n",
        "Epoch 11/40\n",
        "60000/60000 [==============================] - 32s 538us/step - loss: 0.0651 - acc: 0.9806 - val_loss: 0.0302 - val_acc: 0.9912\n",
        "\n",
        "Epoch 00011: val_acc did not improve from 0.99270\n",
        "Epoch 12/40\n",
        "60000/60000 [==============================] - 30s 498us/step - loss: 0.0657 - acc: 0.9808 - val_loss: 0.0251 - val_acc: 0.9927\n",
        "\n",
        "Epoch 00012: val_acc did not improve from 0.99270\n",
        "Epoch 13/40\n",
        "60000/60000 [==============================] - 31s 513us/step - loss: 0.0641 - acc: 0.9815 - val_loss: 0.0233 - val_acc: 0.9929\n",
        "\n",
        "Epoch 00013: val_acc improved from 0.99270 to 0.99290, saving model to /content/gdrive/My Drive/Raajesh-13-0.99.hdf5\n",
        "Epoch 14/40\n",
        "60000/60000 [==============================] - 29s 490us/step - loss: 0.0654 - acc: 0.9810 - val_loss: 0.0243 - val_acc: 0.9923\n",
        "\n",
        "Epoch 00014: val_acc did not improve from 0.99290\n",
        "Epoch 15/40\n",
        "60000/60000 [==============================] - 29s 491us/step - loss: 0.0640 - acc: 0.9810 - val_loss: 0.0251 - val_acc: 0.9918\n",
        "\n",
        "Epoch 00015: val_acc did not improve from 0.99290\n",
        "Epoch 16/40\n",
        "60000/60000 [==============================] - 32s 528us/step - loss: 0.0639 - acc: 0.9814 - val_loss: 0.0235 - val_acc: 0.9931\n",
        "\n",
        "Epoch 00016: val_acc improved from 0.99290 to 0.99310, saving model to /content/gdrive/My Drive/Raajesh-16-0.99.hdf5\n",
        "Epoch 17/40\n",
        "60000/60000 [==============================] - 30s 504us/step - loss: 0.0627 - acc: 0.9811 - val_loss: 0.0228 - val_acc: 0.9929\n",
        "\n",
        "Epoch 00017: val_acc did not improve from 0.99310\n",
        "Epoch 18/40\n",
        "60000/60000 [==============================] - 30s 498us/step - loss: 0.0633 - acc: 0.9811 - val_loss: 0.0262 - val_acc: 0.9912\n",
        "\n",
        "Epoch 00018: val_acc did not improve from 0.99310\n",
        "Epoch 19/40\n",
        "60000/60000 [==============================] - 30s 506us/step - loss: 0.0620 - acc: 0.9812 - val_loss: 0.0229 - val_acc: 0.9928\n",
        "\n",
        "Epoch 00019: val_acc did not improve from 0.99310\n",
        "Epoch 20/40\n",
        "60000/60000 [==============================] - 30s 492us/step - loss: 0.0649 - acc: 0.9809 - val_loss: 0.0209 - val_acc: 0.9934\n",
        "\n",
        "Epoch 00020: val_acc improved from 0.99310 to 0.99340, saving model to /content/gdrive/My Drive/Raajesh-20-0.99.hdf5\n",
        "Epoch 21/40\n",
        "60000/60000 [==============================] - 31s 522us/step - loss: 0.0650 - acc: 0.9811 - val_loss: 0.0254 - val_acc: 0.9924\n",
        "\n",
        "Epoch 00021: val_acc did not improve from 0.99340\n",
        "Epoch 22/40\n",
        "60000/60000 [==============================] - 29s 490us/step - loss: 0.0627 - acc: 0.9808 - val_loss: 0.0211 - val_acc: 0.9929\n",
        "\n",
        "Epoch 00022: val_acc did not improve from 0.99340\n",
        "Epoch 23/40\n",
        "60000/60000 [==============================] - 29s 491us/step - loss: 0.0605 - acc: 0.9823 - val_loss: 0.0226 - val_acc: 0.9927\n",
        "\n",
        "Epoch 00023: val_acc did not improve from 0.99340\n",
        "Epoch 24/40\n",
        "60000/60000 [==============================] - 31s 514us/step - loss: 0.0612 - acc: 0.9819 - val_loss: 0.0238 - val_acc: 0.9925\n",
        "\n",
        "Epoch 00024: val_acc did not improve from 0.99340\n",
        "Epoch 25/40\n",
        "60000/60000 [==============================] - 29s 490us/step - loss: 0.0623 - acc: 0.9818 - val_loss: 0.0224 - val_acc: 0.9922\n",
        "\n",
        "Epoch 00025: val_acc did not improve from 0.99340\n",
        "Epoch 26/40\n",
        "60000/60000 [==============================] - 30s 496us/step - loss: 0.0593 - acc: 0.9828 - val_loss: 0.0218 - val_acc: 0.9928\n",
        "\n",
        "Epoch 00026: val_acc did not improve from 0.99340\n",
        "Epoch 27/40\n",
        "60000/60000 [==============================] - 32s 530us/step - loss: 0.0605 - acc: 0.9817 - val_loss: 0.0231 - val_acc: 0.9933\n",
        "\n",
        "Epoch 00027: val_acc did not improve from 0.99340\n",
        "Epoch 28/40\n",
        "60000/60000 [==============================] - 29s 491us/step - loss: 0.0596 - acc: 0.9827 - val_loss: 0.0235 - val_acc: 0.9934\n",
        "\n",
        "Epoch 00028: val_acc did not improve from 0.99340\n",
        "Epoch 29/40\n",
        "60000/60000 [==============================] - 31s 514us/step - loss: 0.0590 - acc: 0.9828 - val_loss: 0.0238 - val_acc: 0.9927\n",
        "\n",
        "Epoch 00029: val_acc did not improve from 0.99340\n",
        "Epoch 30/40\n",
        "60000/60000 [==============================] - 29s 491us/step - loss: 0.0616 - acc: 0.9822 - val_loss: 0.0202 - val_acc: 0.9935\n",
        "\n",
        "Epoch 00030: val_acc improved from 0.99340 to 0.99350, saving model to /content/gdrive/My Drive/Raajesh-30-0.99.hdf5\n",
        "Epoch 31/40\n",
        "60000/60000 [==============================] - 30s 496us/step - loss: 0.0599 - acc: 0.9823 - val_loss: 0.0272 - val_acc: 0.9921\n",
        "\n",
        "Epoch 00031: val_acc did not improve from 0.99350\n",
        "Epoch 32/40\n",
        "60000/60000 [==============================] - 31s 522us/step - loss: 0.0637 - acc: 0.9816 - val_loss: 0.0215 - val_acc: 0.9927\n",
        "\n",
        "Epoch 00032: val_acc did not improve from 0.99350\n",
        "Epoch 33/40\n",
        "60000/60000 [==============================] - 29s 491us/step - loss: 0.0601 - acc: 0.9826 - val_loss: 0.0221 - val_acc: 0.9937\n",
        "\n",
        "Epoch 00033: val_acc improved from 0.99350 to 0.99370, saving model to /content/gdrive/My Drive/Raajesh-33-0.99.hdf5\n",
        "Epoch 34/40\n",
        "60000/60000 [==============================] - 30s 500us/step - loss: 0.0610 - acc: 0.9824 - val_loss: 0.0223 - val_acc: 0.9931\n",
        "\n",
        "Epoch 00034: val_acc did not improve from 0.99370\n",
        "Epoch 35/40\n",
        "60000/60000 [==============================] - 30s 504us/step - loss: 0.0577 - acc: 0.9830 - val_loss: 0.0228 - val_acc: 0.9933\n",
        "\n",
        "Epoch 00035: val_acc did not improve from 0.99370\n",
        "Epoch 36/40\n",
        "60000/60000 [==============================] - 29s 490us/step - loss: 0.0582 - acc: 0.9828 - val_loss: 0.0198 - val_acc: 0.9942\n",
        "\n",
        "Epoch 00036: val_acc improved from 0.99370 to 0.99420, saving model to /content/gdrive/My Drive/Raajesh-36-0.99.hdf5\n",
        "Epoch 37/40\n",
        "60000/60000 [==============================] - 32s 528us/step - loss: 0.0564 - acc: 0.9828 - val_loss: 0.0236 - val_acc: 0.9925\n",
        "\n",
        "Epoch 00037: val_acc did not improve from 0.99420\n",
        "Epoch 38/40\n",
        "60000/60000 [==============================] - 29s 491us/step - loss: 0.0550 - acc: 0.9836 - val_loss: 0.0248 - val_acc: 0.9925\n",
        "\n",
        "Epoch 00038: val_acc did not improve from 0.99420\n",
        "Epoch 39/40\n",
        "60000/60000 [==============================] - 29s 491us/step - loss: 0.0561 - acc: 0.9833 - val_loss: 0.0235 - val_acc: 0.9933\n",
        "\n",
        "Epoch 00039: val_acc did not improve from 0.99420\n",
        "Epoch 40/40\n",
        "60000/60000 [==============================] - 31s 512us/step - loss: 0.0596 - acc: 0.9828 - val_loss: 0.0235 - val_acc: 0.9920\n",
        "\n",
        "Epoch 00040: val_acc did not improve from 0.99420\n",
        "<keras.callbacks.History at 0x7f9c38433c88>"
      ]
    },
    {
      "cell_type": "code",
      "metadata": {
        "id": "KnV2YJ3Xupbq",
        "colab_type": "code",
        "colab": {}
      },
      "source": [
        "model.load_weights('/content/gdrive/My Drive/Raajesh-39-0.99.hdf5')"
      ],
      "execution_count": 0,
      "outputs": []
    },
    {
      "cell_type": "code",
      "metadata": {
        "id": "nU-Ka-NWv5cD",
        "colab_type": "code",
        "colab": {}
      },
      "source": [
        "model.load_weights('/content/gdrive/My Drive/Raajesh-36-0.99.hdf5')"
      ],
      "execution_count": 0,
      "outputs": []
    },
    {
      "cell_type": "code",
      "metadata": {
        "id": "AtsH-lLk-eLb",
        "colab_type": "code",
        "colab": {}
      },
      "source": [
        "score = model.evaluate(X_test, Y_test, verbose=0)"
      ],
      "execution_count": 0,
      "outputs": []
    },
    {
      "cell_type": "code",
      "metadata": {
        "id": "mkX8JMv79q9r",
        "colab_type": "code",
        "outputId": "fe8ac18b-db9d-4072-b652-a2a0c9379f92",
        "colab": {
          "base_uri": "https://localhost:8080/",
          "height": 34
        }
      },
      "source": [
        "print(score)"
      ],
      "execution_count": 0,
      "outputs": [
        {
          "output_type": "stream",
          "text": [
            "[0.019791167299274822, 0.9942]\n"
          ],
          "name": "stdout"
        }
      ]
    },
    {
      "cell_type": "markdown",
      "metadata": {
        "id": "FscSkUvfj4LE",
        "colab_type": "text"
      },
      "source": [
        "### LOADED THE BEST WEIGHT AND PRINTED THE SCORE, REACHED 99.4\n"
      ]
    },
    {
      "cell_type": "code",
      "metadata": {
        "id": "OCWoJkwE9suh",
        "colab_type": "code",
        "colab": {}
      },
      "source": [
        "y_pred = model.predict(X_test)"
      ],
      "execution_count": 0,
      "outputs": []
    },
    {
      "cell_type": "code",
      "metadata": {
        "id": "Ym7iCFBm9uBs",
        "colab_type": "code",
        "outputId": "749a8c71-5493-4d47-a34a-c7b7b1d8156c",
        "colab": {
          "base_uri": "https://localhost:8080/",
          "height": 514
        }
      },
      "source": [
        "print(y_pred[:9])\n",
        "print(y_test[:9])"
      ],
      "execution_count": 0,
      "outputs": [
        {
          "output_type": "stream",
          "text": [
            "[[1.07551665e-08 1.84672345e-07 9.35736534e-06 9.81743824e-08\n",
            "  1.54703102e-05 1.47401225e-09 4.26876850e-13 9.99973178e-01\n",
            "  1.51583013e-09 1.67354119e-06]\n",
            " [5.19555442e-06 6.07622605e-05 9.99829531e-01 2.78964052e-07\n",
            "  4.03079030e-05 8.07417962e-07 6.19759958e-05 1.06870921e-07\n",
            "  1.04255025e-06 2.15776708e-09]\n",
            " [5.80054804e-09 9.99995708e-01 2.51074876e-08 4.34101821e-07\n",
            "  3.37986307e-07 1.04865601e-08 2.13473076e-11 3.31049637e-06\n",
            "  1.19231727e-08 5.41704068e-08]\n",
            " [9.99870539e-01 2.83346413e-08 1.91630579e-06 3.59786867e-07\n",
            "  1.46868501e-07 1.21712874e-05 6.93881811e-05 1.01091484e-06\n",
            "  1.73079152e-05 2.71588397e-05]\n",
            " [6.06486935e-07 1.39690092e-05 2.35127100e-08 9.94981333e-13\n",
            "  9.99952912e-01 1.15219362e-10 6.74265902e-06 7.37303694e-08\n",
            "  7.40501171e-09 2.57304564e-05]\n",
            " [1.01777156e-08 9.99995708e-01 1.14607408e-08 9.35500495e-08\n",
            "  6.30814952e-07 4.42583881e-09 2.21943835e-11 3.38814607e-06\n",
            "  2.94390623e-09 6.97111702e-08]\n",
            " [2.79377091e-05 1.67931139e-03 7.51635241e-07 6.68135783e-07\n",
            "  9.97723758e-01 4.38693678e-06 5.80540727e-05 8.71433440e-05\n",
            "  9.92501646e-06 4.08028514e-04]\n",
            " [2.00099862e-07 3.09498228e-06 8.02201825e-08 2.43566433e-07\n",
            "  3.16780084e-03 1.31319530e-06 5.82461235e-09 7.13535628e-05\n",
            "  4.19802891e-05 9.96713996e-01]\n",
            " [9.33871197e-05 9.06850164e-06 3.24651000e-06 8.73437693e-06\n",
            "  4.41755105e-07 9.41377997e-01 5.61033934e-02 2.47485190e-07\n",
            "  2.39943434e-03 3.94746758e-06]]\n",
            "[7 2 1 0 4 1 4 9 5]\n"
          ],
          "name": "stdout"
        }
      ]
    },
    {
      "cell_type": "code",
      "metadata": {
        "id": "CT--y98_dr2T",
        "colab_type": "code",
        "colab": {}
      },
      "source": [
        "layer_dict = dict([(layer.name, layer) for layer in model.layers])"
      ],
      "execution_count": 0,
      "outputs": []
    },
    {
      "cell_type": "code",
      "metadata": {
        "id": "9tvptcn8dxvp",
        "colab_type": "code",
        "colab": {}
      },
      "source": [
        ""
      ],
      "execution_count": 0,
      "outputs": []
    },
    {
      "cell_type": "code",
      "metadata": {
        "id": "2GY4Upv4dsUR",
        "colab_type": "code",
        "colab": {}
      },
      "source": [
        "import numpy as np\n",
        "from matplotlib import pyplot as plt\n",
        "from keras import backend as K\n",
        "%matplotlib inline\n",
        "# util function to convert a tensor into a valid image\n",
        "def deprocess_image(x):\n",
        "    # normalize tensor: center on 0., ensure std is 0.1\n",
        "    x -= x.mean()\n",
        "    x /= (x.std() + 1e-5)\n",
        "    x *= 0.1\n",
        "\n",
        "    # clip to [0, 1]\n",
        "    x += 0.5\n",
        "    x = np.clip(x, 0, 1)\n",
        "\n",
        "    # convert to RGB array\n",
        "    x *= 255\n",
        "    #x = x.transpose((1, 2, 0))\n",
        "    x = np.clip(x, 0, 255).astype('uint8')\n",
        "    return x\n",
        "\n",
        "def vis_img_in_filter(img = np.array(X_train[2]).reshape((1, 28, 28, 1)).astype(np.float64), \n",
        "                      layer_name = 'conv2d_14'):\n",
        "    layer_output = layer_dict[layer_name].output\n",
        "    img_ascs = list()\n",
        "    for filter_index in range(layer_output.shape[3]):\n",
        "        # build a loss function that maximizes the activation\n",
        "        # of the nth filter of the layer considered\n",
        "        loss = K.mean(layer_output[:, :, :, filter_index])\n",
        "\n",
        "        # compute the gradient of the input picture wrt this loss\n",
        "        grads = K.gradients(loss, model.input)[0]\n",
        "\n",
        "        # normalization trick: we normalize the gradient\n",
        "        grads /= (K.sqrt(K.mean(K.square(grads))) + 1e-5)\n",
        "\n",
        "        # this function returns the loss and grads given the input picture\n",
        "        iterate = K.function([model.input], [loss, grads])\n",
        "\n",
        "        # step size for gradient ascent\n",
        "        step = 5.\n",
        "\n",
        "        img_asc = np.array(img)\n",
        "        # run gradient ascent for 20 steps\n",
        "        for i in range(20):\n",
        "            loss_value, grads_value = iterate([img_asc])\n",
        "            img_asc += grads_value * step\n",
        "\n",
        "        img_asc = img_asc[0]\n",
        "        img_ascs.append(deprocess_image(img_asc).reshape((28, 28)))\n",
        "        \n",
        "    if layer_output.shape[3] >= 35:\n",
        "        plot_x, plot_y = 6, 6\n",
        "    elif layer_output.shape[3] >= 23:\n",
        "        plot_x, plot_y = 4, 6\n",
        "    elif layer_output.shape[3] >= 11:\n",
        "        plot_x, plot_y = 2, 6\n",
        "    else:\n",
        "        plot_x, plot_y = 1, 2\n",
        "    fig, ax = plt.subplots(plot_x, plot_y, figsize = (12, 12))\n",
        "    ax[0, 0].imshow(img.reshape((28, 28)), cmap = 'gray')\n",
        "    ax[0, 0].set_title('Input image')\n",
        "    fig.suptitle('Input image and %s filters' % (layer_name,))\n",
        "    fig.tight_layout(pad = 0.3, rect = [0, 0, 0.9, 0.9])\n",
        "    for (x, y) in [(i, j) for i in range(plot_x) for j in range(plot_y)]:\n",
        "        if x == 0 and y == 0:\n",
        "            continue\n",
        "        ax[x, y].imshow(img_ascs[x * plot_y + y - 1], cmap = 'gray')\n",
        "        ax[x, y].set_title('filter %d' % (x * plot_y + y - 1))\n",
        "\n",
        "vis_img_in_filter()"
      ],
      "execution_count": 0,
      "outputs": []
    }
  ]
}