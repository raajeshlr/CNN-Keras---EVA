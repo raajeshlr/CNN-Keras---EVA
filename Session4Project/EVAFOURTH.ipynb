{
  "nbformat": 4,
  "nbformat_minor": 0,
  "metadata": {
    "colab": {
      "name": "EVAFOURTH.ipynb",
      "version": "0.3.2",
      "provenance": [],
      "collapsed_sections": []
    },
    "kernelspec": {
      "name": "python3",
      "display_name": "Python 3"
    },
    "accelerator": "GPU"
  },
  "cells": [
    {
      "cell_type": "markdown",
      "metadata": {
        "id": "h8ECPWrrTvPB",
        "colab_type": "text"
      },
      "source": [
        "### WHAT LEARNT FROM THIRD CODE:\n",
        "\n",
        "-   Model is able to learn and get the accuracy more than 99.4 with less than 20k parameters.\n",
        "\n",
        "### MY STRATEGY AND IMPROVEMENTS:\n",
        "\n",
        "-  Reducing parameters less than 15k.\n",
        "-  Changing number of kernels.\n",
        "-  Changing batch size  = 128 \n",
        "\n",
        "### Target \n",
        "\n",
        "Reach validation accuracy more than **99.4 with less than 15k parameters** , Should not use any learning rate schedular as it is proportionate to the number of epochs, i am not going to use it.\n",
        "\n",
        "    -  ACHIEVED 99.430 in 67th EPOCH.\n",
        "\n",
        "#### TOOLS USED AND OBSERVATIONS \n",
        "\n",
        "-   I have just used the same pattern from THIRD code but decreased the number of kernels.\n",
        "-  Used Batch Normalization, Used Dropout, **No Learning rate schedular.**\n",
        "-  I have used only 13,744 parameters.\n",
        "-  Sticked to batch size = 128 and the Training accuracies are clearly increasing from 89.9 to 99.16.\n",
        "-   I have ran for 50 epochs and the validation accuracy reached the **MAXIMUM OF 99.430 in 67th epoch**"
      ]
    },
    {
      "cell_type": "code",
      "metadata": {
        "id": "3m3w1Cw49Zkt",
        "colab_type": "code",
        "outputId": "c25f77fc-9088-4d84-d1ad-300b8f1821d1",
        "colab": {
          "base_uri": "https://localhost:8080/",
          "height": 34
        }
      },
      "source": [
        "!pip install -q keras\n",
        "import keras"
      ],
      "execution_count": 0,
      "outputs": [
        {
          "output_type": "stream",
          "text": [
            "Using TensorFlow backend.\n"
          ],
          "name": "stderr"
        }
      ]
    },
    {
      "cell_type": "code",
      "metadata": {
        "id": "Eso6UHE080D4",
        "colab_type": "code",
        "colab": {}
      },
      "source": [
        "import numpy as np\n",
        "\n",
        "from keras.models import Sequential\n",
        "from keras.layers import Dense, Dropout, Activation, Flatten, Add\n",
        "from keras.layers import Convolution2D, MaxPooling2D, BatchNormalization\n",
        "from keras.utils import np_utils\n",
        "\n",
        "from keras.datasets import mnist"
      ],
      "execution_count": 0,
      "outputs": []
    },
    {
      "cell_type": "markdown",
      "metadata": {
        "id": "zByEi95J86RD",
        "colab_type": "text"
      },
      "source": [
        "### Load pre-shuffled MNIST data into train and test sets"
      ]
    },
    {
      "cell_type": "code",
      "metadata": {
        "id": "7eRM0QWN83PV",
        "colab_type": "code",
        "colab": {}
      },
      "source": [
        "(X_train, y_train), (X_test, y_test) = mnist.load_data()"
      ],
      "execution_count": 0,
      "outputs": []
    },
    {
      "cell_type": "code",
      "metadata": {
        "id": "4a4Be72j8-ZC",
        "colab_type": "code",
        "outputId": "0cc7b76d-a0c0-45bc-a3be-ecc7632c814d",
        "colab": {
          "base_uri": "https://localhost:8080/",
          "height": 304
        }
      },
      "source": [
        "print (X_train.shape)\n",
        "from matplotlib import pyplot as plt\n",
        "%matplotlib inline\n",
        "plt.imshow(X_train[0])"
      ],
      "execution_count": 0,
      "outputs": [
        {
          "output_type": "stream",
          "text": [
            "(60000, 28, 28)\n"
          ],
          "name": "stdout"
        },
        {
          "output_type": "execute_result",
          "data": {
            "text/plain": [
              "<matplotlib.image.AxesImage at 0x7f6af6be2ba8>"
            ]
          },
          "metadata": {
            "tags": []
          },
          "execution_count": 4
        },
        {
          "output_type": "display_data",
          "data": {
            "image/png": "[encoded data removed]",
            "text/plain": [
              "<Figure size 432x288 with 1 Axes>"
            ]
          },
          "metadata": {
            "tags": []
          }
        }
      ]
    },
    {
      "cell_type": "code",
      "metadata": {
        "id": "dkmprriw9AnZ",
        "colab_type": "code",
        "colab": {}
      },
      "source": [
        "X_train = X_train.reshape(X_train.shape[0], 28, 28,1)\n",
        "X_test = X_test.reshape(X_test.shape[0], 28, 28,1)"
      ],
      "execution_count": 0,
      "outputs": []
    },
    {
      "cell_type": "code",
      "metadata": {
        "id": "X2m4YS4E9CRh",
        "colab_type": "code",
        "colab": {}
      },
      "source": [
        "X_train = X_train.astype('float32')\n",
        "X_test = X_test.astype('float32')\n",
        "X_train /= 255\n",
        "X_test /= 255"
      ],
      "execution_count": 0,
      "outputs": []
    },
    {
      "cell_type": "code",
      "metadata": {
        "id": "0Mn0vAYD9DvB",
        "colab_type": "code",
        "outputId": "0e2f28e7-a293-4b8a-ec84-230aa6a09623",
        "colab": {
          "base_uri": "https://localhost:8080/",
          "height": 34
        }
      },
      "source": [
        "y_train[:10]"
      ],
      "execution_count": 0,
      "outputs": [
        {
          "output_type": "execute_result",
          "data": {
            "text/plain": [
              "array([5, 0, 4, 1, 9, 2, 1, 3, 1, 4], dtype=uint8)"
            ]
          },
          "metadata": {
            "tags": []
          },
          "execution_count": 7
        }
      ]
    },
    {
      "cell_type": "code",
      "metadata": {
        "id": "ZG8JiXR39FHC",
        "colab_type": "code",
        "colab": {}
      },
      "source": [
        "Y_train = np_utils.to_categorical(y_train, 10)\n",
        "Y_test = np_utils.to_categorical(y_test, 10)"
      ],
      "execution_count": 0,
      "outputs": []
    },
    {
      "cell_type": "code",
      "metadata": {
        "id": "fYlFRvKS9HMB",
        "colab_type": "code",
        "outputId": "f13506f8-b750-4042-e033-6b2c07ab2c6f",
        "colab": {
          "base_uri": "https://localhost:8080/",
          "height": 194
        }
      },
      "source": [
        "Y_train[:10]"
      ],
      "execution_count": 0,
      "outputs": [
        {
          "output_type": "execute_result",
          "data": {
            "text/plain": [
              "array([[0., 0., 0., 0., 0., 1., 0., 0., 0., 0.],\n",
              "       [1., 0., 0., 0., 0., 0., 0., 0., 0., 0.],\n",
              "       [0., 0., 0., 0., 1., 0., 0., 0., 0., 0.],\n",
              "       [0., 1., 0., 0., 0., 0., 0., 0., 0., 0.],\n",
              "       [0., 0., 0., 0., 0., 0., 0., 0., 0., 1.],\n",
              "       [0., 0., 1., 0., 0., 0., 0., 0., 0., 0.],\n",
              "       [0., 1., 0., 0., 0., 0., 0., 0., 0., 0.],\n",
              "       [0., 0., 0., 1., 0., 0., 0., 0., 0., 0.],\n",
              "       [0., 1., 0., 0., 0., 0., 0., 0., 0., 0.],\n",
              "       [0., 0., 0., 0., 1., 0., 0., 0., 0., 0.]], dtype=float32)"
            ]
          },
          "metadata": {
            "tags": []
          },
          "execution_count": 9
        }
      ]
    },
    {
      "cell_type": "code",
      "metadata": {
        "id": "osKqT73Q9JJB",
        "colab_type": "code",
        "outputId": "f5bba091-98d5-4368-dfb6-d70f251c703a",
        "colab": {
          "base_uri": "https://localhost:8080/",
          "height": 321
        }
      },
      "source": [
        "from keras.layers import Activation\n",
        "model = Sequential()\n",
        "\n",
        " \n",
        "model.add(Convolution2D(16, 3, 3, activation='relu', input_shape=(28,28,1))) # Receptive field : 3x3 , Resolution output : 26x26x16\n",
        "model.add(BatchNormalization(name='norm_1'))\n",
        "model.add(Convolution2D(10, 1,1, activation='relu')) # Receptive field : 3x3 , Resolution output : 26x26x10\n",
        "model.add(Dropout(0.20))\n",
        "\n",
        "model.add(Convolution2D(16, 3, 3, activation='relu')) # Receptive field : 5x5 , Resolution output : 24x24x16\n",
        "model.add(BatchNormalization(name='norm_2'))\n",
        "model.add(Convolution2D(10, 1,1, activation='relu')) # Receptive field : 5x5 , Resolution output : 24x24x10\n",
        "model.add(Dropout(0.20))\n",
        "\n",
        "model.add(Convolution2D(32, 3, 3, activation='relu')) # Receptive field : 7x7 , Resolution output : 22x22x32\n",
        "model.add(BatchNormalization(name='norm_3'))\n",
        "model.add(Convolution2D(10, 1,1, activation='relu')) # Receptive field : 7x7 , Resolution output : 22x22x10\n",
        "model.add(Dropout(0.20))\n",
        "\n",
        "model.add(MaxPooling2D(pool_size=(2,2))) # Receptive field : 14x14 , Resolution output : 11x11x10\n",
        "model.add(Dropout(0.20))\n",
        "\n",
        "model.add(Convolution2D(16, 3, 3, activation='relu')) # Receptive field : 16x16 , Resolution output : 9x9x16\n",
        "model.add(BatchNormalization(name='norm_4'))\n",
        "model.add(Convolution2D(10, 1,1, activation='relu')) # Receptive field : 16x16 , Resolution output : 9x9x10\n",
        "model.add(Dropout(0.20))\n",
        "\n",
        "model.add(Convolution2D(16, 3, 3, activation='relu')) # Receptive field : 18x18 , Resolution output : 7x7x16\n",
        "model.add(BatchNormalization(name='norm_6'))\n",
        "model.add(Convolution2D(10, 1,1, activation='relu')) # Receptive field : 18x18 , Resolution output : 7x7x10\n",
        "model.add(Dropout(0.20))\n",
        "\n",
        "model.add(Convolution2D(10, 7, 7)) # Resolution output : 1x1x10\n",
        "model.add(Flatten())\n",
        "model.add(Activation('softmax'))"
      ],
      "execution_count": 0,
      "outputs": [
        {
          "output_type": "stream",
          "text": [
            "/usr/local/lib/python3.6/dist-packages/ipykernel_launcher.py:5: UserWarning: Update your `Conv2D` call to the Keras 2 API: `Conv2D(16, (3, 3), activation=\"relu\", input_shape=(28, 28, 1...)`\n",
            "  \"\"\"\n",
            "/usr/local/lib/python3.6/dist-packages/ipykernel_launcher.py:7: UserWarning: Update your `Conv2D` call to the Keras 2 API: `Conv2D(10, (1, 1), activation=\"relu\")`\n",
            "  import sys\n",
            "/usr/local/lib/python3.6/dist-packages/ipykernel_launcher.py:10: UserWarning: Update your `Conv2D` call to the Keras 2 API: `Conv2D(16, (3, 3), activation=\"relu\")`\n",
            "  # Remove the CWD from sys.path while we load stuff.\n",
            "/usr/local/lib/python3.6/dist-packages/ipykernel_launcher.py:12: UserWarning: Update your `Conv2D` call to the Keras 2 API: `Conv2D(10, (1, 1), activation=\"relu\")`\n",
            "  if sys.path[0] == '':\n",
            "/usr/local/lib/python3.6/dist-packages/ipykernel_launcher.py:15: UserWarning: Update your `Conv2D` call to the Keras 2 API: `Conv2D(32, (3, 3), activation=\"relu\")`\n",
            "  from ipykernel import kernelapp as app\n",
            "/usr/local/lib/python3.6/dist-packages/ipykernel_launcher.py:17: UserWarning: Update your `Conv2D` call to the Keras 2 API: `Conv2D(10, (1, 1), activation=\"relu\")`\n",
            "/usr/local/lib/python3.6/dist-packages/ipykernel_launcher.py:23: UserWarning: Update your `Conv2D` call to the Keras 2 API: `Conv2D(16, (3, 3), activation=\"relu\")`\n",
            "/usr/local/lib/python3.6/dist-packages/ipykernel_launcher.py:25: UserWarning: Update your `Conv2D` call to the Keras 2 API: `Conv2D(10, (1, 1), activation=\"relu\")`\n",
            "/usr/local/lib/python3.6/dist-packages/ipykernel_launcher.py:33: UserWarning: Update your `Conv2D` call to the Keras 2 API: `Conv2D(16, (3, 3), activation=\"relu\")`\n",
            "/usr/local/lib/python3.6/dist-packages/ipykernel_launcher.py:35: UserWarning: Update your `Conv2D` call to the Keras 2 API: `Conv2D(10, (1, 1), activation=\"relu\")`\n",
            "/usr/local/lib/python3.6/dist-packages/ipykernel_launcher.py:38: UserWarning: Update your `Conv2D` call to the Keras 2 API: `Conv2D(10, (7, 7))`\n"
          ],
          "name": "stderr"
        }
      ]
    },
    {
      "cell_type": "code",
      "metadata": {
        "id": "TzdAYg1k9K7Z",
        "colab_type": "code",
        "outputId": "64c8df1a-8bce-4171-fc72-e19f72a82c77",
        "colab": {
          "base_uri": "https://localhost:8080/",
          "height": 1030
        }
      },
      "source": [
        "model.summary()"
      ],
      "execution_count": 0,
      "outputs": [
        {
          "output_type": "stream",
          "text": [
            "_________________________________________________________________\n",
            "Layer (type)                 Output Shape              Param #   \n",
            "=================================================================\n",
            "conv2d_25 (Conv2D)           (None, 26, 26, 16)        160       \n",
            "_________________________________________________________________\n",
            "norm_1 (BatchNormalization)  (None, 26, 26, 16)        64        \n",
            "_________________________________________________________________\n",
            "conv2d_26 (Conv2D)           (None, 26, 26, 10)        170       \n",
            "_________________________________________________________________\n",
            "dropout_14 (Dropout)         (None, 26, 26, 10)        0         \n",
            "_________________________________________________________________\n",
            "conv2d_27 (Conv2D)           (None, 24, 24, 16)        1456      \n",
            "_________________________________________________________________\n",
            "norm_2 (BatchNormalization)  (None, 24, 24, 16)        64        \n",
            "_________________________________________________________________\n",
            "conv2d_28 (Conv2D)           (None, 24, 24, 10)        170       \n",
            "_________________________________________________________________\n",
            "dropout_15 (Dropout)         (None, 24, 24, 10)        0         \n",
            "_________________________________________________________________\n",
            "conv2d_29 (Conv2D)           (None, 22, 22, 32)        2912      \n",
            "_________________________________________________________________\n",
            "norm_3 (BatchNormalization)  (None, 22, 22, 32)        128       \n",
            "_________________________________________________________________\n",
            "conv2d_30 (Conv2D)           (None, 22, 22, 10)        330       \n",
            "_________________________________________________________________\n",
            "dropout_16 (Dropout)         (None, 22, 22, 10)        0         \n",
            "_________________________________________________________________\n",
            "max_pooling2d_3 (MaxPooling2 (None, 11, 11, 10)        0         \n",
            "_________________________________________________________________\n",
            "dropout_17 (Dropout)         (None, 11, 11, 10)        0         \n",
            "_________________________________________________________________\n",
            "conv2d_31 (Conv2D)           (None, 9, 9, 16)          1456      \n",
            "_________________________________________________________________\n",
            "norm_4 (BatchNormalization)  (None, 9, 9, 16)          64        \n",
            "_________________________________________________________________\n",
            "conv2d_32 (Conv2D)           (None, 9, 9, 10)          170       \n",
            "_________________________________________________________________\n",
            "dropout_18 (Dropout)         (None, 9, 9, 10)          0         \n",
            "_________________________________________________________________\n",
            "conv2d_33 (Conv2D)           (None, 7, 7, 16)          1456      \n",
            "_________________________________________________________________\n",
            "norm_6 (BatchNormalization)  (None, 7, 7, 16)          64        \n",
            "_________________________________________________________________\n",
            "conv2d_34 (Conv2D)           (None, 7, 7, 10)          170       \n",
            "_________________________________________________________________\n",
            "dropout_19 (Dropout)         (None, 7, 7, 10)          0         \n",
            "_________________________________________________________________\n",
            "conv2d_35 (Conv2D)           (None, 1, 1, 10)          4910      \n",
            "_________________________________________________________________\n",
            "flatten_3 (Flatten)          (None, 10)                0         \n",
            "_________________________________________________________________\n",
            "activation_3 (Activation)    (None, 10)                0         \n",
            "=================================================================\n",
            "Total params: 13,744\n",
            "Trainable params: 13,552\n",
            "Non-trainable params: 192\n",
            "_________________________________________________________________\n"
          ],
          "name": "stdout"
        }
      ]
    },
    {
      "cell_type": "code",
      "metadata": {
        "id": "0wUo4i_ENTx0",
        "colab_type": "code",
        "outputId": "94905132-6b73-4e41-f2ba-f87e61fd102d",
        "colab": {
          "base_uri": "https://localhost:8080/",
          "height": 34
        }
      },
      "source": [
        "from google.colab import drive\n",
        "drive.mount('/content/gdrive')"
      ],
      "execution_count": 0,
      "outputs": [
        {
          "output_type": "stream",
          "text": [
            "Drive already mounted at /content/gdrive; to attempt to forcibly remount, call drive.mount(\"/content/gdrive\", force_remount=True).\n"
          ],
          "name": "stdout"
        }
      ]
    },
    {
      "cell_type": "code",
      "metadata": {
        "id": "dHznkCTqPBIW",
        "colab_type": "code",
        "outputId": "546f4dac-ad42-450e-ab6e-a5e390662212",
        "colab": {
          "base_uri": "https://localhost:8080/",
          "height": 212
        }
      },
      "source": [
        "!wget https://raw.githubusercontent.com/bckenstler/CLR/master/clr_callback.py\n",
        "from clr_callback import *"
      ],
      "execution_count": 0,
      "outputs": [
        {
          "output_type": "stream",
          "text": [
            "--2019-05-18 19:00:03--  https://raw.githubusercontent.com/bckenstler/CLR/master/clr_callback.py\n",
            "Resolving raw.githubusercontent.com (raw.githubusercontent.com)... 151.101.0.133, 151.101.64.133, 151.101.128.133, ...\n",
            "Connecting to raw.githubusercontent.com (raw.githubusercontent.com)|151.101.0.133|:443... connected.\n",
            "HTTP request sent, awaiting response... 200 OK\n",
            "Length: 5326 (5.2K) [text/plain]\n",
            "Saving to: ‘clr_callback.py.7’\n",
            "\n",
            "\rclr_callback.py.7     0%[                    ]       0  --.-KB/s               \rclr_callback.py.7   100%[===================>]   5.20K  --.-KB/s    in 0s      \n",
            "\n",
            "2019-05-18 19:00:03 (61.3 MB/s) - ‘clr_callback.py.7’ saved [5326/5326]\n",
            "\n"
          ],
          "name": "stdout"
        }
      ]
    },
    {
      "cell_type": "code",
      "metadata": {
        "id": "VTC_XJVvPFSY",
        "colab_type": "code",
        "colab": {}
      },
      "source": [
        "filepath=\"/content/gdrive/My Drive/Raajesh-{epoch:02d}-{val_acc:.2f}.hdf5\"\n",
        "checkpoint = ModelCheckpoint(filepath, monitor='val_acc', verbose=1, save_best_only=True, mode='max')\n",
        "callbacks_list = [checkpoint]"
      ],
      "execution_count": 0,
      "outputs": []
    },
    {
      "cell_type": "code",
      "metadata": {
        "id": "6eomaFUxNEje",
        "colab_type": "code",
        "colab": {}
      },
      "source": [
        "model.compile(loss='categorical_crossentropy', optimizer='adam', metrics=['accuracy'])"
      ],
      "execution_count": 0,
      "outputs": []
    },
    {
      "cell_type": "code",
      "metadata": {
        "id": "PY0YAPQhPRdK",
        "colab_type": "code",
        "outputId": "414cd81c-94be-47d6-b575-b8858ed5b03c",
        "colab": {
          "base_uri": "https://localhost:8080/",
          "height": 1474
        }
      },
      "source": [
        "model.fit(X_train, Y_train, batch_size=128, epochs=20, verbose=1, validation_data=(X_test, Y_test), callbacks=callbacks_list)"
      ],
      "execution_count": 0,
      "outputs": [
        {
          "output_type": "stream",
          "text": [
            "Train on 60000 samples, validate on 10000 samples\n",
            "Epoch 1/20\n",
            "60000/60000 [==============================] - 9s 144us/step - loss: 0.3075 - acc: 0.8993 - val_loss: 0.0635 - val_acc: 0.9795\n",
            "\n",
            "Epoch 00001: val_acc improved from -inf to 0.97950, saving model to /content/gdrive/My Drive/Raajesh-01-0.98.hdf5\n",
            "Epoch 2/20\n",
            "60000/60000 [==============================] - 7s 116us/step - loss: 0.0947 - acc: 0.9702 - val_loss: 0.0527 - val_acc: 0.9821\n",
            "\n",
            "Epoch 00002: val_acc improved from 0.97950 to 0.98210, saving model to /content/gdrive/My Drive/Raajesh-02-0.98.hdf5\n",
            "Epoch 3/20\n",
            "60000/60000 [==============================] - 7s 115us/step - loss: 0.0739 - acc: 0.9765 - val_loss: 0.0447 - val_acc: 0.9869\n",
            "\n",
            "Epoch 00003: val_acc improved from 0.98210 to 0.98690, saving model to /content/gdrive/My Drive/Raajesh-03-0.99.hdf5\n",
            "Epoch 4/20\n",
            "60000/60000 [==============================] - 7s 117us/step - loss: 0.0686 - acc: 0.9782 - val_loss: 0.0501 - val_acc: 0.9846\n",
            "\n",
            "Epoch 00004: val_acc did not improve from 0.98690\n",
            "Epoch 5/20\n",
            "60000/60000 [==============================] - 8s 125us/step - loss: 0.0603 - acc: 0.9809 - val_loss: 0.0496 - val_acc: 0.9852\n",
            "\n",
            "Epoch 00005: val_acc did not improve from 0.98690\n",
            "Epoch 6/20\n",
            "60000/60000 [==============================] - 7s 116us/step - loss: 0.0585 - acc: 0.9818 - val_loss: 0.0413 - val_acc: 0.9873\n",
            "\n",
            "Epoch 00006: val_acc improved from 0.98690 to 0.98730, saving model to /content/gdrive/My Drive/Raajesh-06-0.99.hdf5\n",
            "Epoch 7/20\n",
            "60000/60000 [==============================] - 7s 115us/step - loss: 0.0538 - acc: 0.9827 - val_loss: 0.0282 - val_acc: 0.9903\n",
            "\n",
            "Epoch 00007: val_acc improved from 0.98730 to 0.99030, saving model to /content/gdrive/My Drive/Raajesh-07-0.99.hdf5\n",
            "Epoch 8/20\n",
            "60000/60000 [==============================] - 7s 114us/step - loss: 0.0530 - acc: 0.9829 - val_loss: 0.0302 - val_acc: 0.9903\n",
            "\n",
            "Epoch 00008: val_acc did not improve from 0.99030\n",
            "Epoch 9/20\n",
            "60000/60000 [==============================] - 7s 114us/step - loss: 0.0488 - acc: 0.9844 - val_loss: 0.0366 - val_acc: 0.9894\n",
            "\n",
            "Epoch 00009: val_acc did not improve from 0.99030\n",
            "Epoch 10/20\n",
            "60000/60000 [==============================] - 7s 114us/step - loss: 0.0482 - acc: 0.9842 - val_loss: 0.0417 - val_acc: 0.9858\n",
            "\n",
            "Epoch 00010: val_acc did not improve from 0.99030\n",
            "Epoch 11/20\n",
            "60000/60000 [==============================] - 7s 115us/step - loss: 0.0491 - acc: 0.9849 - val_loss: 0.0566 - val_acc: 0.9825\n",
            "\n",
            "Epoch 00011: val_acc did not improve from 0.99030\n",
            "Epoch 12/20\n",
            "60000/60000 [==============================] - 7s 114us/step - loss: 0.0457 - acc: 0.9854 - val_loss: 0.0376 - val_acc: 0.9891\n",
            "\n",
            "Epoch 00012: val_acc did not improve from 0.99030\n",
            "Epoch 13/20\n",
            "60000/60000 [==============================] - 7s 114us/step - loss: 0.0442 - acc: 0.9860 - val_loss: 0.0250 - val_acc: 0.9918\n",
            "\n",
            "Epoch 00013: val_acc improved from 0.99030 to 0.99180, saving model to /content/gdrive/My Drive/Raajesh-13-0.99.hdf5\n",
            "Epoch 14/20\n",
            "60000/60000 [==============================] - 7s 114us/step - loss: 0.0429 - acc: 0.9864 - val_loss: 0.0348 - val_acc: 0.9893\n",
            "\n",
            "Epoch 00014: val_acc did not improve from 0.99180\n",
            "Epoch 15/20\n",
            "60000/60000 [==============================] - 7s 115us/step - loss: 0.0430 - acc: 0.9861 - val_loss: 0.0318 - val_acc: 0.9904\n",
            "\n",
            "Epoch 00015: val_acc did not improve from 0.99180\n",
            "Epoch 16/20\n",
            "60000/60000 [==============================] - 7s 123us/step - loss: 0.0424 - acc: 0.9868 - val_loss: 0.0303 - val_acc: 0.9909\n",
            "\n",
            "Epoch 00016: val_acc did not improve from 0.99180\n",
            "Epoch 17/20\n",
            "60000/60000 [==============================] - 7s 120us/step - loss: 0.0417 - acc: 0.9865 - val_loss: 0.0241 - val_acc: 0.9926\n",
            "\n",
            "Epoch 00017: val_acc improved from 0.99180 to 0.99260, saving model to /content/gdrive/My Drive/Raajesh-17-0.99.hdf5\n",
            "Epoch 18/20\n",
            "60000/60000 [==============================] - 7s 115us/step - loss: 0.0400 - acc: 0.9874 - val_loss: 0.0253 - val_acc: 0.9914\n",
            "\n",
            "Epoch 00018: val_acc did not improve from 0.99260\n",
            "Epoch 19/20\n",
            "60000/60000 [==============================] - 7s 115us/step - loss: 0.0396 - acc: 0.9876 - val_loss: 0.0716 - val_acc: 0.9784\n",
            "\n",
            "Epoch 00019: val_acc did not improve from 0.99260\n",
            "Epoch 20/20\n",
            "60000/60000 [==============================] - 7s 114us/step - loss: 0.0378 - acc: 0.9878 - val_loss: 0.0261 - val_acc: 0.9903\n",
            "\n",
            "Epoch 00020: val_acc did not improve from 0.99260\n"
          ],
          "name": "stdout"
        },
        {
          "output_type": "execute_result",
          "data": {
            "text/plain": [
              "<keras.callbacks.History at 0x7f6ac4f21630>"
            ]
          },
          "metadata": {
            "tags": []
          },
          "execution_count": 25
        }
      ]
    },
    {
      "cell_type": "markdown",
      "metadata": {
        "id": "JpQDy4dIYzpi",
        "colab_type": "text"
      },
      "source": [
        "Train on 60000 samples, validate on 10000 samples\n",
        "Epoch 1/20\n",
        "60000/60000 [==============================] - 9s 144us/step - loss: 0.3075 - acc: 0.8993 - val_loss: 0.0635 - val_acc: 0.9795\n",
        "\n",
        "Epoch 00001: val_acc improved from -inf to 0.97950, saving model to /content/gdrive/My Drive/Raajesh-01-0.98.hdf5\n",
        "Epoch 2/20\n",
        "60000/60000 [==============================] - 7s 116us/step - loss: 0.0947 - acc: 0.9702 - val_loss: 0.0527 - val_acc: 0.9821\n",
        "\n",
        "Epoch 00002: val_acc improved from 0.97950 to 0.98210, saving model to /content/gdrive/My Drive/Raajesh-02-0.98.hdf5\n",
        "Epoch 3/20\n",
        "60000/60000 [==============================] - 7s 115us/step - loss: 0.0739 - acc: 0.9765 - val_loss: 0.0447 - val_acc: 0.9869\n",
        "\n",
        "Epoch 00003: val_acc improved from 0.98210 to 0.98690, saving model to /content/gdrive/My Drive/Raajesh-03-0.99.hdf5\n",
        "Epoch 4/20\n",
        "60000/60000 [==============================] - 7s 117us/step - loss: 0.0686 - acc: 0.9782 - val_loss: 0.0501 - val_acc: 0.9846\n",
        "\n",
        "Epoch 00004: val_acc did not improve from 0.98690\n",
        "Epoch 5/20\n",
        "60000/60000 [==============================] - 8s 125us/step - loss: 0.0603 - acc: 0.9809 - val_loss: 0.0496 - val_acc: 0.9852\n",
        "\n",
        "Epoch 00005: val_acc did not improve from 0.98690\n",
        "Epoch 6/20\n",
        "60000/60000 [==============================] - 7s 116us/step - loss: 0.0585 - acc: 0.9818 - val_loss: 0.0413 - val_acc: 0.9873\n",
        "\n",
        "Epoch 00006: val_acc improved from 0.98690 to 0.98730, saving model to /content/gdrive/My Drive/Raajesh-06-0.99.hdf5\n",
        "Epoch 7/20\n",
        "60000/60000 [==============================] - 7s 115us/step - loss: 0.0538 - acc: 0.9827 - val_loss: 0.0282 - val_acc: 0.9903\n",
        "\n",
        "Epoch 00007: val_acc improved from 0.98730 to 0.99030, saving model to /content/gdrive/My Drive/Raajesh-07-0.99.hdf5\n",
        "Epoch 8/20\n",
        "60000/60000 [==============================] - 7s 114us/step - loss: 0.0530 - acc: 0.9829 - val_loss: 0.0302 - val_acc: 0.9903\n",
        "\n",
        "Epoch 00008: val_acc did not improve from 0.99030\n",
        "Epoch 9/20\n",
        "60000/60000 [==============================] - 7s 114us/step - loss: 0.0488 - acc: 0.9844 - val_loss: 0.0366 - val_acc: 0.9894\n",
        "\n",
        "Epoch 00009: val_acc did not improve from 0.99030\n",
        "Epoch 10/20\n",
        "60000/60000 [==============================] - 7s 114us/step - loss: 0.0482 - acc: 0.9842 - val_loss: 0.0417 - val_acc: 0.9858\n",
        "\n",
        "Epoch 00010: val_acc did not improve from 0.99030\n",
        "Epoch 11/20\n",
        "60000/60000 [==============================] - 7s 115us/step - loss: 0.0491 - acc: 0.9849 - val_loss: 0.0566 - val_acc: 0.9825\n",
        "\n",
        "Epoch 00011: val_acc did not improve from 0.99030\n",
        "Epoch 12/20\n",
        "60000/60000 [==============================] - 7s 114us/step - loss: 0.0457 - acc: 0.9854 - val_loss: 0.0376 - val_acc: 0.9891\n",
        "\n",
        "Epoch 00012: val_acc did not improve from 0.99030\n",
        "Epoch 13/20\n",
        "60000/60000 [==============================] - 7s 114us/step - loss: 0.0442 - acc: 0.9860 - val_loss: 0.0250 - val_acc: 0.9918\n",
        "\n",
        "Epoch 00013: val_acc improved from 0.99030 to 0.99180, saving model to /content/gdrive/My Drive/Raajesh-13-0.99.hdf5\n",
        "Epoch 14/20\n",
        "60000/60000 [==============================] - 7s 114us/step - loss: 0.0429 - acc: 0.9864 - val_loss: 0.0348 - val_acc: 0.9893\n",
        "\n",
        "Epoch 00014: val_acc did not improve from 0.99180\n",
        "Epoch 15/20\n",
        "60000/60000 [==============================] - 7s 115us/step - loss: 0.0430 - acc: 0.9861 - val_loss: 0.0318 - val_acc: 0.9904\n",
        "\n",
        "Epoch 00015: val_acc did not improve from 0.99180\n",
        "Epoch 16/20\n",
        "60000/60000 [==============================] - 7s 123us/step - loss: 0.0424 - acc: 0.9868 - val_loss: 0.0303 - val_acc: 0.9909\n",
        "\n",
        "Epoch 00016: val_acc did not improve from 0.99180\n",
        "Epoch 17/20\n",
        "60000/60000 [==============================] - 7s 120us/step - loss: 0.0417 - acc: 0.9865 - val_loss: 0.0241 - val_acc: 0.9926\n",
        "\n",
        "Epoch 00017: val_acc improved from 0.99180 to 0.99260, saving model to /content/gdrive/My Drive/Raajesh-17-0.99.hdf5\n",
        "Epoch 18/20\n",
        "60000/60000 [==============================] - 7s 115us/step - loss: 0.0400 - acc: 0.9874 - val_loss: 0.0253 - val_acc: 0.9914\n",
        "\n",
        "Epoch 00018: val_acc did not improve from 0.99260\n",
        "Epoch 19/20\n",
        "60000/60000 [==============================] - 7s 115us/step - loss: 0.0396 - acc: 0.9876 - val_loss: 0.0716 - val_acc: 0.9784\n",
        "\n",
        "Epoch 00019: val_acc did not improve from 0.99260\n",
        "Epoch 20/20\n",
        "60000/60000 [==============================] - 7s 114us/step - loss: 0.0378 - acc: 0.9878 - val_loss: 0.0261 - val_acc: 0.9903\n",
        "\n",
        "Epoch 00020: val_acc did not improve from 0.99260\n",
        "<keras.callbacks.History at 0x7f6ac4f21630>"
      ]
    },
    {
      "cell_type": "code",
      "metadata": {
        "id": "8DBHC_zvSgEe",
        "colab_type": "code",
        "colab": {}
      },
      "source": [
        "model.load_weights('/content/gdrive/My Drive/Raajesh-17-0.99.hdf5')"
      ],
      "execution_count": 0,
      "outputs": []
    },
    {
      "cell_type": "code",
      "metadata": {
        "id": "OvV4Dmojq9Eg",
        "colab_type": "code",
        "outputId": "7cd3d86d-00f4-4858-a00e-9f844a49ca82",
        "colab": {
          "base_uri": "https://localhost:8080/",
          "height": 1474
        }
      },
      "source": [
        "model.fit(X_train, Y_train, batch_size=128, epochs=20, verbose=1,validation_data=(X_test, Y_test),callbacks=callbacks_list)"
      ],
      "execution_count": 0,
      "outputs": [
        {
          "output_type": "stream",
          "text": [
            "Train on 60000 samples, validate on 10000 samples\n",
            "Epoch 1/20\n",
            "60000/60000 [==============================] - 7s 115us/step - loss: 0.0391 - acc: 0.9875 - val_loss: 0.0282 - val_acc: 0.9913\n",
            "\n",
            "Epoch 00001: val_acc did not improve from 0.99260\n",
            "Epoch 2/20\n",
            "60000/60000 [==============================] - 7s 115us/step - loss: 0.0394 - acc: 0.9873 - val_loss: 0.0435 - val_acc: 0.9871\n",
            "\n",
            "Epoch 00002: val_acc did not improve from 0.99260\n",
            "Epoch 3/20\n",
            "60000/60000 [==============================] - 7s 116us/step - loss: 0.0398 - acc: 0.9871 - val_loss: 0.0248 - val_acc: 0.9916\n",
            "\n",
            "Epoch 00003: val_acc did not improve from 0.99260\n",
            "Epoch 4/20\n",
            "60000/60000 [==============================] - 7s 124us/step - loss: 0.0379 - acc: 0.9883 - val_loss: 0.0279 - val_acc: 0.9912\n",
            "\n",
            "Epoch 00004: val_acc did not improve from 0.99260\n",
            "Epoch 5/20\n",
            "60000/60000 [==============================] - 7s 116us/step - loss: 0.0370 - acc: 0.9882 - val_loss: 0.0246 - val_acc: 0.9921\n",
            "\n",
            "Epoch 00005: val_acc did not improve from 0.99260\n",
            "Epoch 6/20\n",
            "60000/60000 [==============================] - 7s 115us/step - loss: 0.0370 - acc: 0.9879 - val_loss: 0.0251 - val_acc: 0.9914\n",
            "\n",
            "Epoch 00006: val_acc did not improve from 0.99260\n",
            "Epoch 7/20\n",
            "60000/60000 [==============================] - 7s 114us/step - loss: 0.0342 - acc: 0.9888 - val_loss: 0.0304 - val_acc: 0.9901\n",
            "\n",
            "Epoch 00007: val_acc did not improve from 0.99260\n",
            "Epoch 8/20\n",
            "60000/60000 [==============================] - 7s 115us/step - loss: 0.0326 - acc: 0.9896 - val_loss: 0.0249 - val_acc: 0.9917\n",
            "\n",
            "Epoch 00008: val_acc did not improve from 0.99260\n",
            "Epoch 9/20\n",
            "60000/60000 [==============================] - 7s 117us/step - loss: 0.0345 - acc: 0.9887 - val_loss: 0.0237 - val_acc: 0.9925\n",
            "\n",
            "Epoch 00009: val_acc did not improve from 0.99260\n",
            "Epoch 10/20\n",
            "60000/60000 [==============================] - 7s 115us/step - loss: 0.0349 - acc: 0.9890 - val_loss: 0.0271 - val_acc: 0.9920\n",
            "\n",
            "Epoch 00010: val_acc did not improve from 0.99260\n",
            "Epoch 11/20\n",
            "60000/60000 [==============================] - 7s 115us/step - loss: 0.0352 - acc: 0.9886 - val_loss: 0.0285 - val_acc: 0.9908\n",
            "\n",
            "Epoch 00011: val_acc did not improve from 0.99260\n",
            "Epoch 12/20\n",
            "60000/60000 [==============================] - 7s 114us/step - loss: 0.0324 - acc: 0.9891 - val_loss: 0.0239 - val_acc: 0.9920\n",
            "\n",
            "Epoch 00012: val_acc did not improve from 0.99260\n",
            "Epoch 13/20\n",
            "60000/60000 [==============================] - 7s 115us/step - loss: 0.0333 - acc: 0.9893 - val_loss: 0.0268 - val_acc: 0.9921\n",
            "\n",
            "Epoch 00013: val_acc did not improve from 0.99260\n",
            "Epoch 14/20\n",
            "60000/60000 [==============================] - 7s 114us/step - loss: 0.0334 - acc: 0.9890 - val_loss: 0.0278 - val_acc: 0.9918\n",
            "\n",
            "Epoch 00014: val_acc did not improve from 0.99260\n",
            "Epoch 15/20\n",
            "60000/60000 [==============================] - 8s 125us/step - loss: 0.0317 - acc: 0.9897 - val_loss: 0.0243 - val_acc: 0.9924\n",
            "\n",
            "Epoch 00015: val_acc did not improve from 0.99260\n",
            "Epoch 16/20\n",
            "60000/60000 [==============================] - 7s 122us/step - loss: 0.0329 - acc: 0.9892 - val_loss: 0.0255 - val_acc: 0.9922\n",
            "\n",
            "Epoch 00016: val_acc did not improve from 0.99260\n",
            "Epoch 17/20\n",
            "60000/60000 [==============================] - 7s 115us/step - loss: 0.0315 - acc: 0.9896 - val_loss: 0.0296 - val_acc: 0.9911\n",
            "\n",
            "Epoch 00017: val_acc did not improve from 0.99260\n",
            "Epoch 18/20\n",
            "60000/60000 [==============================] - 7s 114us/step - loss: 0.0315 - acc: 0.9894 - val_loss: 0.0216 - val_acc: 0.9930\n",
            "\n",
            "Epoch 00018: val_acc improved from 0.99260 to 0.99300, saving model to /content/gdrive/My Drive/Raajesh-18-0.99.hdf5\n",
            "Epoch 19/20\n",
            "60000/60000 [==============================] - 7s 114us/step - loss: 0.0309 - acc: 0.9899 - val_loss: 0.0268 - val_acc: 0.9919\n",
            "\n",
            "Epoch 00019: val_acc did not improve from 0.99300\n",
            "Epoch 20/20\n",
            "60000/60000 [==============================] - 7s 114us/step - loss: 0.0304 - acc: 0.9903 - val_loss: 0.0220 - val_acc: 0.9935\n",
            "\n",
            "Epoch 00020: val_acc improved from 0.99300 to 0.99350, saving model to /content/gdrive/My Drive/Raajesh-20-0.99.hdf5\n"
          ],
          "name": "stdout"
        },
        {
          "output_type": "execute_result",
          "data": {
            "text/plain": [
              "<keras.callbacks.History at 0x7f6ac5d21080>"
            ]
          },
          "metadata": {
            "tags": []
          },
          "execution_count": 27
        }
      ]
    },
    {
      "cell_type": "markdown",
      "metadata": {
        "id": "hpUF-uvkYtZq",
        "colab_type": "text"
      },
      "source": [
        "Train on 60000 samples, validate on 10000 samples\n",
        "Epoch 1/20\n",
        "60000/60000 [==============================] - 7s 115us/step - loss: 0.0391 - acc: 0.9875 - val_loss: 0.0282 - val_acc: 0.9913\n",
        "\n",
        "Epoch 00001: val_acc did not improve from 0.99260\n",
        "Epoch 2/20\n",
        "60000/60000 [==============================] - 7s 115us/step - loss: 0.0394 - acc: 0.9873 - val_loss: 0.0435 - val_acc: 0.9871\n",
        "\n",
        "Epoch 00002: val_acc did not improve from 0.99260\n",
        "Epoch 3/20\n",
        "60000/60000 [==============================] - 7s 116us/step - loss: 0.0398 - acc: 0.9871 - val_loss: 0.0248 - val_acc: 0.9916\n",
        "\n",
        "Epoch 00003: val_acc did not improve from 0.99260\n",
        "Epoch 4/20\n",
        "60000/60000 [==============================] - 7s 124us/step - loss: 0.0379 - acc: 0.9883 - val_loss: 0.0279 - val_acc: 0.9912\n",
        "\n",
        "Epoch 00004: val_acc did not improve from 0.99260\n",
        "Epoch 5/20\n",
        "60000/60000 [==============================] - 7s 116us/step - loss: 0.0370 - acc: 0.9882 - val_loss: 0.0246 - val_acc: 0.9921\n",
        "\n",
        "Epoch 00005: val_acc did not improve from 0.99260\n",
        "Epoch 6/20\n",
        "60000/60000 [==============================] - 7s 115us/step - loss: 0.0370 - acc: 0.9879 - val_loss: 0.0251 - val_acc: 0.9914\n",
        "\n",
        "Epoch 00006: val_acc did not improve from 0.99260\n",
        "Epoch 7/20\n",
        "60000/60000 [==============================] - 7s 114us/step - loss: 0.0342 - acc: 0.9888 - val_loss: 0.0304 - val_acc: 0.9901\n",
        "\n",
        "Epoch 00007: val_acc did not improve from 0.99260\n",
        "Epoch 8/20\n",
        "60000/60000 [==============================] - 7s 115us/step - loss: 0.0326 - acc: 0.9896 - val_loss: 0.0249 - val_acc: 0.9917\n",
        "\n",
        "Epoch 00008: val_acc did not improve from 0.99260\n",
        "Epoch 9/20\n",
        "60000/60000 [==============================] - 7s 117us/step - loss: 0.0345 - acc: 0.9887 - val_loss: 0.0237 - val_acc: 0.9925\n",
        "\n",
        "Epoch 00009: val_acc did not improve from 0.99260\n",
        "Epoch 10/20\n",
        "60000/60000 [==============================] - 7s 115us/step - loss: 0.0349 - acc: 0.9890 - val_loss: 0.0271 - val_acc: 0.9920\n",
        "\n",
        "Epoch 00010: val_acc did not improve from 0.99260\n",
        "Epoch 11/20\n",
        "60000/60000 [==============================] - 7s 115us/step - loss: 0.0352 - acc: 0.9886 - val_loss: 0.0285 - val_acc: 0.9908\n",
        "\n",
        "Epoch 00011: val_acc did not improve from 0.99260\n",
        "Epoch 12/20\n",
        "60000/60000 [==============================] - 7s 114us/step - loss: 0.0324 - acc: 0.9891 - val_loss: 0.0239 - val_acc: 0.9920\n",
        "\n",
        "Epoch 00012: val_acc did not improve from 0.99260\n",
        "Epoch 13/20\n",
        "60000/60000 [==============================] - 7s 115us/step - loss: 0.0333 - acc: 0.9893 - val_loss: 0.0268 - val_acc: 0.9921\n",
        "\n",
        "Epoch 00013: val_acc did not improve from 0.99260\n",
        "Epoch 14/20\n",
        "60000/60000 [==============================] - 7s 114us/step - loss: 0.0334 - acc: 0.9890 - val_loss: 0.0278 - val_acc: 0.9918\n",
        "\n",
        "Epoch 00014: val_acc did not improve from 0.99260\n",
        "Epoch 15/20\n",
        "60000/60000 [==============================] - 8s 125us/step - loss: 0.0317 - acc: 0.9897 - val_loss: 0.0243 - val_acc: 0.9924\n",
        "\n",
        "Epoch 00015: val_acc did not improve from 0.99260\n",
        "Epoch 16/20\n",
        "60000/60000 [==============================] - 7s 122us/step - loss: 0.0329 - acc: 0.9892 - val_loss: 0.0255 - val_acc: 0.9922\n",
        "\n",
        "Epoch 00016: val_acc did not improve from 0.99260\n",
        "Epoch 17/20\n",
        "60000/60000 [==============================] - 7s 115us/step - loss: 0.0315 - acc: 0.9896 - val_loss: 0.0296 - val_acc: 0.9911\n",
        "\n",
        "Epoch 00017: val_acc did not improve from 0.99260\n",
        "Epoch 18/20\n",
        "60000/60000 [==============================] - 7s 114us/step - loss: 0.0315 - acc: 0.9894 - val_loss: 0.0216 - val_acc: 0.9930\n",
        "\n",
        "Epoch 00018: val_acc improved from 0.99260 to 0.99300, saving model to /content/gdrive/My Drive/Raajesh-18-0.99.hdf5\n",
        "Epoch 19/20\n",
        "60000/60000 [==============================] - 7s 114us/step - loss: 0.0309 - acc: 0.9899 - val_loss: 0.0268 - val_acc: 0.9919\n",
        "\n",
        "Epoch 00019: val_acc did not improve from 0.99300\n",
        "Epoch 20/20\n",
        "60000/60000 [==============================] - 7s 114us/step - loss: 0.0304 - acc: 0.9903 - val_loss: 0.0220 - val_acc: 0.9935\n",
        "\n",
        "Epoch 00020: val_acc improved from 0.99300 to 0.99350, saving model to /content/gdrive/My Drive/Raajesh-20-0.99.hdf5\n",
        "<keras.callbacks.History at 0x7f6ac5d21080>"
      ]
    },
    {
      "cell_type": "code",
      "metadata": {
        "id": "nU-Ka-NWv5cD",
        "colab_type": "code",
        "colab": {}
      },
      "source": [
        "model.load_weights('/content/gdrive/My Drive/Raajesh-20-0.99.hdf5')"
      ],
      "execution_count": 0,
      "outputs": []
    },
    {
      "cell_type": "code",
      "metadata": {
        "id": "rQs46GgZWJ_q",
        "colab_type": "code",
        "outputId": "fa89c201-574c-4657-99db-3638571fd55a",
        "colab": {
          "base_uri": "https://localhost:8080/",
          "height": 1474
        }
      },
      "source": [
        "model.fit(X_train, Y_train, batch_size=128, epochs=20, verbose=1,validation_data=(X_test, Y_test),callbacks=callbacks_list)"
      ],
      "execution_count": 0,
      "outputs": [
        {
          "output_type": "stream",
          "text": [
            "Train on 60000 samples, validate on 10000 samples\n",
            "Epoch 1/20\n",
            "60000/60000 [==============================] - 7s 115us/step - loss: 0.0325 - acc: 0.9897 - val_loss: 0.0235 - val_acc: 0.9925\n",
            "\n",
            "Epoch 00001: val_acc did not improve from 0.99350\n",
            "Epoch 2/20\n",
            "60000/60000 [==============================] - 7s 116us/step - loss: 0.0302 - acc: 0.9899 - val_loss: 0.0256 - val_acc: 0.9916\n",
            "\n",
            "Epoch 00002: val_acc did not improve from 0.99350\n",
            "Epoch 3/20\n",
            "60000/60000 [==============================] - 7s 124us/step - loss: 0.0312 - acc: 0.9897 - val_loss: 0.0221 - val_acc: 0.9927\n",
            "\n",
            "Epoch 00003: val_acc did not improve from 0.99350\n",
            "Epoch 4/20\n",
            "60000/60000 [==============================] - 7s 116us/step - loss: 0.0307 - acc: 0.9892 - val_loss: 0.0258 - val_acc: 0.9921\n",
            "\n",
            "Epoch 00004: val_acc did not improve from 0.99350\n",
            "Epoch 5/20\n",
            "60000/60000 [==============================] - 7s 115us/step - loss: 0.0302 - acc: 0.9902 - val_loss: 0.0225 - val_acc: 0.9933\n",
            "\n",
            "Epoch 00005: val_acc did not improve from 0.99350\n",
            "Epoch 6/20\n",
            "60000/60000 [==============================] - 7s 114us/step - loss: 0.0295 - acc: 0.9903 - val_loss: 0.0218 - val_acc: 0.9927\n",
            "\n",
            "Epoch 00006: val_acc did not improve from 0.99350\n",
            "Epoch 7/20\n",
            "60000/60000 [==============================] - 7s 114us/step - loss: 0.0295 - acc: 0.9905 - val_loss: 0.0251 - val_acc: 0.9919\n",
            "\n",
            "Epoch 00007: val_acc did not improve from 0.99350\n",
            "Epoch 8/20\n",
            "60000/60000 [==============================] - 7s 114us/step - loss: 0.0311 - acc: 0.9898 - val_loss: 0.0239 - val_acc: 0.9928\n",
            "\n",
            "Epoch 00008: val_acc did not improve from 0.99350\n",
            "Epoch 9/20\n",
            "60000/60000 [==============================] - 7s 114us/step - loss: 0.0278 - acc: 0.9911 - val_loss: 0.0238 - val_acc: 0.9922\n",
            "\n",
            "Epoch 00009: val_acc did not improve from 0.99350\n",
            "Epoch 10/20\n",
            "60000/60000 [==============================] - 7s 114us/step - loss: 0.0283 - acc: 0.9908 - val_loss: 0.0227 - val_acc: 0.9927\n",
            "\n",
            "Epoch 00010: val_acc did not improve from 0.99350\n",
            "Epoch 11/20\n",
            "60000/60000 [==============================] - 7s 114us/step - loss: 0.0292 - acc: 0.9900 - val_loss: 0.0291 - val_acc: 0.9916\n",
            "\n",
            "Epoch 00011: val_acc did not improve from 0.99350\n",
            "Epoch 12/20\n",
            "60000/60000 [==============================] - 7s 119us/step - loss: 0.0284 - acc: 0.9908 - val_loss: 0.0245 - val_acc: 0.9922\n",
            "\n",
            "Epoch 00012: val_acc did not improve from 0.99350\n",
            "Epoch 13/20\n",
            "60000/60000 [==============================] - 8s 125us/step - loss: 0.0278 - acc: 0.9910 - val_loss: 0.0301 - val_acc: 0.9904\n",
            "\n",
            "Epoch 00013: val_acc did not improve from 0.99350\n",
            "Epoch 14/20\n",
            "60000/60000 [==============================] - 7s 122us/step - loss: 0.0292 - acc: 0.9905 - val_loss: 0.0205 - val_acc: 0.9931\n",
            "\n",
            "Epoch 00014: val_acc did not improve from 0.99350\n",
            "Epoch 15/20\n",
            "60000/60000 [==============================] - 7s 121us/step - loss: 0.0273 - acc: 0.9908 - val_loss: 0.0230 - val_acc: 0.9930\n",
            "\n",
            "Epoch 00015: val_acc did not improve from 0.99350\n",
            "Epoch 16/20\n",
            "60000/60000 [==============================] - 7s 115us/step - loss: 0.0276 - acc: 0.9913 - val_loss: 0.0237 - val_acc: 0.9927\n",
            "\n",
            "Epoch 00016: val_acc did not improve from 0.99350\n",
            "Epoch 17/20\n",
            "60000/60000 [==============================] - 7s 115us/step - loss: 0.0265 - acc: 0.9916 - val_loss: 0.0194 - val_acc: 0.9943\n",
            "\n",
            "Epoch 00017: val_acc improved from 0.99350 to 0.99430, saving model to /content/gdrive/My Drive/Raajesh-17-0.99.hdf5\n",
            "Epoch 18/20\n",
            "60000/60000 [==============================] - 7s 115us/step - loss: 0.0288 - acc: 0.9909 - val_loss: 0.0230 - val_acc: 0.9926\n",
            "\n",
            "Epoch 00018: val_acc did not improve from 0.99430\n",
            "Epoch 19/20\n",
            "60000/60000 [==============================] - 7s 114us/step - loss: 0.0274 - acc: 0.9909 - val_loss: 0.0221 - val_acc: 0.9934\n",
            "\n",
            "Epoch 00019: val_acc did not improve from 0.99430\n",
            "Epoch 20/20\n",
            "60000/60000 [==============================] - 7s 115us/step - loss: 0.0257 - acc: 0.9916 - val_loss: 0.0261 - val_acc: 0.9926\n",
            "\n",
            "Epoch 00020: val_acc did not improve from 0.99430\n"
          ],
          "name": "stdout"
        },
        {
          "output_type": "execute_result",
          "data": {
            "text/plain": [
              "<keras.callbacks.History at 0x7f6aa1ed3f60>"
            ]
          },
          "metadata": {
            "tags": []
          },
          "execution_count": 32
        }
      ]
    },
    {
      "cell_type": "markdown",
      "metadata": {
        "id": "4YjUB5TYYmHH",
        "colab_type": "text"
      },
      "source": [
        "Train on 60000 samples, validate on 10000 samples\n",
        "Epoch 1/20\n",
        "60000/60000 [==============================] - 7s 115us/step - loss: 0.0325 - acc: 0.9897 - val_loss: 0.0235 - val_acc: 0.9925\n",
        "\n",
        "Epoch 00001: val_acc did not improve from 0.99350\n",
        "Epoch 2/20\n",
        "60000/60000 [==============================] - 7s 116us/step - loss: 0.0302 - acc: 0.9899 - val_loss: 0.0256 - val_acc: 0.9916\n",
        "\n",
        "Epoch 00002: val_acc did not improve from 0.99350\n",
        "Epoch 3/20\n",
        "60000/60000 [==============================] - 7s 124us/step - loss: 0.0312 - acc: 0.9897 - val_loss: 0.0221 - val_acc: 0.9927\n",
        "\n",
        "Epoch 00003: val_acc did not improve from 0.99350\n",
        "Epoch 4/20\n",
        "60000/60000 [==============================] - 7s 116us/step - loss: 0.0307 - acc: 0.9892 - val_loss: 0.0258 - val_acc: 0.9921\n",
        "\n",
        "Epoch 00004: val_acc did not improve from 0.99350\n",
        "Epoch 5/20\n",
        "60000/60000 [==============================] - 7s 115us/step - loss: 0.0302 - acc: 0.9902 - val_loss: 0.0225 - val_acc: 0.9933\n",
        "\n",
        "Epoch 00005: val_acc did not improve from 0.99350\n",
        "Epoch 6/20\n",
        "60000/60000 [==============================] - 7s 114us/step - loss: 0.0295 - acc: 0.9903 - val_loss: 0.0218 - val_acc: 0.9927\n",
        "\n",
        "Epoch 00006: val_acc did not improve from 0.99350\n",
        "Epoch 7/20\n",
        "60000/60000 [==============================] - 7s 114us/step - loss: 0.0295 - acc: 0.9905 - val_loss: 0.0251 - val_acc: 0.9919\n",
        "\n",
        "Epoch 00007: val_acc did not improve from 0.99350\n",
        "Epoch 8/20\n",
        "60000/60000 [==============================] - 7s 114us/step - loss: 0.0311 - acc: 0.9898 - val_loss: 0.0239 - val_acc: 0.9928\n",
        "\n",
        "Epoch 00008: val_acc did not improve from 0.99350\n",
        "Epoch 9/20\n",
        "60000/60000 [==============================] - 7s 114us/step - loss: 0.0278 - acc: 0.9911 - val_loss: 0.0238 - val_acc: 0.9922\n",
        "\n",
        "Epoch 00009: val_acc did not improve from 0.99350\n",
        "Epoch 10/20\n",
        "60000/60000 [==============================] - 7s 114us/step - loss: 0.0283 - acc: 0.9908 - val_loss: 0.0227 - val_acc: 0.9927\n",
        "\n",
        "Epoch 00010: val_acc did not improve from 0.99350\n",
        "Epoch 11/20\n",
        "60000/60000 [==============================] - 7s 114us/step - loss: 0.0292 - acc: 0.9900 - val_loss: 0.0291 - val_acc: 0.9916\n",
        "\n",
        "Epoch 00011: val_acc did not improve from 0.99350\n",
        "Epoch 12/20\n",
        "60000/60000 [==============================] - 7s 119us/step - loss: 0.0284 - acc: 0.9908 - val_loss: 0.0245 - val_acc: 0.9922\n",
        "\n",
        "Epoch 00012: val_acc did not improve from 0.99350\n",
        "Epoch 13/20\n",
        "60000/60000 [==============================] - 8s 125us/step - loss: 0.0278 - acc: 0.9910 - val_loss: 0.0301 - val_acc: 0.9904\n",
        "\n",
        "Epoch 00013: val_acc did not improve from 0.99350\n",
        "Epoch 14/20\n",
        "60000/60000 [==============================] - 7s 122us/step - loss: 0.0292 - acc: 0.9905 - val_loss: 0.0205 - val_acc: 0.9931\n",
        "\n",
        "Epoch 00014: val_acc did not improve from 0.99350\n",
        "Epoch 15/20\n",
        "60000/60000 [==============================] - 7s 121us/step - loss: 0.0273 - acc: 0.9908 - val_loss: 0.0230 - val_acc: 0.9930\n",
        "\n",
        "Epoch 00015: val_acc did not improve from 0.99350\n",
        "Epoch 16/20\n",
        "60000/60000 [==============================] - 7s 115us/step - loss: 0.0276 - acc: 0.9913 - val_loss: 0.0237 - val_acc: 0.9927\n",
        "\n",
        "Epoch 00016: val_acc did not improve from 0.99350\n",
        "Epoch 17/20\n",
        "60000/60000 [==============================] - 7s 115us/step - loss: 0.0265 - acc: 0.9916 - val_loss: 0.0194 - val_acc: 0.9943\n",
        "\n",
        "Epoch 00017: val_acc improved from 0.99350 to 0.99430, saving model to /content/gdrive/My Drive/Raajesh-17-0.99.hdf5\n",
        "Epoch 18/20\n",
        "60000/60000 [==============================] - 7s 115us/step - loss: 0.0288 - acc: 0.9909 - val_loss: 0.0230 - val_acc: 0.9926\n",
        "\n",
        "Epoch 00018: val_acc did not improve from 0.99430\n",
        "Epoch 19/20\n",
        "60000/60000 [==============================] - 7s 114us/step - loss: 0.0274 - acc: 0.9909 - val_loss: 0.0221 - val_acc: 0.9934\n",
        "\n",
        "Epoch 00019: val_acc did not improve from 0.99430\n",
        "Epoch 20/20\n",
        "60000/60000 [==============================] - 7s 115us/step - loss: 0.0257 - acc: 0.9916 - val_loss: 0.0261 - val_acc: 0.9926\n",
        "\n",
        "Epoch 00020: val_acc did not improve from 0.99430\n",
        "<keras.callbacks.History at 0x7f6aa1ed3f60>"
      ]
    },
    {
      "cell_type": "code",
      "metadata": {
        "id": "W5OoXHlFXV9T",
        "colab_type": "code",
        "colab": {}
      },
      "source": [
        "model.load_weights('/content/gdrive/My Drive/Raajesh-17-0.99.hdf5')"
      ],
      "execution_count": 0,
      "outputs": []
    },
    {
      "cell_type": "code",
      "metadata": {
        "id": "AtsH-lLk-eLb",
        "colab_type": "code",
        "colab": {}
      },
      "source": [
        "score = model.evaluate(X_test, Y_test, verbose=0)"
      ],
      "execution_count": 0,
      "outputs": []
    },
    {
      "cell_type": "code",
      "metadata": {
        "id": "mkX8JMv79q9r",
        "colab_type": "code",
        "outputId": "e365d8e8-89c3-4371-f50d-e4343dbbc88a",
        "colab": {
          "base_uri": "https://localhost:8080/",
          "height": 34
        }
      },
      "source": [
        "print(score)"
      ],
      "execution_count": 0,
      "outputs": [
        {
          "output_type": "stream",
          "text": [
            "[0.01938593520115828, 0.9943]\n"
          ],
          "name": "stdout"
        }
      ]
    },
    {
      "cell_type": "code",
      "metadata": {
        "id": "OCWoJkwE9suh",
        "colab_type": "code",
        "colab": {}
      },
      "source": [
        "y_pred = model.predict(X_test)"
      ],
      "execution_count": 0,
      "outputs": []
    },
    {
      "cell_type": "code",
      "metadata": {
        "id": "Ym7iCFBm9uBs",
        "colab_type": "code",
        "outputId": "82ddbe5b-ab8a-423b-e083-7b5be14cc035",
        "colab": {
          "base_uri": "https://localhost:8080/",
          "height": 514
        }
      },
      "source": [
        "print(y_pred[:9])\n",
        "print(y_test[:9])"
      ],
      "execution_count": 0,
      "outputs": [
        {
          "output_type": "stream",
          "text": [
            "[[5.26310636e-12 6.65816335e-09 3.10012911e-06 1.06738423e-06\n",
            "  9.69656369e-11 2.55020088e-10 2.94993488e-21 9.99995232e-01\n",
            "  1.95113700e-11 5.49443428e-07]\n",
            " [7.80973508e-08 2.35298376e-06 9.99989629e-01 1.83852800e-09\n",
            "  6.20411500e-09 4.63912908e-10 7.81753806e-06 4.78733546e-12\n",
            "  6.51518022e-08 2.76987409e-11]\n",
            " [2.93754493e-10 9.99990225e-01 4.05959645e-06 4.17352229e-11\n",
            "  2.88246474e-06 3.80794241e-08 1.29776119e-08 2.76001310e-06\n",
            "  3.28161076e-09 2.20227014e-09]\n",
            " [9.99108374e-01 2.61259367e-14 2.10150966e-10 3.12541992e-08\n",
            "  1.46696244e-09 3.85996572e-07 8.83826811e-04 8.20254802e-12\n",
            "  7.23471032e-07 6.63262472e-06]\n",
            " [6.61082896e-13 7.15338433e-13 2.73485106e-11 1.06045923e-12\n",
            "  9.99992371e-01 8.25971561e-13 5.23546788e-12 2.53788296e-10\n",
            "  5.62065783e-10 7.65993809e-06]\n",
            " [3.40835193e-10 9.99991894e-01 6.86511271e-07 1.09250569e-11\n",
            "  6.25783878e-06 2.20905960e-09 4.79787499e-09 1.09822372e-06\n",
            "  1.31133895e-08 3.42333872e-09]\n",
            " [2.15490244e-17 1.10561240e-08 2.06369188e-09 1.20673437e-12\n",
            "  9.99981523e-01 3.38428174e-11 1.21705998e-12 1.36501285e-07\n",
            "  1.68389342e-05 1.46151569e-06]\n",
            " [2.97488256e-10 1.42361220e-10 1.03048015e-08 7.86121018e-06\n",
            "  1.08874367e-04 3.34975248e-08 2.73911238e-13 6.54174698e-07\n",
            "  1.95685891e-04 9.99686956e-01]\n",
            " [4.90683102e-12 2.64899099e-16 6.66346492e-12 1.68372864e-07\n",
            "  1.64330841e-10 9.14706349e-01 6.34118691e-02 1.04641476e-14\n",
            "  2.18811948e-02 3.70665049e-07]]\n",
            "[7 2 1 0 4 1 4 9 5]\n"
          ],
          "name": "stdout"
        }
      ]
    },
    {
      "cell_type": "code",
      "metadata": {
        "id": "CT--y98_dr2T",
        "colab_type": "code",
        "colab": {}
      },
      "source": [
        "layer_dict = dict([(layer.name, layer) for layer in model.layers])"
      ],
      "execution_count": 0,
      "outputs": []
    },
    {
      "cell_type": "code",
      "metadata": {
        "id": "2GY4Upv4dsUR",
        "colab_type": "code",
        "colab": {}
      },
      "source": [
        "import numpy as np\n",
        "from matplotlib import pyplot as plt\n",
        "from keras import backend as K\n",
        "%matplotlib inline\n",
        "# util function to convert a tensor into a valid image\n",
        "def deprocess_image(x):\n",
        "    # normalize tensor: center on 0., ensure std is 0.1\n",
        "    x -= x.mean()\n",
        "    x /= (x.std() + 1e-5)\n",
        "    x *= 0.1\n",
        "\n",
        "    # clip to [0, 1]\n",
        "    x += 0.5\n",
        "    x = np.clip(x, 0, 1)\n",
        "\n",
        "    # convert to RGB array\n",
        "    x *= 255\n",
        "    #x = x.transpose((1, 2, 0))\n",
        "    x = np.clip(x, 0, 255).astype('uint8')\n",
        "    return x\n",
        "\n",
        "def vis_img_in_filter(img = np.array(X_train[2]).reshape((1, 28, 28, 1)).astype(np.float64), \n",
        "                      layer_name = 'conv2d_14'):\n",
        "    layer_output = layer_dict[layer_name].output\n",
        "    img_ascs = list()\n",
        "    for filter_index in range(layer_output.shape[3]):\n",
        "        # build a loss function that maximizes the activation\n",
        "        # of the nth filter of the layer considered\n",
        "        loss = K.mean(layer_output[:, :, :, filter_index])\n",
        "\n",
        "        # compute the gradient of the input picture wrt this loss\n",
        "        grads = K.gradients(loss, model.input)[0]\n",
        "\n",
        "        # normalization trick: we normalize the gradient\n",
        "        grads /= (K.sqrt(K.mean(K.square(grads))) + 1e-5)\n",
        "\n",
        "        # this function returns the loss and grads given the input picture\n",
        "        iterate = K.function([model.input], [loss, grads])\n",
        "\n",
        "        # step size for gradient ascent\n",
        "        step = 5.\n",
        "\n",
        "        img_asc = np.array(img)\n",
        "        # run gradient ascent for 20 steps\n",
        "        for i in range(20):\n",
        "            loss_value, grads_value = iterate([img_asc])\n",
        "            img_asc += grads_value * step\n",
        "\n",
        "        img_asc = img_asc[0]\n",
        "        img_ascs.append(deprocess_image(img_asc).reshape((28, 28)))\n",
        "        \n",
        "    if layer_output.shape[3] >= 35:\n",
        "        plot_x, plot_y = 6, 6\n",
        "    elif layer_output.shape[3] >= 23:\n",
        "        plot_x, plot_y = 4, 6\n",
        "    elif layer_output.shape[3] >= 11:\n",
        "        plot_x, plot_y = 2, 6\n",
        "    else:\n",
        "        plot_x, plot_y = 1, 2\n",
        "    fig, ax = plt.subplots(plot_x, plot_y, figsize = (12, 12))\n",
        "    ax[0, 0].imshow(img.reshape((28, 28)), cmap = 'gray')\n",
        "    ax[0, 0].set_title('Input image')\n",
        "    fig.suptitle('Input image and %s filters' % (layer_name,))\n",
        "    fig.tight_layout(pad = 0.3, rect = [0, 0, 0.9, 0.9])\n",
        "    for (x, y) in [(i, j) for i in range(plot_x) for j in range(plot_y)]:\n",
        "        if x == 0 and y == 0:\n",
        "            continue\n",
        "        ax[x, y].imshow(img_ascs[x * plot_y + y - 1], cmap = 'gray')\n",
        "        ax[x, y].set_title('filter %d' % (x * plot_y + y - 1))\n",
        "\n",
        "vis_img_in_filter()"
      ],
      "execution_count": 0,
      "outputs": []
    }
  ]
}