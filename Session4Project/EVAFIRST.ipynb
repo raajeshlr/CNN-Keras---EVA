{
  "nbformat": 4,
  "nbformat_minor": 0,
  "metadata": {
    "colab": {
      "name": "EVAFIRST.ipynb",
      "version": "0.3.2",
      "provenance": [],
      "collapsed_sections": []
    },
    "kernelspec": {
      "name": "python3",
      "display_name": "Python 3"
    },
    "accelerator": "GPU"
  },
  "cells": [
    {
      "cell_type": "markdown",
      "metadata": {
        "id": "hlCxHPXvrUrh",
        "colab_type": "text"
      },
      "source": [
        "### WHAT LEARNT FROM 9 CODES SHARED:\n",
        "\n",
        "-  We have to stop convolution once we reach layer size **7x7 or 4x4 for MNIST dataset**,  reason is we have **reached the required receptive field**, we usually add padding and use GAP at the end.\n",
        "-   Using **more than one MaxPooling exceeds the required receptive field**, So use **always one** MaxPooling.\n",
        "-   Define the architecture in such a way that.\n",
        "      -  **Use one layer before** and always convert it into specific number of channels, so that it will help u at the end when you use GAP else you will get stuck.\n",
        "      -  **Convolution block** : Increase the channels size as required to find the edges and patterns of the image, this function is called several times and respectively it detects the objects.\n",
        "      -  **Transition block** : It usually has **one Maxpooling** and the **bottlenect - 1x1** in any order. Maxpool divides the image resolution and 1x1 usually combines the features from the channels and its the best way to reduce channels.\n",
        "- In all those 9 codes : We have increased the channels size sequentially and reduced it using 1x1 and used Maxpooling.\n",
        "\n",
        "### MY STRATEGY:\n",
        "\n",
        "### I have defined the architecture like the paper SQUEEZE AND EXCITATION NETWORKS.\n",
        "\n",
        "### Increase channels using 3x3, immediately decrease it using 1x1, repeat it.\n",
        "\n",
        "#### TOOLS USED AND OBSERVATIONS \n",
        "\n",
        "-   I have just increased the channels starting 128 to 64, 256 to 64, 512 to 64, MP, 128 to 64, 256 to 64, Final convolution (7x7x64), then 1x1x10 (Required output).\n",
        "-  No Batch Normalization, No Dropout, No Learning rate schedular.\n",
        "-  I have never cared about parameters in this network and used a whopping 7,79,594 parameters.\n",
        "-  Using batch size = 32, and the Training accuracies are clearly increasing from 95.9 to 99.8 and it is clearly overfitting.\n",
        "-   I have ran for 50 epochs and the validation accuracy reached the **MAXIMUM OF 99.280 in 35th epoch**\n",
        "\n",
        "##Note : I have removed the comments for each cells as i have given many times in previous assignments (So that it looks clean).##"
      ]
    },
    {
      "cell_type": "code",
      "metadata": {
        "id": "3m3w1Cw49Zkt",
        "colab_type": "code",
        "outputId": "020ea50e-0b4d-4f3e-a176-17387d3abae7",
        "colab": {
          "base_uri": "https://localhost:8080/",
          "height": 34
        }
      },
      "source": [
        "!pip install -q keras\n",
        "import keras"
      ],
      "execution_count": 0,
      "outputs": [
        {
          "output_type": "stream",
          "text": [
            "Using TensorFlow backend.\n"
          ],
          "name": "stderr"
        }
      ]
    },
    {
      "cell_type": "code",
      "metadata": {
        "id": "Eso6UHE080D4",
        "colab_type": "code",
        "colab": {}
      },
      "source": [
        "import numpy as np\n",
        "\n",
        "from keras.models import Sequential\n",
        "from keras.layers import Dense, Dropout, Activation, Flatten, Add\n",
        "from keras.layers import Convolution2D, MaxPooling2D, BatchNormalization\n",
        "from keras.utils import np_utils\n",
        "\n",
        "from keras.datasets import mnist"
      ],
      "execution_count": 0,
      "outputs": []
    },
    {
      "cell_type": "markdown",
      "metadata": {
        "id": "zByEi95J86RD",
        "colab_type": "text"
      },
      "source": [
        "### Load pre-shuffled MNIST data into train and test sets"
      ]
    },
    {
      "cell_type": "code",
      "metadata": {
        "id": "7eRM0QWN83PV",
        "colab_type": "code",
        "colab": {}
      },
      "source": [
        "(X_train, y_train), (X_test, y_test) = mnist.load_data()"
      ],
      "execution_count": 0,
      "outputs": []
    },
    {
      "cell_type": "code",
      "metadata": {
        "id": "4a4Be72j8-ZC",
        "colab_type": "code",
        "outputId": "6b801086-23ee-44df-c3e5-f33e81e8d448",
        "colab": {
          "base_uri": "https://localhost:8080/",
          "height": 304
        }
      },
      "source": [
        "print (X_train.shape)\n",
        "from matplotlib import pyplot as plt\n",
        "%matplotlib inline\n",
        "plt.imshow(X_train[0])"
      ],
      "execution_count": 0,
      "outputs": [
        {
          "output_type": "stream",
          "text": [
            "(60000, 28, 28)\n"
          ],
          "name": "stdout"
        },
        {
          "output_type": "execute_result",
          "data": {
            "text/plain": [
              "<matplotlib.image.AxesImage at 0x7f2212632b70>"
            ]
          },
          "metadata": {
            "tags": []
          },
          "execution_count": 4
        },
        {
          "output_type": "display_data",
          "data": {
            "image/png": "[encoded data removed]",
            "text/plain": [
              "<Figure size 432x288 with 1 Axes>"
            ]
          },
          "metadata": {
            "tags": []
          }
        }
      ]
    },
    {
      "cell_type": "code",
      "metadata": {
        "id": "dkmprriw9AnZ",
        "colab_type": "code",
        "colab": {}
      },
      "source": [
        "X_train = X_train.reshape(X_train.shape[0], 28, 28,1)\n",
        "X_test = X_test.reshape(X_test.shape[0], 28, 28,1)"
      ],
      "execution_count": 0,
      "outputs": []
    },
    {
      "cell_type": "code",
      "metadata": {
        "id": "X2m4YS4E9CRh",
        "colab_type": "code",
        "colab": {}
      },
      "source": [
        "X_train = X_train.astype('float32')\n",
        "X_test = X_test.astype('float32')\n",
        "X_train /= 255\n",
        "X_test /= 255"
      ],
      "execution_count": 0,
      "outputs": []
    },
    {
      "cell_type": "code",
      "metadata": {
        "id": "0Mn0vAYD9DvB",
        "colab_type": "code",
        "outputId": "e41cde7a-ad32-452f-b9a7-4653d772c0f1",
        "colab": {
          "base_uri": "https://localhost:8080/",
          "height": 34
        }
      },
      "source": [
        "y_train[:10]"
      ],
      "execution_count": 0,
      "outputs": [
        {
          "output_type": "execute_result",
          "data": {
            "text/plain": [
              "array([5, 0, 4, 1, 9, 2, 1, 3, 1, 4], dtype=uint8)"
            ]
          },
          "metadata": {
            "tags": []
          },
          "execution_count": 7
        }
      ]
    },
    {
      "cell_type": "code",
      "metadata": {
        "id": "ZG8JiXR39FHC",
        "colab_type": "code",
        "colab": {}
      },
      "source": [
        "Y_train = np_utils.to_categorical(y_train, 10)\n",
        "Y_test = np_utils.to_categorical(y_test, 10)"
      ],
      "execution_count": 0,
      "outputs": []
    },
    {
      "cell_type": "code",
      "metadata": {
        "id": "fYlFRvKS9HMB",
        "colab_type": "code",
        "outputId": "c8a8eb9f-ccf3-4577-9047-a5517bf5f0f8",
        "colab": {
          "base_uri": "https://localhost:8080/",
          "height": 194
        }
      },
      "source": [
        "Y_train[:10]"
      ],
      "execution_count": 0,
      "outputs": [
        {
          "output_type": "execute_result",
          "data": {
            "text/plain": [
              "array([[0., 0., 0., 0., 0., 1., 0., 0., 0., 0.],\n",
              "       [1., 0., 0., 0., 0., 0., 0., 0., 0., 0.],\n",
              "       [0., 0., 0., 0., 1., 0., 0., 0., 0., 0.],\n",
              "       [0., 1., 0., 0., 0., 0., 0., 0., 0., 0.],\n",
              "       [0., 0., 0., 0., 0., 0., 0., 0., 0., 1.],\n",
              "       [0., 0., 1., 0., 0., 0., 0., 0., 0., 0.],\n",
              "       [0., 1., 0., 0., 0., 0., 0., 0., 0., 0.],\n",
              "       [0., 0., 0., 1., 0., 0., 0., 0., 0., 0.],\n",
              "       [0., 1., 0., 0., 0., 0., 0., 0., 0., 0.],\n",
              "       [0., 0., 0., 0., 1., 0., 0., 0., 0., 0.]], dtype=float32)"
            ]
          },
          "metadata": {
            "tags": []
          },
          "execution_count": 9
        }
      ]
    },
    {
      "cell_type": "code",
      "metadata": {
        "id": "osKqT73Q9JJB",
        "colab_type": "code",
        "outputId": "3b6f88db-92ef-4679-c0d4-7586823c4a11",
        "colab": {
          "base_uri": "https://localhost:8080/",
          "height": 410
        }
      },
      "source": [
        "from keras.layers import Activation\n",
        "model = Sequential()\n",
        "\n",
        " \n",
        "model.add(Convolution2D(128, 3, 3, activation='relu', input_shape=(28,28,1))) # Receptive field : 3x3 , Resolution output : 26x26x128\n",
        "model.add(Convolution2D(64, 1,1, activation='relu')) # Receptive field : 3x3 , Resolution output : 26x26x64\n",
        "\n",
        "model.add(Convolution2D(256, 3, 3, activation='relu')) # Receptive field : 5x5 , Resolution output : 24x24x256\n",
        "model.add(Convolution2D(64, 1,1, activation='relu')) # Receptive field : 5x5 , Resolution output : 26x26x64\n",
        "\n",
        "model.add(Convolution2D(512, 3, 3, activation='relu')) # Receptive field : 7x7 , Resolution output : 22x22x512\n",
        "model.add(Convolution2D(64, 1,1, activation='relu')) # Receptive field : 7x7 , Resolution output : 22x22x64\n",
        "\n",
        "model.add(MaxPooling2D(pool_size=(2,2))) # Receptive field : 14x14 , Resolution output : 11x11x64\n",
        "\n",
        "model.add(Convolution2D(128, 3, 3, activation='relu')) # Receptive field : 16x16 , Resolution output : 9x9x128\n",
        "model.add(Convolution2D(64, 1,1, activation='relu')) # Receptive field : 16x16 , Resolution output : 9x9x10\n",
        "\n",
        "model.add(Convolution2D(256, 3, 3, activation='relu')) # Receptive field : 18x18 , Resolution output : 7x7x256\n",
        "model.add(Convolution2D(64, 1,1, activation='relu')) # Receptive field : 18x18 , Resolution output : 7x7x64\n",
        "\n",
        "model.add(Convolution2D(10, 7, 7)) , #Resolution output : 1x1x10\n",
        "model.add(Flatten())\n",
        "model.add(Activation('softmax'))"
      ],
      "execution_count": 0,
      "outputs": [
        {
          "output_type": "stream",
          "text": [
            "WARNING:tensorflow:From /usr/local/lib/python3.6/dist-packages/tensorflow/python/framework/op_def_library.py:263: colocate_with (from tensorflow.python.framework.ops) is deprecated and will be removed in a future version.\n",
            "Instructions for updating:\n",
            "Colocations handled automatically by placer.\n"
          ],
          "name": "stdout"
        },
        {
          "output_type": "stream",
          "text": [
            "/usr/local/lib/python3.6/dist-packages/ipykernel_launcher.py:5: UserWarning: Update your `Conv2D` call to the Keras 2 API: `Conv2D(128, (3, 3), activation=\"relu\", input_shape=(28, 28, 1...)`\n",
            "  \"\"\"\n",
            "/usr/local/lib/python3.6/dist-packages/ipykernel_launcher.py:6: UserWarning: Update your `Conv2D` call to the Keras 2 API: `Conv2D(64, (1, 1), activation=\"relu\")`\n",
            "  \n",
            "/usr/local/lib/python3.6/dist-packages/ipykernel_launcher.py:8: UserWarning: Update your `Conv2D` call to the Keras 2 API: `Conv2D(256, (3, 3), activation=\"relu\")`\n",
            "  \n",
            "/usr/local/lib/python3.6/dist-packages/ipykernel_launcher.py:9: UserWarning: Update your `Conv2D` call to the Keras 2 API: `Conv2D(64, (1, 1), activation=\"relu\")`\n",
            "  if __name__ == '__main__':\n",
            "/usr/local/lib/python3.6/dist-packages/ipykernel_launcher.py:11: UserWarning: Update your `Conv2D` call to the Keras 2 API: `Conv2D(512, (3, 3), activation=\"relu\")`\n",
            "  # This is added back by InteractiveShellApp.init_path()\n",
            "/usr/local/lib/python3.6/dist-packages/ipykernel_launcher.py:12: UserWarning: Update your `Conv2D` call to the Keras 2 API: `Conv2D(64, (1, 1), activation=\"relu\")`\n",
            "  if sys.path[0] == '':\n",
            "/usr/local/lib/python3.6/dist-packages/ipykernel_launcher.py:16: UserWarning: Update your `Conv2D` call to the Keras 2 API: `Conv2D(128, (3, 3), activation=\"relu\")`\n",
            "  app.launch_new_instance()\n",
            "/usr/local/lib/python3.6/dist-packages/ipykernel_launcher.py:17: UserWarning: Update your `Conv2D` call to the Keras 2 API: `Conv2D(64, (1, 1), activation=\"relu\")`\n",
            "/usr/local/lib/python3.6/dist-packages/ipykernel_launcher.py:19: UserWarning: Update your `Conv2D` call to the Keras 2 API: `Conv2D(256, (3, 3), activation=\"relu\")`\n",
            "/usr/local/lib/python3.6/dist-packages/ipykernel_launcher.py:20: UserWarning: Update your `Conv2D` call to the Keras 2 API: `Conv2D(64, (1, 1), activation=\"relu\")`\n",
            "/usr/local/lib/python3.6/dist-packages/ipykernel_launcher.py:22: UserWarning: Update your `Conv2D` call to the Keras 2 API: `Conv2D(10, (7, 7))`\n"
          ],
          "name": "stderr"
        }
      ]
    },
    {
      "cell_type": "code",
      "metadata": {
        "id": "TzdAYg1k9K7Z",
        "colab_type": "code",
        "outputId": "03cf5e2d-15a3-4750-a0a3-82d88d7c22b5",
        "colab": {
          "base_uri": "https://localhost:8080/",
          "height": 638
        }
      },
      "source": [
        "model.summary()"
      ],
      "execution_count": 0,
      "outputs": [
        {
          "output_type": "stream",
          "text": [
            "_________________________________________________________________\n",
            "Layer (type)                 Output Shape              Param #   \n",
            "=================================================================\n",
            "conv2d_1 (Conv2D)            (None, 26, 26, 128)       1280      \n",
            "_________________________________________________________________\n",
            "conv2d_2 (Conv2D)            (None, 26, 26, 64)        8256      \n",
            "_________________________________________________________________\n",
            "conv2d_3 (Conv2D)            (None, 24, 24, 256)       147712    \n",
            "_________________________________________________________________\n",
            "conv2d_4 (Conv2D)            (None, 24, 24, 64)        16448     \n",
            "_________________________________________________________________\n",
            "conv2d_5 (Conv2D)            (None, 22, 22, 512)       295424    \n",
            "_________________________________________________________________\n",
            "conv2d_6 (Conv2D)            (None, 22, 22, 64)        32832     \n",
            "_________________________________________________________________\n",
            "max_pooling2d_1 (MaxPooling2 (None, 11, 11, 64)        0         \n",
            "_________________________________________________________________\n",
            "conv2d_7 (Conv2D)            (None, 9, 9, 128)         73856     \n",
            "_________________________________________________________________\n",
            "conv2d_8 (Conv2D)            (None, 9, 9, 64)          8256      \n",
            "_________________________________________________________________\n",
            "conv2d_9 (Conv2D)            (None, 7, 7, 256)         147712    \n",
            "_________________________________________________________________\n",
            "conv2d_10 (Conv2D)           (None, 7, 7, 64)          16448     \n",
            "_________________________________________________________________\n",
            "conv2d_11 (Conv2D)           (None, 1, 1, 10)          31370     \n",
            "_________________________________________________________________\n",
            "flatten_1 (Flatten)          (None, 10)                0         \n",
            "_________________________________________________________________\n",
            "activation_1 (Activation)    (None, 10)                0         \n",
            "=================================================================\n",
            "Total params: 779,594\n",
            "Trainable params: 779,594\n",
            "Non-trainable params: 0\n",
            "_________________________________________________________________\n"
          ],
          "name": "stdout"
        }
      ]
    },
    {
      "cell_type": "code",
      "metadata": {
        "id": "0wUo4i_ENTx0",
        "colab_type": "code",
        "outputId": "415ef726-fbc5-40a5-c2f6-ac2ac97dcc19",
        "colab": {
          "base_uri": "https://localhost:8080/",
          "height": 34
        }
      },
      "source": [
        "from google.colab import drive\n",
        "drive.mount('/content/gdrive')"
      ],
      "execution_count": 0,
      "outputs": [
        {
          "output_type": "stream",
          "text": [
            "Drive already mounted at /content/gdrive; to attempt to forcibly remount, call drive.mount(\"/content/gdrive\", force_remount=True).\n"
          ],
          "name": "stdout"
        }
      ]
    },
    {
      "cell_type": "code",
      "metadata": {
        "id": "dHznkCTqPBIW",
        "colab_type": "code",
        "outputId": "9f499f4b-dbc4-469a-b9ce-af96a5b57563",
        "colab": {
          "base_uri": "https://localhost:8080/",
          "height": 212
        }
      },
      "source": [
        "!wget https://raw.githubusercontent.com/bckenstler/CLR/master/clr_callback.py\n",
        "from clr_callback import *"
      ],
      "execution_count": 0,
      "outputs": [
        {
          "output_type": "stream",
          "text": [
            "--2019-05-20 12:32:56--  https://raw.githubusercontent.com/bckenstler/CLR/master/clr_callback.py\n",
            "Resolving raw.githubusercontent.com (raw.githubusercontent.com)... 151.101.0.133, 151.101.64.133, 151.101.128.133, ...\n",
            "Connecting to raw.githubusercontent.com (raw.githubusercontent.com)|151.101.0.133|:443... connected.\n",
            "HTTP request sent, awaiting response... 200 OK\n",
            "Length: 5326 (5.2K) [text/plain]\n",
            "Saving to: ‘clr_callback.py.1’\n",
            "\n",
            "\rclr_callback.py.1     0%[                    ]       0  --.-KB/s               \rclr_callback.py.1   100%[===================>]   5.20K  --.-KB/s    in 0s      \n",
            "\n",
            "2019-05-20 12:32:56 (72.4 MB/s) - ‘clr_callback.py.1’ saved [5326/5326]\n",
            "\n"
          ],
          "name": "stdout"
        }
      ]
    },
    {
      "cell_type": "code",
      "metadata": {
        "id": "VTC_XJVvPFSY",
        "colab_type": "code",
        "colab": {}
      },
      "source": [
        "filepath=\"/content/gdrive/My Drive/Raajesh-{epoch:02d}-{val_acc:.2f}.hdf5\"\n",
        "checkpoint = ModelCheckpoint(filepath, monitor='val_acc', verbose=1, save_best_only=True, mode='max')\n",
        "callbacks_list = [checkpoint]"
      ],
      "execution_count": 0,
      "outputs": []
    },
    {
      "cell_type": "code",
      "metadata": {
        "id": "6eomaFUxNEje",
        "colab_type": "code",
        "colab": {}
      },
      "source": [
        "model.compile(loss='categorical_crossentropy', optimizer='adam', metrics=['accuracy'])"
      ],
      "execution_count": 0,
      "outputs": []
    },
    {
      "cell_type": "code",
      "metadata": {
        "id": "PY0YAPQhPRdK",
        "colab_type": "code",
        "outputId": "4e48e554-aca1-4029-d034-d17941dc2993",
        "colab": {
          "base_uri": "https://localhost:8080/",
          "height": 3681
        }
      },
      "source": [
        "model.fit(X_train, Y_train, batch_size=32, epochs=50, verbose=1, validation_data=(X_test, Y_test), callbacks=callbacks_list)"
      ],
      "execution_count": 0,
      "outputs": [
        {
          "output_type": "stream",
          "text": [
            "WARNING:tensorflow:From /usr/local/lib/python3.6/dist-packages/tensorflow/python/ops/math_ops.py:3066: to_int32 (from tensorflow.python.ops.math_ops) is deprecated and will be removed in a future version.\n",
            "Instructions for updating:\n",
            "Use tf.cast instead.\n",
            "Train on 60000 samples, validate on 10000 samples\n",
            "Epoch 1/50\n",
            "60000/60000 [==============================] - 39s 654us/step - loss: 0.1336 - acc: 0.9590 - val_loss: 0.0483 - val_acc: 0.9850\n",
            "\n",
            "Epoch 00001: val_acc improved from -inf to 0.98500, saving model to /content/gdrive/My Drive/Raajesh-01-0.98.hdf5\n",
            "Epoch 2/50\n",
            "60000/60000 [==============================] - 36s 601us/step - loss: 0.0477 - acc: 0.9855 - val_loss: 0.0342 - val_acc: 0.9895\n",
            "\n",
            "Epoch 00002: val_acc improved from 0.98500 to 0.98950, saving model to /content/gdrive/My Drive/Raajesh-02-0.99.hdf5\n",
            "Epoch 3/50\n",
            "60000/60000 [==============================] - 37s 612us/step - loss: 0.0331 - acc: 0.9898 - val_loss: 0.0443 - val_acc: 0.9873\n",
            "\n",
            "Epoch 00003: val_acc did not improve from 0.98950\n",
            "Epoch 4/50\n",
            "60000/60000 [==============================] - 37s 609us/step - loss: 0.0277 - acc: 0.9913 - val_loss: 0.0285 - val_acc: 0.9913\n",
            "\n",
            "Epoch 00004: val_acc improved from 0.98950 to 0.99130, saving model to /content/gdrive/My Drive/Raajesh-04-0.99.hdf5\n",
            "Epoch 5/50\n",
            "60000/60000 [==============================] - 37s 616us/step - loss: 0.0230 - acc: 0.9926 - val_loss: 0.0280 - val_acc: 0.9907\n",
            "\n",
            "Epoch 00005: val_acc did not improve from 0.99130\n",
            "Epoch 6/50\n",
            "60000/60000 [==============================] - 37s 610us/step - loss: 0.0183 - acc: 0.9940 - val_loss: 0.0358 - val_acc: 0.9905\n",
            "\n",
            "Epoch 00006: val_acc did not improve from 0.99130\n",
            "Epoch 7/50\n",
            "60000/60000 [==============================] - 37s 615us/step - loss: 0.0152 - acc: 0.9952 - val_loss: 0.0349 - val_acc: 0.9906\n",
            "\n",
            "Epoch 00007: val_acc did not improve from 0.99130\n",
            "Epoch 8/50\n",
            "60000/60000 [==============================] - 37s 612us/step - loss: 0.0148 - acc: 0.9950 - val_loss: 0.0304 - val_acc: 0.9910\n",
            "\n",
            "Epoch 00008: val_acc did not improve from 0.99130\n",
            "Epoch 9/50\n",
            "60000/60000 [==============================] - 37s 614us/step - loss: 0.0113 - acc: 0.9963 - val_loss: 0.0321 - val_acc: 0.9918\n",
            "\n",
            "Epoch 00009: val_acc improved from 0.99130 to 0.99180, saving model to /content/gdrive/My Drive/Raajesh-09-0.99.hdf5\n",
            "Epoch 10/50\n",
            "60000/60000 [==============================] - 37s 610us/step - loss: 0.0111 - acc: 0.9965 - val_loss: 0.0373 - val_acc: 0.9905\n",
            "\n",
            "Epoch 00010: val_acc did not improve from 0.99180\n",
            "Epoch 11/50\n",
            "60000/60000 [==============================] - 37s 614us/step - loss: 0.0101 - acc: 0.9966 - val_loss: 0.0361 - val_acc: 0.9916\n",
            "\n",
            "Epoch 00011: val_acc did not improve from 0.99180\n",
            "Epoch 12/50\n",
            "60000/60000 [==============================] - 37s 615us/step - loss: 0.0089 - acc: 0.9970 - val_loss: 0.0418 - val_acc: 0.9899\n",
            "\n",
            "Epoch 00012: val_acc did not improve from 0.99180\n",
            "Epoch 13/50\n",
            "60000/60000 [==============================] - 37s 613us/step - loss: 0.0094 - acc: 0.9970 - val_loss: 0.0298 - val_acc: 0.9915\n",
            "\n",
            "Epoch 00013: val_acc did not improve from 0.99180\n",
            "Epoch 14/50\n",
            "60000/60000 [==============================] - 37s 611us/step - loss: 0.0088 - acc: 0.9972 - val_loss: 0.0325 - val_acc: 0.9923\n",
            "\n",
            "Epoch 00014: val_acc improved from 0.99180 to 0.99230, saving model to /content/gdrive/My Drive/Raajesh-14-0.99.hdf5\n",
            "Epoch 15/50\n",
            "60000/60000 [==============================] - 36s 608us/step - loss: 0.0076 - acc: 0.9975 - val_loss: 0.0336 - val_acc: 0.9914\n",
            "\n",
            "Epoch 00015: val_acc did not improve from 0.99230\n",
            "Epoch 16/50\n",
            "60000/60000 [==============================] - 37s 612us/step - loss: 0.0074 - acc: 0.9975 - val_loss: 0.0371 - val_acc: 0.9914\n",
            "\n",
            "Epoch 00016: val_acc did not improve from 0.99230\n",
            "Epoch 17/50\n",
            "60000/60000 [==============================] - 36s 608us/step - loss: 0.0075 - acc: 0.9979 - val_loss: 0.0390 - val_acc: 0.9919\n",
            "\n",
            "Epoch 00017: val_acc did not improve from 0.99230\n",
            "Epoch 18/50\n",
            "60000/60000 [==============================] - 37s 612us/step - loss: 0.0053 - acc: 0.9984 - val_loss: 0.0423 - val_acc: 0.9917\n",
            "\n",
            "Epoch 00018: val_acc did not improve from 0.99230\n",
            "Epoch 19/50\n",
            "60000/60000 [==============================] - 36s 607us/step - loss: 0.0078 - acc: 0.9977 - val_loss: 0.0376 - val_acc: 0.9919\n",
            "\n",
            "Epoch 00019: val_acc did not improve from 0.99230\n",
            "Epoch 20/50\n",
            "60000/60000 [==============================] - 37s 617us/step - loss: 0.0064 - acc: 0.9981 - val_loss: 0.0360 - val_acc: 0.9915\n",
            "\n",
            "Epoch 00020: val_acc did not improve from 0.99230\n",
            "Epoch 21/50\n",
            "60000/60000 [==============================] - 37s 610us/step - loss: 0.0055 - acc: 0.9985 - val_loss: 0.0395 - val_acc: 0.9923\n",
            "\n",
            "Epoch 00021: val_acc did not improve from 0.99230\n",
            "Epoch 22/50\n",
            "60000/60000 [==============================] - 37s 611us/step - loss: 0.0056 - acc: 0.9981 - val_loss: 0.0749 - val_acc: 0.9869\n",
            "\n",
            "Epoch 00022: val_acc did not improve from 0.99230\n",
            "Epoch 23/50\n",
            "60000/60000 [==============================] - 36s 606us/step - loss: 0.0080 - acc: 0.9977 - val_loss: 0.0420 - val_acc: 0.9923\n",
            "\n",
            "Epoch 00023: val_acc did not improve from 0.99230\n",
            "Epoch 24/50\n",
            "60000/60000 [==============================] - 37s 609us/step - loss: 0.0065 - acc: 0.9980 - val_loss: 0.0381 - val_acc: 0.9924\n",
            "\n",
            "Epoch 00024: val_acc improved from 0.99230 to 0.99240, saving model to /content/gdrive/My Drive/Raajesh-24-0.99.hdf5\n",
            "Epoch 25/50\n",
            "60000/60000 [==============================] - 37s 609us/step - loss: 0.0056 - acc: 0.9984 - val_loss: 0.0592 - val_acc: 0.9897\n",
            "\n",
            "Epoch 00025: val_acc did not improve from 0.99240\n",
            "Epoch 26/50\n",
            "60000/60000 [==============================] - 36s 606us/step - loss: 0.0054 - acc: 0.9984 - val_loss: 0.0626 - val_acc: 0.9896\n",
            "\n",
            "Epoch 00026: val_acc did not improve from 0.99240\n",
            "Epoch 27/50\n",
            "60000/60000 [==============================] - 37s 611us/step - loss: 0.0063 - acc: 0.9982 - val_loss: 0.0570 - val_acc: 0.9914\n",
            "\n",
            "Epoch 00027: val_acc did not improve from 0.99240\n",
            "Epoch 28/50\n",
            "60000/60000 [==============================] - 36s 607us/step - loss: 0.0060 - acc: 0.9985 - val_loss: 0.0613 - val_acc: 0.9918\n",
            "\n",
            "Epoch 00028: val_acc did not improve from 0.99240\n",
            "Epoch 29/50\n",
            "60000/60000 [==============================] - 37s 613us/step - loss: 0.0074 - acc: 0.9981 - val_loss: 0.0497 - val_acc: 0.9917\n",
            "\n",
            "Epoch 00029: val_acc did not improve from 0.99240\n",
            "Epoch 30/50\n",
            "60000/60000 [==============================] - 37s 609us/step - loss: 0.0052 - acc: 0.9985 - val_loss: 0.0734 - val_acc: 0.9898\n",
            "\n",
            "Epoch 00030: val_acc did not improve from 0.99240\n",
            "Epoch 31/50\n",
            "60000/60000 [==============================] - 37s 610us/step - loss: 0.0069 - acc: 0.9981 - val_loss: 0.0779 - val_acc: 0.9878\n",
            "\n",
            "Epoch 00031: val_acc did not improve from 0.99240\n",
            "Epoch 32/50\n",
            "60000/60000 [==============================] - 36s 606us/step - loss: 0.0049 - acc: 0.9985 - val_loss: 0.0453 - val_acc: 0.9916\n",
            "\n",
            "Epoch 00032: val_acc did not improve from 0.99240\n",
            "Epoch 33/50\n",
            "60000/60000 [==============================] - 37s 610us/step - loss: 0.0044 - acc: 0.9988 - val_loss: 0.0640 - val_acc: 0.9906\n",
            "\n",
            "Epoch 00033: val_acc did not improve from 0.99240\n",
            "Epoch 34/50\n",
            "60000/60000 [==============================] - 36s 606us/step - loss: 0.0084 - acc: 0.9979 - val_loss: 0.0515 - val_acc: 0.9918\n",
            "\n",
            "Epoch 00034: val_acc did not improve from 0.99240\n",
            "Epoch 35/50\n",
            "60000/60000 [==============================] - 36s 607us/step - loss: 0.0048 - acc: 0.9988 - val_loss: 0.0499 - val_acc: 0.9928\n",
            "\n",
            "Epoch 00035: val_acc improved from 0.99240 to 0.99280, saving model to /content/gdrive/My Drive/Raajesh-35-0.99.hdf5\n",
            "Epoch 36/50\n",
            "60000/60000 [==============================] - 36s 608us/step - loss: 0.0056 - acc: 0.9986 - val_loss: 0.0482 - val_acc: 0.9905\n",
            "\n",
            "Epoch 00036: val_acc did not improve from 0.99280\n",
            "Epoch 37/50\n",
            "60000/60000 [==============================] - 37s 613us/step - loss: 0.0058 - acc: 0.9985 - val_loss: 0.0593 - val_acc: 0.9920\n",
            "\n",
            "Epoch 00037: val_acc did not improve from 0.99280\n",
            "Epoch 38/50\n",
            "60000/60000 [==============================] - 37s 613us/step - loss: 0.0059 - acc: 0.9986 - val_loss: 0.0624 - val_acc: 0.9899\n",
            "\n",
            "Epoch 00038: val_acc did not improve from 0.99280\n",
            "Epoch 39/50\n",
            "60000/60000 [==============================] - 36s 605us/step - loss: 0.0066 - acc: 0.9982 - val_loss: 0.0618 - val_acc: 0.9913\n",
            "\n",
            "Epoch 00039: val_acc did not improve from 0.99280\n",
            "Epoch 40/50\n",
            "60000/60000 [==============================] - 37s 609us/step - loss: 0.0051 - acc: 0.9987 - val_loss: 0.0765 - val_acc: 0.9910\n",
            "\n",
            "Epoch 00040: val_acc did not improve from 0.99280\n",
            "Epoch 41/50\n",
            "60000/60000 [==============================] - 36s 606us/step - loss: 0.0063 - acc: 0.9986 - val_loss: 0.0623 - val_acc: 0.9910\n",
            "\n",
            "Epoch 00041: val_acc did not improve from 0.99280\n",
            "Epoch 42/50\n",
            "60000/60000 [==============================] - 37s 611us/step - loss: 0.0049 - acc: 0.9988 - val_loss: 0.0568 - val_acc: 0.9922\n",
            "\n",
            "Epoch 00042: val_acc did not improve from 0.99280\n",
            "Epoch 43/50\n",
            "60000/60000 [==============================] - 36s 607us/step - loss: 0.0066 - acc: 0.9985 - val_loss: 0.0744 - val_acc: 0.9916\n",
            "\n",
            "Epoch 00043: val_acc did not improve from 0.99280\n",
            "Epoch 44/50\n",
            "60000/60000 [==============================] - 37s 611us/step - loss: 0.0065 - acc: 0.9986 - val_loss: 0.0708 - val_acc: 0.9912\n",
            "\n",
            "Epoch 00044: val_acc did not improve from 0.99280\n",
            "Epoch 45/50\n",
            "60000/60000 [==============================] - 36s 607us/step - loss: 0.0067 - acc: 0.9984 - val_loss: 0.0674 - val_acc: 0.9903\n",
            "\n",
            "Epoch 00045: val_acc did not improve from 0.99280\n",
            "Epoch 46/50\n",
            "60000/60000 [==============================] - 37s 619us/step - loss: 0.0050 - acc: 0.9989 - val_loss: 0.0642 - val_acc: 0.9920\n",
            "\n",
            "Epoch 00046: val_acc did not improve from 0.99280\n",
            "Epoch 47/50\n",
            "60000/60000 [==============================] - 36s 608us/step - loss: 0.0032 - acc: 0.9993 - val_loss: 0.0862 - val_acc: 0.9893\n",
            "\n",
            "Epoch 00047: val_acc did not improve from 0.99280\n",
            "Epoch 48/50\n",
            "60000/60000 [==============================] - 36s 607us/step - loss: 0.0088 - acc: 0.9982 - val_loss: 0.0629 - val_acc: 0.9919\n",
            "\n",
            "Epoch 00048: val_acc did not improve from 0.99280\n",
            "Epoch 49/50\n",
            "60000/60000 [==============================] - 37s 610us/step - loss: 0.0074 - acc: 0.9984 - val_loss: 0.0851 - val_acc: 0.9898\n",
            "\n",
            "Epoch 00049: val_acc did not improve from 0.99280\n",
            "Epoch 50/50\n",
            "60000/60000 [==============================] - 36s 606us/step - loss: 0.0062 - acc: 0.9987 - val_loss: 0.0781 - val_acc: 0.9909\n",
            "\n",
            "Epoch 00050: val_acc did not improve from 0.99280\n"
          ],
          "name": "stdout"
        },
        {
          "output_type": "execute_result",
          "data": {
            "text/plain": [
              "<keras.callbacks.History at 0x7f220fd8f940>"
            ]
          },
          "metadata": {
            "tags": []
          },
          "execution_count": 16
        }
      ]
    },
    {
      "cell_type": "code",
      "metadata": {
        "id": "8DBHC_zvSgEe",
        "colab_type": "code",
        "colab": {}
      },
      "source": [
        "model.load_weights('/content/gdrive/My Drive/Raajesh-35-0.99.hdf5')"
      ],
      "execution_count": 0,
      "outputs": []
    },
    {
      "cell_type": "code",
      "metadata": {
        "id": "AtsH-lLk-eLb",
        "colab_type": "code",
        "colab": {}
      },
      "source": [
        "score = model.evaluate(X_test, Y_test, verbose=0)"
      ],
      "execution_count": 0,
      "outputs": []
    },
    {
      "cell_type": "code",
      "metadata": {
        "id": "mkX8JMv79q9r",
        "colab_type": "code",
        "outputId": "c90bdb7a-1a3e-43e0-9496-b3c81b86ac54",
        "colab": {
          "base_uri": "https://localhost:8080/",
          "height": 34
        }
      },
      "source": [
        "print(score)"
      ],
      "execution_count": 0,
      "outputs": [
        {
          "output_type": "stream",
          "text": [
            "[0.04992204656002577, 0.9928]\n"
          ],
          "name": "stdout"
        }
      ]
    },
    {
      "cell_type": "code",
      "metadata": {
        "id": "OCWoJkwE9suh",
        "colab_type": "code",
        "colab": {}
      },
      "source": [
        "y_pred = model.predict(X_test)"
      ],
      "execution_count": 0,
      "outputs": []
    },
    {
      "cell_type": "code",
      "metadata": {
        "id": "Ym7iCFBm9uBs",
        "colab_type": "code",
        "outputId": "7de61ada-c69c-4a8b-d02f-072cdc39a760",
        "colab": {
          "base_uri": "https://localhost:8080/",
          "height": 354
        }
      },
      "source": [
        "print(y_pred[:9])\n",
        "print(y_test[:9])"
      ],
      "execution_count": 0,
      "outputs": [
        {
          "output_type": "stream",
          "text": [
            "[[4.4885852e-22 1.8584851e-24 2.2860996e-15 5.7431899e-18 4.4590766e-30\n",
            "  2.1778216e-28 1.4839376e-30 1.0000000e+00 4.4869590e-22 3.6886535e-19]\n",
            " [4.3564312e-22 1.4092605e-19 1.0000000e+00 2.9900651e-22 5.8942276e-26\n",
            "  1.2606925e-33 2.0376627e-15 4.5271940e-28 1.4901491e-15 8.3664202e-29]\n",
            " [1.7395434e-16 1.0000000e+00 2.9318386e-16 7.6498342e-21 4.8471052e-13\n",
            "  3.9287847e-11 9.6509782e-15 3.5182416e-11 2.2392233e-12 7.4645897e-14]\n",
            " [1.0000000e+00 2.2252347e-29 3.3033769e-32 1.0443227e-24 4.6064332e-31\n",
            "  1.1351049e-21 2.5551555e-17 6.7344470e-27 8.8497427e-32 3.6144871e-23]\n",
            " [5.4220152e-23 2.9810065e-25 2.4603769e-22 6.8316808e-28 1.0000000e+00\n",
            "  5.0470665e-33 2.9210109e-23 1.5570171e-30 8.1676197e-23 3.6143326e-17]\n",
            " [4.6811758e-21 1.0000000e+00 4.7628158e-18 1.2110025e-22 8.8447069e-11\n",
            "  2.5945819e-17 1.0772040e-20 8.4353535e-10 7.2784481e-13 1.4713570e-14]\n",
            " [4.0512620e-38 7.3239000e-21 2.8632553e-24 8.4219751e-37 1.0000000e+00\n",
            "  9.4783066e-20 2.3751585e-27 1.6118014e-22 1.0640521e-11 1.5134726e-13]\n",
            " [1.4367113e-25 4.1403789e-31 2.5455469e-22 1.1303074e-23 3.8051220e-14\n",
            "  7.1152840e-24 1.1217329e-32 7.8975816e-27 3.3569358e-12 1.0000000e+00]\n",
            " [1.1773722e-20 6.8320841e-31 1.1114345e-22 6.4406036e-27 1.9460367e-28\n",
            "  4.3602340e-06 9.9999559e-01 1.8767421e-33 4.1340740e-11 5.2819043e-23]]\n",
            "[7 2 1 0 4 1 4 9 5]\n"
          ],
          "name": "stdout"
        }
      ]
    },
    {
      "cell_type": "code",
      "metadata": {
        "id": "CT--y98_dr2T",
        "colab_type": "code",
        "colab": {}
      },
      "source": [
        "layer_dict = dict([(layer.name, layer) for layer in model.layers])"
      ],
      "execution_count": 0,
      "outputs": []
    },
    {
      "cell_type": "code",
      "metadata": {
        "id": "2GY4Upv4dsUR",
        "colab_type": "code",
        "colab": {}
      },
      "source": [
        "import numpy as np\n",
        "from matplotlib import pyplot as plt\n",
        "from keras import backend as K\n",
        "%matplotlib inline\n",
        "# util function to convert a tensor into a valid image\n",
        "def deprocess_image(x):\n",
        "    # normalize tensor: center on 0., ensure std is 0.1\n",
        "    x -= x.mean()\n",
        "    x /= (x.std() + 1e-5)\n",
        "    x *= 0.1\n",
        "\n",
        "    # clip to [0, 1]\n",
        "    x += 0.5\n",
        "    x = np.clip(x, 0, 1)\n",
        "\n",
        "    # convert to RGB array\n",
        "    x *= 255\n",
        "    #x = x.transpose((1, 2, 0))\n",
        "    x = np.clip(x, 0, 255).astype('uint8')\n",
        "    return x\n",
        "\n",
        "def vis_img_in_filter(img = np.array(X_train[2]).reshape((1, 28, 28, 1)).astype(np.float64), \n",
        "                      layer_name = 'conv2d_14'):\n",
        "    layer_output = layer_dict[layer_name].output\n",
        "    img_ascs = list()\n",
        "    for filter_index in range(layer_output.shape[3]):\n",
        "        # build a loss function that maximizes the activation\n",
        "        # of the nth filter of the layer considered\n",
        "        loss = K.mean(layer_output[:, :, :, filter_index])\n",
        "\n",
        "        # compute the gradient of the input picture wrt this loss\n",
        "        grads = K.gradients(loss, model.input)[0]\n",
        "\n",
        "        # normalization trick: we normalize the gradient\n",
        "        grads /= (K.sqrt(K.mean(K.square(grads))) + 1e-5)\n",
        "\n",
        "        # this function returns the loss and grads given the input picture\n",
        "        iterate = K.function([model.input], [loss, grads])\n",
        "\n",
        "        # step size for gradient ascent\n",
        "        step = 5.\n",
        "\n",
        "        img_asc = np.array(img)\n",
        "        # run gradient ascent for 20 steps\n",
        "        for i in range(20):\n",
        "            loss_value, grads_value = iterate([img_asc])\n",
        "            img_asc += grads_value * step\n",
        "\n",
        "        img_asc = img_asc[0]\n",
        "        img_ascs.append(deprocess_image(img_asc).reshape((28, 28)))\n",
        "        \n",
        "    if layer_output.shape[3] >= 35:\n",
        "        plot_x, plot_y = 6, 6\n",
        "    elif layer_output.shape[3] >= 23:\n",
        "        plot_x, plot_y = 4, 6\n",
        "    elif layer_output.shape[3] >= 11:\n",
        "        plot_x, plot_y = 2, 6\n",
        "    else:\n",
        "        plot_x, plot_y = 1, 2\n",
        "    fig, ax = plt.subplots(plot_x, plot_y, figsize = (12, 12))\n",
        "    ax[0, 0].imshow(img.reshape((28, 28)), cmap = 'gray')\n",
        "    ax[0, 0].set_title('Input image')\n",
        "    fig.suptitle('Input image and %s filters' % (layer_name,))\n",
        "    fig.tight_layout(pad = 0.3, rect = [0, 0, 0.9, 0.9])\n",
        "    for (x, y) in [(i, j) for i in range(plot_x) for j in range(plot_y)]:\n",
        "        if x == 0 and y == 0:\n",
        "            continue\n",
        "        ax[x, y].imshow(img_ascs[x * plot_y + y - 1], cmap = 'gray')\n",
        "        ax[x, y].set_title('filter %d' % (x * plot_y + y - 1))\n",
        "\n",
        "vis_img_in_filter()"
      ],
      "execution_count": 0,
      "outputs": []
    }
  ]
}