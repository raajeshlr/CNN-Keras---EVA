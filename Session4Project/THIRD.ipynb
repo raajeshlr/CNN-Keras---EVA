{
  "nbformat": 4,
  "nbformat_minor": 0,
  "metadata": {
    "colab": {
      "name": "Copy of EVATHIRD.ipynb",
      "version": "0.3.2",
      "provenance": [],
      "collapsed_sections": []
    },
    "kernelspec": {
      "name": "python3",
      "display_name": "Python 3"
    },
    "accelerator": "GPU"
  },
  "cells": [
    {
      "cell_type": "markdown",
      "metadata": {
        "id": "hlCxHPXvrUrh",
        "colab_type": "text"
      },
      "source": [
        "### WHAT LEARNT FROM SECOND CODE:\n",
        "\n",
        "-   I have understood the model will anyway give you good accuracy if you use more reasonable number of kernels for MNIST dataset, i have reached 99.4 in 12th epochs itself.\n",
        "-   Also the model will give you good accuracy if you increase the number of epochs.\n",
        "\n",
        "### MY STRATEGY AND IMPROVEMENTS :\n",
        "\n",
        "-  Reducing number of channels - parameters also decreased.\n",
        "-  Using parameters less than 20k.\n",
        "-  Use dropout, so that it regularize the model and it will perform well on validation images also.\n",
        "\n",
        "### Target \n",
        "\n",
        "Reach validation accuracy more than **99.4 with less than 20k parameters** , Should not use any learning rate schedular.\n",
        "\n",
        "    -  ACHIEVED 99.40 in 33rd EPOCH.\n",
        "\n",
        "#### TOOLS USED AND OBSERVATIONS \n",
        "\n",
        "-   I have just used the same pattern from SECOND code but used 32 channnels instead of 128\n",
        "-  Used Batch Normalization, Used Dropout, No Learning rate schedular.\n",
        "-  I have used only 19,168 parameters.\n",
        "-  Using batch size = 64, and the Training accuracies are clearly increasing from 84.7 to 99.2.\n",
        "-   I have ran for 50 epochs and the validation accuracy reached the **MAXIMUM OF 99.410 in 39th epoch**\n",
        "\n"
      ]
    },
    {
      "cell_type": "code",
      "metadata": {
        "id": "3m3w1Cw49Zkt",
        "colab_type": "code",
        "outputId": "1aa4261a-cd87-4c35-e27b-d8e3321f2c8f",
        "colab": {
          "base_uri": "https://localhost:8080/",
          "height": 34
        }
      },
      "source": [
        "!pip install -q keras\n",
        "import keras"
      ],
      "execution_count": 0,
      "outputs": [
        {
          "output_type": "stream",
          "text": [
            "Using TensorFlow backend.\n"
          ],
          "name": "stderr"
        }
      ]
    },
    {
      "cell_type": "code",
      "metadata": {
        "id": "Eso6UHE080D4",
        "colab_type": "code",
        "colab": {}
      },
      "source": [
        "import numpy as np\n",
        "\n",
        "from keras.models import Sequential\n",
        "from keras.layers import Dense, Dropout, Activation, Flatten, Add\n",
        "from keras.layers import Convolution2D, MaxPooling2D, BatchNormalization\n",
        "from keras.utils import np_utils\n",
        "\n",
        "from keras.datasets import mnist"
      ],
      "execution_count": 0,
      "outputs": []
    },
    {
      "cell_type": "markdown",
      "metadata": {
        "id": "zByEi95J86RD",
        "colab_type": "text"
      },
      "source": [
        "### Load pre-shuffled MNIST data into train and test sets"
      ]
    },
    {
      "cell_type": "code",
      "metadata": {
        "id": "7eRM0QWN83PV",
        "colab_type": "code",
        "colab": {}
      },
      "source": [
        "(X_train, y_train), (X_test, y_test) = mnist.load_data()"
      ],
      "execution_count": 0,
      "outputs": []
    },
    {
      "cell_type": "code",
      "metadata": {
        "id": "4a4Be72j8-ZC",
        "colab_type": "code",
        "outputId": "09070d6c-f809-4cb2-d026-ff9d4a6044b7",
        "colab": {
          "base_uri": "https://localhost:8080/",
          "height": 304
        }
      },
      "source": [
        "print (X_train.shape)\n",
        "from matplotlib import pyplot as plt\n",
        "%matplotlib inline\n",
        "plt.imshow(X_train[0])"
      ],
      "execution_count": 0,
      "outputs": [
        {
          "output_type": "stream",
          "text": [
            "(60000, 28, 28)\n"
          ],
          "name": "stdout"
        },
        {
          "output_type": "execute_result",
          "data": {
            "text/plain": [
              "<matplotlib.image.AxesImage at 0x7f3319791b70>"
            ]
          },
          "metadata": {
            "tags": []
          },
          "execution_count": 4
        },
        {
          "output_type": "display_data",
          "data": {
            "image/png": "[encoded data removed]",
            "text/plain": [
              "<Figure size 432x288 with 1 Axes>"
            ]
          },
          "metadata": {
            "tags": []
          }
        }
      ]
    },
    {
      "cell_type": "code",
      "metadata": {
        "id": "dkmprriw9AnZ",
        "colab_type": "code",
        "colab": {}
      },
      "source": [
        "X_train = X_train.reshape(X_train.shape[0], 28, 28,1)\n",
        "X_test = X_test.reshape(X_test.shape[0], 28, 28,1)"
      ],
      "execution_count": 0,
      "outputs": []
    },
    {
      "cell_type": "code",
      "metadata": {
        "id": "X2m4YS4E9CRh",
        "colab_type": "code",
        "colab": {}
      },
      "source": [
        "X_train = X_train.astype('float32')\n",
        "X_test = X_test.astype('float32')\n",
        "X_train /= 255\n",
        "X_test /= 255"
      ],
      "execution_count": 0,
      "outputs": []
    },
    {
      "cell_type": "code",
      "metadata": {
        "id": "0Mn0vAYD9DvB",
        "colab_type": "code",
        "outputId": "7f01c776-de44-4155-a68a-c20c4165550e",
        "colab": {
          "base_uri": "https://localhost:8080/",
          "height": 34
        }
      },
      "source": [
        "y_train[:10]"
      ],
      "execution_count": 0,
      "outputs": [
        {
          "output_type": "execute_result",
          "data": {
            "text/plain": [
              "array([5, 0, 4, 1, 9, 2, 1, 3, 1, 4], dtype=uint8)"
            ]
          },
          "metadata": {
            "tags": []
          },
          "execution_count": 7
        }
      ]
    },
    {
      "cell_type": "code",
      "metadata": {
        "id": "ZG8JiXR39FHC",
        "colab_type": "code",
        "colab": {}
      },
      "source": [
        "Y_train = np_utils.to_categorical(y_train, 10)\n",
        "Y_test = np_utils.to_categorical(y_test, 10)"
      ],
      "execution_count": 0,
      "outputs": []
    },
    {
      "cell_type": "code",
      "metadata": {
        "id": "fYlFRvKS9HMB",
        "colab_type": "code",
        "outputId": "11ece223-a2c0-4088-9b70-9c4165cfeb67",
        "colab": {
          "base_uri": "https://localhost:8080/",
          "height": 194
        }
      },
      "source": [
        "Y_train[:10]"
      ],
      "execution_count": 0,
      "outputs": [
        {
          "output_type": "execute_result",
          "data": {
            "text/plain": [
              "array([[0., 0., 0., 0., 0., 1., 0., 0., 0., 0.],\n",
              "       [1., 0., 0., 0., 0., 0., 0., 0., 0., 0.],\n",
              "       [0., 0., 0., 0., 1., 0., 0., 0., 0., 0.],\n",
              "       [0., 1., 0., 0., 0., 0., 0., 0., 0., 0.],\n",
              "       [0., 0., 0., 0., 0., 0., 0., 0., 0., 1.],\n",
              "       [0., 0., 1., 0., 0., 0., 0., 0., 0., 0.],\n",
              "       [0., 1., 0., 0., 0., 0., 0., 0., 0., 0.],\n",
              "       [0., 0., 0., 1., 0., 0., 0., 0., 0., 0.],\n",
              "       [0., 1., 0., 0., 0., 0., 0., 0., 0., 0.],\n",
              "       [0., 0., 0., 0., 1., 0., 0., 0., 0., 0.]], dtype=float32)"
            ]
          },
          "metadata": {
            "tags": []
          },
          "execution_count": 9
        }
      ]
    },
    {
      "cell_type": "code",
      "metadata": {
        "id": "osKqT73Q9JJB",
        "colab_type": "code",
        "outputId": "a15879b9-3af3-429e-fd6a-0b32d33da9e4",
        "colab": {
          "base_uri": "https://localhost:8080/",
          "height": 427
        }
      },
      "source": [
        "from keras.layers import Activation\n",
        "model = Sequential()\n",
        "\n",
        " \n",
        "model.add(Convolution2D(32, 3, 3, activation='relu', input_shape=(28,28,1))) # Receptive field : 3x3 , Resolution output : 26x26x32\n",
        "model.add(BatchNormalization(name='norm_1'))\n",
        "model.add(Convolution2D(10, 1,1, activation='relu')) # Receptive field : 3x3 , Resolution output : 26x26x10\n",
        "model.add(Dropout(0.20))\n",
        "\n",
        "model.add(Convolution2D(32, 3, 3, activation='relu')) # Receptive field : 5x5 , Resolution output : 24x24x32\n",
        "model.add(BatchNormalization(name='norm_2'))\n",
        "model.add(Convolution2D(10, 1,1, activation='relu')) # Receptive field : 5x5 , Resolution output : 24x24x10\n",
        "model.add(Dropout(0.20))\n",
        "\n",
        "model.add(Convolution2D(32, 3, 3, activation='relu')) # Receptive field : 7x7 , Resolution output : 22x22x32\n",
        "model.add(BatchNormalization(name='norm_3'))\n",
        "model.add(Convolution2D(10, 1,1, activation='relu')) # Receptive field : 7x7 , Resolution output : 22x22x10\n",
        "model.add(Dropout(0.20))\n",
        "\n",
        "model.add(MaxPooling2D(pool_size=(2,2))) # Receptive field : 14x14 , Resolution output : 11x11x10\n",
        "model.add(Dropout(0.20))\n",
        "\n",
        "model.add(Convolution2D(32, 3, 3, activation='relu')) # Receptive field : 16x16 , Resolution output : 9x9x32\n",
        "model.add(BatchNormalization(name='norm_4'))\n",
        "model.add(Convolution2D(10, 1,1, activation='relu')) # Receptive field : 16x16 , Resolution output : 9x9x10\n",
        "model.add(Dropout(0.20))\n",
        "\n",
        "model.add(Convolution2D(32, 3, 3, activation='relu')) # Receptive field : 18x18 , Resolution output : 7x7x32\n",
        "model.add(BatchNormalization(name='norm_5'))\n",
        "model.add(Convolution2D(10, 1,1, activation='relu')) # Receptive field : 18x18 , Resolution output : 7x7x10\n",
        "model.add(Dropout(0.20))\n",
        "\n",
        "model.add(Convolution2D(10, 7, 7)) # Resolution output : 1x1x10\n",
        "model.add(Flatten())\n",
        "model.add(Activation('softmax'))"
      ],
      "execution_count": 0,
      "outputs": [
        {
          "output_type": "stream",
          "text": [
            "WARNING:tensorflow:From /usr/local/lib/python3.6/dist-packages/tensorflow/python/framework/op_def_library.py:263: colocate_with (from tensorflow.python.framework.ops) is deprecated and will be removed in a future version.\n",
            "Instructions for updating:\n",
            "Colocations handled automatically by placer.\n"
          ],
          "name": "stdout"
        },
        {
          "output_type": "stream",
          "text": [
            "/usr/local/lib/python3.6/dist-packages/ipykernel_launcher.py:5: UserWarning: Update your `Conv2D` call to the Keras 2 API: `Conv2D(32, (3, 3), activation=\"relu\", input_shape=(28, 28, 1...)`\n",
            "  \"\"\"\n"
          ],
          "name": "stderr"
        },
        {
          "output_type": "stream",
          "text": [
            "WARNING:tensorflow:From /usr/local/lib/python3.6/dist-packages/keras/backend/tensorflow_backend.py:3445: calling dropout (from tensorflow.python.ops.nn_ops) with keep_prob is deprecated and will be removed in a future version.\n",
            "Instructions for updating:\n",
            "Please use `rate` instead of `keep_prob`. Rate should be set to `rate = 1 - keep_prob`.\n"
          ],
          "name": "stdout"
        },
        {
          "output_type": "stream",
          "text": [
            "/usr/local/lib/python3.6/dist-packages/ipykernel_launcher.py:7: UserWarning: Update your `Conv2D` call to the Keras 2 API: `Conv2D(10, (1, 1), activation=\"relu\")`\n",
            "  import sys\n",
            "/usr/local/lib/python3.6/dist-packages/ipykernel_launcher.py:10: UserWarning: Update your `Conv2D` call to the Keras 2 API: `Conv2D(32, (3, 3), activation=\"relu\")`\n",
            "  # Remove the CWD from sys.path while we load stuff.\n",
            "/usr/local/lib/python3.6/dist-packages/ipykernel_launcher.py:12: UserWarning: Update your `Conv2D` call to the Keras 2 API: `Conv2D(10, (1, 1), activation=\"relu\")`\n",
            "  if sys.path[0] == '':\n",
            "/usr/local/lib/python3.6/dist-packages/ipykernel_launcher.py:15: UserWarning: Update your `Conv2D` call to the Keras 2 API: `Conv2D(32, (3, 3), activation=\"relu\")`\n",
            "  from ipykernel import kernelapp as app\n",
            "/usr/local/lib/python3.6/dist-packages/ipykernel_launcher.py:17: UserWarning: Update your `Conv2D` call to the Keras 2 API: `Conv2D(10, (1, 1), activation=\"relu\")`\n",
            "/usr/local/lib/python3.6/dist-packages/ipykernel_launcher.py:23: UserWarning: Update your `Conv2D` call to the Keras 2 API: `Conv2D(32, (3, 3), activation=\"relu\")`\n",
            "/usr/local/lib/python3.6/dist-packages/ipykernel_launcher.py:25: UserWarning: Update your `Conv2D` call to the Keras 2 API: `Conv2D(10, (1, 1), activation=\"relu\")`\n",
            "/usr/local/lib/python3.6/dist-packages/ipykernel_launcher.py:28: UserWarning: Update your `Conv2D` call to the Keras 2 API: `Conv2D(32, (3, 3), activation=\"relu\")`\n",
            "/usr/local/lib/python3.6/dist-packages/ipykernel_launcher.py:30: UserWarning: Update your `Conv2D` call to the Keras 2 API: `Conv2D(10, (1, 1), activation=\"relu\")`\n",
            "/usr/local/lib/python3.6/dist-packages/ipykernel_launcher.py:33: UserWarning: Update your `Conv2D` call to the Keras 2 API: `Conv2D(10, (7, 7))`\n"
          ],
          "name": "stderr"
        }
      ]
    },
    {
      "cell_type": "code",
      "metadata": {
        "id": "TzdAYg1k9K7Z",
        "colab_type": "code",
        "outputId": "44296e11-4caa-4408-a221-00bd92305fbf",
        "colab": {
          "base_uri": "https://localhost:8080/",
          "height": 1030
        }
      },
      "source": [
        "model.summary()"
      ],
      "execution_count": 0,
      "outputs": [
        {
          "output_type": "stream",
          "text": [
            "_________________________________________________________________\n",
            "Layer (type)                 Output Shape              Param #   \n",
            "=================================================================\n",
            "conv2d_1 (Conv2D)            (None, 26, 26, 32)        320       \n",
            "_________________________________________________________________\n",
            "norm_1 (BatchNormalization)  (None, 26, 26, 32)        128       \n",
            "_________________________________________________________________\n",
            "conv2d_2 (Conv2D)            (None, 26, 26, 10)        330       \n",
            "_________________________________________________________________\n",
            "dropout_1 (Dropout)          (None, 26, 26, 10)        0         \n",
            "_________________________________________________________________\n",
            "conv2d_3 (Conv2D)            (None, 24, 24, 32)        2912      \n",
            "_________________________________________________________________\n",
            "norm_2 (BatchNormalization)  (None, 24, 24, 32)        128       \n",
            "_________________________________________________________________\n",
            "conv2d_4 (Conv2D)            (None, 24, 24, 10)        330       \n",
            "_________________________________________________________________\n",
            "dropout_2 (Dropout)          (None, 24, 24, 10)        0         \n",
            "_________________________________________________________________\n",
            "conv2d_5 (Conv2D)            (None, 22, 22, 32)        2912      \n",
            "_________________________________________________________________\n",
            "norm_3 (BatchNormalization)  (None, 22, 22, 32)        128       \n",
            "_________________________________________________________________\n",
            "conv2d_6 (Conv2D)            (None, 22, 22, 10)        330       \n",
            "_________________________________________________________________\n",
            "dropout_3 (Dropout)          (None, 22, 22, 10)        0         \n",
            "_________________________________________________________________\n",
            "max_pooling2d_1 (MaxPooling2 (None, 11, 11, 10)        0         \n",
            "_________________________________________________________________\n",
            "dropout_4 (Dropout)          (None, 11, 11, 10)        0         \n",
            "_________________________________________________________________\n",
            "conv2d_7 (Conv2D)            (None, 9, 9, 32)          2912      \n",
            "_________________________________________________________________\n",
            "norm_4 (BatchNormalization)  (None, 9, 9, 32)          128       \n",
            "_________________________________________________________________\n",
            "conv2d_8 (Conv2D)            (None, 9, 9, 10)          330       \n",
            "_________________________________________________________________\n",
            "dropout_5 (Dropout)          (None, 9, 9, 10)          0         \n",
            "_________________________________________________________________\n",
            "conv2d_9 (Conv2D)            (None, 7, 7, 32)          2912      \n",
            "_________________________________________________________________\n",
            "norm_5 (BatchNormalization)  (None, 7, 7, 32)          128       \n",
            "_________________________________________________________________\n",
            "conv2d_10 (Conv2D)           (None, 7, 7, 10)          330       \n",
            "_________________________________________________________________\n",
            "dropout_6 (Dropout)          (None, 7, 7, 10)          0         \n",
            "_________________________________________________________________\n",
            "conv2d_11 (Conv2D)           (None, 1, 1, 10)          4910      \n",
            "_________________________________________________________________\n",
            "flatten_1 (Flatten)          (None, 10)                0         \n",
            "_________________________________________________________________\n",
            "activation_1 (Activation)    (None, 10)                0         \n",
            "=================================================================\n",
            "Total params: 19,168\n",
            "Trainable params: 18,848\n",
            "Non-trainable params: 320\n",
            "_________________________________________________________________\n"
          ],
          "name": "stdout"
        }
      ]
    },
    {
      "cell_type": "code",
      "metadata": {
        "id": "0wUo4i_ENTx0",
        "colab_type": "code",
        "outputId": "ecc5f14d-4ba4-4048-f581-a766d1b47651",
        "colab": {
          "base_uri": "https://localhost:8080/",
          "height": 34
        }
      },
      "source": [
        "from google.colab import drive\n",
        "drive.mount('/content/gdrive')"
      ],
      "execution_count": 0,
      "outputs": [
        {
          "output_type": "stream",
          "text": [
            "Drive already mounted at /content/gdrive; to attempt to forcibly remount, call drive.mount(\"/content/gdrive\", force_remount=True).\n"
          ],
          "name": "stdout"
        }
      ]
    },
    {
      "cell_type": "code",
      "metadata": {
        "id": "dHznkCTqPBIW",
        "colab_type": "code",
        "outputId": "5b631c2f-fc98-47cb-96b7-c0636e696f23",
        "colab": {
          "base_uri": "https://localhost:8080/",
          "height": 212
        }
      },
      "source": [
        "!wget https://raw.githubusercontent.com/bckenstler/CLR/master/clr_callback.py\n",
        "from clr_callback import *"
      ],
      "execution_count": 0,
      "outputs": [
        {
          "output_type": "stream",
          "text": [
            "--2019-05-20 13:33:04--  https://raw.githubusercontent.com/bckenstler/CLR/master/clr_callback.py\n",
            "Resolving raw.githubusercontent.com (raw.githubusercontent.com)... 151.101.0.133, 151.101.64.133, 151.101.128.133, ...\n",
            "Connecting to raw.githubusercontent.com (raw.githubusercontent.com)|151.101.0.133|:443... connected.\n",
            "HTTP request sent, awaiting response... 200 OK\n",
            "Length: 5326 (5.2K) [text/plain]\n",
            "Saving to: ‘clr_callback.py.4’\n",
            "\n",
            "\rclr_callback.py.4     0%[                    ]       0  --.-KB/s               \rclr_callback.py.4   100%[===================>]   5.20K  --.-KB/s    in 0s      \n",
            "\n",
            "2019-05-20 13:33:04 (75.7 MB/s) - ‘clr_callback.py.4’ saved [5326/5326]\n",
            "\n"
          ],
          "name": "stdout"
        }
      ]
    },
    {
      "cell_type": "code",
      "metadata": {
        "id": "VTC_XJVvPFSY",
        "colab_type": "code",
        "colab": {}
      },
      "source": [
        "filepath=\"/content/gdrive/My Drive/Raajesh-{epoch:02d}-{val_acc:.2f}.hdf5\"\n",
        "checkpoint = ModelCheckpoint(filepath, monitor='val_acc', verbose=1, save_best_only=True, mode='max')\n",
        "callbacks_list = [checkpoint]"
      ],
      "execution_count": 0,
      "outputs": []
    },
    {
      "cell_type": "code",
      "metadata": {
        "id": "6eomaFUxNEje",
        "colab_type": "code",
        "colab": {}
      },
      "source": [
        "model.compile(loss='categorical_crossentropy', optimizer='adam', metrics=['accuracy'])"
      ],
      "execution_count": 0,
      "outputs": []
    },
    {
      "cell_type": "code",
      "metadata": {
        "id": "PY0YAPQhPRdK",
        "colab_type": "code",
        "outputId": "8048837a-9e4e-4a06-f78c-18346d973239",
        "colab": {
          "base_uri": "https://localhost:8080/",
          "height": 3681
        }
      },
      "source": [
        "model.fit(X_train, Y_train, batch_size=64, epochs=50, verbose=1, validation_data=(X_test, Y_test), callbacks=callbacks_list)"
      ],
      "execution_count": 0,
      "outputs": [
        {
          "output_type": "stream",
          "text": [
            "WARNING:tensorflow:From /usr/local/lib/python3.6/dist-packages/tensorflow/python/ops/math_ops.py:3066: to_int32 (from tensorflow.python.ops.math_ops) is deprecated and will be removed in a future version.\n",
            "Instructions for updating:\n",
            "Use tf.cast instead.\n",
            "Train on 60000 samples, validate on 10000 samples\n",
            "Epoch 1/50\n",
            "60000/60000 [==============================] - 16s 274us/step - loss: 0.3902 - acc: 0.8735 - val_loss: 0.1097 - val_acc: 0.9654\n",
            "\n",
            "Epoch 00001: val_acc improved from -inf to 0.96540, saving model to /content/gdrive/My Drive/Raajesh-01-0.97.hdf5\n",
            "Epoch 2/50\n",
            "60000/60000 [==============================] - 12s 206us/step - loss: 0.1082 - acc: 0.9655 - val_loss: 0.0915 - val_acc: 0.9709\n",
            "\n",
            "Epoch 00002: val_acc improved from 0.96540 to 0.97090, saving model to /content/gdrive/My Drive/Raajesh-02-0.97.hdf5\n",
            "Epoch 3/50\n",
            "60000/60000 [==============================] - 12s 207us/step - loss: 0.0821 - acc: 0.9743 - val_loss: 0.0459 - val_acc: 0.9858\n",
            "\n",
            "Epoch 00003: val_acc improved from 0.97090 to 0.98580, saving model to /content/gdrive/My Drive/Raajesh-03-0.99.hdf5\n",
            "Epoch 4/50\n",
            "60000/60000 [==============================] - 12s 207us/step - loss: 0.0722 - acc: 0.9771 - val_loss: 0.0458 - val_acc: 0.9847\n",
            "\n",
            "Epoch 00004: val_acc did not improve from 0.98580\n",
            "Epoch 5/50\n",
            "60000/60000 [==============================] - 12s 207us/step - loss: 0.0643 - acc: 0.9800 - val_loss: 0.0436 - val_acc: 0.9857\n",
            "\n",
            "Epoch 00005: val_acc did not improve from 0.98580\n",
            "Epoch 6/50\n",
            "60000/60000 [==============================] - 12s 206us/step - loss: 0.0595 - acc: 0.9818 - val_loss: 0.0337 - val_acc: 0.9885\n",
            "\n",
            "Epoch 00006: val_acc improved from 0.98580 to 0.98850, saving model to /content/gdrive/My Drive/Raajesh-06-0.99.hdf5\n",
            "Epoch 7/50\n",
            "60000/60000 [==============================] - 13s 220us/step - loss: 0.0540 - acc: 0.9832 - val_loss: 0.0308 - val_acc: 0.9901\n",
            "\n",
            "Epoch 00007: val_acc improved from 0.98850 to 0.99010, saving model to /content/gdrive/My Drive/Raajesh-07-0.99.hdf5\n",
            "Epoch 8/50\n",
            "60000/60000 [==============================] - 13s 210us/step - loss: 0.0524 - acc: 0.9830 - val_loss: 0.0338 - val_acc: 0.9887\n",
            "\n",
            "Epoch 00008: val_acc did not improve from 0.99010\n",
            "Epoch 9/50\n",
            "60000/60000 [==============================] - 12s 205us/step - loss: 0.0485 - acc: 0.9848 - val_loss: 0.0381 - val_acc: 0.9884\n",
            "\n",
            "Epoch 00009: val_acc did not improve from 0.99010\n",
            "Epoch 10/50\n",
            "60000/60000 [==============================] - 12s 206us/step - loss: 0.0459 - acc: 0.9852 - val_loss: 0.0357 - val_acc: 0.9889\n",
            "\n",
            "Epoch 00010: val_acc did not improve from 0.99010\n",
            "Epoch 11/50\n",
            "60000/60000 [==============================] - 12s 205us/step - loss: 0.0422 - acc: 0.9862 - val_loss: 0.0406 - val_acc: 0.9876\n",
            "\n",
            "Epoch 00011: val_acc did not improve from 0.99010\n",
            "Epoch 12/50\n",
            "60000/60000 [==============================] - 12s 206us/step - loss: 0.0417 - acc: 0.9873 - val_loss: 0.0317 - val_acc: 0.9901\n",
            "\n",
            "Epoch 00012: val_acc did not improve from 0.99010\n",
            "Epoch 13/50\n",
            "60000/60000 [==============================] - 13s 211us/step - loss: 0.0412 - acc: 0.9871 - val_loss: 0.0329 - val_acc: 0.9900\n",
            "\n",
            "Epoch 00013: val_acc did not improve from 0.99010\n",
            "Epoch 14/50\n",
            "60000/60000 [==============================] - 13s 220us/step - loss: 0.0405 - acc: 0.9868 - val_loss: 0.0269 - val_acc: 0.9914\n",
            "\n",
            "Epoch 00014: val_acc improved from 0.99010 to 0.99140, saving model to /content/gdrive/My Drive/Raajesh-14-0.99.hdf5\n",
            "Epoch 15/50\n",
            "60000/60000 [==============================] - 12s 207us/step - loss: 0.0398 - acc: 0.9871 - val_loss: 0.0309 - val_acc: 0.9901\n",
            "\n",
            "Epoch 00015: val_acc did not improve from 0.99140\n",
            "Epoch 16/50\n",
            "60000/60000 [==============================] - 12s 206us/step - loss: 0.0376 - acc: 0.9883 - val_loss: 0.0290 - val_acc: 0.9911\n",
            "\n",
            "Epoch 00016: val_acc did not improve from 0.99140\n",
            "Epoch 17/50\n",
            "60000/60000 [==============================] - 13s 217us/step - loss: 0.0349 - acc: 0.9891 - val_loss: 0.0280 - val_acc: 0.9910\n",
            "\n",
            "Epoch 00017: val_acc did not improve from 0.99140\n",
            "Epoch 18/50\n",
            "60000/60000 [==============================] - 14s 227us/step - loss: 0.0361 - acc: 0.9885 - val_loss: 0.0268 - val_acc: 0.9905\n",
            "\n",
            "Epoch 00018: val_acc did not improve from 0.99140\n",
            "Epoch 19/50\n",
            "60000/60000 [==============================] - 13s 209us/step - loss: 0.0361 - acc: 0.9884 - val_loss: 0.0312 - val_acc: 0.9904\n",
            "\n",
            "Epoch 00019: val_acc did not improve from 0.99140\n",
            "Epoch 20/50\n",
            "60000/60000 [==============================] - 13s 225us/step - loss: 0.0354 - acc: 0.9887 - val_loss: 0.0303 - val_acc: 0.9905\n",
            "\n",
            "Epoch 00020: val_acc did not improve from 0.99140\n",
            "Epoch 21/50\n",
            "60000/60000 [==============================] - 12s 206us/step - loss: 0.0352 - acc: 0.9886 - val_loss: 0.0238 - val_acc: 0.9924\n",
            "\n",
            "Epoch 00021: val_acc improved from 0.99140 to 0.99240, saving model to /content/gdrive/My Drive/Raajesh-21-0.99.hdf5\n",
            "Epoch 22/50\n",
            "60000/60000 [==============================] - 12s 207us/step - loss: 0.0329 - acc: 0.9895 - val_loss: 0.0344 - val_acc: 0.9900\n",
            "\n",
            "Epoch 00022: val_acc did not improve from 0.99240\n",
            "Epoch 23/50\n",
            "60000/60000 [==============================] - 12s 206us/step - loss: 0.0333 - acc: 0.9896 - val_loss: 0.0263 - val_acc: 0.9915\n",
            "\n",
            "Epoch 00023: val_acc did not improve from 0.99240\n",
            "Epoch 24/50\n",
            "60000/60000 [==============================] - 12s 207us/step - loss: 0.0322 - acc: 0.9899 - val_loss: 0.0268 - val_acc: 0.9920\n",
            "\n",
            "Epoch 00024: val_acc did not improve from 0.99240\n",
            "Epoch 25/50\n",
            "60000/60000 [==============================] - 12s 207us/step - loss: 0.0329 - acc: 0.9898 - val_loss: 0.0289 - val_acc: 0.9908\n",
            "\n",
            "Epoch 00025: val_acc did not improve from 0.99240\n",
            "Epoch 26/50\n",
            "60000/60000 [==============================] - 13s 222us/step - loss: 0.0325 - acc: 0.9895 - val_loss: 0.0241 - val_acc: 0.9909\n",
            "\n",
            "Epoch 00026: val_acc did not improve from 0.99240\n",
            "Epoch 27/50\n",
            "60000/60000 [==============================] - 13s 209us/step - loss: 0.0314 - acc: 0.9898 - val_loss: 0.0247 - val_acc: 0.9922\n",
            "\n",
            "Epoch 00027: val_acc did not improve from 0.99240\n",
            "Epoch 28/50\n",
            "60000/60000 [==============================] - 12s 206us/step - loss: 0.0301 - acc: 0.9903 - val_loss: 0.0244 - val_acc: 0.9927\n",
            "\n",
            "Epoch 00028: val_acc improved from 0.99240 to 0.99270, saving model to /content/gdrive/My Drive/Raajesh-28-0.99.hdf5\n",
            "Epoch 29/50\n",
            "60000/60000 [==============================] - 12s 206us/step - loss: 0.0306 - acc: 0.9901 - val_loss: 0.0257 - val_acc: 0.9922\n",
            "\n",
            "Epoch 00029: val_acc did not improve from 0.99270\n",
            "Epoch 30/50\n",
            "60000/60000 [==============================] - 12s 207us/step - loss: 0.0291 - acc: 0.9904 - val_loss: 0.0300 - val_acc: 0.9911\n",
            "\n",
            "Epoch 00030: val_acc did not improve from 0.99270\n",
            "Epoch 31/50\n",
            "60000/60000 [==============================] - 12s 207us/step - loss: 0.0311 - acc: 0.9903 - val_loss: 0.0248 - val_acc: 0.9921\n",
            "\n",
            "Epoch 00031: val_acc did not improve from 0.99270\n",
            "Epoch 32/50\n",
            "60000/60000 [==============================] - 13s 213us/step - loss: 0.0285 - acc: 0.9907 - val_loss: 0.0308 - val_acc: 0.9910\n",
            "\n",
            "Epoch 00032: val_acc did not improve from 0.99270\n",
            "Epoch 33/50\n",
            "60000/60000 [==============================] - 13s 218us/step - loss: 0.0282 - acc: 0.9906 - val_loss: 0.0213 - val_acc: 0.9940\n",
            "\n",
            "Epoch 00033: val_acc improved from 0.99270 to 0.99400, saving model to /content/gdrive/My Drive/Raajesh-33-0.99.hdf5\n",
            "Epoch 34/50\n",
            "60000/60000 [==============================] - 12s 207us/step - loss: 0.0257 - acc: 0.9918 - val_loss: 0.0246 - val_acc: 0.9922\n",
            "\n",
            "Epoch 00034: val_acc did not improve from 0.99400\n",
            "Epoch 35/50\n",
            "60000/60000 [==============================] - 12s 206us/step - loss: 0.0287 - acc: 0.9906 - val_loss: 0.0255 - val_acc: 0.9928\n",
            "\n",
            "Epoch 00035: val_acc did not improve from 0.99400\n",
            "Epoch 36/50\n",
            "60000/60000 [==============================] - 12s 206us/step - loss: 0.0289 - acc: 0.9906 - val_loss: 0.0245 - val_acc: 0.9922\n",
            "\n",
            "Epoch 00036: val_acc did not improve from 0.99400\n",
            "Epoch 37/50\n",
            "60000/60000 [==============================] - 12s 207us/step - loss: 0.0282 - acc: 0.9903 - val_loss: 0.0297 - val_acc: 0.9910\n",
            "\n",
            "Epoch 00037: val_acc did not improve from 0.99400\n",
            "Epoch 38/50\n",
            "60000/60000 [==============================] - 12s 206us/step - loss: 0.0292 - acc: 0.9906 - val_loss: 0.0237 - val_acc: 0.9918\n",
            "\n",
            "Epoch 00038: val_acc did not improve from 0.99400\n",
            "Epoch 39/50\n",
            "60000/60000 [==============================] - 14s 225us/step - loss: 0.0260 - acc: 0.9915 - val_loss: 0.0287 - val_acc: 0.9918\n",
            "\n",
            "Epoch 00039: val_acc did not improve from 0.99400\n",
            "Epoch 40/50\n",
            "60000/60000 [==============================] - 12s 206us/step - loss: 0.0269 - acc: 0.9910 - val_loss: 0.0225 - val_acc: 0.9929\n",
            "\n",
            "Epoch 00040: val_acc did not improve from 0.99400\n",
            "Epoch 41/50\n",
            "60000/60000 [==============================] - 13s 217us/step - loss: 0.0261 - acc: 0.9917 - val_loss: 0.0268 - val_acc: 0.9916\n",
            "\n",
            "Epoch 00041: val_acc did not improve from 0.99400\n",
            "Epoch 42/50\n",
            "60000/60000 [==============================] - 13s 211us/step - loss: 0.0263 - acc: 0.9913 - val_loss: 0.0219 - val_acc: 0.9929\n",
            "\n",
            "Epoch 00042: val_acc did not improve from 0.99400\n",
            "Epoch 43/50\n",
            "60000/60000 [==============================] - 14s 225us/step - loss: 0.0264 - acc: 0.9915 - val_loss: 0.0249 - val_acc: 0.9914\n",
            "\n",
            "Epoch 00043: val_acc did not improve from 0.99400\n",
            "Epoch 44/50\n",
            "60000/60000 [==============================] - 12s 205us/step - loss: 0.0256 - acc: 0.9919 - val_loss: 0.0252 - val_acc: 0.9915\n",
            "\n",
            "Epoch 00044: val_acc did not improve from 0.99400\n",
            "Epoch 45/50\n",
            "60000/60000 [==============================] - 13s 222us/step - loss: 0.0257 - acc: 0.9914 - val_loss: 0.0236 - val_acc: 0.9922\n",
            "\n",
            "Epoch 00045: val_acc did not improve from 0.99400\n",
            "Epoch 46/50\n",
            "60000/60000 [==============================] - 13s 209us/step - loss: 0.0270 - acc: 0.9910 - val_loss: 0.0218 - val_acc: 0.9937\n",
            "\n",
            "Epoch 00046: val_acc did not improve from 0.99400\n",
            "Epoch 47/50\n",
            "60000/60000 [==============================] - 12s 205us/step - loss: 0.0260 - acc: 0.9916 - val_loss: 0.0248 - val_acc: 0.9919\n",
            "\n",
            "Epoch 00047: val_acc did not improve from 0.99400\n",
            "Epoch 48/50\n",
            "60000/60000 [==============================] - 12s 206us/step - loss: 0.0257 - acc: 0.9914 - val_loss: 0.0255 - val_acc: 0.9931\n",
            "\n",
            "Epoch 00048: val_acc did not improve from 0.99400\n",
            "Epoch 49/50\n",
            "60000/60000 [==============================] - 12s 205us/step - loss: 0.0255 - acc: 0.9918 - val_loss: 0.0247 - val_acc: 0.9925\n",
            "\n",
            "Epoch 00049: val_acc did not improve from 0.99400\n",
            "Epoch 50/50\n",
            "60000/60000 [==============================] - 12s 206us/step - loss: 0.0260 - acc: 0.9914 - val_loss: 0.0259 - val_acc: 0.9920\n",
            "\n",
            "Epoch 00050: val_acc did not improve from 0.99400\n"
          ],
          "name": "stdout"
        },
        {
          "output_type": "execute_result",
          "data": {
            "text/plain": [
              "<keras.callbacks.History at 0x7f33006d5898>"
            ]
          },
          "metadata": {
            "tags": []
          },
          "execution_count": 16
        }
      ]
    },
    {
      "cell_type": "code",
      "metadata": {
        "id": "8DBHC_zvSgEe",
        "colab_type": "code",
        "colab": {}
      },
      "source": [
        "model.load_weights('/content/gdrive/My Drive/Raajesh-33-0.99.hdf5')"
      ],
      "execution_count": 0,
      "outputs": []
    },
    {
      "cell_type": "code",
      "metadata": {
        "id": "AtsH-lLk-eLb",
        "colab_type": "code",
        "colab": {}
      },
      "source": [
        "score = model.evaluate(X_test, Y_test, verbose=0)"
      ],
      "execution_count": 0,
      "outputs": []
    },
    {
      "cell_type": "code",
      "metadata": {
        "id": "mkX8JMv79q9r",
        "colab_type": "code",
        "outputId": "e8b13ae8-1854-46c5-f30a-8286e8e31238",
        "colab": {
          "base_uri": "https://localhost:8080/",
          "height": 34
        }
      },
      "source": [
        "print(score)"
      ],
      "execution_count": 0,
      "outputs": [
        {
          "output_type": "stream",
          "text": [
            "[0.021337284205295147, 0.994]\n"
          ],
          "name": "stdout"
        }
      ]
    },
    {
      "cell_type": "code",
      "metadata": {
        "id": "OCWoJkwE9suh",
        "colab_type": "code",
        "colab": {}
      },
      "source": [
        "y_pred = model.predict(X_test)"
      ],
      "execution_count": 0,
      "outputs": []
    },
    {
      "cell_type": "code",
      "metadata": {
        "id": "Ym7iCFBm9uBs",
        "colab_type": "code",
        "outputId": "5361b2d8-5026-4161-8329-7bd29efbac45",
        "colab": {
          "base_uri": "https://localhost:8080/",
          "height": 514
        }
      },
      "source": [
        "print(y_pred[:9])\n",
        "print(y_test[:9])"
      ],
      "execution_count": 0,
      "outputs": [
        {
          "output_type": "stream",
          "text": [
            "[[1.16869177e-12 1.48245791e-11 5.92477001e-08 2.40826772e-08\n",
            "  1.41434703e-15 3.02431205e-11 1.47983907e-22 9.99999762e-01\n",
            "  2.18623774e-12 1.40776308e-07]\n",
            " [2.11025561e-08 1.51019412e-06 9.99998450e-01 3.47097462e-10\n",
            "  1.11341825e-09 1.03915346e-12 4.28200799e-08 4.77725281e-12\n",
            "  1.34769362e-09 1.42306670e-11]\n",
            " [6.64228894e-09 9.99986649e-01 1.13656342e-05 4.19584040e-07\n",
            "  5.98139707e-08 2.40443029e-07 1.62673963e-08 1.06478160e-06\n",
            "  1.34206147e-07 2.48064591e-09]\n",
            " [9.96953368e-01 3.82317702e-12 1.74648392e-07 5.48503408e-07\n",
            "  8.93150087e-09 1.71537340e-05 2.97308294e-03 2.15610445e-08\n",
            "  2.75567418e-05 2.80849526e-05]\n",
            " [8.35992039e-12 7.53178908e-11 3.54078850e-10 1.87579385e-15\n",
            "  9.99999881e-01 4.51665140e-14 2.39867397e-11 1.39305486e-11\n",
            "  7.45652151e-10 8.26205238e-08]\n",
            " [1.19331700e-08 9.99983072e-01 1.14280556e-05 7.03959984e-08\n",
            "  1.90361092e-07 8.27324609e-09 8.52524362e-09 4.95903669e-06\n",
            "  3.40868439e-07 6.44126974e-09]\n",
            " [6.59981007e-17 3.45628592e-07 1.45382026e-10 3.31089323e-13\n",
            "  9.99999046e-01 2.30592130e-12 6.72923604e-17 5.07269874e-07\n",
            "  7.67832518e-08 4.72077986e-08]\n",
            " [2.94115982e-10 2.23083552e-09 5.07886924e-08 2.76298238e-08\n",
            "  2.36070264e-04 1.17262243e-06 9.70454606e-10 4.75326488e-07\n",
            "  1.31547358e-06 9.99760926e-01]\n",
            " [2.43017354e-07 2.10187986e-15 8.68443317e-10 1.22480881e-09\n",
            "  2.41469225e-13 9.71906424e-01 2.74237879e-02 1.67556832e-13\n",
            "  6.65482192e-04 4.04782941e-06]]\n",
            "[7 2 1 0 4 1 4 9 5]\n"
          ],
          "name": "stdout"
        }
      ]
    },
    {
      "cell_type": "code",
      "metadata": {
        "id": "CT--y98_dr2T",
        "colab_type": "code",
        "colab": {}
      },
      "source": [
        "layer_dict = dict([(layer.name, layer) for layer in model.layers])"
      ],
      "execution_count": 0,
      "outputs": []
    },
    {
      "cell_type": "code",
      "metadata": {
        "id": "2GY4Upv4dsUR",
        "colab_type": "code",
        "outputId": "fb2c5984-470c-4b93-be65-6be5e7b3981c",
        "colab": {
          "base_uri": "https://localhost:8080/",
          "height": 327
        }
      },
      "source": [
        "import numpy as np\n",
        "from matplotlib import pyplot as plt\n",
        "from keras import backend as K\n",
        "%matplotlib inline\n",
        "# util function to convert a tensor into a valid image\n",
        "def deprocess_image(x):\n",
        "    # normalize tensor: center on 0., ensure std is 0.1\n",
        "    x -= x.mean()\n",
        "    x /= (x.std() + 1e-5)\n",
        "    x *= 0.1\n",
        "\n",
        "    # clip to [0, 1]\n",
        "    x += 0.5\n",
        "    x = np.clip(x, 0, 1)\n",
        "\n",
        "    # convert to RGB array\n",
        "    x *= 255\n",
        "    #x = x.transpose((1, 2, 0))\n",
        "    x = np.clip(x, 0, 255).astype('uint8')\n",
        "    return x\n",
        "\n",
        "def vis_img_in_filter(img = np.array(X_train[2]).reshape((1, 28, 28, 1)).astype(np.float64), \n",
        "                      layer_name = 'conv2d_14'):\n",
        "    layer_output = layer_dict[layer_name].output\n",
        "    img_ascs = list()\n",
        "    for filter_index in range(layer_output.shape[3]):\n",
        "        # build a loss function that maximizes the activation\n",
        "        # of the nth filter of the layer considered\n",
        "        loss = K.mean(layer_output[:, :, :, filter_index])\n",
        "\n",
        "        # compute the gradient of the input picture wrt this loss\n",
        "        grads = K.gradients(loss, model.input)[0]\n",
        "\n",
        "        # normalization trick: we normalize the gradient\n",
        "        grads /= (K.sqrt(K.mean(K.square(grads))) + 1e-5)\n",
        "\n",
        "        # this function returns the loss and grads given the input picture\n",
        "        iterate = K.function([model.input], [loss, grads])\n",
        "\n",
        "        # step size for gradient ascent\n",
        "        step = 5.\n",
        "\n",
        "        img_asc = np.array(img)\n",
        "        # run gradient ascent for 20 steps\n",
        "        for i in range(20):\n",
        "            loss_value, grads_value = iterate([img_asc])\n",
        "            img_asc += grads_value * step\n",
        "\n",
        "        img_asc = img_asc[0]\n",
        "        img_ascs.append(deprocess_image(img_asc).reshape((28, 28)))\n",
        "        \n",
        "    if layer_output.shape[3] >= 35:\n",
        "        plot_x, plot_y = 6, 6\n",
        "    elif layer_output.shape[3] >= 23:\n",
        "        plot_x, plot_y = 4, 6\n",
        "    elif layer_output.shape[3] >= 11:\n",
        "        plot_x, plot_y = 2, 6\n",
        "    else:\n",
        "        plot_x, plot_y = 1, 2\n",
        "    fig, ax = plt.subplots(plot_x, plot_y, figsize = (12, 12))\n",
        "    ax[0, 0].imshow(img.reshape((28, 28)), cmap = 'gray')\n",
        "    ax[0, 0].set_title('Input image')\n",
        "    fig.suptitle('Input image and %s filters' % (layer_name,))\n",
        "    fig.tight_layout(pad = 0.3, rect = [0, 0, 0.9, 0.9])\n",
        "    for (x, y) in [(i, j) for i in range(plot_x) for j in range(plot_y)]:\n",
        "        if x == 0 and y == 0:\n",
        "            continue\n",
        "        ax[x, y].imshow(img_ascs[x * plot_y + y - 1], cmap = 'gray')\n",
        "        ax[x, y].set_title('filter %d' % (x * plot_y + y - 1))\n",
        "\n",
        "vis_img_in_filter()"
      ],
      "execution_count": 0,
      "outputs": [
        {
          "output_type": "error",
          "ename": "KeyError",
          "evalue": "ignored",
          "traceback": [
            "\u001b[0;31m---------------------------------------------------------------------------\u001b[0m",
            "\u001b[0;31mKeyError\u001b[0m                                  Traceback (most recent call last)",
            "\u001b[0;32m<ipython-input-23-19229f66b51a>\u001b[0m in \u001b[0;36m<module>\u001b[0;34m()\u001b[0m\n\u001b[1;32m     69\u001b[0m         \u001b[0max\u001b[0m\u001b[0;34m[\u001b[0m\u001b[0mx\u001b[0m\u001b[0;34m,\u001b[0m \u001b[0my\u001b[0m\u001b[0;34m]\u001b[0m\u001b[0;34m.\u001b[0m\u001b[0mset_title\u001b[0m\u001b[0;34m(\u001b[0m\u001b[0;34m'filter %d'\u001b[0m \u001b[0;34m%\u001b[0m \u001b[0;34m(\u001b[0m\u001b[0mx\u001b[0m \u001b[0;34m*\u001b[0m \u001b[0mplot_y\u001b[0m \u001b[0;34m+\u001b[0m \u001b[0my\u001b[0m \u001b[0;34m-\u001b[0m \u001b[0;36m1\u001b[0m\u001b[0;34m)\u001b[0m\u001b[0;34m)\u001b[0m\u001b[0;34m\u001b[0m\u001b[0;34m\u001b[0m\u001b[0m\n\u001b[1;32m     70\u001b[0m \u001b[0;34m\u001b[0m\u001b[0m\n\u001b[0;32m---> 71\u001b[0;31m \u001b[0mvis_img_in_filter\u001b[0m\u001b[0;34m(\u001b[0m\u001b[0;34m)\u001b[0m\u001b[0;34m\u001b[0m\u001b[0;34m\u001b[0m\u001b[0m\n\u001b[0m",
            "\u001b[0;32m<ipython-input-23-19229f66b51a>\u001b[0m in \u001b[0;36mvis_img_in_filter\u001b[0;34m(img, layer_name)\u001b[0m\n\u001b[1;32m     22\u001b[0m def vis_img_in_filter(img = np.array(X_train[2]).reshape((1, 28, 28, 1)).astype(np.float64), \n\u001b[1;32m     23\u001b[0m                       layer_name = 'conv2d_14'):\n\u001b[0;32m---> 24\u001b[0;31m     \u001b[0mlayer_output\u001b[0m \u001b[0;34m=\u001b[0m \u001b[0mlayer_dict\u001b[0m\u001b[0;34m[\u001b[0m\u001b[0mlayer_name\u001b[0m\u001b[0;34m]\u001b[0m\u001b[0;34m.\u001b[0m\u001b[0moutput\u001b[0m\u001b[0;34m\u001b[0m\u001b[0;34m\u001b[0m\u001b[0m\n\u001b[0m\u001b[1;32m     25\u001b[0m     \u001b[0mimg_ascs\u001b[0m \u001b[0;34m=\u001b[0m \u001b[0mlist\u001b[0m\u001b[0;34m(\u001b[0m\u001b[0;34m)\u001b[0m\u001b[0;34m\u001b[0m\u001b[0;34m\u001b[0m\u001b[0m\n\u001b[1;32m     26\u001b[0m     \u001b[0;32mfor\u001b[0m \u001b[0mfilter_index\u001b[0m \u001b[0;32min\u001b[0m \u001b[0mrange\u001b[0m\u001b[0;34m(\u001b[0m\u001b[0mlayer_output\u001b[0m\u001b[0;34m.\u001b[0m\u001b[0mshape\u001b[0m\u001b[0;34m[\u001b[0m\u001b[0;36m3\u001b[0m\u001b[0;34m]\u001b[0m\u001b[0;34m)\u001b[0m\u001b[0;34m:\u001b[0m\u001b[0;34m\u001b[0m\u001b[0;34m\u001b[0m\u001b[0m\n",
            "\u001b[0;31mKeyError\u001b[0m: 'conv2d_14'"
          ]
        }
      ]
    }
  ]
}