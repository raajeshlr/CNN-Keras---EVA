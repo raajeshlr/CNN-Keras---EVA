{
  "nbformat": 4,
  "nbformat_minor": 0,
  "metadata": {
    "colab": {
      "name": "Assignment3.ipynb",
      "provenance": []
    },
    "kernelspec": {
      "name": "python3",
      "display_name": "Python 3"
    }
  },
  "cells": [
    {
      "cell_type": "markdown",
      "metadata": {
        "id": "_kYM3ylzYo1Q",
        "colab_type": "text"
      },
      "source": [
        "![PyTorch](https://devblogs.nvidia.com/wp-content/uploads/2017/04/pytorch-logo-dark.png)\n",
        "\n",
        "An open source machine learning framework that accelerates the path from research prototyping to production deployment.\n",
        "\n"
      ]
    },
    {
      "cell_type": "markdown",
      "metadata": {
        "id": "WcVqSTrWY6oz",
        "colab_type": "text"
      },
      "source": [
        "# Tensor - Pytorch's core data structure\n",
        "\n",
        "In Python we can create lists, lists of lists, lists of lists and so on. In NumPy there is a `numpy.ndarray` which represents `n`- dimensional array. In math there is a special name for the generalization of vectors and matrices to a higher dimensional space - a tensor\n",
        "\n",
        "Tensor is an entity with a defined number of dimensions called an order (rank). \n",
        "\n",
        "**Scalar** can be considered as a rank-0-tensor. \n",
        "\n",
        "**Vector** can be introduced as a rank-1-tensor. \n",
        "\n",
        "**Matrices** can be considered as a rank-2-tensor.\n",
        "\n",
        "# Tensor Basics\n",
        "\n",
        "Let's import the torch module first."
      ]
    },
    {
      "cell_type": "code",
      "metadata": {
        "id": "e-oFVL2tYYqp",
        "colab_type": "code",
        "colab": {}
      },
      "source": [
        "import numpy as np\n",
        "import torch"
      ],
      "execution_count": 0,
      "outputs": []
    },
    {
      "cell_type": "markdown",
      "metadata": {
        "id": "uGxuR5IEaFJa",
        "colab_type": "text"
      },
      "source": [
        "## Tensor Creation\n",
        "Let's view examples of matrices and tensors generation\n",
        "\n",
        "2-dimensional (rank-2) tensor of zeros:"
      ]
    },
    {
      "cell_type": "code",
      "metadata": {
        "id": "897JQc25aD3E",
        "colab_type": "code",
        "outputId": "2aa62f2a-2a02-488b-eeec-fe7ec6eb04e0",
        "colab": {
          "base_uri": "https://localhost:8080/",
          "height": 67
        }
      },
      "source": [
        "torch.zeros(3, 4)"
      ],
      "execution_count": 0,
      "outputs": [
        {
          "output_type": "execute_result",
          "data": {
            "text/plain": [
              "tensor([[0., 0., 0., 0.],\n",
              "        [0., 0., 0., 0.],\n",
              "        [0., 0., 0., 0.]])"
            ]
          },
          "metadata": {
            "tags": []
          },
          "execution_count": 2
        }
      ]
    },
    {
      "cell_type": "markdown",
      "metadata": {
        "id": "pujmpEBhaPRA",
        "colab_type": "text"
      },
      "source": [
        "Random rank-3 tensor:\n",
        "_read the print below and convince yourself how this is a rank-3-tensor and learn what those 2, 3, 4 values are there for_"
      ]
    },
    {
      "cell_type": "code",
      "metadata": {
        "id": "mBrznTNhaOL7",
        "colab_type": "code",
        "outputId": "0ce3304f-cbf2-4ac5-cb8d-0e3fcb742788",
        "colab": {
          "base_uri": "https://localhost:8080/",
          "height": 134
        }
      },
      "source": [
        "torch.rand(2, 3, 4)"
      ],
      "execution_count": 0,
      "outputs": [
        {
          "output_type": "execute_result",
          "data": {
            "text/plain": [
              "tensor([[[0.4878, 0.3164, 0.1539, 0.2806],\n",
              "         [0.1404, 0.1811, 0.6717, 0.2881],\n",
              "         [0.6602, 0.9565, 0.4750, 0.3325]],\n",
              "\n",
              "        [[0.5760, 0.5902, 0.7216, 0.9254],\n",
              "         [0.3294, 0.3739, 0.7449, 0.7547],\n",
              "         [0.1247, 0.2553, 0.6114, 0.3821]]])"
            ]
          },
          "metadata": {
            "tags": []
          },
          "execution_count": 3
        }
      ]
    },
    {
      "cell_type": "markdown",
      "metadata": {
        "id": "kO4fIr15asdi",
        "colab_type": "text"
      },
      "source": [
        "I am hoping you have noticed 4-elements in a row, 3 rows making one block and there are 2 blocks. \n",
        "\n",
        "Random rank-4-tensor:"
      ]
    },
    {
      "cell_type": "code",
      "metadata": {
        "id": "KiCLvMGCaVZ3",
        "colab_type": "code",
        "outputId": "53f6da20-2d22-4166-a43a-44a736bfb26b",
        "colab": {
          "base_uri": "https://localhost:8080/",
          "height": 218
        }
      },
      "source": [
        "torch.rand(2, 2, 2, 3)"
      ],
      "execution_count": 0,
      "outputs": [
        {
          "output_type": "execute_result",
          "data": {
            "text/plain": [
              "tensor([[[[0.4719, 0.8991, 0.5408],\n",
              "          [0.7765, 0.2804, 0.4252]],\n",
              "\n",
              "         [[0.9529, 0.0331, 0.6094],\n",
              "          [0.5535, 0.5392, 0.4483]]],\n",
              "\n",
              "\n",
              "        [[[0.0896, 0.4949, 0.0871],\n",
              "          [0.7255, 0.6215, 0.5614]],\n",
              "\n",
              "         [[0.5219, 0.4927, 0.4945],\n",
              "          [0.9629, 0.1219, 0.1109]]]])"
            ]
          },
          "metadata": {
            "tags": []
          },
          "execution_count": 4
        }
      ]
    },
    {
      "cell_type": "markdown",
      "metadata": {
        "id": "lF6VL68s3AMV",
        "colab_type": "text"
      },
      "source": [
        "## Question 1:\n",
        "\n",
        "How many dimensions are there in a tensor defined as below?"
      ]
    },
    {
      "cell_type": "code",
      "metadata": {
        "id": "8IbXcI3x3Ibt",
        "colab_type": "code",
        "outputId": "11d46215-381f-4d66-c5d5-84d8651794a8",
        "colab": {
          "base_uri": "https://localhost:8080/",
          "height": 34
        }
      },
      "source": [
        "torch.rand(1, 1, 1, 1)"
      ],
      "execution_count": 0,
      "outputs": [
        {
          "output_type": "execute_result",
          "data": {
            "text/plain": [
              "tensor([[[[0.3483]]]])"
            ]
          },
          "metadata": {
            "tags": []
          },
          "execution_count": 5
        }
      ]
    },
    {
      "cell_type": "markdown",
      "metadata": {
        "id": "qmgpqssRa9jF",
        "colab_type": "text"
      },
      "source": [
        ".\n",
        "\n",
        "---\n",
        "\n",
        "\n",
        "There are many more ways to create tensor using some restrictions on values it should contatn - for the full reference, please follow the [official docs](https://pytorch.org/docs/stable/torch.html#creation-ops). \n",
        "\n",
        "\n",
        ".\n",
        "---\n",
        "\n",
        "\n",
        "# Python / NumPy / Pytorch interoperability\n",
        "\n",
        "You can create tensors from python as well as numpy arrays. You can also convert torch tensors to numpy arrays. So, the interoperability between torch and numpy is pretty good. "
      ]
    },
    {
      "cell_type": "code",
      "metadata": {
        "id": "ipgpeWPfa6gE",
        "colab_type": "code",
        "outputId": "4deeccd9-c26f-41db-8fb5-79fcde82c72e",
        "colab": {
          "base_uri": "https://localhost:8080/",
          "height": 118
        }
      },
      "source": [
        "# Simple Python List\n",
        "python_list = [1, 2]\n",
        "\n",
        "# Create a numpy array from python list\n",
        "numpy_array = np.array(python_list)\n",
        "\n",
        "# Create a torch Tensor from python list\n",
        "tensor_from_list = torch.tensor(python_list)\n",
        "\n",
        "# Create a torch Tensor from Numpy array\n",
        "tensor_from_array = torch.tensor(numpy_array)\n",
        "\n",
        "# Another way to create a torch Tensor from Numpy array (share same storage)\n",
        "tensor_from_array_v2 = torch.from_numpy(numpy_array)\n",
        "\n",
        "# Convert torch tensor to numpy array\n",
        "array_from_tensor = tensor_from_array.numpy()\n",
        "\n",
        "print('List:   ', python_list)\n",
        "print('Array:  ', numpy_array)\n",
        "print('Tensor: ', tensor_from_list)\n",
        "print('Tensor: ', tensor_from_array)\n",
        "print('Tensor: ', tensor_from_array_v2)\n",
        "print('Array:  ', array_from_tensor)"
      ],
      "execution_count": 0,
      "outputs": [
        {
          "output_type": "stream",
          "text": [
            "List:    [1, 2]\n",
            "Array:   [1 2]\n",
            "Tensor:  tensor([1, 2])\n",
            "Tensor:  tensor([1, 2])\n",
            "Tensor:  tensor([1, 2])\n",
            "Array:   [1 2]\n"
          ],
          "name": "stdout"
        }
      ]
    },
    {
      "cell_type": "markdown",
      "metadata": {
        "id": "X_x-86B8gqik",
        "colab_type": "text"
      },
      "source": [
        "**Difference between** `torch.Tensor` **and** `torch.from_numpy`\n",
        "\n",
        "Pytorch aims to be an effective library for computations. What does it mean? It means that pytorch avoids memory copying if it can. "
      ]
    },
    {
      "cell_type": "code",
      "metadata": {
        "id": "eHCKDGpygn_d",
        "colab_type": "code",
        "outputId": "73304501-26ce-4572-cb2b-447a00b73295",
        "colab": {
          "base_uri": "https://localhost:8080/",
          "height": 67
        }
      },
      "source": [
        "numpy_array[0] = 10\n",
        "\n",
        "print('Array:  ', numpy_array)\n",
        "print('Tensor: ', tensor_from_array)\n",
        "print('Tensor: ', tensor_from_array_v2)"
      ],
      "execution_count": 0,
      "outputs": [
        {
          "output_type": "stream",
          "text": [
            "Array:   [10  2]\n",
            "Tensor:  tensor([1, 2])\n",
            "Tensor:  tensor([10,  2])\n"
          ],
          "name": "stdout"
        }
      ]
    },
    {
      "cell_type": "markdown",
      "metadata": {
        "id": "-CKtdNRM3SMp",
        "colab_type": "text"
      },
      "source": [
        "## Question 2:\n",
        "\n",
        "Assume that we moved our complete (cats vs dogs) image dataset to numpy arrays. Then we use torch.from_numpy to convert these images to tensor. Then we apply a specific data augmentation strategy called \"CutOut\" which blocks a portion of the image directly on these tensors. What will happen to the accuracy of a model trained on this strategy compared to the one without this strategy? CutOut strategy is shown below: \n",
        "\n",
        "![CutOut](https://encrypted-tbn0.gstatic.com/images?q=tbn%3AANd9GcSnSyN835AmtQPKQbPjDHX-FmshNilbtexX95cRGQPwl56QCGDn)\n",
        "\n",
        "## Question 3:\n",
        "Why do you think we are observing this behavior?\n",
        "\n",
        "\n",
        "\n",
        "---\n",
        "\n",
        "\n"
      ]
    },
    {
      "cell_type": "markdown",
      "metadata": {
        "id": "dZq7O-aihSOA",
        "colab_type": "text"
      },
      "source": [
        "We have two different ways to create tensor from its NumPy counterpart - one copies memory and another one shares the same underlying storage. It works in the opposite way:"
      ]
    },
    {
      "cell_type": "code",
      "metadata": {
        "id": "TNFOwV8EhPwQ",
        "colab_type": "code",
        "outputId": "11fd9a49-bb1b-480a-8864-cc9a549961cf",
        "colab": {
          "base_uri": "https://localhost:8080/",
          "height": 84
        }
      },
      "source": [
        "array_from_tensor = tensor_from_array.numpy()\n",
        "print('Tensor: ', tensor_from_array)\n",
        "print('Array: ', array_from_tensor)\n",
        "\n",
        "tensor_from_array[0] = 11\n",
        "print('Tensor: ', tensor_from_array)\n",
        "print('Array: ', array_from_tensor)"
      ],
      "execution_count": 0,
      "outputs": [
        {
          "output_type": "stream",
          "text": [
            "Tensor:  tensor([1, 2])\n",
            "Array:  [1 2]\n",
            "Tensor:  tensor([11,  2])\n",
            "Array:  [11  2]\n"
          ],
          "name": "stdout"
        }
      ]
    },
    {
      "cell_type": "markdown",
      "metadata": {
        "id": "UM9ytbvKhtCw",
        "colab_type": "text"
      },
      "source": [
        "## Data types\n",
        "\n",
        "The basic data type of all Deep Learning-related operations is float, but sometimes you may need something else. Pytorch support different number types for its tensors the same way NumPy does it - by specifying the data type on tensor creation or via casting. Ths full list of supported data types can be found [here](https://pytorch.org/docs/stable/tensors.html). "
      ]
    },
    {
      "cell_type": "code",
      "metadata": {
        "id": "Bd6WkzJ4hpYi",
        "colab_type": "code",
        "outputId": "6ba9c271-2bae-4f8b-8243-d160f0d7213a",
        "colab": {
          "base_uri": "https://localhost:8080/",
          "height": 151
        }
      },
      "source": [
        "tensor = torch.zeros(2, 2)\n",
        "print('Tensor with default type: ', tensor)\n",
        "tensor = torch.zeros(2, 2, dtype=torch.float16)\n",
        "print('Tensor with 16-bit float: ', tensor)\n",
        "tensor = torch.zeros(2, 2, dtype=torch.int16)\n",
        "print('Tensor with integers: ', tensor)\n",
        "tensor = torch.zeros(2, 2, dtype=torch.bool)\n",
        "print('Tensor with boolean data: ', tensor)"
      ],
      "execution_count": 0,
      "outputs": [
        {
          "output_type": "stream",
          "text": [
            "Tensor with default type:  tensor([[0., 0.],\n",
            "        [0., 0.]])\n",
            "Tensor with 16-bit float:  tensor([[0., 0.],\n",
            "        [0., 0.]], dtype=torch.float16)\n",
            "Tensor with integers:  tensor([[0, 0],\n",
            "        [0, 0]], dtype=torch.int16)\n",
            "Tensor with boolean data:  tensor([[False, False],\n",
            "        [False, False]])\n"
          ],
          "name": "stdout"
        }
      ]
    },
    {
      "cell_type": "markdown",
      "metadata": {
        "id": "a9F4Dkdr40TE",
        "colab_type": "text"
      },
      "source": [
        "\n",
        "\n",
        "---\n",
        "\n",
        "\n",
        "## Question 4:\n",
        "We saw above that some times numpy and tensors share same storage and changing one changes the other. \n",
        "If we define a rank-2-tensor with ones (dtype of f16), and then convert it into a numpy data type using tensor.numpy() and store it in a variable called \"num\", and then we perform this operation `num = num * 0.5`, will the original tensor have 1.0s or 0.5s as its element values? \n"
      ]
    },
    {
      "cell_type": "code",
      "metadata": {
        "id": "FXnGm3ogg7_p",
        "colab_type": "code",
        "outputId": "05dfdac7-b491-45f4-a9b6-07a0e3229f3d",
        "colab": {
          "base_uri": "https://localhost:8080/",
          "height": 50
        }
      },
      "source": [
        "tensor = torch.ones(2, 2, dtype=torch.float16)\n",
        "num = tensor.numpy()\n",
        "num = num * 0.5\n",
        "print(tensor)"
      ],
      "execution_count": 0,
      "outputs": [
        {
          "output_type": "stream",
          "text": [
            "tensor([[1., 1.],\n",
            "        [1., 1.]], dtype=torch.float16)\n"
          ],
          "name": "stdout"
        }
      ]
    },
    {
      "cell_type": "markdown",
      "metadata": {
        "id": "OiQt8Mmm51OE",
        "colab_type": "text"
      },
      "source": [
        "\n",
        "\n",
        "---\n",
        "\n",
        "## Question 5: \n",
        "If the operation `num = num*5` is changed to `num[:] = num*5` will the original tensor have 1.0s or 0.5s as its element values? \n",
        "\n",
        "\n",
        "\n",
        "---\n",
        "\n"
      ]
    },
    {
      "cell_type": "code",
      "metadata": {
        "id": "HML_EI0zoNc_",
        "colab_type": "code",
        "outputId": "6eb39c9e-632d-4cf9-e126-10466dec1122",
        "colab": {
          "base_uri": "https://localhost:8080/",
          "height": 50
        }
      },
      "source": [
        "tensor1 = torch.ones(2, 2, dtype=torch.float16)\n",
        "num1 = tensor1.numpy()\n",
        "num1[:] = num1*.5\n",
        "print(tensor1)"
      ],
      "execution_count": 0,
      "outputs": [
        {
          "output_type": "stream",
          "text": [
            "tensor([[0.5000, 0.5000],\n",
            "        [0.5000, 0.5000]], dtype=torch.float16)\n"
          ],
          "name": "stdout"
        }
      ]
    },
    {
      "cell_type": "markdown",
      "metadata": {
        "id": "vzh8UB8KiVmb",
        "colab_type": "text"
      },
      "source": [
        "## Indexing\n",
        "\n",
        "Tensor provides access to its elements via the same `[]` operation as a regular python list or NumPy array. However, as you may recall from NumPy usage, the full power of math libraries is accessible only via vectorized operations, i.e. operations without explicit looping over all vector elements in python and using implicit optimized loops in C/C++/CUDA/Fortran/etc. available via special function calls. Pytorch employs the same paradigm and provides a wide range of vectorized operations. Let's take a look at some examples. \n",
        "\n",
        "Joining a list of tensors together with `torch.cat`"
      ]
    },
    {
      "cell_type": "code",
      "metadata": {
        "id": "GMaCDKPhiUAb",
        "colab_type": "code",
        "outputId": "4477311d-ab0c-457b-b146-74b3d3b545dc",
        "colab": {
          "base_uri": "https://localhost:8080/",
          "height": 50
        }
      },
      "source": [
        "a = torch.zeros(3, 2)\n",
        "b = torch.ones(3, 2)\n",
        "c = torch.cat((a, b), dim=0)\n",
        "#print(c)\n",
        "d = np.transpose(c)\n",
        "print(d)"
      ],
      "execution_count": 0,
      "outputs": [
        {
          "output_type": "stream",
          "text": [
            "tensor([[0., 0., 0., 1., 1., 1.],\n",
            "        [0., 0., 0., 1., 1., 1.]])\n"
          ],
          "name": "stdout"
        }
      ]
    },
    {
      "cell_type": "markdown",
      "metadata": {
        "id": "5bj4aeE86zdH",
        "colab_type": "text"
      },
      "source": [
        "\n",
        "\n",
        "---\n",
        "\n",
        "## Question 6: \n",
        "Is the transpose of concatenated a & b tensor on dimension 1, same as the contatenated tensor of a & b on dimension 0? \n",
        "\n",
        "\n",
        "\n",
        "---\n",
        "\n"
      ]
    },
    {
      "cell_type": "code",
      "metadata": {
        "id": "bZtClpfUsVcd",
        "colab_type": "code",
        "outputId": "8d3eb308-3754-4be3-a998-6edbae4cc49b",
        "colab": {
          "base_uri": "https://localhost:8080/",
          "height": 84
        }
      },
      "source": [
        "a = torch.zeros(3, 2)\n",
        "b = torch.ones(3, 2)\n",
        "c = torch.cat((a, b), dim=1)\n",
        "#print(c)\n",
        "d = np.transpose(c)\n",
        "print(d)"
      ],
      "execution_count": 0,
      "outputs": [
        {
          "output_type": "stream",
          "text": [
            "tensor([[0., 0., 0.],\n",
            "        [0., 0., 0.],\n",
            "        [1., 1., 1.],\n",
            "        [1., 1., 1.]])\n"
          ],
          "name": "stdout"
        }
      ]
    },
    {
      "cell_type": "markdown",
      "metadata": {
        "id": "0TXNne69j7LP",
        "colab_type": "text"
      },
      "source": [
        "Indexing with another tenxor/array:"
      ]
    },
    {
      "cell_type": "code",
      "metadata": {
        "id": "KiE-Fsi4jVd6",
        "colab_type": "code",
        "outputId": "d52e614f-609f-4f4f-ef06-51b8f81ab654",
        "colab": {
          "base_uri": "https://localhost:8080/",
          "height": 101
        }
      },
      "source": [
        "a = torch.arange(start=0, end=10)\n",
        "indices = np.arange(0, 10) > 5\n",
        "print(a)\n",
        "print(indices)\n",
        "print(a[indices])\n",
        "\n",
        "indices = torch.arange(start=0, end=10) %5\n",
        "print(indices)\n",
        "print(a[indices])"
      ],
      "execution_count": 0,
      "outputs": [
        {
          "output_type": "stream",
          "text": [
            "tensor([0, 1, 2, 3, 4, 5, 6, 7, 8, 9])\n",
            "[False False False False False False  True  True  True  True]\n",
            "tensor([6, 7, 8, 9])\n",
            "tensor([0, 1, 2, 3, 4, 0, 1, 2, 3, 4])\n",
            "tensor([0, 1, 2, 3, 4, 0, 1, 2, 3, 4])\n"
          ],
          "name": "stdout"
        }
      ]
    },
    {
      "cell_type": "markdown",
      "metadata": {
        "id": "LS4dnlu47WQu",
        "colab_type": "text"
      },
      "source": [
        "\n",
        "\n",
        "---\n",
        "\n",
        "## Question 7:\n",
        "\n",
        "`a` is defined as `torch.arange(start=0, end=10)`. We will create `b` using the two operations as below. In both cases do we get the same value?\n",
        "\n",
        "\n",
        "1.   indices variable created by the modulo operation on arange between 0 and 10. Then a new varialble `b` is created from `a` using the last 5 elements of indices. \n",
        "2.   indices variable created by the modulo operation on arange betwenn 1 and 11. Then a new varialble `b` is created from `a` using the last 5 elements of indices. \n",
        "\n",
        "\n",
        "\n",
        "---\n",
        "\n",
        "\n"
      ]
    },
    {
      "cell_type": "code",
      "metadata": {
        "id": "NEVhTtZ051t_",
        "colab_type": "code",
        "outputId": "21dba79e-d28f-41b4-e9a2-d06b623cc1eb",
        "colab": {
          "base_uri": "https://localhost:8080/",
          "height": 34
        }
      },
      "source": [
        "a = torch.arange(start=0, end=10)\n",
        "indices = np.arange(0, 10) % 5\n",
        "\n",
        "b = a[5:]\n",
        "print(b)\n"
      ],
      "execution_count": 0,
      "outputs": [
        {
          "output_type": "stream",
          "text": [
            "tensor([5, 6, 7, 8, 9])\n"
          ],
          "name": "stdout"
        }
      ]
    },
    {
      "cell_type": "code",
      "metadata": {
        "id": "FhaVEs9O7uQm",
        "colab_type": "code",
        "outputId": "b1f0ed67-c35c-4f73-f91a-3518169caa9c",
        "colab": {
          "base_uri": "https://localhost:8080/",
          "height": 34
        }
      },
      "source": [
        "a = torch.arange(start=1, end=11)\n",
        "indices = np.arange(1, 11) % 5\n",
        "\n",
        "b = a[5:]\n",
        "print(b)"
      ],
      "execution_count": 0,
      "outputs": [
        {
          "output_type": "stream",
          "text": [
            "tensor([ 6,  7,  8,  9, 10])\n"
          ],
          "name": "stdout"
        }
      ]
    },
    {
      "cell_type": "markdown",
      "metadata": {
        "id": "eQ4ZCVsTk-KH",
        "colab_type": "text"
      },
      "source": [
        "What should we do if we have, say, rank-2-tensor and want to select only some rows?"
      ]
    },
    {
      "cell_type": "code",
      "metadata": {
        "id": "_GtRpotjkt1q",
        "colab_type": "code",
        "outputId": "26c2026b-4843-426e-c8db-a572206ed8a1",
        "colab": {
          "base_uri": "https://localhost:8080/",
          "height": 134
        }
      },
      "source": [
        "tensor = torch.rand((5, 3))\n",
        "rows = torch.tensor([0, 2])\n",
        "print(tensor)\n",
        "tensor[rows]"
      ],
      "execution_count": 0,
      "outputs": [
        {
          "output_type": "stream",
          "text": [
            "tensor([[0.8143, 0.5758, 0.9026],\n",
            "        [0.6618, 0.3127, 0.6348],\n",
            "        [0.5773, 0.5033, 0.3908],\n",
            "        [0.4201, 0.1874, 0.0080],\n",
            "        [0.5629, 0.3533, 0.0704]])\n"
          ],
          "name": "stdout"
        },
        {
          "output_type": "execute_result",
          "data": {
            "text/plain": [
              "tensor([[0.8143, 0.5758, 0.9026],\n",
              "        [0.5773, 0.5033, 0.3908]])"
            ]
          },
          "metadata": {
            "tags": []
          },
          "execution_count": 23
        }
      ]
    },
    {
      "cell_type": "markdown",
      "metadata": {
        "id": "zIJnr_N2_Qaf",
        "colab_type": "text"
      },
      "source": [
        "\n",
        "\n",
        "---\n",
        "\n",
        "## Question 8: \n",
        "\n",
        "Consider a tensor defined as `torch.rand((6, 5))`. Is the shape of the new tensor created by taking the 0th, 2nd and 4th row of the old tensor same as the shape of the a newer tensor created by taking the 0th, 2nd and 4th row of the old tensor after transposing it by operation `torch.transpose(tensor, 0, 1)` ?\n",
        "\n",
        "\n",
        "\n",
        "---\n",
        "\n",
        "\n"
      ]
    },
    {
      "cell_type": "code",
      "metadata": {
        "id": "GQr-GoEX8Hmt",
        "colab_type": "code",
        "outputId": "67cf4d98-6736-4ca2-8893-482ce3b33194",
        "colab": {
          "base_uri": "https://localhost:8080/",
          "height": 34
        }
      },
      "source": [
        "tensor = torch.rand((6, 5))\n",
        "rows = torch.tensor([0, 2, 4])\n",
        "print(tensor[rows].shape)"
      ],
      "execution_count": 0,
      "outputs": [
        {
          "output_type": "stream",
          "text": [
            "torch.Size([3, 5])\n"
          ],
          "name": "stdout"
        }
      ]
    },
    {
      "cell_type": "code",
      "metadata": {
        "id": "hP_1kLxe8mJu",
        "colab_type": "code",
        "outputId": "5cfa49b9-b933-474d-b5f4-85e203548a7f",
        "colab": {
          "base_uri": "https://localhost:8080/",
          "height": 34
        }
      },
      "source": [
        "tensor = torch.rand((6, 5))\n",
        "tensor = torch.transpose(tensor, 0, 1)\n",
        "rows = torch.tensor([0, 2, 4])\n",
        "print(tensor[rows].shape)"
      ],
      "execution_count": 0,
      "outputs": [
        {
          "output_type": "stream",
          "text": [
            "torch.Size([3, 6])\n"
          ],
          "name": "stdout"
        }
      ]
    },
    {
      "cell_type": "markdown",
      "metadata": {
        "id": "naDzFMkslU0b",
        "colab_type": "text"
      },
      "source": [
        "## Tensor Shapes\n",
        "\n",
        "Reshaping a tensor is a frequently used operation. We can change the shape of a tensor without the memory copying overhead. There are two methods for that: `reshape` and `view`. \n",
        "\n",
        "The difference is the following: \n",
        "\n",
        "\n",
        "*   view tries to return a tensor, and it shares the same memory with the original tensor. In case, if it cannot reuse the same memory due to [some reason](https://pytorch.org/docs/stable/tensors.html?highlight=view#torch.Tensor.view), it just fails. \n",
        "*   reshape always returns the tensor with the desired shape and tries to reuse the memory. If it cannot, it creates a copy\n",
        "\n",
        "Let's see with the help of an example:"
      ]
    },
    {
      "cell_type": "code",
      "metadata": {
        "id": "HClDkqLLlMJh",
        "colab_type": "code",
        "outputId": "3b452b4f-d243-47a6-b90d-cc6cead8156f",
        "colab": {
          "base_uri": "https://localhost:8080/",
          "height": 168
        }
      },
      "source": [
        "tensor = torch.rand(2, 3, 4)\n",
        "print('Pointer to data: ', tensor.data_ptr())\n",
        "print('Shape: ', tensor.shape)\n",
        "\n",
        "reshaped = tensor.reshape(24)\n",
        "\n",
        "view = tensor.view(3, 2, 4)\n",
        "print('Reshaped tensor - pointer to data', reshaped.data_ptr())\n",
        "print('Reshaped tensor shape ', reshaped.shape)\n",
        "\n",
        "print('Viewed tensor - pointer to data', view.data_ptr())\n",
        "print('Viewed tensor shape ', view.shape)\n",
        "\n",
        "assert tensor.data_ptr() == view.data_ptr()\n",
        "\n",
        "assert np.all(np.equal(tensor.numpy().flat, reshaped.numpy().flat))\n",
        "\n",
        "print('Original stride: ', tensor.stride())\n",
        "print('Reshaped stride: ', reshaped.stride())\n",
        "print('Viewed stride: ', view.stride())"
      ],
      "execution_count": 0,
      "outputs": [
        {
          "output_type": "stream",
          "text": [
            "Pointer to data:  98254464\n",
            "Shape:  torch.Size([2, 3, 4])\n",
            "Reshaped tensor - pointer to data 98254464\n",
            "Reshaped tensor shape  torch.Size([24])\n",
            "Viewed tensor - pointer to data 98254464\n",
            "Viewed tensor shape  torch.Size([3, 2, 4])\n",
            "Original stride:  (12, 4, 1)\n",
            "Reshaped stride:  (1,)\n",
            "Viewed stride:  (8, 4, 1)\n"
          ],
          "name": "stdout"
        }
      ]
    },
    {
      "cell_type": "markdown",
      "metadata": {
        "id": "jIN5jSppm4yC",
        "colab_type": "text"
      },
      "source": [
        "The basic rule about reshaping the tensor is definitely that you cannot change the total number of elements in it, so the product of all tensor's dimensions should always be the same. It gives us the ability to avoid specifying one dimension when reshaping the tensor - Pytorch can calculate it for us:"
      ]
    },
    {
      "cell_type": "code",
      "metadata": {
        "id": "e3D19ERFmzOl",
        "colab_type": "code",
        "outputId": "e5db9567-c854-4d37-968a-1d82559ab392",
        "colab": {
          "base_uri": "https://localhost:8080/",
          "height": 67
        }
      },
      "source": [
        "print(tensor.reshape(3, 2, 4).shape)\n",
        "print(tensor.reshape(3, 2, -1).shape)\n",
        "print(tensor.reshape(3, -1, 4).shape)"
      ],
      "execution_count": 0,
      "outputs": [
        {
          "output_type": "stream",
          "text": [
            "torch.Size([3, 2, 4])\n",
            "torch.Size([3, 2, 4])\n",
            "torch.Size([3, 2, 4])\n"
          ],
          "name": "stdout"
        }
      ]
    },
    {
      "cell_type": "markdown",
      "metadata": {
        "id": "ObgCQKUiETak",
        "colab_type": "text"
      },
      "source": [
        "\n",
        "\n",
        "---\n",
        "\n",
        "\n",
        "## Question 9:\n",
        "\n",
        "Consider a tensor `a` created with [1, 2, 3] and [1, 2, 3] of size (2, 3) is reshaped with operation `.reshape(-1, 2)`. Also consider a tensor `b` created with [[2, 1]] and of size (1, 2), later operated with `view(2, -1)` operation. \n",
        "\n",
        "If we do a dot product of a and b (using `torch.mm`) and perform the sum of all the elements (using `torch.sum`) what do we get? (enter int value without any decimal point in the quiz)\n",
        "\n",
        "\n",
        "\n",
        "---\n",
        "\n"
      ]
    },
    {
      "cell_type": "code",
      "metadata": {
        "id": "8bSS-T4F-K_2",
        "colab_type": "code",
        "outputId": "e1277106-bc32-4de8-fd28-86fffab85a25",
        "colab": {
          "base_uri": "https://localhost:8080/",
          "height": 67
        }
      },
      "source": [
        "a = torch.tensor([[1, 2, 3], [1, 2, 3]])\n",
        "print('Shape: ', a.shape)\n",
        "\n",
        "a = a.reshape(-1, 2)\n",
        "\n",
        "b = torch.tensor([[2, 1]])\n",
        "print('Shape: ', b.shape)\n",
        "\n",
        "b = b.view(2, -1)\n",
        "\n",
        "dot = torch.mm(a, b)\n",
        "print(torch.sum(dot))"
      ],
      "execution_count": 0,
      "outputs": [
        {
          "output_type": "stream",
          "text": [
            "Shape:  torch.Size([2, 3])\n",
            "Shape:  torch.Size([1, 2])\n",
            "tensor(18)\n"
          ],
          "name": "stdout"
        }
      ]
    },
    {
      "cell_type": "markdown",
      "metadata": {
        "id": "mza7QPg3ndeV",
        "colab_type": "text"
      },
      "source": [
        "**Alternative ways to view tensors** - `expand` or `expand_as`.\n",
        "\n",
        "\n",
        "\n",
        "*   `expand` - requires the desired shape as an input\n",
        "*   `expand_as` - uses the shape of another tensor\n",
        "\n",
        "These operations \"repeat\" tensor's values along the specified axes without actually copying the data. \n",
        "\n",
        "As the documentation says, expand:\n",
        "\n",
        "\n",
        "> returns a new view of the self tensor with singleton dimensions expanded to a larger size. Tensor can be also expanded to a larger number of dimensions, and the new ones will be appended at the front. For the new dimensions, the size cannot be set to -1. \n",
        "\n",
        "**Use case:**\n",
        "\n",
        "\n",
        "\n",
        "*   index multi-channel tensor with single-channel mask - imagine a color image with 3 channels (RGB) and binary mask for the area of interest on that image. We cannot index the image with this kind of mask directly since the dimensions are different, but we can use `expand_as` operation to create a view of the mask that has the same dimensions as the image we want to apply it to, but has not copied the data. "
      ]
    },
    {
      "cell_type": "code",
      "metadata": {
        "id": "iz33E-V7nPQT",
        "colab_type": "code",
        "outputId": "1a2cad08-32ef-40d6-b8e4-2387f8d79fda",
        "colab": {
          "base_uri": "https://localhost:8080/",
          "height": 595
        }
      },
      "source": [
        "%matplotlib inline\n",
        "from matplotlib import pyplot as plt\n",
        "\n",
        "# Create a black image\n",
        "image = torch.zeros(size=(3, 256, 256), dtype=torch.int)\n",
        "\n",
        "# Leave the borders and make the rest of the image Green\n",
        "image[1, 18:256 - 18, 18:256 - 18] = 255\n",
        "\n",
        "# Create a mask of the same size\n",
        "mask = torch.zeros(size=(256, 256), dtype=torch.bool)\n",
        "\n",
        "# Assuming the green region in the original image is the Region of interest, change the mask to white for that area\n",
        "mask[18:256 - 18, 18:256 - 18] = 1\n",
        "\n",
        "# Create a view of the mask with the same dimensions as the original image\n",
        "mask_expanded = mask.expand_as(image)\n",
        "print(mask_expanded.shape)\n",
        "\n",
        "mask_np = mask_expanded.numpy().transpose(1, 2, 0) * 255\n",
        "image_np = image.numpy().transpose(1, 2, 0)\n",
        "\n",
        "fig, ax = plt.subplots(1, 2)\n",
        "ax[0].imshow(image_np)\n",
        "ax[1].imshow(mask_np)\n",
        "plt.show()\n",
        "\n",
        "image[0, mask] += 128\n",
        "fig, ax = plt.subplots(1, 2)\n",
        "ax[0].imshow(image_np)\n",
        "ax[1].imshow(mask_np)\n",
        "plt.show()\n",
        "\n",
        "image[mask_expanded] += 128\n",
        "image.clamp_(0, 255)\n",
        "fig, ax = plt.subplots(1, 2)\n",
        "ax[0].imshow(image_np)\n",
        "ax[1].imshow(mask_np)\n",
        "plt.show()"
      ],
      "execution_count": 0,
      "outputs": [
        {
          "output_type": "stream",
          "text": [
            "torch.Size([3, 256, 256])\n"
          ],
          "name": "stdout"
        },
        {
          "output_type": "display_data",
          "data": {
            "image/png": "[encoded data removed]",
            "text/plain": [
              "<Figure size 432x288 with 2 Axes>"
            ]
          },
          "metadata": {
            "tags": []
          }
        },
        {
          "output_type": "display_data",
          "data": {
            "image/png": "[encoded data removed]",
            "text/plain": [
              "<Figure size 432x288 with 2 Axes>"
            ]
          },
          "metadata": {
            "tags": []
          }
        },
        {
          "output_type": "display_data",
          "data": {
            "image/png": "[encoded data removed]",
            "text/plain": [
              "<Figure size 432x288 with 2 Axes>"
            ]
          },
          "metadata": {
            "tags": []
          }
        }
      ]
    },
    {
      "cell_type": "markdown",
      "metadata": {
        "id": "jiXBx0k3ptOI",
        "colab_type": "text"
      },
      "source": [
        "In the example above, one can also find a couple of useful tricks:\n",
        "\n",
        "\n",
        "*   `clamp` method and function is a Pytorch's analogue of NumPy's `clip` function\n",
        "*   many operations on tensors have in-place form, that does not return modified data, but change values in the tensor. The in-place version of the operation has trailing underscore according to Pytorch's naming convension - in the exmaple above it is `clamp_`\n",
        "*   tensors have the same indexing as Numpy's arrays - one can use `:` seperated range, negative indexes and so on.\n",
        "\n",
        "\n",
        ".\n",
        "\n",
        "\n",
        "---\n",
        "\n",
        "# Images and their representations\n",
        "\n",
        "Now, let's discuss images, their representations and how different Python librarties work with them. \n",
        "\n",
        "Probably, the most well-known library for image loading and simple processing is [Pillow](https://pillow.readthedocs.io/en/stable/). \n",
        "\n",
        "However, many people in deep learning area stick with OpenCV for image loading and processing with some usage of another libraries when it is justified by performance/functionality. This is because OpenCV is in general much faster than the other libraries. Here you can find a couple of benchmarks: \n",
        "\n",
        "*   https://www.kaggle.com/zfturbo/benchmark-2019-speed-of-image-reading\n",
        "*   https://github.com/albumentations-team/albumentations#benchmarking-results\n",
        "\n",
        "To sum up the benchmarks above, there are two most common image formats, PNG and JPEGs. If your data is in PNG format - use OpenCV to read it. If it is in JPEG - use libturbojpeg. For image processing, use OpenCV if possible. _We will be using PIL a lot along with these._\n",
        "\n",
        "As you will read the code from others, you may find out that some of them use Pillow/something else to read data. You should know, that color image representations in OpenCV and other libraries are different - OpenCV uses \"BGR\" channel order, while others use \"RGB\" one. \n",
        "\n",
        "To change \"BRG\" <-> \"RGB\" the only thing we need to do it to change channel order."
      ]
    },
    {
      "cell_type": "code",
      "metadata": {
        "id": "ZYv4sZMmpndu",
        "colab_type": "code",
        "outputId": "2eebe5ff-4306-4fd2-b366-154d5e64b9ec",
        "colab": {
          "base_uri": "https://localhost:8080/",
          "height": 152
        }
      },
      "source": [
        "%matplotlib inline\n",
        "from matplotlib import pyplot as plt\n",
        "import cv2\n",
        "\n",
        "\n",
        "bgr_image = cv2.imread('mars.jpg') \n",
        "# remember to add your own image in case you run this block, if you want to use the same image, \n",
        "# download it from: https://encrypted-tbn0.gstatic.com/images?q=tbn%3AANd9GcRCA40ftnscVzfV8ft8e7vIzQXfXeZdtco8nknJrfCUW6INI40U\n",
        "rgb_image = bgr_image[..., ::-1]\n",
        "fig, ax = plt.subplots(1, 2)\n",
        "ax[0].imshow(bgr_image)\n",
        "ax[1].imshow(rgb_image)\n",
        "plt.show()"
      ],
      "execution_count": 0,
      "outputs": [
        {
          "output_type": "display_data",
          "data": {
            "image/png": "[encoded data removed]",
            "text/plain": [
              "<Figure size 432x288 with 2 Axes>"
            ]
          },
          "metadata": {
            "tags": []
          }
        }
      ]
    },
    {
      "cell_type": "markdown",
      "metadata": {
        "id": "yoi4TeNBGHle",
        "colab_type": "text"
      },
      "source": [
        "\n",
        "\n",
        "---\n",
        "\n",
        "## Question 10:\n",
        "\n",
        "Looking at the results above it can be said that the pixel values in the blue channels would be very small compared to red channel. True/False?\n",
        "\n",
        "\n",
        "---\n",
        "\n",
        "\n"
      ]
    },
    {
      "cell_type": "markdown",
      "metadata": {
        "id": "b3ugFd57zNwa",
        "colab_type": "text"
      },
      "source": [
        "# Autograd\n",
        "\n",
        "Pytorch supports automatic differentiation. The module which implements this is called **AutoGrad**. It calculates the gradients and keeps track in forward and backward passes. For primitive tensors, you need to enable or disable it using the `required_grad` flag. But, for advanced tensors, it is enabled by default"
      ]
    },
    {
      "cell_type": "code",
      "metadata": {
        "id": "VMOp4aiou6JR",
        "colab_type": "code",
        "outputId": "8e38668d-f118-4acd-ac86-39629893326b",
        "colab": {
          "base_uri": "https://localhost:8080/",
          "height": 185
        }
      },
      "source": [
        "a = torch.rand((3, 5), requires_grad = True)\n",
        "print(a)\n",
        "result = a * 5\n",
        "print(result)\n",
        "\n",
        "# grad can be implicitly created only for scalar outputs\n",
        "# so let's calculate the sum here so that the output becomes a scalar and we can apply a backward pass\n",
        "mean_result = result.sum()\n",
        "print(mean_result)\n",
        "# calculate gradient\n",
        "mean_result.backward()\n",
        "# print gradient of a\n",
        "print(a.grad)"
      ],
      "execution_count": 0,
      "outputs": [
        {
          "output_type": "stream",
          "text": [
            "tensor([[0.7868, 0.7724, 0.4318, 0.9070, 0.7602],\n",
            "        [0.0766, 0.3851, 0.6351, 0.1371, 0.9533],\n",
            "        [0.9890, 0.7549, 0.5810, 0.7060, 0.9249]], requires_grad=True)\n",
            "tensor([[3.9339, 3.8618, 2.1590, 4.5351, 3.8012],\n",
            "        [0.3829, 1.9257, 3.1755, 0.6857, 4.7663],\n",
            "        [4.9452, 3.7745, 2.9049, 3.5302, 4.6247]], grad_fn=<MulBackward0>)\n",
            "tensor(49.0063, grad_fn=<SumBackward0>)\n",
            "tensor([[5., 5., 5., 5., 5.],\n",
            "        [5., 5., 5., 5., 5.],\n",
            "        [5., 5., 5., 5., 5.]])\n"
          ],
          "name": "stdout"
        }
      ]
    },
    {
      "cell_type": "markdown",
      "metadata": {
        "id": "ym0Amk2IGfLx",
        "colab_type": "text"
      },
      "source": [
        "\n",
        "\n",
        "---\n",
        "\n",
        "## Question 11: \n",
        "\n",
        "Why the gradient of a is all 5s above?\n",
        "\n",
        "\n",
        "\n",
        "---\n",
        "\n"
      ]
    },
    {
      "cell_type": "markdown",
      "metadata": {
        "id": "7PDgGq2R0k7I",
        "colab_type": "text"
      },
      "source": [
        "As we see, Pytorch automagically calculated the gradient value for us. It looks to be the correct value - we multiplied an input by 5, so the gradient of this operation equals to 5.\n",
        "\n",
        "# Disabling Autograd for tensors\n",
        "\n",
        "We don't need to compute gradients for all the variables that are involved in the pipeline. The Pytorch API provides 2 ways to disable autograd.\n",
        "\n",
        "`detach` - returns a copy of the tensor with autograd disabled. This \n",
        "\n",
        "1.   copy is built on the same memory as the original tensor, so in-place size / stride / storage changes (such as resize_ / resizeas / set / transpose) modifications are not allowed.\n",
        "2.   torch.no_grad() - It is a context manager that allows you to guard a series of operations from autograd without creating new tensors."
      ]
    },
    {
      "cell_type": "code",
      "metadata": {
        "id": "yqVG9fQb0cLW",
        "colab_type": "code",
        "outputId": "9b86e18e-7a35-42f9-ae87-f4c6a6096fba",
        "colab": {
          "base_uri": "https://localhost:8080/",
          "height": 67
        }
      },
      "source": [
        "a = torch.rand((3, 5), requires_grad=True)\n",
        "detached_a = a.detach()\n",
        "detached_result = detached_a * 5\n",
        "result = a * 10\n",
        "# we cannot do backward pass that is required for autograd using multideminsional output,\n",
        "# so let's calculate the sum here\n",
        "mean_result = result.sum()\n",
        "mean_result.backward()\n",
        "a.grad"
      ],
      "execution_count": 0,
      "outputs": [
        {
          "output_type": "execute_result",
          "data": {
            "text/plain": [
              "tensor([[10., 10., 10., 10., 10.],\n",
              "        [10., 10., 10., 10., 10.],\n",
              "        [10., 10., 10., 10., 10.]])"
            ]
          },
          "metadata": {
            "tags": []
          },
          "execution_count": 39
        }
      ]
    },
    {
      "cell_type": "code",
      "metadata": {
        "id": "uqpch2Be02J7",
        "colab_type": "code",
        "outputId": "26abd01f-7d48-4bac-def2-ec3bc978a76b",
        "colab": {
          "base_uri": "https://localhost:8080/",
          "height": 67
        }
      },
      "source": [
        "a = torch.rand((3, 5), requires_grad=True)\n",
        "with torch.no_grad():\n",
        "    detached_result = a * 5\n",
        "result = a * 10\n",
        "# we cannot do backward pass that is required for autograd using multideminsional output,\n",
        "# so let's calculate the sum here\n",
        "mean_result = result.sum()\n",
        "mean_result.backward()\n",
        "a.grad"
      ],
      "execution_count": 0,
      "outputs": [
        {
          "output_type": "execute_result",
          "data": {
            "text/plain": [
              "tensor([[10., 10., 10., 10., 10.],\n",
              "        [10., 10., 10., 10., 10.],\n",
              "        [10., 10., 10., 10., 10.]])"
            ]
          },
          "metadata": {
            "tags": []
          },
          "execution_count": 40
        }
      ]
    },
    {
      "cell_type": "markdown",
      "metadata": {
        "id": "vjh2rYOPJUAZ",
        "colab_type": "text"
      },
      "source": [
        "# Custom Network\n",
        "\n",
        "A fully-connected ReLU network with one hidden layer and no biases, trained to predict y from x by minimizing squared Euclidean distance.\n",
        "\n",
        "This implementation uses PyTorch tensors to manually compute the forward pass, loss, and backward pass.\n",
        "\n",
        "A PyTorch Tensor is basically the same as a numpy array: it does not know anything about deep learning or computational graphs or gradients, and is just a generic n-dimensional array to be used for arbitrary numeric computation.\n",
        "\n",
        "The biggest difference between a numpy array and a PyTorch Tensor is that a PyTorch Tensor can run on either CPU or GPU. To run operations on the GPU, just cast the Tensor to a cuda datatype."
      ]
    },
    {
      "cell_type": "code",
      "metadata": {
        "id": "0nf5RaB104Vp",
        "colab_type": "code",
        "outputId": "72497183-6d8f-4315-b249-5c39d004ba26",
        "colab": {
          "base_uri": "https://localhost:8080/",
          "height": 1000
        }
      },
      "source": [
        "dtype = torch.float\n",
        "device = torch.device(\"cpu\")\n",
        "# device = torch.device(\"cuda:0\") # Uncomment this to run on GPU\n",
        "\n",
        "# N is batch size; D_in is input dimension;\n",
        "# H is hidden dimension; D_out is output dimension.\n",
        "N, D_in, H, D_out = 64, 1000, 100, 10\n",
        "\n",
        "# Create random input and output data\n",
        "x = torch.randn(N, D_in, device=device, dtype=dtype)\n",
        "y = torch.randn(N, D_out, device=device, dtype=dtype)\n",
        "\n",
        "# Randomly initialize weights\n",
        "w1 = torch.randn(D_in, H, device=device, dtype=dtype)\n",
        "w2 = torch.randn(H, D_out, device=device, dtype=dtype)\n",
        "\n",
        "learning_rate = 1e-6\n",
        "for t in range(500):\n",
        "    # Forward pass: compute predicted y\n",
        "    h = x.mm(w1)\n",
        "    h_relu = h.clamp(min=0)\n",
        "    y_pred = h_relu.mm(w2)\n",
        "\n",
        "    # Compute and print loss\n",
        "    loss = (y_pred - y).pow(2).sum().item()\n",
        "    print(t, loss)\n",
        "\n",
        "    # Backprop to compute gradients of w1 and w2 with respect to loss\n",
        "    grad_y_pred = 2*(y_pred - y)\n",
        "    grad_w2 = h_relu.t().mm(grad_y_pred)\n",
        "    grad_h_relu = grad_y_pred.mm(w2.t())\n",
        "    grad_h = grad_h_relu.clone()\n",
        "    grad_h[h < 0] = 0\n",
        "    grad_w1 = x.t().mm(grad_h)\n",
        "\n",
        "    # Update weights using gradient descent\n",
        "    w1 -= learning_rate * grad_w1\n",
        "    w2 -= learning_rate * grad_w2"
      ],
      "execution_count": 0,
      "outputs": [
        {
          "output_type": "stream",
          "text": [
            "0 31285682.0\n",
            "1 24881234.0\n",
            "2 21745134.0\n",
            "3 18718024.0\n",
            "4 15012496.0\n",
            "5 11017972.0\n",
            "6 7551340.0\n",
            "7 4972283.0\n",
            "8 3274273.75\n",
            "9 2210204.5\n",
            "10 1557643.875\n",
            "11 1150958.75\n",
            "12 888668.3125\n",
            "13 710921.375\n",
            "14 584680.9375\n",
            "15 490988.65625\n",
            "16 418660.34375\n",
            "17 361017.0625\n",
            "18 313913.21875\n",
            "19 274771.6875\n",
            "20 241807.0\n",
            "21 213764.5\n",
            "22 189717.828125\n",
            "23 168981.46875\n",
            "24 151003.3125\n",
            "25 135334.6875\n",
            "26 121614.1875\n",
            "27 109559.71875\n",
            "28 98927.703125\n",
            "29 89526.265625\n",
            "30 81187.6875\n",
            "31 73771.8671875\n",
            "32 67156.9453125\n",
            "33 61244.125\n",
            "34 55945.875\n",
            "35 51191.84375\n",
            "36 46910.60546875\n",
            "37 43046.71875\n",
            "38 39552.109375\n",
            "39 36386.63671875\n",
            "40 33513.73046875\n",
            "41 30901.46875\n",
            "42 28522.890625\n",
            "43 26354.0859375\n",
            "44 24372.6484375\n",
            "45 22560.62109375\n",
            "46 20902.11328125\n",
            "47 19381.537109375\n",
            "48 17985.345703125\n",
            "49 16702.826171875\n",
            "50 15522.873046875\n",
            "51 14437.583984375\n",
            "52 13438.810546875\n",
            "53 12517.2763671875\n",
            "54 11665.771484375\n",
            "55 10879.0234375\n",
            "56 10151.521484375\n",
            "57 9478.287109375\n",
            "58 8854.2314453125\n",
            "59 8275.826171875\n",
            "60 7739.38427734375\n",
            "61 7240.9228515625\n",
            "62 6777.587890625\n",
            "63 6346.93701171875\n",
            "64 5946.158203125\n",
            "65 5572.7607421875\n",
            "66 5224.87939453125\n",
            "67 4900.57275390625\n",
            "68 4598.1845703125\n",
            "69 4315.9443359375\n",
            "70 4052.397705078125\n",
            "71 3806.325927734375\n",
            "72 3576.39013671875\n",
            "73 3361.35400390625\n",
            "74 3160.38818359375\n",
            "75 2972.205078125\n",
            "76 2796.00927734375\n",
            "77 2631.012451171875\n",
            "78 2476.450927734375\n",
            "79 2331.5859375\n",
            "80 2195.822021484375\n",
            "81 2068.47314453125\n",
            "82 1948.958740234375\n",
            "83 1836.8251953125\n",
            "84 1731.5643310546875\n",
            "85 1632.7318115234375\n",
            "86 1539.880126953125\n",
            "87 1452.5872802734375\n",
            "88 1370.5546875\n",
            "89 1293.423828125\n",
            "90 1220.8736572265625\n",
            "91 1152.630859375\n",
            "92 1088.42626953125\n",
            "93 1027.9879150390625\n",
            "94 971.0728759765625\n",
            "95 917.4788818359375\n",
            "96 867.0232543945312\n",
            "97 819.4803466796875\n",
            "98 774.6967163085938\n",
            "99 732.4757690429688\n",
            "100 692.65576171875\n",
            "101 655.1041259765625\n",
            "102 619.6923828125\n",
            "103 586.2982788085938\n",
            "104 554.7723388671875\n",
            "105 525.0340576171875\n",
            "106 496.9647521972656\n",
            "107 470.4529724121094\n",
            "108 445.4213562011719\n",
            "109 421.7944030761719\n",
            "110 399.46875\n",
            "111 378.38433837890625\n",
            "112 358.45037841796875\n",
            "113 339.6160888671875\n",
            "114 321.81146240234375\n",
            "115 304.9783630371094\n",
            "116 289.063720703125\n",
            "117 274.0173645019531\n",
            "118 259.7842712402344\n",
            "119 246.3175048828125\n",
            "120 233.57754516601562\n",
            "121 221.5207977294922\n",
            "122 210.11233520507812\n",
            "123 199.31275939941406\n",
            "124 189.09500122070312\n",
            "125 179.41627502441406\n",
            "126 170.25338745117188\n",
            "127 161.57066345214844\n",
            "128 153.34945678710938\n",
            "129 145.55931091308594\n",
            "130 138.1839599609375\n",
            "131 131.19012451171875\n",
            "132 124.56320190429688\n",
            "133 118.2835693359375\n",
            "134 112.33000946044922\n",
            "135 106.68545532226562\n",
            "136 101.33729553222656\n",
            "137 96.26323699951172\n",
            "138 91.45449829101562\n",
            "139 86.89256286621094\n",
            "140 82.56330871582031\n",
            "141 78.45657348632812\n",
            "142 74.56048583984375\n",
            "143 70.86607360839844\n",
            "144 67.35846710205078\n",
            "145 64.02886962890625\n",
            "146 60.87038803100586\n",
            "147 57.87153625488281\n",
            "148 55.02341079711914\n",
            "149 52.322025299072266\n",
            "150 49.75483322143555\n",
            "151 47.31865692138672\n",
            "152 45.004722595214844\n",
            "153 42.806114196777344\n",
            "154 40.71728515625\n",
            "155 38.73520278930664\n",
            "156 36.85041809082031\n",
            "157 35.06023025512695\n",
            "158 33.35825729370117\n",
            "159 31.74256706237793\n",
            "160 30.205490112304688\n",
            "161 28.746196746826172\n",
            "162 27.358129501342773\n",
            "163 26.03890609741211\n",
            "164 24.785146713256836\n",
            "165 23.59347915649414\n",
            "166 22.459609985351562\n",
            "167 21.381637573242188\n",
            "168 20.356815338134766\n",
            "169 19.382129669189453\n",
            "170 18.45479965209961\n",
            "171 17.573402404785156\n",
            "172 16.734577178955078\n",
            "173 15.937271118164062\n",
            "174 15.178018569946289\n",
            "175 14.455801010131836\n",
            "176 13.769327163696289\n",
            "177 13.115235328674316\n",
            "178 12.493173599243164\n",
            "179 11.901376724243164\n",
            "180 11.338090896606445\n",
            "181 10.80187702178955\n",
            "182 10.291901588439941\n",
            "183 9.805915832519531\n",
            "184 9.343568801879883\n",
            "185 8.903325080871582\n",
            "186 8.484367370605469\n",
            "187 8.0850248336792\n",
            "188 7.705130577087402\n",
            "189 7.343736171722412\n",
            "190 6.998946189880371\n",
            "191 6.670613765716553\n",
            "192 6.359079837799072\n",
            "193 6.0613908767700195\n",
            "194 5.77774715423584\n",
            "195 5.507754802703857\n",
            "196 5.2509918212890625\n",
            "197 5.005922317504883\n",
            "198 4.77271032333374\n",
            "199 4.550120830535889\n",
            "200 4.338620185852051\n",
            "201 4.136666774749756\n",
            "202 3.9448697566986084\n",
            "203 3.761686086654663\n",
            "204 3.587196111679077\n",
            "205 3.420579433441162\n",
            "206 3.262122392654419\n",
            "207 3.1112101078033447\n",
            "208 2.967290163040161\n",
            "209 2.8302395343780518\n",
            "210 2.6995248794555664\n",
            "211 2.574758529663086\n",
            "212 2.4558839797973633\n",
            "213 2.34274959564209\n",
            "214 2.2347307205200195\n",
            "215 2.131714344024658\n",
            "216 2.0336062908172607\n",
            "217 1.9400663375854492\n",
            "218 1.8510918617248535\n",
            "219 1.7658112049102783\n",
            "220 1.6849164962768555\n",
            "221 1.6074669361114502\n",
            "222 1.533790946006775\n",
            "223 1.4634120464324951\n",
            "224 1.3963291645050049\n",
            "225 1.332458257675171\n",
            "226 1.2715877294540405\n",
            "227 1.2133625745773315\n",
            "228 1.1578789949417114\n",
            "229 1.1050034761428833\n",
            "230 1.0543622970581055\n",
            "231 1.006286382675171\n",
            "232 0.9604660272598267\n",
            "233 0.9166104793548584\n",
            "234 0.8748570084571838\n",
            "235 0.8350251913070679\n",
            "236 0.7970854043960571\n",
            "237 0.7607077956199646\n",
            "238 0.7261419296264648\n",
            "239 0.6930342316627502\n",
            "240 0.6616038084030151\n",
            "241 0.6315661668777466\n",
            "242 0.6029109954833984\n",
            "243 0.5756134986877441\n",
            "244 0.5494896173477173\n",
            "245 0.5245619416236877\n",
            "246 0.500766396522522\n",
            "247 0.478069007396698\n",
            "248 0.45638033747673035\n",
            "249 0.43579086661338806\n",
            "250 0.4160374104976654\n",
            "251 0.3972315192222595\n",
            "252 0.3792523741722107\n",
            "253 0.36209243535995483\n",
            "254 0.34573230147361755\n",
            "255 0.33010581135749817\n",
            "256 0.31526464223861694\n",
            "257 0.30102476477622986\n",
            "258 0.28744882345199585\n",
            "259 0.2744823694229126\n",
            "260 0.2621071934700012\n",
            "261 0.2502770721912384\n",
            "262 0.23898741602897644\n",
            "263 0.22820140421390533\n",
            "264 0.21796265244483948\n",
            "265 0.20815926790237427\n",
            "266 0.19882337749004364\n",
            "267 0.18986177444458008\n",
            "268 0.18134142458438873\n",
            "269 0.17323067784309387\n",
            "270 0.16541460156440735\n",
            "271 0.1579785794019699\n",
            "272 0.15088564157485962\n",
            "273 0.14409475028514862\n",
            "274 0.137666717171669\n",
            "275 0.13149768114089966\n",
            "276 0.12558245658874512\n",
            "277 0.1199900284409523\n",
            "278 0.11461339890956879\n",
            "279 0.10944639891386032\n",
            "280 0.10457596182823181\n",
            "281 0.09991131722927094\n",
            "282 0.09544457495212555\n",
            "283 0.0911780446767807\n",
            "284 0.08706523478031158\n",
            "285 0.08318910002708435\n",
            "286 0.07948882132768631\n",
            "287 0.07591989636421204\n",
            "288 0.0725279450416565\n",
            "289 0.06929686665534973\n",
            "290 0.06620639562606812\n",
            "291 0.06324825435876846\n",
            "292 0.060431499034166336\n",
            "293 0.05774049088358879\n",
            "294 0.05518867075443268\n",
            "295 0.05272533744573593\n",
            "296 0.05038396641612053\n",
            "297 0.04812365397810936\n",
            "298 0.04599617049098015\n",
            "299 0.043935954570770264\n",
            "300 0.04197496175765991\n",
            "301 0.040104225277900696\n",
            "302 0.03832979127764702\n",
            "303 0.036634091287851334\n",
            "304 0.03501923754811287\n",
            "305 0.0334663912653923\n",
            "306 0.03198082745075226\n",
            "307 0.030550731346011162\n",
            "308 0.029211774468421936\n",
            "309 0.027928180992603302\n",
            "310 0.026693033054471016\n",
            "311 0.02551339566707611\n",
            "312 0.024389034137129784\n",
            "313 0.023317331448197365\n",
            "314 0.02227933704853058\n",
            "315 0.021303575485944748\n",
            "316 0.020357770845294\n",
            "317 0.01947050541639328\n",
            "318 0.01862376183271408\n",
            "319 0.017808960750699043\n",
            "320 0.01702885515987873\n",
            "321 0.01628103479743004\n",
            "322 0.01556557510048151\n",
            "323 0.01487997081130743\n",
            "324 0.014244666323065758\n",
            "325 0.0136131402105093\n",
            "326 0.013023456558585167\n",
            "327 0.012463073246181011\n",
            "328 0.011924966238439083\n",
            "329 0.011403979733586311\n",
            "330 0.010915783233940601\n",
            "331 0.010444272309541702\n",
            "332 0.009993980638682842\n",
            "333 0.00956379808485508\n",
            "334 0.009149491786956787\n",
            "335 0.008751188404858112\n",
            "336 0.008382865227758884\n",
            "337 0.00802553165704012\n",
            "338 0.00768656563013792\n",
            "339 0.00736114801838994\n",
            "340 0.0070406608283519745\n",
            "341 0.006749001331627369\n",
            "342 0.006467995699495077\n",
            "343 0.006193305365741253\n",
            "344 0.005933080799877644\n",
            "345 0.005688819102942944\n",
            "346 0.005451181437820196\n",
            "347 0.005225262604653835\n",
            "348 0.005011416971683502\n",
            "349 0.004798290319740772\n",
            "350 0.0046019405126571655\n",
            "351 0.004408496432006359\n",
            "352 0.004229215905070305\n",
            "353 0.004055876284837723\n",
            "354 0.0038889835122972727\n",
            "355 0.003730622585862875\n",
            "356 0.0035860042553395033\n",
            "357 0.003439790103584528\n",
            "358 0.0033015371300280094\n",
            "359 0.0031715179793536663\n",
            "360 0.0030450690537691116\n",
            "361 0.00292573357000947\n",
            "362 0.002810159232467413\n",
            "363 0.0027005907613784075\n",
            "364 0.0025941350031644106\n",
            "365 0.0024911011569201946\n",
            "366 0.002402480226010084\n",
            "367 0.0023056583013385534\n",
            "368 0.0022174003534018993\n",
            "369 0.0021335454657673836\n",
            "370 0.002051369287073612\n",
            "371 0.0019760930445045233\n",
            "372 0.0019035602454096079\n",
            "373 0.0018350915051996708\n",
            "374 0.001767109613865614\n",
            "375 0.0017028774600476027\n",
            "376 0.0016407420625910163\n",
            "377 0.0015821426641196012\n",
            "378 0.0015247025294229388\n",
            "379 0.001469639246352017\n",
            "380 0.0014162526931613684\n",
            "381 0.0013672281056642532\n",
            "382 0.0013190561439841986\n",
            "383 0.0012718189973384142\n",
            "384 0.0012280568480491638\n",
            "385 0.0011861776001751423\n",
            "386 0.0011433468898758292\n",
            "387 0.0011050088796764612\n",
            "388 0.0010682540014386177\n",
            "389 0.001033675391227007\n",
            "390 0.000996192218735814\n",
            "391 0.0009647795232012868\n",
            "392 0.0009336465736851096\n",
            "393 0.0009024349274113774\n",
            "394 0.0008729661349207163\n",
            "395 0.0008448910666629672\n",
            "396 0.0008180504664778709\n",
            "397 0.000791236583609134\n",
            "398 0.0007670363411307335\n",
            "399 0.00074361776933074\n",
            "400 0.0007210627663880587\n",
            "401 0.0006983455969020724\n",
            "402 0.0006772306514903903\n",
            "403 0.0006555086583830416\n",
            "404 0.0006355211371555924\n",
            "405 0.000615331286098808\n",
            "406 0.0005982216098345816\n",
            "407 0.0005801023216918111\n",
            "408 0.000562962843105197\n",
            "409 0.0005457341903820634\n",
            "410 0.0005308393156155944\n",
            "411 0.000515373598318547\n",
            "412 0.0004997081123292446\n",
            "413 0.0004856806481257081\n",
            "414 0.00047197245294228196\n",
            "415 0.0004589721211232245\n",
            "416 0.00044587551383301616\n",
            "417 0.00043353388900868595\n",
            "418 0.00042204285273328424\n",
            "419 0.0004101710219401866\n",
            "420 0.0004000551125500351\n",
            "421 0.0003887958300765604\n",
            "422 0.00037863117177039385\n",
            "423 0.0003691230667755008\n",
            "424 0.00035979057429358363\n",
            "425 0.0003493062104098499\n",
            "426 0.00034019691520370543\n",
            "427 0.0003315437934361398\n",
            "428 0.0003225634281989187\n",
            "429 0.0003152976278215647\n",
            "430 0.000306713831378147\n",
            "431 0.0002989734639413655\n",
            "432 0.00029250833904370666\n",
            "433 0.0002852847392205149\n",
            "434 0.0002777467016130686\n",
            "435 0.0002705848019104451\n",
            "436 0.00026435748441144824\n",
            "437 0.00025783857563510537\n",
            "438 0.0002516648673918098\n",
            "439 0.00024546278291381896\n",
            "440 0.00023968337336555123\n",
            "441 0.0002343977685086429\n",
            "442 0.00022843736223876476\n",
            "443 0.00022398954024538398\n",
            "444 0.00021829010802321136\n",
            "445 0.0002136068360414356\n",
            "446 0.00020852641318924725\n",
            "447 0.00020362314535304904\n",
            "448 0.00019944801169913262\n",
            "449 0.00019519979832693934\n",
            "450 0.000191161670954898\n",
            "451 0.0001873900182545185\n",
            "452 0.00018270008149556816\n",
            "453 0.00017859518993645906\n",
            "454 0.00017474879859946668\n",
            "455 0.00017107630264945328\n",
            "456 0.00016746428445912898\n",
            "457 0.00016365225019399077\n",
            "458 0.00016085269453469664\n",
            "459 0.00015742602408863604\n",
            "460 0.0001541799574624747\n",
            "461 0.000150658845086582\n",
            "462 0.00014761020429432392\n",
            "463 0.00014516120427288115\n",
            "464 0.00014190116780810058\n",
            "465 0.00013869440590497106\n",
            "466 0.00013601063983514905\n",
            "467 0.00013355859846342355\n",
            "468 0.00013081790530122817\n",
            "469 0.0001283760939259082\n",
            "470 0.00012628968397621065\n",
            "471 0.00012385286390781403\n",
            "472 0.00012156411685282364\n",
            "473 0.0001189621543744579\n",
            "474 0.00011654232366709039\n",
            "475 0.00011471938341856003\n",
            "476 0.00011279731552349404\n",
            "477 0.0001107955613406375\n",
            "478 0.0001087050186470151\n",
            "479 0.00010689206828828901\n",
            "480 0.00010521519288886338\n",
            "481 0.00010303932504029945\n",
            "482 0.00010145360283786431\n",
            "483 9.909837535815313e-05\n",
            "484 9.713736653793603e-05\n",
            "485 9.58395394263789e-05\n",
            "486 9.399981354363263e-05\n",
            "487 9.236352343577892e-05\n",
            "488 9.079532173927873e-05\n",
            "489 8.945549052441493e-05\n",
            "490 8.785528189036995e-05\n",
            "491 8.642650936963037e-05\n",
            "492 8.476027869619429e-05\n",
            "493 8.341894863406196e-05\n",
            "494 8.224318298744038e-05\n",
            "495 8.105424785753712e-05\n",
            "496 7.965194527059793e-05\n",
            "497 7.885001105023548e-05\n",
            "498 7.748726784484461e-05\n",
            "499 7.604040729347616e-05\n"
          ],
          "name": "stdout"
        }
      ]
    },
    {
      "cell_type": "markdown",
      "metadata": {
        "id": "ycwxAPHZLNST",
        "colab_type": "text"
      },
      "source": [
        "\n",
        "\n",
        "---\n",
        "## Question 12\n",
        "\n",
        "In the code above, why do we have 2 in '2.0*(y_pred - y)`?\n",
        "\n",
        "## Question 13\n",
        "In the code above, what does `grad_h[h < 0] = 0` signify?\n",
        "\n",
        "## Question 14\n",
        "In the code above, how many \"epochs\" have we trained the model for? \n",
        "\n",
        "## Question 15\n",
        "In the code above, if we take the trained model, and run it on fresh  inputs, the trained model will be able to predict fresh output with high accuracy. \n",
        "\n",
        "## Question 16\n",
        "In the code above, if we dont use clone in `grad_h = grad_h_relu.clone()` the model will still train without any issues. "
      ]
    },
    {
      "cell_type": "code",
      "metadata": {
        "id": "PnJ49I07JJI6",
        "colab_type": "code",
        "outputId": "0ea0ae63-f3f2-4687-909b-e4b980b86393",
        "colab": {
          "base_uri": "https://localhost:8080/",
          "height": 1000
        }
      },
      "source": [
        "dtype = torch.float\n",
        "device = torch.device(\"cpu\")\n",
        "# device = torch.device(\"cuda:0\") # Uncomment this to run on GPU\n",
        "\n",
        "# N is batch size; D_in is input dimension;\n",
        "# H is hidden dimension; D_out is output dimension.\n",
        "N, D_in, H, D_out = 64, 1000, 100, 10\n",
        "\n",
        "# Create random input and output data\n",
        "x = torch.randn(N, D_in, device=device, dtype=dtype)\n",
        "y = torch.randn(N, D_out, device=device, dtype=dtype)\n",
        "\n",
        "# Randomly initialize weights\n",
        "w1 = torch.randn(D_in, H, device=device, dtype=dtype)\n",
        "w2 = torch.randn(H, D_out, device=device, dtype=dtype)\n",
        "\n",
        "learning_rate = 1e-6\n",
        "for t in range(500):\n",
        "    # Forward pass: compute predicted y\n",
        "    h = x.mm(w1)\n",
        "    h_relu = h.clamp(min=0)\n",
        "    y_pred = h_relu.mm(w2)\n",
        "\n",
        "    # Compute and print loss\n",
        "    loss = (y_pred - y).pow(2).sum().item()\n",
        "    print(t, loss)\n",
        "\n",
        "    # Backprop to compute gradients of w1 and w2 with respect to loss\n",
        "    grad_y_pred = y_pred - y\n",
        "    grad_w2 = h_relu.t().mm(grad_y_pred)\n",
        "    grad_h_relu = grad_y_pred.mm(w2.t())\n",
        "    grad_h = grad_h_relu\n",
        "    grad_h[h < 0] = 0\n",
        "    grad_w1 = x.t().mm(grad_h)\n",
        "\n",
        "    # Update weights using gradient descent\n",
        "    w1 -= learning_rate * grad_w1\n",
        "    w2 -= learning_rate * grad_w2"
      ],
      "execution_count": 0,
      "outputs": [
        {
          "output_type": "stream",
          "text": [
            "0 33686832.0\n",
            "1 17780190.0\n",
            "2 13714222.0\n",
            "3 11167194.0\n",
            "4 9247193.0\n",
            "5 7746759.0\n",
            "6 6555004.0\n",
            "7 5598598.5\n",
            "8 4819379.5\n",
            "9 4176827.0\n",
            "10 3642661.5\n",
            "11 3195585.75\n",
            "12 2817689.0\n",
            "13 2496202.0\n",
            "14 2221377.0\n",
            "15 1984630.875\n",
            "16 1780120.75\n",
            "17 1602182.125\n",
            "18 1446773.25\n",
            "19 1310307.0\n",
            "20 1189950.5\n",
            "21 1083432.5\n",
            "22 988865.6875\n",
            "23 904668.875\n",
            "24 829446.1875\n",
            "25 762028.1875\n",
            "26 701514.0625\n",
            "27 646957.6875\n",
            "28 597701.5\n",
            "29 553155.625\n",
            "30 512764.625\n",
            "31 476048.0625\n",
            "32 442572.96875\n",
            "33 411990.25\n",
            "34 384012.3125\n",
            "35 358376.0\n",
            "36 334855.28125\n",
            "37 313243.1875\n",
            "38 293327.5\n",
            "39 274937.1875\n",
            "40 257944.28125\n",
            "41 242215.9375\n",
            "42 227642.25\n",
            "43 214131.390625\n",
            "44 201598.109375\n",
            "45 189942.0\n",
            "46 179094.5\n",
            "47 168990.109375\n",
            "48 159564.578125\n",
            "49 150777.0625\n",
            "50 142558.203125\n",
            "51 134867.953125\n",
            "52 127666.0625\n",
            "53 120915.1015625\n",
            "54 114581.234375\n",
            "55 108631.6875\n",
            "56 103039.8203125\n",
            "57 97782.9765625\n",
            "58 92836.5234375\n",
            "59 88179.7890625\n",
            "60 83793.7734375\n",
            "61 79659.2734375\n",
            "62 75757.828125\n",
            "63 72076.5859375\n",
            "64 68600.546875\n",
            "65 65317.33984375\n",
            "66 62216.734375\n",
            "67 59282.578125\n",
            "68 56511.2421875\n",
            "69 53887.55859375\n",
            "70 51402.3046875\n",
            "71 49047.51953125\n",
            "72 46814.87109375\n",
            "73 44698.83984375\n",
            "74 42694.2109375\n",
            "75 40793.71484375\n",
            "76 38988.9921875\n",
            "77 37274.609375\n",
            "78 35644.4140625\n",
            "79 34094.40234375\n",
            "80 32620.47265625\n",
            "81 31218.36328125\n",
            "82 29883.501953125\n",
            "83 28613.83984375\n",
            "84 27403.935546875\n",
            "85 26255.21875\n",
            "86 25161.611328125\n",
            "87 24119.13671875\n",
            "88 23124.986328125\n",
            "89 22176.41015625\n",
            "90 21271.2421875\n",
            "91 20407.408203125\n",
            "92 19582.2421875\n",
            "93 18794.47265625\n",
            "94 18041.994140625\n",
            "95 17322.794921875\n",
            "96 16635.595703125\n",
            "97 15978.3623046875\n",
            "98 15350.3525390625\n",
            "99 14749.599609375\n",
            "100 14175.0859375\n",
            "101 13625.005859375\n",
            "102 13098.4248046875\n",
            "103 12594.51171875\n",
            "104 12111.890625\n",
            "105 11649.7666015625\n",
            "106 11207.2314453125\n",
            "107 10783.06640625\n",
            "108 10376.4775390625\n",
            "109 9986.7802734375\n",
            "110 9613.341796875\n",
            "111 9255.146484375\n",
            "112 8912.1875\n",
            "113 8583.23828125\n",
            "114 8267.8466796875\n",
            "115 7965.107421875\n",
            "116 7674.43603515625\n",
            "117 7395.384765625\n",
            "118 7127.3818359375\n",
            "119 6870.10546875\n",
            "120 6623.0810546875\n",
            "121 6386.009765625\n",
            "122 6158.1982421875\n",
            "123 5939.38232421875\n",
            "124 5728.94921875\n",
            "125 5526.5791015625\n",
            "126 5332.00439453125\n",
            "127 5145.03955078125\n",
            "128 4965.2392578125\n",
            "129 4792.3505859375\n",
            "130 4626.12255859375\n",
            "131 4466.14013671875\n",
            "132 4312.2646484375\n",
            "133 4164.322265625\n",
            "134 4021.93212890625\n",
            "135 3884.829345703125\n",
            "136 3752.76123046875\n",
            "137 3625.56298828125\n",
            "138 3503.11328125\n",
            "139 3385.150146484375\n",
            "140 3271.4208984375\n",
            "141 3161.8681640625\n",
            "142 3056.360595703125\n",
            "143 2954.6044921875\n",
            "144 2856.552734375\n",
            "145 2762.00927734375\n",
            "146 2670.80908203125\n",
            "147 2582.8671875\n",
            "148 2498.1181640625\n",
            "149 2416.35107421875\n",
            "150 2337.49609375\n",
            "151 2261.3916015625\n",
            "152 2187.9814453125\n",
            "153 2117.151123046875\n",
            "154 2048.77880859375\n",
            "155 1982.827880859375\n",
            "156 1919.14013671875\n",
            "157 1857.639404296875\n",
            "158 1798.281982421875\n",
            "159 1740.9481201171875\n",
            "160 1685.5986328125\n",
            "161 1632.1490478515625\n",
            "162 1580.53076171875\n",
            "163 1530.6512451171875\n",
            "164 1482.46240234375\n",
            "165 1435.92431640625\n",
            "166 1390.9371337890625\n",
            "167 1347.47021484375\n",
            "168 1305.4681396484375\n",
            "169 1264.8526611328125\n",
            "170 1225.609130859375\n",
            "171 1187.669189453125\n",
            "172 1150.97900390625\n",
            "173 1115.5008544921875\n",
            "174 1081.2286376953125\n",
            "175 1048.0638427734375\n",
            "176 1015.9869384765625\n",
            "177 984.9517822265625\n",
            "178 954.9376831054688\n",
            "179 925.9007568359375\n",
            "180 897.8402099609375\n",
            "181 870.6656494140625\n",
            "182 844.3599243164062\n",
            "183 818.9075927734375\n",
            "184 794.2730102539062\n",
            "185 770.44775390625\n",
            "186 747.3809814453125\n",
            "187 725.0498046875\n",
            "188 703.4165649414062\n",
            "189 682.4855346679688\n",
            "190 662.2251586914062\n",
            "191 642.58935546875\n",
            "192 623.595458984375\n",
            "193 605.2052001953125\n",
            "194 587.388916015625\n",
            "195 570.12841796875\n",
            "196 553.4183959960938\n",
            "197 537.2273559570312\n",
            "198 521.5410766601562\n",
            "199 506.34173583984375\n",
            "200 491.6141052246094\n",
            "201 477.3394470214844\n",
            "202 463.50579833984375\n",
            "203 450.0973205566406\n",
            "204 437.10003662109375\n",
            "205 424.5063171386719\n",
            "206 412.29827880859375\n",
            "207 400.4632873535156\n",
            "208 388.9867858886719\n",
            "209 377.8633117675781\n",
            "210 367.0721130371094\n",
            "211 356.6066589355469\n",
            "212 346.45831298828125\n",
            "213 336.6215515136719\n",
            "214 327.0799255371094\n",
            "215 317.8231201171875\n",
            "216 308.8385009765625\n",
            "217 300.1264953613281\n",
            "218 291.6801452636719\n",
            "219 283.480224609375\n",
            "220 275.5225830078125\n",
            "221 267.8058776855469\n",
            "222 260.3122863769531\n",
            "223 253.04373168945312\n",
            "224 245.98944091796875\n",
            "225 239.14588928222656\n",
            "226 232.4990997314453\n",
            "227 226.05384826660156\n",
            "228 219.79397583007812\n",
            "229 213.71505737304688\n",
            "230 207.81198120117188\n",
            "231 202.08203125\n",
            "232 196.52182006835938\n",
            "233 191.12142944335938\n",
            "234 185.87835693359375\n",
            "235 180.7852020263672\n",
            "236 175.8400421142578\n",
            "237 171.04090881347656\n",
            "238 166.37486267089844\n",
            "239 161.84329223632812\n",
            "240 157.4441680908203\n",
            "241 153.16891479492188\n",
            "242 149.01864624023438\n",
            "243 144.98379516601562\n",
            "244 141.06414794921875\n",
            "245 137.256591796875\n",
            "246 133.55723571777344\n",
            "247 129.9615478515625\n",
            "248 126.46886444091797\n",
            "249 123.07377624511719\n",
            "250 119.77432250976562\n",
            "251 116.56983947753906\n",
            "252 113.45305633544922\n",
            "253 110.42376708984375\n",
            "254 107.48095703125\n",
            "255 104.61946868896484\n",
            "256 101.83882904052734\n",
            "257 99.1353988647461\n",
            "258 96.50555419921875\n",
            "259 93.94878387451172\n",
            "260 91.46562957763672\n",
            "261 89.04887390136719\n",
            "262 86.70144653320312\n",
            "263 84.41654968261719\n",
            "264 82.19601440429688\n",
            "265 80.03636169433594\n",
            "266 77.93516540527344\n",
            "267 75.8922119140625\n",
            "268 73.90473175048828\n",
            "269 71.9740982055664\n",
            "270 70.09420776367188\n",
            "271 68.26483154296875\n",
            "272 66.48577117919922\n",
            "273 64.7542495727539\n",
            "274 63.07260513305664\n",
            "275 61.43521499633789\n",
            "276 59.84257888793945\n",
            "277 58.29308319091797\n",
            "278 56.78593063354492\n",
            "279 55.31887435913086\n",
            "280 53.88920593261719\n",
            "281 52.50023651123047\n",
            "282 51.14827346801758\n",
            "283 49.83346176147461\n",
            "284 48.55282974243164\n",
            "285 47.30647659301758\n",
            "286 46.093509674072266\n",
            "287 44.91416931152344\n",
            "288 43.764766693115234\n",
            "289 42.646270751953125\n",
            "290 41.55733871459961\n",
            "291 40.498573303222656\n",
            "292 39.4666862487793\n",
            "293 38.46192932128906\n",
            "294 37.484596252441406\n",
            "295 36.531761169433594\n",
            "296 35.60577392578125\n",
            "297 34.703147888183594\n",
            "298 33.82442092895508\n",
            "299 32.969051361083984\n",
            "300 32.136043548583984\n",
            "301 31.324533462524414\n",
            "302 30.534610748291016\n",
            "303 29.765043258666992\n",
            "304 29.015077590942383\n",
            "305 28.286252975463867\n",
            "306 27.576025009155273\n",
            "307 26.884084701538086\n",
            "308 26.20914649963379\n",
            "309 25.552978515625\n",
            "310 24.913240432739258\n",
            "311 24.291044235229492\n",
            "312 23.683273315429688\n",
            "313 23.092390060424805\n",
            "314 22.516389846801758\n",
            "315 21.955013275146484\n",
            "316 21.408475875854492\n",
            "317 20.87586784362793\n",
            "318 20.356840133666992\n",
            "319 19.851802825927734\n",
            "320 19.359453201293945\n",
            "321 18.879575729370117\n",
            "322 18.41133689880371\n",
            "323 17.95595359802246\n",
            "324 17.512004852294922\n",
            "325 17.07958984375\n",
            "326 16.657949447631836\n",
            "327 16.24686622619629\n",
            "328 15.84675121307373\n",
            "329 15.456199645996094\n",
            "330 15.07587718963623\n",
            "331 14.705641746520996\n",
            "332 14.344589233398438\n",
            "333 13.992252349853516\n",
            "334 13.649463653564453\n",
            "335 13.314413070678711\n",
            "336 12.98875617980957\n",
            "337 12.670939445495605\n",
            "338 12.360859870910645\n",
            "339 12.05909538269043\n",
            "340 11.764128684997559\n",
            "341 11.476920127868652\n",
            "342 11.197067260742188\n",
            "343 10.924775123596191\n",
            "344 10.65849781036377\n",
            "345 10.399097442626953\n",
            "346 10.14622688293457\n",
            "347 9.90015697479248\n",
            "348 9.659892082214355\n",
            "349 9.425789833068848\n",
            "350 9.197128295898438\n",
            "351 8.973995208740234\n",
            "352 8.757037162780762\n",
            "353 8.544968605041504\n",
            "354 8.338665962219238\n",
            "355 8.137236595153809\n",
            "356 7.9406328201293945\n",
            "357 7.748995304107666\n",
            "358 7.56212854385376\n",
            "359 7.379803657531738\n",
            "360 7.20214319229126\n",
            "361 7.029031276702881\n",
            "362 6.859939098358154\n",
            "363 6.694623947143555\n",
            "364 6.534235954284668\n",
            "365 6.377542495727539\n",
            "366 6.224490165710449\n",
            "367 6.075143337249756\n",
            "368 5.929667949676514\n",
            "369 5.787625789642334\n",
            "370 5.649165153503418\n",
            "371 5.514001846313477\n",
            "372 5.382128715515137\n",
            "373 5.253743648529053\n",
            "374 5.128189563751221\n",
            "375 5.005911350250244\n",
            "376 4.88667106628418\n",
            "377 4.769833564758301\n",
            "378 4.6564555168151855\n",
            "379 4.545408725738525\n",
            "380 4.43704080581665\n",
            "381 4.331798553466797\n",
            "382 4.2289557456970215\n",
            "383 4.12860631942749\n",
            "384 4.030403137207031\n",
            "385 3.9349093437194824\n",
            "386 3.841620683670044\n",
            "387 3.7503952980041504\n",
            "388 3.661501884460449\n",
            "389 3.5749566555023193\n",
            "390 3.490419387817383\n",
            "391 3.4075052738189697\n",
            "392 3.3272976875305176\n",
            "393 3.248640537261963\n",
            "394 3.1720337867736816\n",
            "395 3.0969910621643066\n",
            "396 3.024099349975586\n",
            "397 2.952840805053711\n",
            "398 2.883075714111328\n",
            "399 2.8151602745056152\n",
            "400 2.749005079269409\n",
            "401 2.6841683387756348\n",
            "402 2.621192693710327\n",
            "403 2.5595436096191406\n",
            "404 2.4994192123413086\n",
            "405 2.4408419132232666\n",
            "406 2.3833978176116943\n",
            "407 2.327406167984009\n",
            "408 2.272766590118408\n",
            "409 2.219386339187622\n",
            "410 2.1673805713653564\n",
            "411 2.1168301105499268\n",
            "412 2.0671253204345703\n",
            "413 2.018782615661621\n",
            "414 1.9715919494628906\n",
            "415 1.9253054857254028\n",
            "416 1.8803638219833374\n",
            "417 1.8364733457565308\n",
            "418 1.7933660745620728\n",
            "419 1.751637578010559\n",
            "420 1.710780382156372\n",
            "421 1.6709104776382446\n",
            "422 1.6320562362670898\n",
            "423 1.5940591096878052\n",
            "424 1.556952714920044\n",
            "425 1.5206055641174316\n",
            "426 1.4851998090744019\n",
            "427 1.4506288766860962\n",
            "428 1.4169963598251343\n",
            "429 1.3840395212173462\n",
            "430 1.3519301414489746\n",
            "431 1.3204561471939087\n",
            "432 1.289816975593567\n",
            "433 1.2597887516021729\n",
            "434 1.2305195331573486\n",
            "435 1.2020325660705566\n",
            "436 1.1742489337921143\n",
            "437 1.1469123363494873\n",
            "438 1.1204969882965088\n",
            "439 1.0944515466690063\n",
            "440 1.0691585540771484\n",
            "441 1.0443247556686401\n",
            "442 1.0202544927597046\n",
            "443 0.9966312646865845\n",
            "444 0.9735923409461975\n",
            "445 0.9510689377784729\n",
            "446 0.9290629029273987\n",
            "447 0.9077341556549072\n",
            "448 0.886728048324585\n",
            "449 0.8662578463554382\n",
            "450 0.8462877869606018\n",
            "451 0.8267858624458313\n",
            "452 0.8077793121337891\n",
            "453 0.7891594171524048\n",
            "454 0.7709444761276245\n",
            "455 0.7531805038452148\n",
            "456 0.7359228730201721\n",
            "457 0.7189604043960571\n",
            "458 0.7024152278900146\n",
            "459 0.6862013936042786\n",
            "460 0.6704505681991577\n",
            "461 0.6550268530845642\n",
            "462 0.6400070786476135\n",
            "463 0.6254608035087585\n",
            "464 0.6110546588897705\n",
            "465 0.5970437526702881\n",
            "466 0.5833084583282471\n",
            "467 0.5698979496955872\n",
            "468 0.5568497776985168\n",
            "469 0.544086754322052\n",
            "470 0.5316311120986938\n",
            "471 0.5194306373596191\n",
            "472 0.5075996518135071\n",
            "473 0.49597808718681335\n",
            "474 0.48459336161613464\n",
            "475 0.4735187292098999\n",
            "476 0.4627090096473694\n",
            "477 0.4521462619304657\n",
            "478 0.44182300567626953\n",
            "479 0.43169793486595154\n",
            "480 0.4217905104160309\n",
            "481 0.4121586084365845\n",
            "482 0.4027653634548187\n",
            "483 0.39357757568359375\n",
            "484 0.38462284207344055\n",
            "485 0.3758690655231476\n",
            "486 0.36727243661880493\n",
            "487 0.3589074909687042\n",
            "488 0.3507322371006012\n",
            "489 0.3427802622318268\n",
            "490 0.33495664596557617\n",
            "491 0.3273167014122009\n",
            "492 0.31986790895462036\n",
            "493 0.312610387802124\n",
            "494 0.30549150705337524\n",
            "495 0.2985113263130188\n",
            "496 0.29178476333618164\n",
            "497 0.285129576921463\n",
            "498 0.27863460779190063\n",
            "499 0.27229705452919006\n"
          ],
          "name": "stdout"
        }
      ]
    },
    {
      "cell_type": "code",
      "metadata": {
        "id": "T7VLhYGqFTOD",
        "colab_type": "code",
        "colab": {}
      },
      "source": [
        ""
      ],
      "execution_count": 0,
      "outputs": []
    }
  ]
}