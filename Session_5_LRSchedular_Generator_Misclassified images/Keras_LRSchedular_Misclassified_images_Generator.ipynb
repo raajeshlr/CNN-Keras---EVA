{
  "nbformat": 4,
  "nbformat_minor": 0,
  "metadata": {
    "colab": {
      "name": "finalsession5.ipynb",
      "version": "0.3.2",
      "provenance": [],
      "collapsed_sections": []
    },
    "kernelspec": {
      "name": "python3",
      "display_name": "Python 3"
    },
    "accelerator": "GPU"
  },
  "cells": [
    {
      "cell_type": "markdown",
      "metadata": {
        "id": "3sqLN-ZPL-p2",
        "colab_type": "text"
      },
      "source": [
        "#### Defined custom loss function\n",
        "#### Added ReLU after BN\n",
        "#### Saved best weights and loaded it and max was 99.5"
      ]
    },
    {
      "cell_type": "code",
      "metadata": {
        "id": "0SJyVpgSxHt4",
        "colab_type": "code",
        "outputId": "2f4c592b-fb01-46aa-e513-af24bdedfec7",
        "colab": {
          "base_uri": "https://localhost:8080/",
          "height": 34
        }
      },
      "source": [
        "import numpy as np\n",
        "from keras.models import Sequential\n",
        "from keras.layers import Dense, Dropout, Activation, Flatten, Add, BatchNormalization\n",
        "from keras.layers import Convolution2D, MaxPooling2D\n",
        "from keras.preprocessing.image import ImageDataGenerator\n",
        "from keras.utils import np_utils\n",
        "import keras\n",
        "from keras.regularizers import l2\n",
        "from keras import regularizers\n",
        "from keras.datasets import mnist"
      ],
      "execution_count": 1,
      "outputs": [
        {
          "output_type": "stream",
          "text": [
            "Using TensorFlow backend.\n"
          ],
          "name": "stderr"
        }
      ]
    },
    {
      "cell_type": "code",
      "metadata": {
        "id": "YlEUplvoxKAT",
        "colab_type": "code",
        "colab": {}
      },
      "source": [
        "(X_train, y_train), (X_test, y_test) = mnist.load_data()"
      ],
      "execution_count": 0,
      "outputs": []
    },
    {
      "cell_type": "code",
      "metadata": {
        "id": "I6Y9Va-xxMXG",
        "colab_type": "code",
        "outputId": "02cb16bc-cdda-40cd-e6d4-49b6390cd51d",
        "colab": {
          "base_uri": "https://localhost:8080/",
          "height": 303
        }
      },
      "source": [
        "print (X_train.shape)\n",
        "from matplotlib import pyplot as plt\n",
        "%matplotlib inline\n",
        "plt.imshow(X_train[1])"
      ],
      "execution_count": 3,
      "outputs": [
        {
          "output_type": "stream",
          "text": [
            "(60000, 28, 28)\n"
          ],
          "name": "stdout"
        },
        {
          "output_type": "execute_result",
          "data": {
            "text/plain": [
              "<matplotlib.image.AxesImage at 0x7f6e0362d400>"
            ]
          },
          "metadata": {
            "tags": []
          },
          "execution_count": 3
        },
        {
          "output_type": "display_data",
          "data": {
            "image/png": "[encoded data removed]",
            "text/plain": [
              "<Figure size 432x288 with 1 Axes>"
            ]
          },
          "metadata": {
            "tags": []
          }
        }
      ]
    },
    {
      "cell_type": "code",
      "metadata": {
        "id": "lxDZxPhhxOgO",
        "colab_type": "code",
        "colab": {}
      },
      "source": [
        "X_train = X_train.reshape(X_train.shape[0], 28, 28,1)\n",
        "X_test = X_test.reshape(X_test.shape[0], 28, 28,1)"
      ],
      "execution_count": 0,
      "outputs": []
    },
    {
      "cell_type": "code",
      "metadata": {
        "id": "3HzMqbTnxQQW",
        "colab_type": "code",
        "colab": {}
      },
      "source": [
        "X_train = X_train.astype('float32')\n",
        "X_test = X_test.astype('float32')\n",
        "X_train /= 255\n",
        "X_test /= 255"
      ],
      "execution_count": 0,
      "outputs": []
    },
    {
      "cell_type": "code",
      "metadata": {
        "id": "BxXALDcnMiLl",
        "colab_type": "code",
        "outputId": "84964adc-33a0-47f1-ada4-cdb129ff68a0",
        "colab": {
          "base_uri": "https://localhost:8080/",
          "height": 85
        }
      },
      "source": [
        "print(X_train.shape[0])\n",
        "print(X_train.shape[1])\n",
        "print(X_train.shape[2])\n",
        "print(X_train.shape[3])"
      ],
      "execution_count": 6,
      "outputs": [
        {
          "output_type": "stream",
          "text": [
            "60000\n",
            "28\n",
            "28\n",
            "1\n"
          ],
          "name": "stdout"
        }
      ]
    },
    {
      "cell_type": "code",
      "metadata": {
        "id": "MHdHRIwxMo63",
        "colab_type": "code",
        "outputId": "ed289d74-2ab6-40dd-9ad9-ba9289c4cc5f",
        "colab": {
          "base_uri": "https://localhost:8080/",
          "height": 493
        }
      },
      "source": [
        "X_train[0][18]"
      ],
      "execution_count": 7,
      "outputs": [
        {
          "output_type": "execute_result",
          "data": {
            "text/plain": [
              "array([[0.        ],\n",
              "       [0.        ],\n",
              "       [0.        ],\n",
              "       [0.        ],\n",
              "       [0.        ],\n",
              "       [0.        ],\n",
              "       [0.        ],\n",
              "       [0.        ],\n",
              "       [0.        ],\n",
              "       [0.        ],\n",
              "       [0.        ],\n",
              "       [0.        ],\n",
              "       [0.        ],\n",
              "       [0.        ],\n",
              "       [0.18039216],\n",
              "       [0.50980395],\n",
              "       [0.7176471 ],\n",
              "       [0.99215686],\n",
              "       [0.99215686],\n",
              "       [0.8117647 ],\n",
              "       [0.00784314],\n",
              "       [0.        ],\n",
              "       [0.        ],\n",
              "       [0.        ],\n",
              "       [0.        ],\n",
              "       [0.        ],\n",
              "       [0.        ],\n",
              "       [0.        ]], dtype=float32)"
            ]
          },
          "metadata": {
            "tags": []
          },
          "execution_count": 7
        }
      ]
    },
    {
      "cell_type": "code",
      "metadata": {
        "id": "uBa-75-bLrQM",
        "colab_type": "code",
        "colab": {}
      },
      "source": [
        "y_train[:10]\n",
        "Y_train = np_utils.to_categorical(y_train, 10)\n",
        "Y_test = np_utils.to_categorical(y_test, 10)"
      ],
      "execution_count": 0,
      "outputs": []
    },
    {
      "cell_type": "code",
      "metadata": {
        "id": "S0umqJXP1e26",
        "colab_type": "code",
        "outputId": "6998eb06-57b1-475b-b3a4-21f938253e76",
        "colab": {
          "base_uri": "https://localhost:8080/",
          "height": 34
        }
      },
      "source": [
        "# report pixel means and standard deviations\n",
        "print('Statistics train=%.3f (%.3f), test=%.3f (%.3f)' % (X_train.mean(),X_train.std(),X_test.mean(),X_test.std()))"
      ],
      "execution_count": 9,
      "outputs": [
        {
          "output_type": "stream",
          "text": [
            "Statistics train=0.131 (0.308), test=0.133 (0.310)\n"
          ],
          "name": "stdout"
        }
      ]
    },
    {
      "cell_type": "markdown",
      "metadata": {
        "id": "kJ17dAZ4K3V_",
        "colab_type": "text"
      },
      "source": [
        "#### Pixel stretch and mean subtraction and std division."
      ]
    },
    {
      "cell_type": "code",
      "metadata": {
        "id": "meX8rave1gMC",
        "colab_type": "code",
        "outputId": "2e6ccafb-7188-47c9-8e88-3567cacc0ca9",
        "colab": {
          "base_uri": "https://localhost:8080/",
          "height": 51
        }
      },
      "source": [
        "# create generator that centers pixel values\n",
        "datagen = ImageDataGenerator(featurewise_center=True, featurewise_std_normalization=True)\n",
        "# calculate the mean on the training dataset\n",
        "datagen.fit(X_train)\n",
        "print('Data Generator mean=%.3f, std=%.3f' % (datagen.mean,datagen.std))\n",
        "# calculate the mean on the test dataset\n",
        "datagen.fit(X_test)\n",
        "print('Data Generator mean=%.3f, std=%.3f' % (datagen.mean,datagen.std))"
      ],
      "execution_count": 10,
      "outputs": [
        {
          "output_type": "stream",
          "text": [
            "Data Generator mean=0.131, std=0.308\n",
            "Data Generator mean=0.133, std=0.310\n"
          ],
          "name": "stdout"
        }
      ]
    },
    {
      "cell_type": "markdown",
      "metadata": {
        "id": "iSNziBOOK9cL",
        "colab_type": "text"
      },
      "source": [
        "#### Given batch size images for datagen object.\n",
        "#### It will iterate for next next images."
      ]
    },
    {
      "cell_type": "code",
      "metadata": {
        "id": "av_eKM-B1rJj",
        "colab_type": "code",
        "outputId": "70fcfc9b-2b75-497b-ecf0-c7319368e9f6",
        "colab": {
          "base_uri": "https://localhost:8080/",
          "height": 34
        }
      },
      "source": [
        "# demonstrate effect on a single batch of samples\n",
        "train_generator = datagen.flow(X_train,Y_train,batch_size=128,shuffle=False)\n",
        "batchX, batchy = train_generator.next()\n",
        "print(batchX.shape,batchX.mean(),batchX.std())"
      ],
      "execution_count": 11,
      "outputs": [
        {
          "output_type": "stream",
          "text": [
            "(128, 28, 28, 1) -0.016303241 0.9803502\n"
          ],
          "name": "stdout"
        }
      ]
    },
    {
      "cell_type": "code",
      "metadata": {
        "id": "9NGfN-PR1sSK",
        "colab_type": "code",
        "outputId": "61cf1511-f396-4061-c7bf-3346831fe251",
        "colab": {
          "base_uri": "https://localhost:8080/",
          "height": 34
        }
      },
      "source": [
        "# demonstrate effect on entire training dataset\n",
        "test_generator = datagen.flow(X_test,Y_test,batch_size=128,shuffle=False)\n",
        "batchX, batchy = test_generator.next()\n",
        "print(batchX.shape,batchX.mean(),batchX.std())"
      ],
      "execution_count": 12,
      "outputs": [
        {
          "output_type": "stream",
          "text": [
            "(128, 28, 28, 1) -0.045750923 0.94554704\n"
          ],
          "name": "stdout"
        }
      ]
    },
    {
      "cell_type": "code",
      "metadata": {
        "id": "rFR0F9j0xVp2",
        "colab_type": "code",
        "outputId": "bf9c8b98-e0d5-4c16-bb87-c044b18b6bac",
        "colab": {
          "base_uri": "https://localhost:8080/",
          "height": 187
        }
      },
      "source": [
        "Y_train[:10]"
      ],
      "execution_count": 13,
      "outputs": [
        {
          "output_type": "execute_result",
          "data": {
            "text/plain": [
              "array([[0., 0., 0., 0., 0., 1., 0., 0., 0., 0.],\n",
              "       [1., 0., 0., 0., 0., 0., 0., 0., 0., 0.],\n",
              "       [0., 0., 0., 0., 1., 0., 0., 0., 0., 0.],\n",
              "       [0., 1., 0., 0., 0., 0., 0., 0., 0., 0.],\n",
              "       [0., 0., 0., 0., 0., 0., 0., 0., 0., 1.],\n",
              "       [0., 0., 1., 0., 0., 0., 0., 0., 0., 0.],\n",
              "       [0., 1., 0., 0., 0., 0., 0., 0., 0., 0.],\n",
              "       [0., 0., 0., 1., 0., 0., 0., 0., 0., 0.],\n",
              "       [0., 1., 0., 0., 0., 0., 0., 0., 0., 0.],\n",
              "       [0., 0., 0., 0., 1., 0., 0., 0., 0., 0.]], dtype=float32)"
            ]
          },
          "metadata": {
            "tags": []
          },
          "execution_count": 13
        }
      ]
    },
    {
      "cell_type": "markdown",
      "metadata": {
        "id": "xQl7g_ejLJOD",
        "colab_type": "text"
      },
      "source": [
        "#### Same 8th code \n",
        "#### Added ReLU after Batch Normalization\n",
        "\n",
        "#### Batch Normalization : Channels wise it will calculate mean,variance, gamma(dont know the exact name) and beta\n",
        "\n",
        "### This gamma and beta is used to adjust to the images."
      ]
    },
    {
      "cell_type": "code",
      "metadata": {
        "id": "mDpXf4YQxXRm",
        "colab_type": "code",
        "outputId": "d0657da8-9dcc-454d-8d02-6947cd316230",
        "colab": {
          "base_uri": "https://localhost:8080/",
          "height": 1465
        }
      },
      "source": [
        "from keras.layers import Activation\n",
        "model = Sequential()\n",
        " \n",
        "model.add(Convolution2D(16, 3, 3, input_shape=(28,28,1))) #26\n",
        "model.add(BatchNormalization())\n",
        "model.add(Activation('relu'))\n",
        "model.add(Dropout(0.1))\n",
        "\n",
        "model.add(Convolution2D(32, 3, 3)) #24\n",
        "model.add(BatchNormalization())\n",
        "model.add(Activation('relu'))\n",
        "model.add(Dropout(0.1))\n",
        "\n",
        "model.add(Convolution2D(10, 1, 1)) #22\n",
        "model.add(Activation('relu'))\n",
        "\n",
        "model.add(MaxPooling2D(pool_size=(2, 2)))#11\n",
        "\n",
        "model.add(Convolution2D(16, 3, 3))#9\n",
        "model.add(BatchNormalization())\n",
        "model.add(Activation('relu'))\n",
        "model.add(Dropout(0.1))\n",
        "\n",
        "\n",
        "model.add(Convolution2D(16, 3, 3))#7\n",
        "model.add(BatchNormalization())\n",
        "model.add(Activation('relu'))\n",
        "model.add(Dropout(0.1))\n",
        "\n",
        "\n",
        "model.add(Convolution2D(16, 3, 3))#5\n",
        "model.add(BatchNormalization())\n",
        "model.add(Activation('relu'))\n",
        "model.add(Dropout(0.1))\n",
        "\n",
        "\n",
        "model.add(Convolution2D(16, 3, 3))#3\n",
        "model.add(BatchNormalization())\n",
        "model.add(Activation('relu'))\n",
        "model.add(Dropout(0.1))\n",
        "\n",
        "\n",
        "model.add(Convolution2D(10, 4, 4))\n",
        "model.add(Flatten())\n",
        "model.add(Activation('softmax'))\n",
        "\n",
        "\n",
        "model.summary()"
      ],
      "execution_count": 14,
      "outputs": [
        {
          "output_type": "stream",
          "text": [
            "WARNING:tensorflow:From /usr/local/lib/python3.6/dist-packages/tensorflow/python/framework/op_def_library.py:263: colocate_with (from tensorflow.python.framework.ops) is deprecated and will be removed in a future version.\n",
            "Instructions for updating:\n",
            "Colocations handled automatically by placer.\n"
          ],
          "name": "stdout"
        },
        {
          "output_type": "stream",
          "text": [
            "/usr/local/lib/python3.6/dist-packages/ipykernel_launcher.py:4: UserWarning: Update your `Conv2D` call to the Keras 2 API: `Conv2D(16, (3, 3), input_shape=(28, 28, 1...)`\n",
            "  after removing the cwd from sys.path.\n"
          ],
          "name": "stderr"
        },
        {
          "output_type": "stream",
          "text": [
            "WARNING:tensorflow:From /usr/local/lib/python3.6/dist-packages/keras/backend/tensorflow_backend.py:3445: calling dropout (from tensorflow.python.ops.nn_ops) with keep_prob is deprecated and will be removed in a future version.\n",
            "Instructions for updating:\n",
            "Please use `rate` instead of `keep_prob`. Rate should be set to `rate = 1 - keep_prob`.\n"
          ],
          "name": "stdout"
        },
        {
          "output_type": "stream",
          "text": [
            "/usr/local/lib/python3.6/dist-packages/ipykernel_launcher.py:9: UserWarning: Update your `Conv2D` call to the Keras 2 API: `Conv2D(32, (3, 3))`\n",
            "  if __name__ == '__main__':\n",
            "/usr/local/lib/python3.6/dist-packages/ipykernel_launcher.py:14: UserWarning: Update your `Conv2D` call to the Keras 2 API: `Conv2D(10, (1, 1))`\n",
            "  \n",
            "/usr/local/lib/python3.6/dist-packages/ipykernel_launcher.py:19: UserWarning: Update your `Conv2D` call to the Keras 2 API: `Conv2D(16, (3, 3))`\n",
            "/usr/local/lib/python3.6/dist-packages/ipykernel_launcher.py:25: UserWarning: Update your `Conv2D` call to the Keras 2 API: `Conv2D(16, (3, 3))`\n",
            "/usr/local/lib/python3.6/dist-packages/ipykernel_launcher.py:31: UserWarning: Update your `Conv2D` call to the Keras 2 API: `Conv2D(16, (3, 3))`\n"
          ],
          "name": "stderr"
        },
        {
          "output_type": "stream",
          "text": [
            "_________________________________________________________________\n",
            "Layer (type)                 Output Shape              Param #   \n",
            "=================================================================\n",
            "conv2d_1 (Conv2D)            (None, 26, 26, 16)        160       \n",
            "_________________________________________________________________\n",
            "batch_normalization_1 (Batch (None, 26, 26, 16)        64        \n",
            "_________________________________________________________________\n",
            "activation_1 (Activation)    (None, 26, 26, 16)        0         \n",
            "_________________________________________________________________\n",
            "dropout_1 (Dropout)          (None, 26, 26, 16)        0         \n",
            "_________________________________________________________________\n",
            "conv2d_2 (Conv2D)            (None, 24, 24, 32)        4640      \n",
            "_________________________________________________________________\n",
            "batch_normalization_2 (Batch (None, 24, 24, 32)        128       \n",
            "_________________________________________________________________\n",
            "activation_2 (Activation)    (None, 24, 24, 32)        0         \n",
            "_________________________________________________________________\n",
            "dropout_2 (Dropout)          (None, 24, 24, 32)        0         \n",
            "_________________________________________________________________\n",
            "conv2d_3 (Conv2D)            (None, 24, 24, 10)        330       \n",
            "_________________________________________________________________\n",
            "activation_3 (Activation)    (None, 24, 24, 10)        0         \n",
            "_________________________________________________________________\n",
            "max_pooling2d_1 (MaxPooling2 (None, 12, 12, 10)        0         \n",
            "_________________________________________________________________\n",
            "conv2d_4 (Conv2D)            (None, 10, 10, 16)        1456      \n",
            "_________________________________________________________________\n",
            "batch_normalization_3 (Batch (None, 10, 10, 16)        64        \n",
            "_________________________________________________________________\n",
            "activation_4 (Activation)    (None, 10, 10, 16)        0         \n",
            "_________________________________________________________________\n",
            "dropout_3 (Dropout)          (None, 10, 10, 16)        0         \n",
            "_________________________________________________________________\n",
            "conv2d_5 (Conv2D)            (None, 8, 8, 16)          2320      \n",
            "_________________________________________________________________\n",
            "batch_normalization_4 (Batch (None, 8, 8, 16)          64        \n",
            "_________________________________________________________________\n",
            "activation_5 (Activation)    (None, 8, 8, 16)          0         \n",
            "_________________________________________________________________\n",
            "dropout_4 (Dropout)          (None, 8, 8, 16)          0         \n",
            "_________________________________________________________________\n",
            "conv2d_6 (Conv2D)            (None, 6, 6, 16)          2320      \n",
            "_________________________________________________________________\n",
            "batch_normalization_5 (Batch (None, 6, 6, 16)          64        \n",
            "_________________________________________________________________\n",
            "activation_6 (Activation)    (None, 6, 6, 16)          0         \n",
            "_________________________________________________________________\n",
            "dropout_5 (Dropout)          (None, 6, 6, 16)          0         \n",
            "_________________________________________________________________\n",
            "conv2d_7 (Conv2D)            (None, 4, 4, 16)          2320      \n",
            "_________________________________________________________________\n",
            "batch_normalization_6 (Batch (None, 4, 4, 16)          64        \n",
            "_________________________________________________________________\n",
            "activation_7 (Activation)    (None, 4, 4, 16)          0         \n",
            "_________________________________________________________________\n",
            "dropout_6 (Dropout)          (None, 4, 4, 16)          0         \n",
            "_________________________________________________________________\n",
            "conv2d_8 (Conv2D)            (None, 1, 1, 10)          2570      \n",
            "_________________________________________________________________\n",
            "flatten_1 (Flatten)          (None, 10)                0         \n",
            "_________________________________________________________________\n",
            "activation_8 (Activation)    (None, 10)                0         \n",
            "=================================================================\n",
            "Total params: 16,564\n",
            "Trainable params: 16,340\n",
            "Non-trainable params: 224\n",
            "_________________________________________________________________\n"
          ],
          "name": "stdout"
        },
        {
          "output_type": "stream",
          "text": [
            "/usr/local/lib/python3.6/dist-packages/ipykernel_launcher.py:37: UserWarning: Update your `Conv2D` call to the Keras 2 API: `Conv2D(16, (3, 3))`\n",
            "/usr/local/lib/python3.6/dist-packages/ipykernel_launcher.py:43: UserWarning: Update your `Conv2D` call to the Keras 2 API: `Conv2D(10, (4, 4))`\n"
          ],
          "name": "stderr"
        }
      ]
    },
    {
      "cell_type": "code",
      "metadata": {
        "id": "jUaVNidP143L",
        "colab_type": "code",
        "outputId": "2e224581-be89-4b32-91c3-e48d71ff00ff",
        "colab": {
          "base_uri": "https://localhost:8080/",
          "height": 34
        }
      },
      "source": [
        "# For retrieving the saved best results\n",
        "from google.colab import drive\n",
        "drive.mount('/content/gdrive')"
      ],
      "execution_count": 15,
      "outputs": [
        {
          "output_type": "stream",
          "text": [
            "Drive already mounted at /content/gdrive; to attempt to forcibly remount, call drive.mount(\"/content/gdrive\", force_remount=True).\n"
          ],
          "name": "stdout"
        }
      ]
    },
    {
      "cell_type": "code",
      "metadata": {
        "id": "p-Plc7WV19FV",
        "colab_type": "code",
        "colab": {}
      },
      "source": [
        "# Defining checkpoints\n",
        "from keras.callbacks import ModelCheckpoint\n",
        "filepath=\"/content/gdrive/My Drive/Raajesh-{epoch:02d}-{val_acc:.2f}.hdf5\"\n",
        "checkpoint = ModelCheckpoint(filepath, monitor='val_acc', verbose=1, save_best_only=True, mode='max')\n",
        "callbacks_list = [checkpoint]"
      ],
      "execution_count": 0,
      "outputs": []
    },
    {
      "cell_type": "code",
      "metadata": {
        "id": "6a6t57D2JNHr",
        "colab_type": "code",
        "outputId": "c200ab32-2b5c-4715-8c5d-575d428e39bd",
        "colab": {
          "base_uri": "https://localhost:8080/",
          "height": 34
        }
      },
      "source": [
        "print(X_train.shape)"
      ],
      "execution_count": 17,
      "outputs": [
        {
          "output_type": "stream",
          "text": [
            "(60000, 28, 28, 1)\n"
          ],
          "name": "stdout"
        }
      ]
    },
    {
      "cell_type": "code",
      "metadata": {
        "id": "LSACJQATB_tg",
        "colab_type": "code",
        "colab": {}
      },
      "source": [
        "import keras"
      ],
      "execution_count": 0,
      "outputs": []
    },
    {
      "cell_type": "markdown",
      "metadata": {
        "id": "eF9IXXy9G2UR",
        "colab_type": "text"
      },
      "source": [
        "#### DEFINING CUSTOM LOSS FUNCTION\n",
        "\n",
        "-  Here we have squared the weights (kernel values) and summed it up and it is because we are doing L2 Regularizer.\n",
        "-   Multiplying it with Regularization parameter (lamdba) and dividing it by 2xm and (m is the number of images - 128batchsize).\n",
        "-   To add it to the cost function, we are calling this categorical_crossentropy (that will calculate default cost function) and passing this calculated results."
      ]
    },
    {
      "cell_type": "code",
      "metadata": {
        "id": "kjkMTYbj2fMa",
        "colab_type": "code",
        "colab": {}
      },
      "source": [
        "def customloss(Y_test,y_pred):\n",
        "  weights = 0\n",
        "  for layers in model.layers:\n",
        "    #print(np.sum(np.sum(np.sum(np.square(layers.get_weights())))))\n",
        "    weights = weights + np.sum(np.sum(np.sum(np.square(layers.get_weights()))))\n",
        "  \n",
        "  print(weights)\n",
        "  lambdaval = 1e-4\n",
        "  y_true = y_test\n",
        "  l2regularization = ( lambdaval/(2*128) ) + weights\n",
        "  loss = keras.losses.categorical_crossentropy(Y_test,y_pred) + l2regularization\n",
        "  return loss\n"
      ],
      "execution_count": 0,
      "outputs": []
    },
    {
      "cell_type": "code",
      "metadata": {
        "id": "L2IicGJ4x3Be",
        "colab_type": "code",
        "outputId": "48b2c300-2455-48b7-94f8-056dbddfc459",
        "colab": {
          "base_uri": "https://localhost:8080/",
          "height": 4202
        }
      },
      "source": [
        "from keras.optimizers import Adam\n",
        "from keras.callbacks import LearningRateScheduler\n",
        "\n",
        "def scheduler(epoch, lr):\n",
        "  return round(0.003 * 1/(1 + 0.319 * epoch), 10)\n",
        "\n",
        "callbacks_list.append(LearningRateScheduler(scheduler, verbose=1))\n",
        "\n",
        "model.compile(loss=customloss, optimizer=Adam(lr=0.003), metrics=['accuracy'])\n",
        "\n",
        "model.fit_generator(\n",
        "        train_generator,\n",
        "        steps_per_epoch=np.ceil(60000/128),\n",
        "        epochs=40,\n",
        "        validation_data=test_generator,\n",
        "        callbacks=callbacks_list,\n",
        "        validation_steps=np.ceil(10000/128)) "
      ],
      "execution_count": 20,
      "outputs": [
        {
          "output_type": "stream",
          "text": [
            "335.4030599594116\n",
            "WARNING:tensorflow:From /usr/local/lib/python3.6/dist-packages/tensorflow/python/ops/math_ops.py:3066: to_int32 (from tensorflow.python.ops.math_ops) is deprecated and will be removed in a future version.\n",
            "Instructions for updating:\n",
            "Use tf.cast instead.\n",
            "Epoch 1/40\n",
            "\n",
            "Epoch 00001: LearningRateScheduler setting learning rate to 0.003.\n",
            "469/469 [==============================] - 10s 22ms/step - loss: 335.6355 - acc: 0.9275 - val_loss: 335.4653 - val_acc: 0.9794\n",
            "\n",
            "Epoch 00001: val_acc improved from -inf to 0.97940, saving model to /content/gdrive/My Drive/Raajesh-01-0.98.hdf5\n",
            "Epoch 2/40\n",
            "\n",
            "Epoch 00002: LearningRateScheduler setting learning rate to 0.0022744503.\n",
            "469/469 [==============================] - 8s 16ms/step - loss: 335.4674 - acc: 0.9805 - val_loss: 335.4419 - val_acc: 0.9862\n",
            "\n",
            "Epoch 00002: val_acc improved from 0.97940 to 0.98620, saving model to /content/gdrive/My Drive/Raajesh-02-0.99.hdf5\n",
            "Epoch 3/40\n",
            "\n",
            "Epoch 00003: LearningRateScheduler setting learning rate to 0.0018315018.\n",
            "469/469 [==============================] - 8s 17ms/step - loss: 335.4504 - acc: 0.9854 - val_loss: 335.4369 - val_acc: 0.9889\n",
            "\n",
            "Epoch 00003: val_acc improved from 0.98620 to 0.98890, saving model to /content/gdrive/My Drive/Raajesh-03-0.99.hdf5\n",
            "Epoch 4/40\n",
            "\n",
            "Epoch 00004: LearningRateScheduler setting learning rate to 0.0015329586.\n",
            "469/469 [==============================] - 7s 16ms/step - loss: 335.4430 - acc: 0.9873 - val_loss: 335.4397 - val_acc: 0.9889\n",
            "\n",
            "Epoch 00004: val_acc did not improve from 0.98890\n",
            "Epoch 5/40\n",
            "\n",
            "Epoch 00005: LearningRateScheduler setting learning rate to 0.0013181019.\n",
            "469/469 [==============================] - 7s 16ms/step - loss: 335.4392 - acc: 0.9891 - val_loss: 335.4304 - val_acc: 0.9905\n",
            "\n",
            "Epoch 00005: val_acc improved from 0.98890 to 0.99050, saving model to /content/gdrive/My Drive/Raajesh-05-0.99.hdf5\n",
            "Epoch 6/40\n",
            "\n",
            "Epoch 00006: LearningRateScheduler setting learning rate to 0.0011560694.\n",
            "469/469 [==============================] - 8s 16ms/step - loss: 335.4357 - acc: 0.9896 - val_loss: 335.4307 - val_acc: 0.9913\n",
            "\n",
            "Epoch 00006: val_acc improved from 0.99050 to 0.99130, saving model to /content/gdrive/My Drive/Raajesh-06-0.99.hdf5\n",
            "Epoch 7/40\n",
            "\n",
            "Epoch 00007: LearningRateScheduler setting learning rate to 0.0010295127.\n",
            "469/469 [==============================] - 7s 16ms/step - loss: 335.4320 - acc: 0.9909 - val_loss: 335.4267 - val_acc: 0.9922\n",
            "\n",
            "Epoch 00007: val_acc improved from 0.99130 to 0.99220, saving model to /content/gdrive/My Drive/Raajesh-07-0.99.hdf5\n",
            "Epoch 8/40\n",
            "\n",
            "Epoch 00008: LearningRateScheduler setting learning rate to 0.0009279307.\n",
            "469/469 [==============================] - 7s 16ms/step - loss: 335.4313 - acc: 0.9911 - val_loss: 335.4273 - val_acc: 0.9917\n",
            "\n",
            "Epoch 00008: val_acc did not improve from 0.99220\n",
            "Epoch 9/40\n",
            "\n",
            "Epoch 00009: LearningRateScheduler setting learning rate to 0.0008445946.\n",
            "469/469 [==============================] - 7s 16ms/step - loss: 335.4295 - acc: 0.9914 - val_loss: 335.4251 - val_acc: 0.9936\n",
            "\n",
            "Epoch 00009: val_acc improved from 0.99220 to 0.99360, saving model to /content/gdrive/My Drive/Raajesh-09-0.99.hdf5\n",
            "Epoch 10/40\n",
            "\n",
            "Epoch 00010: LearningRateScheduler setting learning rate to 0.0007749935.\n",
            "469/469 [==============================] - 7s 16ms/step - loss: 335.4274 - acc: 0.9919 - val_loss: 335.4258 - val_acc: 0.9939\n",
            "\n",
            "Epoch 00010: val_acc improved from 0.99360 to 0.99390, saving model to /content/gdrive/My Drive/Raajesh-10-0.99.hdf5\n",
            "Epoch 11/40\n",
            "\n",
            "Epoch 00011: LearningRateScheduler setting learning rate to 0.0007159905.\n",
            "469/469 [==============================] - 7s 16ms/step - loss: 335.4256 - acc: 0.9928 - val_loss: 335.4263 - val_acc: 0.9930\n",
            "\n",
            "Epoch 00011: val_acc did not improve from 0.99390\n",
            "Epoch 12/40\n",
            "\n",
            "Epoch 00012: LearningRateScheduler setting learning rate to 0.000665336.\n",
            "469/469 [==============================] - 8s 17ms/step - loss: 335.4251 - acc: 0.9931 - val_loss: 335.4249 - val_acc: 0.9937\n",
            "\n",
            "Epoch 00012: val_acc did not improve from 0.99390\n",
            "Epoch 13/40\n",
            "\n",
            "Epoch 00013: LearningRateScheduler setting learning rate to 0.0006213753.\n",
            "469/469 [==============================] - 8s 16ms/step - loss: 335.4232 - acc: 0.9938 - val_loss: 335.4246 - val_acc: 0.9935\n",
            "\n",
            "Epoch 00013: val_acc did not improve from 0.99390\n",
            "Epoch 14/40\n",
            "\n",
            "Epoch 00014: LearningRateScheduler setting learning rate to 0.0005828638.\n",
            "469/469 [==============================] - 7s 16ms/step - loss: 335.4235 - acc: 0.9931 - val_loss: 335.4232 - val_acc: 0.9939\n",
            "\n",
            "Epoch 00014: val_acc did not improve from 0.99390\n",
            "Epoch 15/40\n",
            "\n",
            "Epoch 00015: LearningRateScheduler setting learning rate to 0.0005488474.\n",
            "469/469 [==============================] - 7s 16ms/step - loss: 335.4236 - acc: 0.9930 - val_loss: 335.4220 - val_acc: 0.9946\n",
            "\n",
            "Epoch 00015: val_acc improved from 0.99390 to 0.99460, saving model to /content/gdrive/My Drive/Raajesh-15-0.99.hdf5\n",
            "Epoch 16/40\n",
            "\n",
            "Epoch 00016: LearningRateScheduler setting learning rate to 0.0005185825.\n",
            "469/469 [==============================] - 7s 16ms/step - loss: 335.4225 - acc: 0.9937 - val_loss: 335.4249 - val_acc: 0.9939\n",
            "\n",
            "Epoch 00016: val_acc did not improve from 0.99460\n",
            "Epoch 17/40\n",
            "\n",
            "Epoch 00017: LearningRateScheduler setting learning rate to 0.000491481.\n",
            "469/469 [==============================] - 7s 16ms/step - loss: 335.4212 - acc: 0.9939 - val_loss: 335.4244 - val_acc: 0.9940\n",
            "\n",
            "Epoch 00017: val_acc did not improve from 0.99460\n",
            "Epoch 18/40\n",
            "\n",
            "Epoch 00018: LearningRateScheduler setting learning rate to 0.0004670715.\n",
            "469/469 [==============================] - 7s 16ms/step - loss: 335.4211 - acc: 0.9939 - val_loss: 335.4222 - val_acc: 0.9939\n",
            "\n",
            "Epoch 00018: val_acc did not improve from 0.99460\n",
            "Epoch 19/40\n",
            "\n",
            "Epoch 00019: LearningRateScheduler setting learning rate to 0.0004449718.\n",
            "469/469 [==============================] - 7s 16ms/step - loss: 335.4206 - acc: 0.9942 - val_loss: 335.4217 - val_acc: 0.9944\n",
            "\n",
            "Epoch 00019: val_acc did not improve from 0.99460\n",
            "Epoch 20/40\n",
            "\n",
            "Epoch 00020: LearningRateScheduler setting learning rate to 0.000424869.\n",
            "469/469 [==============================] - 7s 16ms/step - loss: 335.4194 - acc: 0.9943 - val_loss: 335.4230 - val_acc: 0.9944\n",
            "\n",
            "Epoch 00020: val_acc did not improve from 0.99460\n",
            "Epoch 21/40\n",
            "\n",
            "Epoch 00021: LearningRateScheduler setting learning rate to 0.0004065041.\n",
            "469/469 [==============================] - 7s 16ms/step - loss: 335.4187 - acc: 0.9947 - val_loss: 335.4231 - val_acc: 0.9945\n",
            "\n",
            "Epoch 00021: val_acc did not improve from 0.99460\n",
            "Epoch 22/40\n",
            "\n",
            "Epoch 00022: LearningRateScheduler setting learning rate to 0.000389661.\n",
            "469/469 [==============================] - 8s 16ms/step - loss: 335.4187 - acc: 0.9947 - val_loss: 335.4250 - val_acc: 0.9945\n",
            "\n",
            "Epoch 00022: val_acc did not improve from 0.99460\n",
            "Epoch 23/40\n",
            "\n",
            "Epoch 00023: LearningRateScheduler setting learning rate to 0.0003741581.\n",
            "469/469 [==============================] - 8s 17ms/step - loss: 335.4178 - acc: 0.9950 - val_loss: 335.4221 - val_acc: 0.9945\n",
            "\n",
            "Epoch 00023: val_acc did not improve from 0.99460\n",
            "Epoch 24/40\n",
            "\n",
            "Epoch 00024: LearningRateScheduler setting learning rate to 0.0003598417.\n",
            "469/469 [==============================] - 7s 16ms/step - loss: 335.4184 - acc: 0.9947 - val_loss: 335.4237 - val_acc: 0.9944\n",
            "\n",
            "Epoch 00024: val_acc did not improve from 0.99460\n",
            "Epoch 25/40\n",
            "\n",
            "Epoch 00025: LearningRateScheduler setting learning rate to 0.0003465804.\n",
            "469/469 [==============================] - 7s 16ms/step - loss: 335.4173 - acc: 0.9953 - val_loss: 335.4216 - val_acc: 0.9940\n",
            "\n",
            "Epoch 00025: val_acc did not improve from 0.99460\n",
            "Epoch 26/40\n",
            "\n",
            "Epoch 00026: LearningRateScheduler setting learning rate to 0.0003342618.\n",
            "469/469 [==============================] - 8s 17ms/step - loss: 335.4165 - acc: 0.9957 - val_loss: 335.4222 - val_acc: 0.9943\n",
            "\n",
            "Epoch 00026: val_acc did not improve from 0.99460\n",
            "Epoch 27/40\n",
            "\n",
            "Epoch 00027: LearningRateScheduler setting learning rate to 0.0003227889.\n",
            "469/469 [==============================] - 8s 16ms/step - loss: 335.4171 - acc: 0.9955 - val_loss: 335.4245 - val_acc: 0.9937\n",
            "\n",
            "Epoch 00027: val_acc did not improve from 0.99460\n",
            "Epoch 28/40\n",
            "\n",
            "Epoch 00028: LearningRateScheduler setting learning rate to 0.0003120774.\n",
            "469/469 [==============================] - 7s 16ms/step - loss: 335.4174 - acc: 0.9953 - val_loss: 335.4220 - val_acc: 0.9950\n",
            "\n",
            "Epoch 00028: val_acc improved from 0.99460 to 0.99500, saving model to /content/gdrive/My Drive/Raajesh-28-0.99.hdf5\n",
            "Epoch 29/40\n",
            "\n",
            "Epoch 00029: LearningRateScheduler setting learning rate to 0.000302054.\n",
            "469/469 [==============================] - 7s 16ms/step - loss: 335.4162 - acc: 0.9956 - val_loss: 335.4228 - val_acc: 0.9946\n",
            "\n",
            "Epoch 00029: val_acc did not improve from 0.99500\n",
            "Epoch 30/40\n",
            "\n",
            "Epoch 00030: LearningRateScheduler setting learning rate to 0.0002926544.\n",
            "469/469 [==============================] - 7s 16ms/step - loss: 335.4170 - acc: 0.9954 - val_loss: 335.4221 - val_acc: 0.9941\n",
            "\n",
            "Epoch 00030: val_acc did not improve from 0.99500\n",
            "Epoch 31/40\n",
            "\n",
            "Epoch 00031: LearningRateScheduler setting learning rate to 0.0002838221.\n",
            "469/469 [==============================] - 7s 16ms/step - loss: 335.4163 - acc: 0.9956 - val_loss: 335.4225 - val_acc: 0.9944\n",
            "\n",
            "Epoch 00031: val_acc did not improve from 0.99500\n",
            "Epoch 32/40\n",
            "\n",
            "Epoch 00032: LearningRateScheduler setting learning rate to 0.0002755074.\n",
            "469/469 [==============================] - 7s 16ms/step - loss: 335.4162 - acc: 0.9957 - val_loss: 335.4240 - val_acc: 0.9945\n",
            "\n",
            "Epoch 00032: val_acc did not improve from 0.99500\n",
            "Epoch 33/40\n",
            "\n",
            "Epoch 00033: LearningRateScheduler setting learning rate to 0.000267666.\n",
            "469/469 [==============================] - 8s 17ms/step - loss: 335.4157 - acc: 0.9956 - val_loss: 335.4217 - val_acc: 0.9950\n",
            "\n",
            "Epoch 00033: val_acc did not improve from 0.99500\n",
            "Epoch 34/40\n",
            "\n",
            "Epoch 00034: LearningRateScheduler setting learning rate to 0.0002602585.\n",
            "469/469 [==============================] - 8s 16ms/step - loss: 335.4162 - acc: 0.9957 - val_loss: 335.4216 - val_acc: 0.9948\n",
            "\n",
            "Epoch 00034: val_acc did not improve from 0.99500\n",
            "Epoch 35/40\n",
            "\n",
            "Epoch 00035: LearningRateScheduler setting learning rate to 0.00025325.\n",
            "469/469 [==============================] - 7s 16ms/step - loss: 335.4156 - acc: 0.9955 - val_loss: 335.4225 - val_acc: 0.9949\n",
            "\n",
            "Epoch 00035: val_acc did not improve from 0.99500\n",
            "Epoch 36/40\n",
            "\n",
            "Epoch 00036: LearningRateScheduler setting learning rate to 0.0002466091.\n",
            "469/469 [==============================] - 7s 16ms/step - loss: 335.4147 - acc: 0.9962 - val_loss: 335.4229 - val_acc: 0.9949\n",
            "\n",
            "Epoch 00036: val_acc did not improve from 0.99500\n",
            "Epoch 37/40\n",
            "\n",
            "Epoch 00037: LearningRateScheduler setting learning rate to 0.0002403076.\n",
            "469/469 [==============================] - 8s 16ms/step - loss: 335.4152 - acc: 0.9959 - val_loss: 335.4249 - val_acc: 0.9944\n",
            "\n",
            "Epoch 00037: val_acc did not improve from 0.99500\n",
            "Epoch 38/40\n",
            "\n",
            "Epoch 00038: LearningRateScheduler setting learning rate to 0.0002343201.\n",
            "469/469 [==============================] - 8s 16ms/step - loss: 335.4151 - acc: 0.9960 - val_loss: 335.4233 - val_acc: 0.9946\n",
            "\n",
            "Epoch 00038: val_acc did not improve from 0.99500\n",
            "Epoch 39/40\n",
            "\n",
            "Epoch 00039: LearningRateScheduler setting learning rate to 0.0002286237.\n",
            "469/469 [==============================] - 7s 16ms/step - loss: 335.4147 - acc: 0.9962 - val_loss: 335.4221 - val_acc: 0.9944\n",
            "\n",
            "Epoch 00039: val_acc did not improve from 0.99500\n",
            "Epoch 40/40\n",
            "\n",
            "Epoch 00040: LearningRateScheduler setting learning rate to 0.0002231977.\n",
            "469/469 [==============================] - 7s 16ms/step - loss: 335.4149 - acc: 0.9962 - val_loss: 335.4218 - val_acc: 0.9948\n",
            "\n",
            "Epoch 00040: val_acc did not improve from 0.99500\n"
          ],
          "name": "stdout"
        },
        {
          "output_type": "execute_result",
          "data": {
            "text/plain": [
              "<keras.callbacks.History at 0x7f6df062c940>"
            ]
          },
          "metadata": {
            "tags": []
          },
          "execution_count": 20
        }
      ]
    },
    {
      "cell_type": "code",
      "metadata": {
        "id": "OjT35hqp2GpG",
        "colab_type": "code",
        "colab": {}
      },
      "source": [
        "model.load_weights('/content/gdrive/My Drive/Raajesh-28-0.99.hdf5')"
      ],
      "execution_count": 0,
      "outputs": []
    },
    {
      "cell_type": "code",
      "metadata": {
        "id": "p8WxR1z_SbjU",
        "colab_type": "code",
        "colab": {}
      },
      "source": [
        "score = model.evaluate_generator(test_generator,steps=np.ceil(10000/128))"
      ],
      "execution_count": 0,
      "outputs": []
    },
    {
      "cell_type": "code",
      "metadata": {
        "id": "WLxlW9ufyQiO",
        "colab_type": "code",
        "outputId": "3c89776b-010d-4cf5-c7d8-01995c6bd0c6",
        "colab": {
          "base_uri": "https://localhost:8080/",
          "height": 34
        }
      },
      "source": [
        "#score = model.evaluate(X_test, Y_test, verbose=0)\n",
        "print(score)"
      ],
      "execution_count": 23,
      "outputs": [
        {
          "output_type": "stream",
          "text": [
            "[335.4220359375, 0.995]\n"
          ],
          "name": "stdout"
        }
      ]
    },
    {
      "cell_type": "code",
      "metadata": {
        "id": "vDbn05ZrTt-r",
        "colab_type": "code",
        "outputId": "298fd52f-b730-4aa6-d457-5486e496f084",
        "colab": {
          "base_uri": "https://localhost:8080/",
          "height": 34
        }
      },
      "source": [
        "count = model.predict_generator(test_generator,np.ceil(10000/128))\n",
        "print(count.shape)"
      ],
      "execution_count": 24,
      "outputs": [
        {
          "output_type": "stream",
          "text": [
            "(10000, 10)\n"
          ],
          "name": "stdout"
        }
      ]
    },
    {
      "cell_type": "code",
      "metadata": {
        "id": "VkkoRhZsUJA9",
        "colab_type": "code",
        "colab": {}
      },
      "source": [
        "predicted_classes = model.predict_classes(X_test)"
      ],
      "execution_count": 0,
      "outputs": []
    },
    {
      "cell_type": "code",
      "metadata": {
        "id": "m2qDl21ozBnW",
        "colab_type": "code",
        "outputId": "7ee7934a-befd-4397-e139-5623da8e991b",
        "colab": {
          "base_uri": "https://localhost:8080/",
          "height": 51
        }
      },
      "source": [
        "print(predicted_classes)\n",
        "print(len(predicted_classes))"
      ],
      "execution_count": 26,
      "outputs": [
        {
          "output_type": "stream",
          "text": [
            "[7 2 1 ... 4 0 6]\n",
            "10000\n"
          ],
          "name": "stdout"
        }
      ]
    },
    {
      "cell_type": "code",
      "metadata": {
        "id": "37kewndnOJPq",
        "colab_type": "code",
        "colab": {}
      },
      "source": [
        "X_train = X_train.reshape(X_train.shape[0], 28, 28)\n",
        "X_test = X_test.reshape(X_test.shape[0], 28, 28)"
      ],
      "execution_count": 0,
      "outputs": []
    },
    {
      "cell_type": "code",
      "metadata": {
        "id": "daNL_R8VOOaC",
        "colab_type": "code",
        "colab": {}
      },
      "source": [
        "correct = np.nonzero(predicted_classes==y_test)"
      ],
      "execution_count": 0,
      "outputs": []
    },
    {
      "cell_type": "code",
      "metadata": {
        "id": "JBcCxZg8UjZ8",
        "colab_type": "code",
        "outputId": "5a344440-0734-4e81-ee70-fe14cc7e7617",
        "colab": {
          "base_uri": "https://localhost:8080/",
          "height": 51
        }
      },
      "source": [
        "print(correct)\n",
        "print(len(correct))"
      ],
      "execution_count": 30,
      "outputs": [
        {
          "output_type": "stream",
          "text": [
            "(array([   0,    1,    2, ..., 9996, 9997, 9999]),)\n",
            "1\n"
          ],
          "name": "stdout"
        }
      ]
    },
    {
      "cell_type": "code",
      "metadata": {
        "id": "WenbepS0Uzr4",
        "colab_type": "code",
        "colab": {}
      },
      "source": [
        "incorrect = np.nonzero(predicted_classes!=y_test)"
      ],
      "execution_count": 0,
      "outputs": []
    },
    {
      "cell_type": "code",
      "metadata": {
        "id": "DINbrofeU8CP",
        "colab_type": "code",
        "outputId": "c5d6763e-4f87-46ee-e13f-4740b74108fc",
        "colab": {
          "base_uri": "https://localhost:8080/",
          "height": 51
        }
      },
      "source": [
        "print(incorrect)\n",
        "print(len(incorrect))"
      ],
      "execution_count": 32,
      "outputs": [
        {
          "output_type": "stream",
          "text": [
            "(array([   7,    8,   18, ..., 9982, 9986, 9998]),)\n",
            "1\n"
          ],
          "name": "stdout"
        }
      ]
    },
    {
      "cell_type": "code",
      "metadata": {
        "id": "a7YFjRCJ4vAY",
        "colab_type": "code",
        "colab": {}
      },
      "source": [
        "X_train = X_train.reshape(X_train.shape[0], 28, 28)\n",
        "X_test = X_test.reshape(X_test.shape[0], 28, 28)"
      ],
      "execution_count": 0,
      "outputs": []
    },
    {
      "cell_type": "code",
      "metadata": {
        "id": "ltuQZu1B6xsn",
        "colab_type": "code",
        "outputId": "d5767bfd-1bce-455e-cc3d-aec778012633",
        "colab": {
          "base_uri": "https://localhost:8080/",
          "height": 34
        }
      },
      "source": [
        "print(incorrect[0:9])"
      ],
      "execution_count": 34,
      "outputs": [
        {
          "output_type": "stream",
          "text": [
            "(array([   7,    8,   18, ..., 9982, 9986, 9998]),)\n"
          ],
          "name": "stdout"
        }
      ]
    },
    {
      "cell_type": "code",
      "metadata": {
        "id": "bwWhtYJkPeo_",
        "colab_type": "code",
        "colab": {}
      },
      "source": [
        "arincorr = incorrect[0][0:25]"
      ],
      "execution_count": 0,
      "outputs": []
    },
    {
      "cell_type": "code",
      "metadata": {
        "id": "2IGn2EetPmwx",
        "colab_type": "code",
        "colab": {
          "base_uri": "https://localhost:8080/",
          "height": 51
        },
        "outputId": "acaf3118-7f56-4fcc-e924-edac8caaa604"
      },
      "source": [
        "arincorr"
      ],
      "execution_count": 36,
      "outputs": [
        {
          "output_type": "execute_result",
          "data": {
            "text/plain": [
              "array([  7,   8,  18,  20,  29,  41,  44,  45,  59,  62,  63,  68,  73,\n",
              "        78,  87,  92,  93,  96, 104, 108, 112, 125, 142, 145, 151])"
            ]
          },
          "metadata": {
            "tags": []
          },
          "execution_count": 36
        }
      ]
    },
    {
      "cell_type": "markdown",
      "metadata": {
        "id": "Vm5Npe4BJesA",
        "colab_type": "text"
      },
      "source": [
        "### I am not able to plot 5x5 using Subplot.\n",
        "### So i have used subplot2grid to design 5x5 gallery."
      ]
    },
    {
      "cell_type": "code",
      "metadata": {
        "id": "xwiiYo5LP6sr",
        "colab_type": "code",
        "colab": {
          "base_uri": "https://localhost:8080/",
          "height": 269
        },
        "outputId": "b3d0ea1b-971c-492c-fb8d-33773781b244"
      },
      "source": [
        "import matplotlib.pyplot as plt\n",
        "\n",
        "plt.figure(0)\n",
        "for i in range(5):\n",
        "    for j in range(5):\n",
        "        plt.subplot2grid((5,5), (i,j))\n",
        "plt.show()"
      ],
      "execution_count": 120,
      "outputs": [
        {
          "output_type": "display_data",
          "data": {
            "image/png": "[encoded data removed]",
            "text/plain": [
              "<Figure size 432x288 with 25 Axes>"
            ]
          },
          "metadata": {
            "tags": []
          }
        }
      ]
    },
    {
      "cell_type": "markdown",
      "metadata": {
        "id": "5cllEJU3JijK",
        "colab_type": "text"
      },
      "source": [
        "### First Loop - For Rows.\n",
        "### Second Loop - For Columns.\n",
        "\n",
        "#### Then i am taking the first incorrect image and showing it in the first plot.\n",
        "#### Then i am titleing it with the respective predicted and target class."
      ]
    },
    {
      "cell_type": "code",
      "metadata": {
        "id": "QVocAnVJP98b",
        "colab_type": "code",
        "colab": {
          "base_uri": "https://localhost:8080/",
          "height": 1151
        },
        "outputId": "fb480eb5-9a4c-4138-b328-ed6f1ed299ec"
      },
      "source": [
        "import matplotlib.pyplot as plt\n",
        "import numpy as np\n",
        "\n",
        "#plt.figure(0)\n",
        "plt.figure(figsize = (20,20)) \n",
        "plots = []\n",
        "count = 0\n",
        "for i in range(5):\n",
        "    for j in range(5):\n",
        "        ax = plt.subplot2grid((5,5), (i,j))\n",
        "        plt.imshow(X_test[arincorr[count]].reshape(28,28),cmap='gray',interpolation='none')\n",
        "        plt.title(\"Predicted {}, Class {}\".format(predicted_classes[arincorr[count]], y_test[arincorr[count]]))\n",
        "        count = count+1\n",
        "plt.show()"
      ],
      "execution_count": 121,
      "outputs": [
        {
          "output_type": "display_data",
          "data": {
            "image/png": "[encoded data removed]",
            "text/plain": [
              "<Figure size 1440x1440 with 25 Axes>"
            ]
          },
          "metadata": {
            "tags": []
          }
        }
      ]
    }
  ]
}
