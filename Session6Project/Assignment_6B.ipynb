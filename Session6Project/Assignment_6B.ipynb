{
  "nbformat": 4,
  "nbformat_minor": 0,
  "metadata": {
    "colab": {
      "name": "Assignment 6B.ipynb",
      "version": "0.3.2",
      "provenance": [],
      "collapsed_sections": []
    },
    "kernelspec": {
      "name": "python3",
      "display_name": "Python 3"
    },
    "accelerator": "GPU"
  },
  "cells": [
    {
      "cell_type": "markdown",
      "metadata": {
        "id": "1WjSoLCVRPiv",
        "colab_type": "text"
      },
      "source": [
        "#### Explanation \n",
        "\n",
        "-  We are importing tensorflow (we are using space_to_depth and so tf is required)."
      ]
    },
    {
      "cell_type": "code",
      "metadata": {
        "id": "KkwXnw9OfHZl",
        "colab_type": "code",
        "colab": {}
      },
      "source": [
        "# https://keras.io/\n",
        "!pip install -q keras\n",
        "import keras\n",
        "\n",
        "# this part will prevent tensorflow to allocate all the avaliable GPU Memory\n",
        "# backend\n",
        "import tensorflow as tf\n",
        "from keras import backend as k\n",
        "\n",
        "\n",
        "# Don't pre-allocate memory; allocate as-needed\n",
        "config = tf.ConfigProto()\n",
        "config.gpu_options.allow_growth = True\n",
        "\n",
        "# Create a session with the above options specified.\n",
        "k.tensorflow_backend.set_session(tf.Session(config=config))"
      ],
      "execution_count": 0,
      "outputs": []
    },
    {
      "cell_type": "code",
      "metadata": {
        "id": "bvHhEwZCIWsT",
        "colab_type": "code",
        "colab": {}
      },
      "source": [
        "from keras import backend as K\n",
        "import time\n",
        "import matplotlib.pyplot as plt\n",
        "import numpy as np\n",
        "% matplotlib inline\n",
        "np.random.seed(2017) \n",
        "from keras.models import Sequential\n",
        "from keras.layers.convolutional import Convolution2D, MaxPooling2D, Conv2D, SeparableConv2D\n",
        "from keras.layers import Activation, Flatten, Dense, Dropout, Input, Lambda\n",
        "from keras.layers.normalization import BatchNormalization\n",
        "from keras.utils import np_utils\n",
        "from keras.models import Model\n",
        "from keras.layers.merge import concatenate"
      ],
      "execution_count": 0,
      "outputs": []
    },
    {
      "cell_type": "code",
      "metadata": {
        "id": "NHpnoCHZfO8g",
        "colab_type": "code",
        "colab": {}
      },
      "source": [
        "from keras.datasets import cifar10\n",
        "(train_features, train_labels), (test_features, test_labels) = cifar10.load_data()\n",
        "num_train, img_rows, img_cols, img_channels =  train_features.shape\n",
        "num_test, _, _, _ =  test_features.shape\n",
        "num_classes = len(np.unique(train_labels))"
      ],
      "execution_count": 0,
      "outputs": []
    },
    {
      "cell_type": "code",
      "metadata": {
        "id": "UvIvojgZGQmN",
        "colab_type": "code",
        "outputId": "7a5acab9-0786-461d-befa-5bcba332c61e",
        "colab": {
          "base_uri": "https://localhost:8080/",
          "height": 34
        }
      },
      "source": [
        "img_channels"
      ],
      "execution_count": 0,
      "outputs": [
        {
          "output_type": "execute_result",
          "data": {
            "text/plain": [
              "3"
            ]
          },
          "metadata": {
            "tags": []
          },
          "execution_count": 57
        }
      ]
    },
    {
      "cell_type": "code",
      "metadata": {
        "id": "VD6W3kjAGVDR",
        "colab_type": "code",
        "outputId": "b1e6cedc-f615-4e48-9320-3ba491976f93",
        "colab": {
          "base_uri": "https://localhost:8080/",
          "height": 34
        }
      },
      "source": [
        "img_rows"
      ],
      "execution_count": 0,
      "outputs": [
        {
          "output_type": "execute_result",
          "data": {
            "text/plain": [
              "32"
            ]
          },
          "metadata": {
            "tags": []
          },
          "execution_count": 58
        }
      ]
    },
    {
      "cell_type": "code",
      "metadata": {
        "id": "48iy9umVGW-F",
        "colab_type": "code",
        "outputId": "4be4b5e6-9b0e-48d0-f292-711dc5af3554",
        "colab": {
          "base_uri": "https://localhost:8080/",
          "height": 34
        }
      },
      "source": [
        "img_cols"
      ],
      "execution_count": 0,
      "outputs": [
        {
          "output_type": "execute_result",
          "data": {
            "text/plain": [
              "32"
            ]
          },
          "metadata": {
            "tags": []
          },
          "execution_count": 59
        }
      ]
    },
    {
      "cell_type": "markdown",
      "metadata": {
        "id": "g0nhMHvVSBt8",
        "colab_type": "text"
      },
      "source": [
        "#### EXPLANATION\n",
        "\n",
        "-  We are looping through class by class and taking the index of one specific class in loop.\n",
        "-  Taking all those indexes training features and as features_idx.\n",
        "-  Picking random number and displaying that image and setting title."
      ]
    },
    {
      "cell_type": "code",
      "metadata": {
        "id": "14HyBUXdfS6G",
        "colab_type": "code",
        "outputId": "b489b730-3c8f-45ee-b693-7f0db4f870ec",
        "colab": {
          "base_uri": "https://localhost:8080/",
          "height": 213
        }
      },
      "source": [
        "class_names = ['airplane','automobile','bird','cat','deer',\n",
        "               'dog','frog','horse','ship','truck']\n",
        "fig = plt.figure(figsize=(8,3))\n",
        "for i in range(num_classes):\n",
        "    ax = fig.add_subplot(2, 5, 1 + i, xticks=[], yticks=[])\n",
        "    idx = np.where(train_labels[:]==i)[0]\n",
        "    features_idx = train_features[idx,::]\n",
        "    img_num = np.random.randint(features_idx.shape[0])\n",
        "    im = features_idx[img_num]\n",
        "    ax.set_title(class_names[i])\n",
        "    plt.imshow(im)\n",
        "plt.show()"
      ],
      "execution_count": 0,
      "outputs": [
        {
          "output_type": "display_data",
          "data": {
            "image/png": "[encoded data removed]",
            "text/plain": [
              "<Figure size 576x216 with 10 Axes>"
            ]
          },
          "metadata": {
            "tags": []
          }
        }
      ]
    },
    {
      "cell_type": "code",
      "metadata": {
        "id": "bmfsk76-fadV",
        "colab_type": "code",
        "colab": {}
      },
      "source": [
        "def plot_model_history(model_history):\n",
        "    fig, axs = plt.subplots(1,2,figsize=(15,5))\n",
        "    # summarize history for accuracy\n",
        "    axs[0].plot(range(1,len(model_history.history['acc'])+1),model_history.history['acc'])\n",
        "    axs[0].plot(range(1,len(model_history.history['val_acc'])+1),model_history.history['val_acc'])\n",
        "    axs[0].set_title('Model Accuracy')\n",
        "    axs[0].set_ylabel('Accuracy')\n",
        "    axs[0].set_xlabel('Epoch')\n",
        "    axs[0].set_xticks(np.arange(1,len(model_history.history['acc'])+1),len(model_history.history['acc'])/10)\n",
        "    axs[0].legend(['train', 'val'], loc='best')\n",
        "    # summarize history for loss\n",
        "    axs[1].plot(range(1,len(model_history.history['loss'])+1),model_history.history['loss'])\n",
        "    axs[1].plot(range(1,len(model_history.history['val_loss'])+1),model_history.history['val_loss'])\n",
        "    axs[1].set_title('Model Loss')\n",
        "    axs[1].set_ylabel('Loss')\n",
        "    axs[1].set_xlabel('Epoch')\n",
        "    axs[1].set_xticks(np.arange(1,len(model_history.history['loss'])+1),len(model_history.history['loss'])/10)\n",
        "    axs[1].legend(['train', 'val'], loc='best')\n",
        "    plt.show()"
      ],
      "execution_count": 0,
      "outputs": []
    },
    {
      "cell_type": "markdown",
      "metadata": {
        "id": "GIWjip6USHQ5",
        "colab_type": "text"
      },
      "source": [
        "#### EXPLANATION\n",
        "\n",
        "-  It predicts test results and take the maximum index value and so it means model predicted that index category.\n",
        "-  Equate the results, sum it, divide and print the accuracy."
      ]
    },
    {
      "cell_type": "code",
      "metadata": {
        "id": "YJMT4rjgfdZz",
        "colab_type": "code",
        "colab": {}
      },
      "source": [
        "def accuracy(test_x, test_y, model):\n",
        "    result = model.predict(test_x)\n",
        "    predicted_class = np.argmax(result, axis=1)\n",
        "    true_class = np.argmax(test_y, axis=1)\n",
        "    num_correct = np.sum(predicted_class == true_class) \n",
        "    accuracy = float(num_correct)/result.shape[0]\n",
        "    return (accuracy * 100)"
      ],
      "execution_count": 0,
      "outputs": []
    },
    {
      "cell_type": "code",
      "metadata": {
        "id": "T5c5nDvxm6zR",
        "colab_type": "code",
        "colab": {}
      },
      "source": [
        "train_features = train_features.astype('float32')/255\n",
        "test_features = test_features.astype('float32')/255\n",
        "# convert class labels to binary class labels\n",
        "train_labels = np_utils.to_categorical(train_labels, num_classes)\n",
        "test_labels = np_utils.to_categorical(test_labels, num_classes)"
      ],
      "execution_count": 0,
      "outputs": []
    },
    {
      "cell_type": "markdown",
      "metadata": {
        "id": "7nRtNRwGSQ5I",
        "colab_type": "text"
      },
      "source": [
        "#### EXPLANATION\n",
        "-  It usually reduce the resolution by half and increases the channels by four times, used while concatenate."
      ]
    },
    {
      "cell_type": "code",
      "metadata": {
        "id": "dJwAnT1HFn4E",
        "colab_type": "code",
        "colab": {}
      },
      "source": [
        "def space_to_depth_x2(x):\n",
        "    return tf.space_to_depth(x, block_size=2)"
      ],
      "execution_count": 0,
      "outputs": []
    },
    {
      "cell_type": "code",
      "metadata": {
        "id": "fV0m34q-GFvg",
        "colab_type": "code",
        "outputId": "4c2df017-dc87-49b6-b181-81da0e048ffe",
        "colab": {
          "base_uri": "https://localhost:8080/",
          "height": 224
        }
      },
      "source": [
        "input = Input(shape=(img_rows,img_cols,img_channels,))\n",
        "\n",
        "### ===========================Normal Convolution=============================================\n",
        "\n",
        "#Layer 1\n",
        "layer1 = Conv2D(32,(3,3),strides=(1,1),name='conv_1',border_mode='same',use_bias=False)(input)\n",
        "layer1 = BatchNormalization(name='norm_1')(layer1)\n",
        "layer1 = Activation('relu')(layer1)\n",
        "layer1 = Dropout(0.1)(layer1)\n",
        "\n",
        "### ========================================================================\n",
        "\n",
        "### ===========================SPATIALLY SEPARABLE / SEPARABLE ---> 3X1 THEN 1X3===============\n",
        "#Layer 2\n",
        "layer2 = BatchNormalization(name='norm_2')(layer1)\n",
        "layer2 = Conv2D(64, (3,1), strides=(1,1),name='conv_2',border_mode='same', use_bias=False)(layer2)\n",
        "layer2 = Activation('relu')(layer2)\n",
        "layer2 = Dropout(0.1)(layer2)\n",
        "\n",
        "# Layer 3\n",
        "layer3 = BatchNormalization(name='norm_3')(layer2)\n",
        "layer3 = Conv2D(128, (1,3), strides=(1,1),name='conv_3',border_mode='same', use_bias=False)(layer3)\n",
        "layer3 = Activation('relu')(layer3)\n",
        "layer3 = Dropout(0.1)(layer3)\n",
        "\n",
        "### ========================================================================\n",
        "\n",
        "### ===============================SAVING LAYER3 FOR CONCATENATING WITH FIRST GROUPED CONVOLUTION(3X3 AND 5X5)===\n",
        "skip_connection1 = layer3\n",
        "### ========================================================================\n",
        "\n",
        "############################TRANSITION BLOCK#############################\n",
        "\n",
        "bottleneck1 = Conv2D(10,(1,1),strides=(1,1),name='bottleneck1',border_mode='same',use_bias=False)(layer3)\n",
        "Maxpool1 = MaxPooling2D(pool_size=(2, 2))(bottleneck1)\n",
        "\n",
        "#########################################################\n",
        "\n",
        "### ===========================DEPTHWISE Convolution=============================================\n",
        "\n",
        "# Layer 4\n",
        "layer4 = BatchNormalization(name='norm_4')(Maxpool1)\n",
        "layer4 = SeparableConv2D(32, (3,3), strides=(1,1),name='conv_4',border_mode='same', use_bias=False)(layer4)\n",
        "layer4 = Activation('relu')(layer4)\n",
        "layer4 = Dropout(0.1)(layer4)\n",
        "\n",
        "### ========================================================================\n",
        "\n",
        "### ===========================FIRST GROUP Convolution AND CONCATENATION USING SAVED LAYER3=============================================\n",
        "\n",
        "# Layer 5\n",
        "layer5 = BatchNormalization(name='norm_5')(layer4)\n",
        "layer5 = Conv2D(64, (5,5), strides=(1,1),name='conv_5',border_mode='same', use_bias=False)(layer5)\n",
        "layer5 = Activation('relu')(layer5)\n",
        "layer5 = Dropout(0.1)(layer5)\n",
        "\n",
        "skip_connection_result1 = Conv2D(32, (1,1), strides=(1,1), padding='same', name='conv_skip1', use_bias=False)(skip_connection1)\n",
        "skip_connection_result1 = BatchNormalization(name='norm_6')(skip_connection_result1)\n",
        "skip_connection_result1 = Activation('relu')(skip_connection_result1)\n",
        "skip_connection_result1 = Lambda(space_to_depth_x2)(skip_connection_result1)\n",
        "\n",
        "layer6 = concatenate([skip_connection_result1, layer5])\n",
        "\n",
        "skip_connection2 = layer6 ####### --------------> SAVING LAYER6 FOR CONCATENATING WITH SECOND GROUP CONVOLUTION (3X3 AND DILATED 5X5)\n",
        "\n",
        "### ========================================================================\n",
        "\n",
        "############################TRANSITION BLOCK#############################\n",
        "\n",
        "#Maxpool\n",
        "bottleneck2 = Conv2D(10,(1,1),strides=(1,1),name='bottleneck2',border_mode='same',use_bias=False)(layer6)\n",
        "Maxpool2 = MaxPooling2D(pool_size=(2, 2))(bottleneck2)\n",
        "\n",
        "#########################################################\n",
        "\n",
        "\n",
        "### ===========================SECOND GROUP Convolution AND CONCATENATION USING SAVED LAYER6=============================================\n",
        "\n",
        "# Layer 7\n",
        "layer7 = BatchNormalization(name='norm_7')(Maxpool2)\n",
        "layer7 = Conv2D(32, (3,3), strides=(1,1),name='conv_7',border_mode='same', use_bias=False, dilation_rate = 1)(layer7)\n",
        "layer7 = Activation('relu')(layer7)\n",
        "\n",
        "# Layer 8\n",
        "layer8 = BatchNormalization(name='norm_8')(layer7)\n",
        "layer8 = Conv2D(32, (3,3), strides=(1,1),name='conv_8',border_mode='same', use_bias=False,dilation_rate = 2)(layer8)\n",
        "layer8 = Activation('relu')(layer8)\n",
        "\n",
        "skip_connection_result2 = Conv2D(32, (1,1), strides=(1,1), padding='same', name='conv_9', use_bias=False)(skip_connection2)\n",
        "skip_connection_result2 = BatchNormalization(name='norm_9')(skip_connection_result2)\n",
        "skip_connection_result2 = Activation('relu')(skip_connection_result2)\n",
        "skip_connection_result2 = Lambda(space_to_depth_x2)(skip_connection_result2)\n",
        "\n",
        "### ========================================================================\n",
        "\n",
        "layer9 = concatenate([skip_connection_result2, layer8])\n",
        "\n",
        "layer10 = Conv2D(10,(8,8),strides=(1,1),name='conv_10',use_bias=False)(layer9)\n",
        "layer11 = Flatten()(layer10)\n",
        "\n",
        "output = Activation('softmax')(layer11)"
      ],
      "execution_count": 0,
      "outputs": [
        {
          "output_type": "stream",
          "text": [
            "/usr/local/lib/python3.6/dist-packages/ipykernel_launcher.py:4: UserWarning: Update your `Conv2D` call to the Keras 2 API: `Conv2D(32, (3, 3), strides=(1, 1), name=\"conv_1\", use_bias=False, padding=\"same\")`\n",
            "  after removing the cwd from sys.path.\n",
            "/usr/local/lib/python3.6/dist-packages/ipykernel_launcher.py:11: UserWarning: Update your `Conv2D` call to the Keras 2 API: `Conv2D(64, (3, 1), strides=(1, 1), name=\"conv_2\", use_bias=False, padding=\"same\")`\n",
            "  # This is added back by InteractiveShellApp.init_path()\n",
            "/usr/local/lib/python3.6/dist-packages/ipykernel_launcher.py:17: UserWarning: Update your `Conv2D` call to the Keras 2 API: `Conv2D(128, (1, 3), strides=(1, 1), name=\"conv_3\", use_bias=False, padding=\"same\")`\n",
            "/usr/local/lib/python3.6/dist-packages/ipykernel_launcher.py:23: UserWarning: Update your `Conv2D` call to the Keras 2 API: `Conv2D(10, (1, 1), strides=(1, 1), name=\"bottleneck1\", use_bias=False, padding=\"same\")`\n",
            "/usr/local/lib/python3.6/dist-packages/ipykernel_launcher.py:28: UserWarning: Update your `SeparableConv2D` call to the Keras 2 API: `SeparableConv2D(32, (3, 3), strides=(1, 1), name=\"conv_4\", use_bias=False, padding=\"same\")`\n",
            "/usr/local/lib/python3.6/dist-packages/ipykernel_launcher.py:34: UserWarning: Update your `Conv2D` call to the Keras 2 API: `Conv2D(64, (5, 5), strides=(1, 1), name=\"conv_5\", use_bias=False, padding=\"same\")`\n",
            "/usr/local/lib/python3.6/dist-packages/ipykernel_launcher.py:48: UserWarning: Update your `Conv2D` call to the Keras 2 API: `Conv2D(10, (1, 1), strides=(1, 1), name=\"bottleneck2\", use_bias=False, padding=\"same\")`\n",
            "/usr/local/lib/python3.6/dist-packages/ipykernel_launcher.py:53: UserWarning: Update your `Conv2D` call to the Keras 2 API: `Conv2D(32, (3, 3), strides=(1, 1), name=\"conv_7\", use_bias=False, dilation_rate=1, padding=\"same\")`\n",
            "/usr/local/lib/python3.6/dist-packages/ipykernel_launcher.py:58: UserWarning: Update your `Conv2D` call to the Keras 2 API: `Conv2D(32, (3, 3), strides=(1, 1), name=\"conv_8\", use_bias=False, dilation_rate=2, padding=\"same\")`\n"
          ],
          "name": "stderr"
        }
      ]
    },
    {
      "cell_type": "code",
      "metadata": {
        "id": "_gXJ4-XPrY6r",
        "colab_type": "code",
        "outputId": "83f98ccf-ca8b-4813-bbc1-672168f46c10",
        "colab": {
          "base_uri": "https://localhost:8080/",
          "height": 1666
        }
      },
      "source": [
        "model = Model(inputs=[input], outputs=[output])\n",
        "model.summary()"
      ],
      "execution_count": 0,
      "outputs": [
        {
          "output_type": "stream",
          "text": [
            "__________________________________________________________________________________________________\n",
            "Layer (type)                    Output Shape         Param #     Connected to                     \n",
            "==================================================================================================\n",
            "input_16 (InputLayer)           (None, 32, 32, 3)    0                                            \n",
            "__________________________________________________________________________________________________\n",
            "conv_1 (Conv2D)                 (None, 32, 32, 32)   864         input_16[0][0]                   \n",
            "__________________________________________________________________________________________________\n",
            "norm_1 (BatchNormalization)     (None, 32, 32, 32)   128         conv_1[0][0]                     \n",
            "__________________________________________________________________________________________________\n",
            "activation_136 (Activation)     (None, 32, 32, 32)   0           norm_1[0][0]                     \n",
            "__________________________________________________________________________________________________\n",
            "dropout_28 (Dropout)            (None, 32, 32, 32)   0           activation_136[0][0]             \n",
            "__________________________________________________________________________________________________\n",
            "norm_2 (BatchNormalization)     (None, 32, 32, 32)   128         dropout_28[0][0]                 \n",
            "__________________________________________________________________________________________________\n",
            "conv_2 (Conv2D)                 (None, 32, 32, 64)   6144        norm_2[0][0]                     \n",
            "__________________________________________________________________________________________________\n",
            "activation_137 (Activation)     (None, 32, 32, 64)   0           conv_2[0][0]                     \n",
            "__________________________________________________________________________________________________\n",
            "dropout_29 (Dropout)            (None, 32, 32, 64)   0           activation_137[0][0]             \n",
            "__________________________________________________________________________________________________\n",
            "norm_3 (BatchNormalization)     (None, 32, 32, 64)   256         dropout_29[0][0]                 \n",
            "__________________________________________________________________________________________________\n",
            "conv_3 (Conv2D)                 (None, 32, 32, 128)  24576       norm_3[0][0]                     \n",
            "__________________________________________________________________________________________________\n",
            "activation_138 (Activation)     (None, 32, 32, 128)  0           conv_3[0][0]                     \n",
            "__________________________________________________________________________________________________\n",
            "dropout_30 (Dropout)            (None, 32, 32, 128)  0           activation_138[0][0]             \n",
            "__________________________________________________________________________________________________\n",
            "bottleneck1 (Conv2D)            (None, 32, 32, 10)   1280        dropout_30[0][0]                 \n",
            "__________________________________________________________________________________________________\n",
            "max_pooling2d_30 (MaxPooling2D) (None, 16, 16, 10)   0           bottleneck1[0][0]                \n",
            "__________________________________________________________________________________________________\n",
            "norm_4 (BatchNormalization)     (None, 16, 16, 10)   40          max_pooling2d_30[0][0]           \n",
            "__________________________________________________________________________________________________\n",
            "conv_4 (SeparableConv2D)        (None, 16, 16, 32)   410         norm_4[0][0]                     \n",
            "__________________________________________________________________________________________________\n",
            "activation_139 (Activation)     (None, 16, 16, 32)   0           conv_4[0][0]                     \n",
            "__________________________________________________________________________________________________\n",
            "dropout_31 (Dropout)            (None, 16, 16, 32)   0           activation_139[0][0]             \n",
            "__________________________________________________________________________________________________\n",
            "conv_skip1 (Conv2D)             (None, 32, 32, 32)   4096        dropout_30[0][0]                 \n",
            "__________________________________________________________________________________________________\n",
            "norm_5 (BatchNormalization)     (None, 16, 16, 32)   128         dropout_31[0][0]                 \n",
            "__________________________________________________________________________________________________\n",
            "norm_6 (BatchNormalization)     (None, 32, 32, 32)   128         conv_skip1[0][0]                 \n",
            "__________________________________________________________________________________________________\n",
            "conv_5 (Conv2D)                 (None, 16, 16, 64)   51200       norm_5[0][0]                     \n",
            "__________________________________________________________________________________________________\n",
            "activation_141 (Activation)     (None, 32, 32, 32)   0           norm_6[0][0]                     \n",
            "__________________________________________________________________________________________________\n",
            "activation_140 (Activation)     (None, 16, 16, 64)   0           conv_5[0][0]                     \n",
            "__________________________________________________________________________________________________\n",
            "lambda_14 (Lambda)              (None, 16, 16, 128)  0           activation_141[0][0]             \n",
            "__________________________________________________________________________________________________\n",
            "dropout_32 (Dropout)            (None, 16, 16, 64)   0           activation_140[0][0]             \n",
            "__________________________________________________________________________________________________\n",
            "concatenate_11 (Concatenate)    (None, 16, 16, 192)  0           lambda_14[0][0]                  \n",
            "                                                                 dropout_32[0][0]                 \n",
            "__________________________________________________________________________________________________\n",
            "bottleneck2 (Conv2D)            (None, 16, 16, 10)   1920        concatenate_11[0][0]             \n",
            "__________________________________________________________________________________________________\n",
            "max_pooling2d_31 (MaxPooling2D) (None, 8, 8, 10)     0           bottleneck2[0][0]                \n",
            "__________________________________________________________________________________________________\n",
            "norm_7 (BatchNormalization)     (None, 8, 8, 10)     40          max_pooling2d_31[0][0]           \n",
            "__________________________________________________________________________________________________\n",
            "conv_7 (Conv2D)                 (None, 8, 8, 32)     2880        norm_7[0][0]                     \n",
            "__________________________________________________________________________________________________\n",
            "conv_9 (Conv2D)                 (None, 16, 16, 32)   6144        concatenate_11[0][0]             \n",
            "__________________________________________________________________________________________________\n",
            "activation_142 (Activation)     (None, 8, 8, 32)     0           conv_7[0][0]                     \n",
            "__________________________________________________________________________________________________\n",
            "norm_9 (BatchNormalization)     (None, 16, 16, 32)   128         conv_9[0][0]                     \n",
            "__________________________________________________________________________________________________\n",
            "norm_8 (BatchNormalization)     (None, 8, 8, 32)     128         activation_142[0][0]             \n",
            "__________________________________________________________________________________________________\n",
            "activation_144 (Activation)     (None, 16, 16, 32)   0           norm_9[0][0]                     \n",
            "__________________________________________________________________________________________________\n",
            "conv_8 (Conv2D)                 (None, 8, 8, 32)     9216        norm_8[0][0]                     \n",
            "__________________________________________________________________________________________________\n",
            "lambda_15 (Lambda)              (None, 8, 8, 128)    0           activation_144[0][0]             \n",
            "__________________________________________________________________________________________________\n",
            "activation_143 (Activation)     (None, 8, 8, 32)     0           conv_8[0][0]                     \n",
            "__________________________________________________________________________________________________\n",
            "concatenate_12 (Concatenate)    (None, 8, 8, 160)    0           lambda_15[0][0]                  \n",
            "                                                                 activation_143[0][0]             \n",
            "__________________________________________________________________________________________________\n",
            "conv_10 (Conv2D)                (None, 1, 1, 10)     102400      concatenate_12[0][0]             \n",
            "__________________________________________________________________________________________________\n",
            "flatten_11 (Flatten)            (None, 10)           0           conv_10[0][0]                    \n",
            "__________________________________________________________________________________________________\n",
            "activation_145 (Activation)     (None, 10)           0           flatten_11[0][0]                 \n",
            "==================================================================================================\n",
            "Total params: 212,234\n",
            "Trainable params: 211,682\n",
            "Non-trainable params: 552\n",
            "__________________________________________________________________________________________________\n"
          ],
          "name": "stdout"
        }
      ]
    },
    {
      "cell_type": "code",
      "metadata": {
        "id": "qvuuwv-Wf4XJ",
        "colab_type": "code",
        "colab": {}
      },
      "source": [
        "model.compile(optimizer='adam', loss='categorical_crossentropy', metrics=['accuracy'])"
      ],
      "execution_count": 0,
      "outputs": []
    },
    {
      "cell_type": "code",
      "metadata": {
        "id": "5oK_V7WyfsXX",
        "colab_type": "code",
        "outputId": "b12ba532-b76c-4127-f857-4ec2962bdd51",
        "colab": {
          "base_uri": "https://localhost:8080/",
          "height": 2223
        }
      },
      "source": [
        "from keras.preprocessing.image import ImageDataGenerator\n",
        "\n",
        "datagen = ImageDataGenerator(zoom_range=0.0, \n",
        "                             horizontal_flip=False)\n",
        "\n",
        "\n",
        "# train the model\n",
        "start = time.time()\n",
        "# Train the model\n",
        "model_info = model.fit_generator(datagen.flow(train_features, train_labels, batch_size = 128),\n",
        "                                 samples_per_epoch = train_features.shape[0], nb_epoch = 50, \n",
        "                                 validation_data = (test_features, test_labels), verbose=1)\n",
        "end = time.time()\n",
        "print (\"Model took %0.2f seconds to train\"%(end - start))\n",
        "# plot model history\n",
        "plot_model_history(model_info)\n",
        "# compute test accuracy\n",
        "print (\"Accuracy on test data is: %0.2f\"%accuracy(test_features, test_labels, model))"
      ],
      "execution_count": 0,
      "outputs": [
        {
          "output_type": "stream",
          "text": [
            "WARNING:tensorflow:From /usr/local/lib/python3.6/dist-packages/tensorflow/python/ops/math_ops.py:3066: to_int32 (from tensorflow.python.ops.math_ops) is deprecated and will be removed in a future version.\n",
            "Instructions for updating:\n",
            "Use tf.cast instead.\n"
          ],
          "name": "stdout"
        },
        {
          "output_type": "stream",
          "text": [
            "/usr/local/lib/python3.6/dist-packages/ipykernel_launcher.py:12: UserWarning: The semantics of the Keras 2 argument `steps_per_epoch` is not the same as the Keras 1 argument `samples_per_epoch`. `steps_per_epoch` is the number of batches to draw from the generator at each epoch. Basically steps_per_epoch = samples_per_epoch/batch_size. Similarly `nb_val_samples`->`validation_steps` and `val_samples`->`steps` arguments have changed. Update your method calls accordingly.\n",
            "  if sys.path[0] == '':\n",
            "/usr/local/lib/python3.6/dist-packages/ipykernel_launcher.py:12: UserWarning: Update your `fit_generator` call to the Keras 2 API: `fit_generator(<keras_pre..., validation_data=(array([[[..., verbose=1, steps_per_epoch=390, epochs=50)`\n",
            "  if sys.path[0] == '':\n"
          ],
          "name": "stderr"
        },
        {
          "output_type": "stream",
          "text": [
            "Epoch 1/50\n",
            "390/390 [==============================] - 54s 138ms/step - loss: 1.4323 - acc: 0.4991 - val_loss: 1.1467 - val_acc: 0.5940\n",
            "Epoch 2/50\n",
            "390/390 [==============================] - 44s 112ms/step - loss: 0.9582 - acc: 0.6631 - val_loss: 1.1253 - val_acc: 0.6205\n",
            "Epoch 3/50\n",
            "390/390 [==============================] - 43s 111ms/step - loss: 0.7904 - acc: 0.7225 - val_loss: 0.8727 - val_acc: 0.6995\n",
            "Epoch 4/50\n",
            "390/390 [==============================] - 43s 111ms/step - loss: 0.6766 - acc: 0.7633 - val_loss: 0.8292 - val_acc: 0.7162\n",
            "Epoch 5/50\n",
            "390/390 [==============================] - 43s 111ms/step - loss: 0.5912 - acc: 0.7936 - val_loss: 0.7706 - val_acc: 0.7338\n",
            "Epoch 6/50\n",
            "390/390 [==============================] - 43s 111ms/step - loss: 0.5194 - acc: 0.8187 - val_loss: 0.7932 - val_acc: 0.7380\n",
            "Epoch 7/50\n",
            "390/390 [==============================] - 43s 111ms/step - loss: 0.4643 - acc: 0.8370 - val_loss: 0.7941 - val_acc: 0.7383\n",
            "Epoch 8/50\n",
            "390/390 [==============================] - 43s 111ms/step - loss: 0.4072 - acc: 0.8557 - val_loss: 0.8157 - val_acc: 0.7401\n",
            "Epoch 9/50\n",
            "390/390 [==============================] - 43s 111ms/step - loss: 0.3605 - acc: 0.8739 - val_loss: 0.8525 - val_acc: 0.7434\n",
            "Epoch 10/50\n",
            "390/390 [==============================] - 43s 111ms/step - loss: 0.3360 - acc: 0.8815 - val_loss: 0.8081 - val_acc: 0.7533\n",
            "Epoch 11/50\n",
            "390/390 [==============================] - 43s 111ms/step - loss: 0.2906 - acc: 0.8963 - val_loss: 0.8918 - val_acc: 0.7412\n",
            "Epoch 12/50\n",
            "390/390 [==============================] - 43s 111ms/step - loss: 0.2647 - acc: 0.9035 - val_loss: 0.9380 - val_acc: 0.7462\n",
            "Epoch 13/50\n",
            "390/390 [==============================] - 43s 111ms/step - loss: 0.2441 - acc: 0.9119 - val_loss: 0.9699 - val_acc: 0.7360\n",
            "Epoch 14/50\n",
            "390/390 [==============================] - 43s 111ms/step - loss: 0.2228 - acc: 0.9192 - val_loss: 0.9354 - val_acc: 0.7478\n",
            "Epoch 15/50\n",
            "390/390 [==============================] - 43s 111ms/step - loss: 0.1998 - acc: 0.9286 - val_loss: 0.9727 - val_acc: 0.7510\n",
            "Epoch 16/50\n",
            "390/390 [==============================] - 43s 111ms/step - loss: 0.1893 - acc: 0.9300 - val_loss: 0.9560 - val_acc: 0.7614\n",
            "Epoch 17/50\n",
            "390/390 [==============================] - 43s 111ms/step - loss: 0.1771 - acc: 0.9364 - val_loss: 0.9850 - val_acc: 0.7671\n",
            "Epoch 18/50\n",
            "390/390 [==============================] - 43s 111ms/step - loss: 0.1695 - acc: 0.9386 - val_loss: 1.0350 - val_acc: 0.7571\n",
            "Epoch 19/50\n",
            "390/390 [==============================] - 43s 111ms/step - loss: 0.1517 - acc: 0.9454 - val_loss: 1.0320 - val_acc: 0.7605\n",
            "Epoch 20/50\n",
            "390/390 [==============================] - 43s 111ms/step - loss: 0.1432 - acc: 0.9471 - val_loss: 1.1027 - val_acc: 0.7536\n",
            "Epoch 21/50\n",
            "390/390 [==============================] - 43s 111ms/step - loss: 0.1431 - acc: 0.9484 - val_loss: 1.0855 - val_acc: 0.7542\n",
            "Epoch 22/50\n",
            "390/390 [==============================] - 43s 111ms/step - loss: 0.1319 - acc: 0.9517 - val_loss: 1.1293 - val_acc: 0.7556\n",
            "Epoch 23/50\n",
            "390/390 [==============================] - 43s 111ms/step - loss: 0.1320 - acc: 0.9528 - val_loss: 1.1443 - val_acc: 0.7576\n",
            "Epoch 24/50\n",
            "390/390 [==============================] - 43s 111ms/step - loss: 0.1196 - acc: 0.9559 - val_loss: 1.2210 - val_acc: 0.7398\n",
            "Epoch 25/50\n",
            "390/390 [==============================] - 43s 111ms/step - loss: 0.1162 - acc: 0.9578 - val_loss: 1.1599 - val_acc: 0.7538\n",
            "Epoch 26/50\n",
            "390/390 [==============================] - 43s 111ms/step - loss: 0.1129 - acc: 0.9602 - val_loss: 1.1658 - val_acc: 0.7588\n",
            "Epoch 27/50\n",
            "390/390 [==============================] - 43s 111ms/step - loss: 0.1097 - acc: 0.9590 - val_loss: 1.2217 - val_acc: 0.7568\n",
            "Epoch 28/50\n",
            "390/390 [==============================] - 43s 111ms/step - loss: 0.1066 - acc: 0.9616 - val_loss: 1.2441 - val_acc: 0.7526\n",
            "Epoch 29/50\n",
            "390/390 [==============================] - 43s 111ms/step - loss: 0.1028 - acc: 0.9631 - val_loss: 1.2642 - val_acc: 0.7521\n",
            "Epoch 30/50\n",
            "390/390 [==============================] - 43s 111ms/step - loss: 0.0993 - acc: 0.9633 - val_loss: 1.2557 - val_acc: 0.7569\n",
            "Epoch 31/50\n",
            "390/390 [==============================] - 43s 111ms/step - loss: 0.0950 - acc: 0.9654 - val_loss: 1.3349 - val_acc: 0.7517\n",
            "Epoch 32/50\n",
            "390/390 [==============================] - 43s 111ms/step - loss: 0.0898 - acc: 0.9671 - val_loss: 1.3009 - val_acc: 0.7604\n",
            "Epoch 33/50\n",
            "390/390 [==============================] - 43s 111ms/step - loss: 0.0902 - acc: 0.9673 - val_loss: 1.2838 - val_acc: 0.7626\n",
            "Epoch 34/50\n",
            "390/390 [==============================] - 43s 111ms/step - loss: 0.0872 - acc: 0.9687 - val_loss: 1.3074 - val_acc: 0.7540\n",
            "Epoch 35/50\n",
            "390/390 [==============================] - 43s 111ms/step - loss: 0.0862 - acc: 0.9681 - val_loss: 1.2997 - val_acc: 0.7594\n",
            "Epoch 36/50\n",
            "390/390 [==============================] - 43s 111ms/step - loss: 0.0850 - acc: 0.9694 - val_loss: 1.3500 - val_acc: 0.7583\n",
            "Epoch 37/50\n",
            "390/390 [==============================] - 43s 111ms/step - loss: 0.0823 - acc: 0.9706 - val_loss: 1.4165 - val_acc: 0.7528\n",
            "Epoch 38/50\n",
            "390/390 [==============================] - 43s 111ms/step - loss: 0.0801 - acc: 0.9709 - val_loss: 1.4179 - val_acc: 0.7519\n",
            "Epoch 39/50\n",
            "390/390 [==============================] - 43s 111ms/step - loss: 0.0826 - acc: 0.9706 - val_loss: 1.3687 - val_acc: 0.7520\n",
            "Epoch 40/50\n",
            "390/390 [==============================] - 43s 111ms/step - loss: 0.0704 - acc: 0.9746 - val_loss: 1.3758 - val_acc: 0.7614\n",
            "Epoch 41/50\n",
            "390/390 [==============================] - 43s 111ms/step - loss: 0.0755 - acc: 0.9732 - val_loss: 1.4360 - val_acc: 0.7499\n",
            "Epoch 42/50\n",
            "390/390 [==============================] - 43s 111ms/step - loss: 0.0738 - acc: 0.9737 - val_loss: 1.4463 - val_acc: 0.7480\n",
            "Epoch 43/50\n",
            "390/390 [==============================] - 43s 111ms/step - loss: 0.0714 - acc: 0.9749 - val_loss: 1.4125 - val_acc: 0.7585\n",
            "Epoch 44/50\n",
            "390/390 [==============================] - 43s 111ms/step - loss: 0.0717 - acc: 0.9739 - val_loss: 1.4536 - val_acc: 0.7539\n",
            "Epoch 45/50\n",
            "390/390 [==============================] - 43s 111ms/step - loss: 0.0729 - acc: 0.9745 - val_loss: 1.4713 - val_acc: 0.7469\n",
            "Epoch 46/50\n",
            "390/390 [==============================] - 43s 111ms/step - loss: 0.0667 - acc: 0.9763 - val_loss: 1.4447 - val_acc: 0.7540\n",
            "Epoch 47/50\n",
            "390/390 [==============================] - 43s 111ms/step - loss: 0.0634 - acc: 0.9774 - val_loss: 1.5171 - val_acc: 0.7467\n",
            "Epoch 48/50\n",
            "390/390 [==============================] - 43s 111ms/step - loss: 0.0677 - acc: 0.9758 - val_loss: 1.5319 - val_acc: 0.7517\n",
            "Epoch 49/50\n",
            "390/390 [==============================] - 43s 111ms/step - loss: 0.0689 - acc: 0.9761 - val_loss: 1.4751 - val_acc: 0.7560\n",
            "Epoch 50/50\n",
            "390/390 [==============================] - 43s 111ms/step - loss: 0.0637 - acc: 0.9771 - val_loss: 1.4571 - val_acc: 0.7628\n",
            "Model took 2177.09 seconds to train\n"
          ],
          "name": "stdout"
        },
        {
          "output_type": "display_data",
          "data": {
            "image/png": "[encoded data removed]",
            "text/plain": [
              "<Figure size 1080x360 with 2 Axes>"
            ]
          },
          "metadata": {
            "tags": []
          }
        },
        {
          "output_type": "stream",
          "text": [
            "Accuracy on test data is: 76.28\n"
          ],
          "name": "stdout"
        }
      ]
    }
  ]
}