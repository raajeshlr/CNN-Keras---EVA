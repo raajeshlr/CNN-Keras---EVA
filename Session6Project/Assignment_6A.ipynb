{
  "nbformat": 4,
  "nbformat_minor": 0,
  "metadata": {
    "colab": {
      "name": "Assignment 6A.ipynb",
      "version": "0.3.2",
      "provenance": [],
      "collapsed_sections": []
    },
    "kernelspec": {
      "name": "python3",
      "display_name": "Python 3"
    },
    "accelerator": "GPU"
  },
  "cells": [
    {
      "cell_type": "markdown",
      "metadata": {
        "id": "JVMECRJvHXmw",
        "colab_type": "text"
      },
      "source": [
        "#### Executed the architecture as such for 100 Epochs.\n",
        "\n",
        "**Base** Training Accuracy :  **0.9186**\n",
        "\n",
        "**Improved** Training Accuracy : **0.92790**\n",
        "\n",
        "\n"
      ]
    },
    {
      "cell_type": "markdown",
      "metadata": {
        "id": "vrAFVLUgdyKD",
        "colab_type": "text"
      },
      "source": [
        "This is our usual import."
      ]
    },
    {
      "cell_type": "code",
      "metadata": {
        "id": "KkwXnw9OfHZl",
        "colab_type": "code",
        "outputId": "3a46e359-fec1-4e40-f0f9-99ad8a489310",
        "colab": {
          "base_uri": "https://localhost:8080/",
          "height": 34
        }
      },
      "source": [
        "from keras import backend as K\n",
        "import time\n",
        "import matplotlib.pyplot as plt\n",
        "import numpy as np\n",
        "% matplotlib inline\n",
        "np.random.seed(2017) \n",
        "from keras.models import Sequential\n",
        "from keras.layers.convolutional import Convolution2D, MaxPooling2D\n",
        "from keras.layers import Activation, Flatten, Dense, Dropout\n",
        "from keras.layers.normalization import BatchNormalization\n",
        "from keras.utils import np_utils"
      ],
      "execution_count": 0,
      "outputs": [
        {
          "output_type": "stream",
          "text": [
            "Using TensorFlow backend.\n"
          ],
          "name": "stderr"
        }
      ]
    },
    {
      "cell_type": "markdown",
      "metadata": {
        "id": "Ga7Up4Gofme1",
        "colab_type": "text"
      },
      "source": [
        "We now moved to cifar10 dataset - 10 classes, 50000 training samples, 10000 test samples."
      ]
    },
    {
      "cell_type": "code",
      "metadata": {
        "id": "NHpnoCHZfO8g",
        "colab_type": "code",
        "colab": {}
      },
      "source": [
        "from keras.datasets import cifar10\n",
        "(train_features, train_labels), (test_features, test_labels) = cifar10.load_data()\n",
        "num_train, img_channels, img_rows, img_cols =  train_features.shape\n",
        "num_test, _, _, _ =  test_features.shape\n",
        "num_classes = len(np.unique(train_labels))"
      ],
      "execution_count": 0,
      "outputs": []
    },
    {
      "cell_type": "code",
      "metadata": {
        "id": "TZumrnpXQb1e",
        "colab_type": "code",
        "outputId": "2dc60cad-8b0c-46ec-be3a-c8c21e7dfa36",
        "colab": {
          "base_uri": "https://localhost:8080/",
          "height": 34
        }
      },
      "source": [
        "num_classes"
      ],
      "execution_count": 0,
      "outputs": [
        {
          "output_type": "execute_result",
          "data": {
            "text/plain": [
              "10"
            ]
          },
          "metadata": {
            "tags": []
          },
          "execution_count": 3
        }
      ]
    },
    {
      "cell_type": "code",
      "metadata": {
        "id": "ii6YeFTfSSGl",
        "colab_type": "code",
        "outputId": "f599fc61-ef49-4114-b919-222b255dfbf6",
        "colab": {
          "base_uri": "https://localhost:8080/",
          "height": 136
        }
      },
      "source": [
        "train_labels"
      ],
      "execution_count": 0,
      "outputs": [
        {
          "output_type": "execute_result",
          "data": {
            "text/plain": [
              "array([[6],\n",
              "       [9],\n",
              "       [9],\n",
              "       ...,\n",
              "       [9],\n",
              "       [1],\n",
              "       [1]], dtype=uint8)"
            ]
          },
          "metadata": {
            "tags": []
          },
          "execution_count": 4
        }
      ]
    },
    {
      "cell_type": "markdown",
      "metadata": {
        "id": "wwesqkTZduyk",
        "colab_type": "text"
      },
      "source": [
        "#### EXPLANATION\n",
        "\n",
        "-  We are looping through class by class and taking the index of one specific class in loop.\n",
        "-  Taking all those indexes training features and as features_idx.\n",
        "-  Picking random number and displaying that image and setting title."
      ]
    },
    {
      "cell_type": "code",
      "metadata": {
        "id": "14HyBUXdfS6G",
        "colab_type": "code",
        "outputId": "88d5ecbf-d135-4b70-fbd8-68fa9ab096d8",
        "colab": {
          "base_uri": "https://localhost:8080/",
          "height": 213
        }
      },
      "source": [
        "class_names = ['airplane','automobile','bird','cat','deer',\n",
        "               'dog','frog','horse','ship','truck']\n",
        "fig = plt.figure(figsize=(8,3))\n",
        "for i in range(num_classes):\n",
        "    ax = fig.add_subplot(2, 5, 1 + i, xticks=[], yticks=[])\n",
        "    idx = np.where(train_labels[:]==i)[0]\n",
        "    features_idx = train_features[idx,::]\n",
        "    img_num = np.random.randint(features_idx.shape[0])\n",
        "    im = features_idx[img_num]\n",
        "    ax.set_title(class_names[i])\n",
        "    plt.imshow(im)\n",
        "plt.show()"
      ],
      "execution_count": 0,
      "outputs": [
        {
          "output_type": "display_data",
          "data": {
            "image/png": "[encoded data removed]",
            "text/plain": [
              "<Figure size 576x216 with 10 Axes>"
            ]
          },
          "metadata": {
            "tags": []
          }
        }
      ]
    },
    {
      "cell_type": "code",
      "metadata": {
        "id": "zhfJTeM5R-qK",
        "colab_type": "code",
        "outputId": "15c99a4f-7796-4da7-d17c-70d299bd27f1",
        "colab": {
          "base_uri": "https://localhost:8080/",
          "height": 51
        }
      },
      "source": [
        "np.where(train_labels[:]==9)"
      ],
      "execution_count": 0,
      "outputs": [
        {
          "output_type": "execute_result",
          "data": {
            "text/plain": [
              "(array([    1,     2,    14, ..., 49963, 49971, 49997]),\n",
              " array([0, 0, 0, ..., 0, 0, 0]))"
            ]
          },
          "metadata": {
            "tags": []
          },
          "execution_count": 6
        }
      ]
    },
    {
      "cell_type": "code",
      "metadata": {
        "id": "G12KiJNCX_Qu",
        "colab_type": "code",
        "outputId": "651397e6-bd83-465f-aa2c-31d61829a8b9",
        "colab": {
          "base_uri": "https://localhost:8080/",
          "height": 850
        }
      },
      "source": [
        "train_features[3,::]"
      ],
      "execution_count": 0,
      "outputs": [
        {
          "output_type": "execute_result",
          "data": {
            "text/plain": [
              "array([[[ 28,  25,  10],\n",
              "        [ 37,  34,  19],\n",
              "        [ 38,  35,  20],\n",
              "        ...,\n",
              "        [ 76,  67,  39],\n",
              "        [ 81,  72,  43],\n",
              "        [ 85,  76,  47]],\n",
              "\n",
              "       [[ 33,  28,  13],\n",
              "        [ 34,  30,  14],\n",
              "        [ 32,  27,  12],\n",
              "        ...,\n",
              "        [ 95,  82,  55],\n",
              "        [ 96,  82,  56],\n",
              "        [ 85,  72,  45]],\n",
              "\n",
              "       [[ 39,  32,  15],\n",
              "        [ 40,  33,  17],\n",
              "        [ 57,  50,  33],\n",
              "        ...,\n",
              "        [ 93,  76,  52],\n",
              "        [107,  89,  66],\n",
              "        [ 95,  77,  54]],\n",
              "\n",
              "       ...,\n",
              "\n",
              "       [[ 83,  73,  52],\n",
              "        [ 87,  77,  56],\n",
              "        [ 84,  74,  52],\n",
              "        ...,\n",
              "        [ 99,  93,  70],\n",
              "        [ 90,  84,  61],\n",
              "        [ 81,  75,  52]],\n",
              "\n",
              "       [[ 88,  72,  51],\n",
              "        [ 90,  74,  52],\n",
              "        [ 93,  77,  56],\n",
              "        ...,\n",
              "        [ 80,  74,  53],\n",
              "        [ 76,  70,  49],\n",
              "        [ 82,  76,  55]],\n",
              "\n",
              "       [[ 97,  78,  56],\n",
              "        [ 94,  75,  53],\n",
              "        [ 93,  75,  53],\n",
              "        ...,\n",
              "        [ 54,  47,  28],\n",
              "        [ 63,  56,  37],\n",
              "        [ 72,  65,  46]]], dtype=uint8)"
            ]
          },
          "metadata": {
            "tags": []
          },
          "execution_count": 7
        }
      ]
    },
    {
      "cell_type": "code",
      "metadata": {
        "id": "HYgijcfeTcu1",
        "colab_type": "code",
        "outputId": "035f88c7-c729-4bd0-b280-5a7c9678233c",
        "colab": {
          "base_uri": "https://localhost:8080/",
          "height": 34
        }
      },
      "source": [
        "len(idx)"
      ],
      "execution_count": 0,
      "outputs": [
        {
          "output_type": "execute_result",
          "data": {
            "text/plain": [
              "5000"
            ]
          },
          "metadata": {
            "tags": []
          },
          "execution_count": 8
        }
      ]
    },
    {
      "cell_type": "code",
      "metadata": {
        "id": "GJ37kf2MR-ns",
        "colab_type": "code",
        "outputId": "e2a0dc9c-9ec5-4e26-881f-d91d29ee9925",
        "colab": {
          "base_uri": "https://localhost:8080/",
          "height": 34
        }
      },
      "source": [
        "train_features[idx,::].shape[0]"
      ],
      "execution_count": 0,
      "outputs": [
        {
          "output_type": "execute_result",
          "data": {
            "text/plain": [
              "5000"
            ]
          },
          "metadata": {
            "tags": []
          },
          "execution_count": 9
        }
      ]
    },
    {
      "cell_type": "code",
      "metadata": {
        "id": "bmfsk76-fadV",
        "colab_type": "code",
        "colab": {}
      },
      "source": [
        "def plot_model_history(model_history):\n",
        "    fig, axs = plt.subplots(1,2,figsize=(15,5))\n",
        "    # summarize history for accuracy\n",
        "    axs[0].plot(range(1,len(model_history.history['acc'])+1),model_history.history['acc'])\n",
        "    axs[0].plot(range(1,len(model_history.history['val_acc'])+1),model_history.history['val_acc'])\n",
        "    axs[0].set_title('Model Accuracy')\n",
        "    axs[0].set_ylabel('Accuracy')\n",
        "    axs[0].set_xlabel('Epoch')\n",
        "    axs[0].set_xticks(np.arange(1,len(model_history.history['acc'])+1),len(model_history.history['acc'])/10)\n",
        "    axs[0].legend(['train', 'val'], loc='best')\n",
        "    # summarize history for loss\n",
        "    axs[1].plot(range(1,len(model_history.history['loss'])+1),model_history.history['loss'])\n",
        "    axs[1].plot(range(1,len(model_history.history['val_loss'])+1),model_history.history['val_loss'])\n",
        "    axs[1].set_title('Model Loss')\n",
        "    axs[1].set_ylabel('Loss')\n",
        "    axs[1].set_xlabel('Epoch')\n",
        "    axs[1].set_xticks(np.arange(1,len(model_history.history['loss'])+1),len(model_history.history['loss'])/10)\n",
        "    axs[1].legend(['train', 'val'], loc='best')\n",
        "    plt.show()"
      ],
      "execution_count": 0,
      "outputs": []
    },
    {
      "cell_type": "markdown",
      "metadata": {
        "id": "vCAS0IXAhnkX",
        "colab_type": "text"
      },
      "source": [
        "#### EXPLANATION\n",
        "\n",
        "-  It predicts test results and take the maximum index value and so it means model predicted that index category.\n",
        "-  Equate the results, sum it, divide and print the accuracy."
      ]
    },
    {
      "cell_type": "code",
      "metadata": {
        "id": "YJMT4rjgfdZz",
        "colab_type": "code",
        "colab": {}
      },
      "source": [
        "def accuracy(test_x, test_y, model):\n",
        "    result = model.predict(test_x)\n",
        "    predicted_class = np.argmax(result, axis=1)\n",
        "    true_class = np.argmax(test_y, axis=1)\n",
        "    num_correct = np.sum(predicted_class == true_class) \n",
        "    accuracy = float(num_correct)/result.shape[0]\n",
        "    return (accuracy * 100)"
      ],
      "execution_count": 0,
      "outputs": []
    },
    {
      "cell_type": "code",
      "metadata": {
        "id": "T5c5nDvxm6zR",
        "colab_type": "code",
        "colab": {}
      },
      "source": [
        "train_features = train_features.astype('float32')/255\n",
        "test_features = test_features.astype('float32')/255\n",
        "# convert class labels to binary class labels\n",
        "train_labels = np_utils.to_categorical(train_labels, num_classes)\n",
        "test_labels = np_utils.to_categorical(test_labels, num_classes)"
      ],
      "execution_count": 0,
      "outputs": []
    },
    {
      "cell_type": "code",
      "metadata": {
        "id": "cSOb2lkJfhVq",
        "colab_type": "code",
        "outputId": "728f7523-242c-4c3a-f7b9-892a58f80b3d",
        "colab": {
          "base_uri": "https://localhost:8080/",
          "height": 343
        }
      },
      "source": [
        "# Define the model\n",
        "model = Sequential()\n",
        "model.add(Convolution2D(48, 3, 3, border_mode='same', input_shape=(32, 32, 3)))\n",
        "model.add(Activation('relu'))\n",
        "model.add(Convolution2D(48, 3, 3))\n",
        "model.add(Activation('relu'))\n",
        "model.add(MaxPooling2D(pool_size=(2, 2)))\n",
        "model.add(Dropout(0.25))\n",
        "model.add(Convolution2D(96, 3, 3, border_mode='same'))\n",
        "model.add(Activation('relu'))\n",
        "model.add(Convolution2D(96, 3, 3))\n",
        "model.add(Activation('relu'))\n",
        "model.add(MaxPooling2D(pool_size=(2, 2)))\n",
        "model.add(Dropout(0.25))\n",
        "model.add(Convolution2D(192, 3, 3, border_mode='same'))\n",
        "model.add(Activation('relu'))\n",
        "model.add(Convolution2D(192, 3, 3))\n",
        "model.add(Activation('relu'))\n",
        "model.add(MaxPooling2D(pool_size=(2, 2)))\n",
        "model.add(Dropout(0.25))\n",
        "model.add(Flatten())\n",
        "model.add(Dense(512))\n",
        "model.add(Activation('relu'))\n",
        "model.add(Dropout(0.5))\n",
        "model.add(Dense(256))\n",
        "model.add(Activation('relu'))\n",
        "model.add(Dropout(0.5))\n",
        "model.add(Dense(num_classes, activation='softmax'))\n",
        "# Compile the model\n",
        "model.compile(optimizer='adam', loss='categorical_crossentropy', metrics=['accuracy'])\n"
      ],
      "execution_count": 0,
      "outputs": [
        {
          "output_type": "stream",
          "text": [
            "WARNING:tensorflow:From /usr/local/lib/python3.6/dist-packages/tensorflow/python/framework/op_def_library.py:263: colocate_with (from tensorflow.python.framework.ops) is deprecated and will be removed in a future version.\n",
            "Instructions for updating:\n",
            "Colocations handled automatically by placer.\n",
            "WARNING:tensorflow:From /usr/local/lib/python3.6/dist-packages/keras/backend/tensorflow_backend.py:3445: calling dropout (from tensorflow.python.ops.nn_ops) with keep_prob is deprecated and will be removed in a future version.\n",
            "Instructions for updating:\n",
            "Please use `rate` instead of `keep_prob`. Rate should be set to `rate = 1 - keep_prob`.\n"
          ],
          "name": "stdout"
        },
        {
          "output_type": "stream",
          "text": [
            "/usr/local/lib/python3.6/dist-packages/ipykernel_launcher.py:2: UserWarning: Update your `Conv2D` call to the Keras 2 API: `Conv2D(48, (3, 3), input_shape=(32, 32, 3..., padding=\"same\")`\n",
            "  \n",
            "/usr/local/lib/python3.6/dist-packages/ipykernel_launcher.py:4: UserWarning: Update your `Conv2D` call to the Keras 2 API: `Conv2D(48, (3, 3))`\n",
            "  after removing the cwd from sys.path.\n",
            "/usr/local/lib/python3.6/dist-packages/ipykernel_launcher.py:8: UserWarning: Update your `Conv2D` call to the Keras 2 API: `Conv2D(96, (3, 3), padding=\"same\")`\n",
            "  \n",
            "/usr/local/lib/python3.6/dist-packages/ipykernel_launcher.py:10: UserWarning: Update your `Conv2D` call to the Keras 2 API: `Conv2D(96, (3, 3))`\n",
            "  # Remove the CWD from sys.path while we load stuff.\n",
            "/usr/local/lib/python3.6/dist-packages/ipykernel_launcher.py:14: UserWarning: Update your `Conv2D` call to the Keras 2 API: `Conv2D(192, (3, 3), padding=\"same\")`\n",
            "  \n",
            "/usr/local/lib/python3.6/dist-packages/ipykernel_launcher.py:16: UserWarning: Update your `Conv2D` call to the Keras 2 API: `Conv2D(192, (3, 3))`\n",
            "  app.launch_new_instance()\n"
          ],
          "name": "stderr"
        }
      ]
    },
    {
      "cell_type": "code",
      "metadata": {
        "id": "wvVs5tC8mR6Q",
        "colab_type": "code",
        "outputId": "f5d2b9fa-954f-45c1-ec2f-2c729d54c4b8",
        "colab": {
          "base_uri": "https://localhost:8080/",
          "height": 1020
        }
      },
      "source": [
        "model.summary()"
      ],
      "execution_count": 0,
      "outputs": [
        {
          "output_type": "stream",
          "text": [
            "_________________________________________________________________\n",
            "Layer (type)                 Output Shape              Param #   \n",
            "=================================================================\n",
            "conv2d_1 (Conv2D)            (None, 32, 32, 48)        1344      \n",
            "_________________________________________________________________\n",
            "activation_1 (Activation)    (None, 32, 32, 48)        0         \n",
            "_________________________________________________________________\n",
            "conv2d_2 (Conv2D)            (None, 30, 30, 48)        20784     \n",
            "_________________________________________________________________\n",
            "activation_2 (Activation)    (None, 30, 30, 48)        0         \n",
            "_________________________________________________________________\n",
            "max_pooling2d_1 (MaxPooling2 (None, 15, 15, 48)        0         \n",
            "_________________________________________________________________\n",
            "dropout_1 (Dropout)          (None, 15, 15, 48)        0         \n",
            "_________________________________________________________________\n",
            "conv2d_3 (Conv2D)            (None, 15, 15, 96)        41568     \n",
            "_________________________________________________________________\n",
            "activation_3 (Activation)    (None, 15, 15, 96)        0         \n",
            "_________________________________________________________________\n",
            "conv2d_4 (Conv2D)            (None, 13, 13, 96)        83040     \n",
            "_________________________________________________________________\n",
            "activation_4 (Activation)    (None, 13, 13, 96)        0         \n",
            "_________________________________________________________________\n",
            "max_pooling2d_2 (MaxPooling2 (None, 6, 6, 96)          0         \n",
            "_________________________________________________________________\n",
            "dropout_2 (Dropout)          (None, 6, 6, 96)          0         \n",
            "_________________________________________________________________\n",
            "conv2d_5 (Conv2D)            (None, 6, 6, 192)         166080    \n",
            "_________________________________________________________________\n",
            "activation_5 (Activation)    (None, 6, 6, 192)         0         \n",
            "_________________________________________________________________\n",
            "conv2d_6 (Conv2D)            (None, 4, 4, 192)         331968    \n",
            "_________________________________________________________________\n",
            "activation_6 (Activation)    (None, 4, 4, 192)         0         \n",
            "_________________________________________________________________\n",
            "max_pooling2d_3 (MaxPooling2 (None, 2, 2, 192)         0         \n",
            "_________________________________________________________________\n",
            "dropout_3 (Dropout)          (None, 2, 2, 192)         0         \n",
            "_________________________________________________________________\n",
            "flatten_1 (Flatten)          (None, 768)               0         \n",
            "_________________________________________________________________\n",
            "dense_1 (Dense)              (None, 512)               393728    \n",
            "_________________________________________________________________\n",
            "activation_7 (Activation)    (None, 512)               0         \n",
            "_________________________________________________________________\n",
            "dropout_4 (Dropout)          (None, 512)               0         \n",
            "_________________________________________________________________\n",
            "dense_2 (Dense)              (None, 256)               131328    \n",
            "_________________________________________________________________\n",
            "activation_8 (Activation)    (None, 256)               0         \n",
            "_________________________________________________________________\n",
            "dropout_5 (Dropout)          (None, 256)               0         \n",
            "_________________________________________________________________\n",
            "dense_3 (Dense)              (None, 10)                2570      \n",
            "=================================================================\n",
            "Total params: 1,172,410\n",
            "Trainable params: 1,172,410\n",
            "Non-trainable params: 0\n",
            "_________________________________________________________________\n"
          ],
          "name": "stdout"
        }
      ]
    },
    {
      "cell_type": "code",
      "metadata": {
        "id": "5oK_V7WyfsXX",
        "colab_type": "code",
        "outputId": "82499950-85a9-4225-b091-6272eb03e740",
        "colab": {
          "base_uri": "https://localhost:8080/",
          "height": 3923
        }
      },
      "source": [
        "from keras.preprocessing.image import ImageDataGenerator\n",
        "\n",
        "datagen = ImageDataGenerator(zoom_range=0.0, \n",
        "                             horizontal_flip=False)\n",
        "\n",
        "\n",
        "# train the model\n",
        "start = time.time()\n",
        "# Train the model\n",
        "model_info = model.fit_generator(datagen.flow(train_features, train_labels, batch_size = 128),\n",
        "                                 samples_per_epoch = train_features.shape[0], nb_epoch = 100, \n",
        "                                 validation_data = (test_features, test_labels), verbose=1)\n",
        "end = time.time()\n",
        "print (\"Model took %0.2f seconds to train\"%(end - start))\n",
        "# plot model history\n",
        "plot_model_history(model_info)\n",
        "# compute test accuracy\n",
        "print (\"Accuracy on test data is: %0.2f\"%accuracy(test_features, test_labels, model))"
      ],
      "execution_count": 0,
      "outputs": [
        {
          "output_type": "stream",
          "text": [
            "WARNING:tensorflow:From /usr/local/lib/python3.6/dist-packages/tensorflow/python/ops/math_ops.py:3066: to_int32 (from tensorflow.python.ops.math_ops) is deprecated and will be removed in a future version.\n",
            "Instructions for updating:\n",
            "Use tf.cast instead.\n"
          ],
          "name": "stdout"
        },
        {
          "output_type": "stream",
          "text": [
            "/usr/local/lib/python3.6/dist-packages/ipykernel_launcher.py:12: UserWarning: The semantics of the Keras 2 argument `steps_per_epoch` is not the same as the Keras 1 argument `samples_per_epoch`. `steps_per_epoch` is the number of batches to draw from the generator at each epoch. Basically steps_per_epoch = samples_per_epoch/batch_size. Similarly `nb_val_samples`->`validation_steps` and `val_samples`->`steps` arguments have changed. Update your method calls accordingly.\n",
            "  if sys.path[0] == '':\n",
            "/usr/local/lib/python3.6/dist-packages/ipykernel_launcher.py:12: UserWarning: Update your `fit_generator` call to the Keras 2 API: `fit_generator(<keras_pre..., validation_data=(array([[[..., verbose=1, steps_per_epoch=390, epochs=100)`\n",
            "  if sys.path[0] == '':\n"
          ],
          "name": "stderr"
        },
        {
          "output_type": "stream",
          "text": [
            "Epoch 1/100\n",
            "390/390 [==============================] - 26s 67ms/step - loss: 1.8600 - acc: 0.2892 - val_loss: 1.4714 - val_acc: 0.4509\n",
            "Epoch 2/100\n",
            "390/390 [==============================] - 20s 52ms/step - loss: 1.3537 - acc: 0.5062 - val_loss: 1.1504 - val_acc: 0.5851\n",
            "Epoch 3/100\n",
            "390/390 [==============================] - 20s 52ms/step - loss: 1.1358 - acc: 0.5978 - val_loss: 1.0032 - val_acc: 0.6403\n",
            "Epoch 4/100\n",
            "390/390 [==============================] - 20s 52ms/step - loss: 0.9809 - acc: 0.6564 - val_loss: 0.9121 - val_acc: 0.6818\n",
            "Epoch 5/100\n",
            "390/390 [==============================] - 20s 51ms/step - loss: 0.8884 - acc: 0.6908 - val_loss: 0.7933 - val_acc: 0.7300\n",
            "Epoch 6/100\n",
            "390/390 [==============================] - 20s 51ms/step - loss: 0.8132 - acc: 0.7206 - val_loss: 0.7647 - val_acc: 0.7369\n",
            "Epoch 7/100\n",
            "390/390 [==============================] - 20s 52ms/step - loss: 0.7590 - acc: 0.7364 - val_loss: 0.7027 - val_acc: 0.7536\n",
            "Epoch 8/100\n",
            "390/390 [==============================] - 20s 51ms/step - loss: 0.7134 - acc: 0.7550 - val_loss: 0.6714 - val_acc: 0.7695\n",
            "Epoch 9/100\n",
            "390/390 [==============================] - 20s 52ms/step - loss: 0.6736 - acc: 0.7693 - val_loss: 0.6566 - val_acc: 0.7784\n",
            "Epoch 10/100\n",
            "390/390 [==============================] - 20s 51ms/step - loss: 0.6499 - acc: 0.7792 - val_loss: 0.6232 - val_acc: 0.7870\n",
            "Epoch 11/100\n",
            "390/390 [==============================] - 20s 52ms/step - loss: 0.6206 - acc: 0.7853 - val_loss: 0.6203 - val_acc: 0.7863\n",
            "Epoch 12/100\n",
            "390/390 [==============================] - 20s 52ms/step - loss: 0.5994 - acc: 0.7951 - val_loss: 0.6110 - val_acc: 0.7944\n",
            "Epoch 13/100\n",
            "390/390 [==============================] - 20s 52ms/step - loss: 0.5770 - acc: 0.8046 - val_loss: 0.6108 - val_acc: 0.7973\n",
            "Epoch 14/100\n",
            "390/390 [==============================] - 20s 52ms/step - loss: 0.5568 - acc: 0.8110 - val_loss: 0.6249 - val_acc: 0.7921\n",
            "Epoch 15/100\n",
            "390/390 [==============================] - 20s 52ms/step - loss: 0.5382 - acc: 0.8166 - val_loss: 0.5827 - val_acc: 0.8054\n",
            "Epoch 16/100\n",
            "390/390 [==============================] - 20s 52ms/step - loss: 0.5254 - acc: 0.8230 - val_loss: 0.6026 - val_acc: 0.8016\n",
            "Epoch 17/100\n",
            "390/390 [==============================] - 20s 52ms/step - loss: 0.5100 - acc: 0.8266 - val_loss: 0.6389 - val_acc: 0.7934\n",
            "Epoch 18/100\n",
            "390/390 [==============================] - 20s 52ms/step - loss: 0.5014 - acc: 0.8306 - val_loss: 0.5822 - val_acc: 0.8063\n",
            "Epoch 19/100\n",
            "390/390 [==============================] - 20s 52ms/step - loss: 0.4884 - acc: 0.8328 - val_loss: 0.5697 - val_acc: 0.8157\n",
            "Epoch 20/100\n",
            "390/390 [==============================] - 20s 51ms/step - loss: 0.4811 - acc: 0.8341 - val_loss: 0.5735 - val_acc: 0.8115\n",
            "Epoch 21/100\n",
            "390/390 [==============================] - 20s 52ms/step - loss: 0.4704 - acc: 0.8395 - val_loss: 0.6035 - val_acc: 0.8020\n",
            "Epoch 22/100\n",
            "390/390 [==============================] - 20s 52ms/step - loss: 0.4639 - acc: 0.8410 - val_loss: 0.6162 - val_acc: 0.8003\n",
            "Epoch 23/100\n",
            "390/390 [==============================] - 20s 52ms/step - loss: 0.4542 - acc: 0.8454 - val_loss: 0.5888 - val_acc: 0.8092\n",
            "Epoch 24/100\n",
            "390/390 [==============================] - 20s 51ms/step - loss: 0.4459 - acc: 0.8477 - val_loss: 0.6001 - val_acc: 0.8079\n",
            "Epoch 25/100\n",
            "390/390 [==============================] - 20s 52ms/step - loss: 0.4387 - acc: 0.8488 - val_loss: 0.5992 - val_acc: 0.8075\n",
            "Epoch 26/100\n",
            "390/390 [==============================] - 20s 52ms/step - loss: 0.4215 - acc: 0.8544 - val_loss: 0.6010 - val_acc: 0.8124\n",
            "Epoch 27/100\n",
            "390/390 [==============================] - 20s 51ms/step - loss: 0.4272 - acc: 0.8539 - val_loss: 0.5991 - val_acc: 0.8110\n",
            "Epoch 28/100\n",
            "390/390 [==============================] - 20s 52ms/step - loss: 0.4133 - acc: 0.8588 - val_loss: 0.5990 - val_acc: 0.8059\n",
            "Epoch 29/100\n",
            "390/390 [==============================] - 20s 51ms/step - loss: 0.4114 - acc: 0.8591 - val_loss: 0.5722 - val_acc: 0.8148\n",
            "Epoch 30/100\n",
            "390/390 [==============================] - 20s 51ms/step - loss: 0.3954 - acc: 0.8651 - val_loss: 0.6010 - val_acc: 0.8130\n",
            "Epoch 31/100\n",
            "390/390 [==============================] - 20s 52ms/step - loss: 0.4048 - acc: 0.8626 - val_loss: 0.6007 - val_acc: 0.8163\n",
            "Epoch 32/100\n",
            "390/390 [==============================] - 20s 52ms/step - loss: 0.3874 - acc: 0.8666 - val_loss: 0.5604 - val_acc: 0.8219\n",
            "Epoch 33/100\n",
            "390/390 [==============================] - 20s 52ms/step - loss: 0.3847 - acc: 0.8713 - val_loss: 0.5608 - val_acc: 0.8229\n",
            "Epoch 34/100\n",
            "390/390 [==============================] - 20s 52ms/step - loss: 0.3834 - acc: 0.8704 - val_loss: 0.5584 - val_acc: 0.8216\n",
            "Epoch 35/100\n",
            "390/390 [==============================] - 20s 51ms/step - loss: 0.3676 - acc: 0.8752 - val_loss: 0.5796 - val_acc: 0.8186\n",
            "Epoch 36/100\n",
            "390/390 [==============================] - 20s 51ms/step - loss: 0.3733 - acc: 0.8741 - val_loss: 0.5547 - val_acc: 0.8229\n",
            "Epoch 37/100\n",
            "390/390 [==============================] - 20s 52ms/step - loss: 0.3740 - acc: 0.8746 - val_loss: 0.5735 - val_acc: 0.8261\n",
            "Epoch 38/100\n",
            "390/390 [==============================] - 20s 52ms/step - loss: 0.3666 - acc: 0.8777 - val_loss: 0.5654 - val_acc: 0.8231\n",
            "Epoch 39/100\n",
            "390/390 [==============================] - 20s 52ms/step - loss: 0.3568 - acc: 0.8796 - val_loss: 0.5893 - val_acc: 0.8227\n",
            "Epoch 40/100\n",
            "390/390 [==============================] - 20s 52ms/step - loss: 0.3582 - acc: 0.8797 - val_loss: 0.5846 - val_acc: 0.8203\n",
            "Epoch 41/100\n",
            "390/390 [==============================] - 20s 51ms/step - loss: 0.3503 - acc: 0.8825 - val_loss: 0.5734 - val_acc: 0.8236\n",
            "Epoch 42/100\n",
            "390/390 [==============================] - 20s 51ms/step - loss: 0.3535 - acc: 0.8809 - val_loss: 0.5890 - val_acc: 0.8189\n",
            "Epoch 43/100\n",
            "390/390 [==============================] - 20s 52ms/step - loss: 0.3445 - acc: 0.8840 - val_loss: 0.5899 - val_acc: 0.8190\n",
            "Epoch 44/100\n",
            "390/390 [==============================] - 20s 52ms/step - loss: 0.3406 - acc: 0.8838 - val_loss: 0.5805 - val_acc: 0.8195\n",
            "Epoch 45/100\n",
            "390/390 [==============================] - 20s 52ms/step - loss: 0.3365 - acc: 0.8882 - val_loss: 0.5822 - val_acc: 0.8261\n",
            "Epoch 46/100\n",
            "390/390 [==============================] - 20s 51ms/step - loss: 0.3393 - acc: 0.8873 - val_loss: 0.5818 - val_acc: 0.8220\n",
            "Epoch 47/100\n",
            "390/390 [==============================] - 20s 51ms/step - loss: 0.3325 - acc: 0.8890 - val_loss: 0.6278 - val_acc: 0.8089\n",
            "Epoch 48/100\n",
            "390/390 [==============================] - 20s 52ms/step - loss: 0.3404 - acc: 0.8861 - val_loss: 0.6090 - val_acc: 0.8273\n",
            "Epoch 49/100\n",
            "390/390 [==============================] - 20s 52ms/step - loss: 0.3318 - acc: 0.8904 - val_loss: 0.5866 - val_acc: 0.8253\n",
            "Epoch 50/100\n",
            "390/390 [==============================] - 20s 51ms/step - loss: 0.3216 - acc: 0.8922 - val_loss: 0.5819 - val_acc: 0.8293\n",
            "Epoch 51/100\n",
            "390/390 [==============================] - 20s 51ms/step - loss: 0.3266 - acc: 0.8904 - val_loss: 0.6186 - val_acc: 0.8214\n",
            "Epoch 52/100\n",
            "390/390 [==============================] - 20s 52ms/step - loss: 0.3202 - acc: 0.8940 - val_loss: 0.5851 - val_acc: 0.8267\n",
            "Epoch 53/100\n",
            "390/390 [==============================] - 20s 52ms/step - loss: 0.3245 - acc: 0.8930 - val_loss: 0.5689 - val_acc: 0.8278\n",
            "Epoch 54/100\n",
            "390/390 [==============================] - 20s 52ms/step - loss: 0.3105 - acc: 0.8968 - val_loss: 0.5760 - val_acc: 0.8290\n",
            "Epoch 55/100\n",
            "390/390 [==============================] - 20s 51ms/step - loss: 0.3141 - acc: 0.8958 - val_loss: 0.5871 - val_acc: 0.8280\n",
            "Epoch 56/100\n",
            "390/390 [==============================] - 20s 52ms/step - loss: 0.3133 - acc: 0.8953 - val_loss: 0.6003 - val_acc: 0.8263\n",
            "Epoch 57/100\n",
            "390/390 [==============================] - 20s 51ms/step - loss: 0.3135 - acc: 0.8966 - val_loss: 0.5526 - val_acc: 0.8376\n",
            "Epoch 58/100\n",
            "390/390 [==============================] - 20s 51ms/step - loss: 0.3132 - acc: 0.8963 - val_loss: 0.5936 - val_acc: 0.8265\n",
            "Epoch 59/100\n",
            "390/390 [==============================] - 20s 52ms/step - loss: 0.3092 - acc: 0.8981 - val_loss: 0.5877 - val_acc: 0.8309\n",
            "Epoch 60/100\n",
            "390/390 [==============================] - 20s 52ms/step - loss: 0.3048 - acc: 0.8988 - val_loss: 0.5703 - val_acc: 0.8254\n",
            "Epoch 61/100\n",
            "390/390 [==============================] - 20s 52ms/step - loss: 0.3105 - acc: 0.8989 - val_loss: 0.5935 - val_acc: 0.8289\n",
            "Epoch 62/100\n",
            "390/390 [==============================] - 20s 52ms/step - loss: 0.2954 - acc: 0.9023 - val_loss: 0.5929 - val_acc: 0.8347\n",
            "Epoch 63/100\n",
            "390/390 [==============================] - 20s 52ms/step - loss: 0.3037 - acc: 0.9001 - val_loss: 0.5963 - val_acc: 0.8293\n",
            "Epoch 64/100\n",
            "390/390 [==============================] - 20s 51ms/step - loss: 0.3040 - acc: 0.9008 - val_loss: 0.6092 - val_acc: 0.8238\n",
            "Epoch 65/100\n",
            "390/390 [==============================] - 20s 52ms/step - loss: 0.2929 - acc: 0.9035 - val_loss: 0.5958 - val_acc: 0.8355\n",
            "Epoch 66/100\n",
            "390/390 [==============================] - 20s 52ms/step - loss: 0.2950 - acc: 0.9017 - val_loss: 0.5906 - val_acc: 0.8296\n",
            "Epoch 67/100\n",
            "390/390 [==============================] - 20s 52ms/step - loss: 0.2922 - acc: 0.9030 - val_loss: 0.6058 - val_acc: 0.8250\n",
            "Epoch 68/100\n",
            "390/390 [==============================] - 20s 52ms/step - loss: 0.2948 - acc: 0.9034 - val_loss: 0.5892 - val_acc: 0.8284\n",
            "Epoch 69/100\n",
            "390/390 [==============================] - 20s 52ms/step - loss: 0.2844 - acc: 0.9054 - val_loss: 0.5975 - val_acc: 0.8258\n",
            "Epoch 70/100\n",
            "390/390 [==============================] - 20s 52ms/step - loss: 0.2921 - acc: 0.9052 - val_loss: 0.6000 - val_acc: 0.8283\n",
            "Epoch 71/100\n",
            "390/390 [==============================] - 20s 52ms/step - loss: 0.2822 - acc: 0.9084 - val_loss: 0.6144 - val_acc: 0.8322\n",
            "Epoch 72/100\n",
            "390/390 [==============================] - 20s 52ms/step - loss: 0.2943 - acc: 0.9035 - val_loss: 0.5922 - val_acc: 0.8316\n",
            "Epoch 73/100\n",
            "390/390 [==============================] - 20s 52ms/step - loss: 0.2750 - acc: 0.9096 - val_loss: 0.6220 - val_acc: 0.8294\n",
            "Epoch 74/100\n",
            "390/390 [==============================] - 20s 51ms/step - loss: 0.2941 - acc: 0.9058 - val_loss: 0.6013 - val_acc: 0.8276\n",
            "Epoch 75/100\n",
            "390/390 [==============================] - 20s 52ms/step - loss: 0.2882 - acc: 0.9071 - val_loss: 0.6206 - val_acc: 0.8281\n",
            "Epoch 76/100\n",
            "390/390 [==============================] - 20s 51ms/step - loss: 0.2774 - acc: 0.9095 - val_loss: 0.6032 - val_acc: 0.8230\n",
            "Epoch 77/100\n",
            "390/390 [==============================] - 20s 51ms/step - loss: 0.2802 - acc: 0.9100 - val_loss: 0.5926 - val_acc: 0.8330\n",
            "Epoch 78/100\n",
            "390/390 [==============================] - 20s 51ms/step - loss: 0.2789 - acc: 0.9101 - val_loss: 0.5838 - val_acc: 0.8350\n",
            "Epoch 79/100\n",
            "390/390 [==============================] - 20s 51ms/step - loss: 0.2803 - acc: 0.9101 - val_loss: 0.5943 - val_acc: 0.8331\n",
            "Epoch 80/100\n",
            "390/390 [==============================] - 20s 51ms/step - loss: 0.2835 - acc: 0.9080 - val_loss: 0.5727 - val_acc: 0.8384\n",
            "Epoch 81/100\n",
            "390/390 [==============================] - 20s 51ms/step - loss: 0.2785 - acc: 0.9127 - val_loss: 0.6285 - val_acc: 0.8317\n",
            "Epoch 82/100\n",
            "390/390 [==============================] - 20s 51ms/step - loss: 0.2872 - acc: 0.9078 - val_loss: 0.5868 - val_acc: 0.8306\n",
            "Epoch 83/100\n",
            "390/390 [==============================] - 20s 51ms/step - loss: 0.2821 - acc: 0.9096 - val_loss: 0.5995 - val_acc: 0.8368\n",
            "Epoch 84/100\n",
            "390/390 [==============================] - 20s 52ms/step - loss: 0.2715 - acc: 0.9127 - val_loss: 0.6000 - val_acc: 0.8282\n",
            "Epoch 85/100\n",
            "390/390 [==============================] - 20s 52ms/step - loss: 0.2730 - acc: 0.9109 - val_loss: 0.6324 - val_acc: 0.8271\n",
            "Epoch 86/100\n",
            "390/390 [==============================] - 20s 51ms/step - loss: 0.2722 - acc: 0.9126 - val_loss: 0.5888 - val_acc: 0.8356\n",
            "Epoch 87/100\n",
            "390/390 [==============================] - 20s 51ms/step - loss: 0.2663 - acc: 0.9158 - val_loss: 0.5853 - val_acc: 0.8334\n",
            "Epoch 88/100\n",
            "390/390 [==============================] - 20s 51ms/step - loss: 0.2662 - acc: 0.9146 - val_loss: 0.6322 - val_acc: 0.8274\n",
            "Epoch 89/100\n",
            "390/390 [==============================] - 20s 51ms/step - loss: 0.2732 - acc: 0.9123 - val_loss: 0.6081 - val_acc: 0.8322\n",
            "Epoch 90/100\n",
            "390/390 [==============================] - 20s 52ms/step - loss: 0.2667 - acc: 0.9149 - val_loss: 0.6045 - val_acc: 0.8334\n",
            "Epoch 91/100\n",
            "390/390 [==============================] - 20s 52ms/step - loss: 0.2635 - acc: 0.9169 - val_loss: 0.6343 - val_acc: 0.8307\n",
            "Epoch 92/100\n",
            "390/390 [==============================] - 20s 51ms/step - loss: 0.2702 - acc: 0.9142 - val_loss: 0.6304 - val_acc: 0.8309\n",
            "Epoch 93/100\n",
            "390/390 [==============================] - 20s 51ms/step - loss: 0.2677 - acc: 0.9145 - val_loss: 0.6114 - val_acc: 0.8304\n",
            "Epoch 94/100\n",
            "390/390 [==============================] - 20s 51ms/step - loss: 0.2698 - acc: 0.9155 - val_loss: 0.6061 - val_acc: 0.8346\n",
            "Epoch 95/100\n",
            "390/390 [==============================] - 20s 51ms/step - loss: 0.2667 - acc: 0.9164 - val_loss: 0.5946 - val_acc: 0.8380\n",
            "Epoch 96/100\n",
            "390/390 [==============================] - 20s 51ms/step - loss: 0.2632 - acc: 0.9152 - val_loss: 0.6120 - val_acc: 0.8296\n",
            "Epoch 97/100\n",
            "390/390 [==============================] - 20s 51ms/step - loss: 0.2634 - acc: 0.9159 - val_loss: 0.6293 - val_acc: 0.8321\n",
            "Epoch 98/100\n",
            "390/390 [==============================] - 20s 51ms/step - loss: 0.2639 - acc: 0.9186 - val_loss: 0.6272 - val_acc: 0.8353\n",
            "Epoch 99/100\n",
            "390/390 [==============================] - 20s 51ms/step - loss: 0.2592 - acc: 0.9179 - val_loss: 0.6266 - val_acc: 0.8325\n",
            "Epoch 100/100\n",
            "390/390 [==============================] - 20s 51ms/step - loss: 0.2648 - acc: 0.9159 - val_loss: 0.6275 - val_acc: 0.8316\n",
            "Model took 2018.28 seconds to train\n"
          ],
          "name": "stdout"
        },
        {
          "output_type": "display_data",
          "data": {
            "image/png": "[encoded data removed]",
            "text/plain": [
              "<Figure size 1080x360 with 2 Axes>"
            ]
          },
          "metadata": {
            "tags": []
          }
        },
        {
          "output_type": "stream",
          "text": [
            "Accuracy on test data is: 83.16\n"
          ],
          "name": "stdout"
        }
      ]
    },
    {
      "cell_type": "markdown",
      "metadata": {
        "id": "tJITb2YXiuIx",
        "colab_type": "text"
      },
      "source": [
        "give steps per epoch - np.ceil"
      ]
    },
    {
      "cell_type": "markdown",
      "metadata": {
        "id": "k3R4biat5Bvd",
        "colab_type": "text"
      },
      "source": [
        "#### RE-DEFINED NETWORK\n",
        "\n",
        "-  Removed Dense.\n",
        "-  Followed architecture ---> Convolution (Increase channels) , Transition (Maxpool + 1x1)\n",
        "-  Reached required receptive field - 32x32\n",
        "-  Followed Cake Architecture.\n",
        "-  Saved the best weight and monitored the training accuracy.\n",
        "-  Stopped at resolution 8x8 and used 8x8 filter to bring it to 1x1.\n",
        "-  We will be using GAP in future sessions."
      ]
    },
    {
      "cell_type": "code",
      "metadata": {
        "id": "-MlfITZw3hd8",
        "colab_type": "code",
        "outputId": "3c817700-6822-45fa-a869-b3bac4110cbd",
        "colab": {
          "base_uri": "https://localhost:8080/",
          "height": 360
        }
      },
      "source": [
        "# Define the model\n",
        "model = Sequential()\n",
        "model.add(Convolution2D(32, 3, 3, border_mode='same', input_shape=(32, 32, 3)))\n",
        "model.add(BatchNormalization())\n",
        "model.add(Activation('relu'))\n",
        "model.add(Dropout(0.1))\n",
        "\n",
        "model.add(BatchNormalization())\n",
        "model.add(Convolution2D(64, 3, 3, border_mode='same',activation='relu'))\n",
        "model.add(Dropout(0.1))\n",
        "        \n",
        "model.add(Convolution2D(10, 1, 1,border_mode='same',activation='relu'))\n",
        "model.add(MaxPooling2D(pool_size=(2, 2)))\n",
        "          \n",
        "model.add(BatchNormalization())\n",
        "model.add(Convolution2D(32, 3, 3, border_mode='same',activation='relu'))\n",
        "model.add(Dropout(0.1))\n",
        "\n",
        "model.add(BatchNormalization())\n",
        "model.add(Convolution2D(64, 3, 3, border_mode='same',activation='relu'))\n",
        "model.add(Dropout(0.1))\n",
        "\n",
        "model.add(Convolution2D(10, 1, 1,border_mode='same',activation='relu'))\n",
        "model.add(MaxPooling2D(pool_size=(2, 2)))\n",
        "\n",
        "model.add(BatchNormalization())\n",
        "model.add(Convolution2D(32, 3, 3, border_mode='same',activation='relu'))\n",
        "model.add(Dropout(0.1))\n",
        "\n",
        "model.add(BatchNormalization())\n",
        "model.add(Convolution2D(64, 3, 3, border_mode='same',activation='relu'))\n",
        "model.add(Dropout(0.1))\n",
        "\n",
        "model.add(Convolution2D(10, 8, 8))\n",
        "model.add(Flatten())\n",
        "model.add(Activation('softmax'))\n",
        "\n",
        "# Compile the model\n",
        "model.compile(optimizer='adam', loss='categorical_crossentropy', metrics=['accuracy'])"
      ],
      "execution_count": 0,
      "outputs": [
        {
          "output_type": "stream",
          "text": [
            "WARNING:tensorflow:From /usr/local/lib/python3.6/dist-packages/tensorflow/python/framework/op_def_library.py:263: colocate_with (from tensorflow.python.framework.ops) is deprecated and will be removed in a future version.\n",
            "Instructions for updating:\n",
            "Colocations handled automatically by placer.\n"
          ],
          "name": "stdout"
        },
        {
          "output_type": "stream",
          "text": [
            "/usr/local/lib/python3.6/dist-packages/ipykernel_launcher.py:2: UserWarning: Update your `Conv2D` call to the Keras 2 API: `Conv2D(32, (3, 3), input_shape=(32, 32, 3..., padding=\"same\")`\n",
            "  \n"
          ],
          "name": "stderr"
        },
        {
          "output_type": "stream",
          "text": [
            "WARNING:tensorflow:From /usr/local/lib/python3.6/dist-packages/keras/backend/tensorflow_backend.py:3445: calling dropout (from tensorflow.python.ops.nn_ops) with keep_prob is deprecated and will be removed in a future version.\n",
            "Instructions for updating:\n",
            "Please use `rate` instead of `keep_prob`. Rate should be set to `rate = 1 - keep_prob`.\n"
          ],
          "name": "stdout"
        },
        {
          "output_type": "stream",
          "text": [
            "/usr/local/lib/python3.6/dist-packages/ipykernel_launcher.py:8: UserWarning: Update your `Conv2D` call to the Keras 2 API: `Conv2D(64, (3, 3), activation=\"relu\", padding=\"same\")`\n",
            "  \n",
            "/usr/local/lib/python3.6/dist-packages/ipykernel_launcher.py:11: UserWarning: Update your `Conv2D` call to the Keras 2 API: `Conv2D(10, (1, 1), activation=\"relu\", padding=\"same\")`\n",
            "  # This is added back by InteractiveShellApp.init_path()\n",
            "/usr/local/lib/python3.6/dist-packages/ipykernel_launcher.py:15: UserWarning: Update your `Conv2D` call to the Keras 2 API: `Conv2D(32, (3, 3), activation=\"relu\", padding=\"same\")`\n",
            "  from ipykernel import kernelapp as app\n",
            "/usr/local/lib/python3.6/dist-packages/ipykernel_launcher.py:19: UserWarning: Update your `Conv2D` call to the Keras 2 API: `Conv2D(64, (3, 3), activation=\"relu\", padding=\"same\")`\n",
            "/usr/local/lib/python3.6/dist-packages/ipykernel_launcher.py:22: UserWarning: Update your `Conv2D` call to the Keras 2 API: `Conv2D(10, (1, 1), activation=\"relu\", padding=\"same\")`\n",
            "/usr/local/lib/python3.6/dist-packages/ipykernel_launcher.py:26: UserWarning: Update your `Conv2D` call to the Keras 2 API: `Conv2D(32, (3, 3), activation=\"relu\", padding=\"same\")`\n",
            "/usr/local/lib/python3.6/dist-packages/ipykernel_launcher.py:30: UserWarning: Update your `Conv2D` call to the Keras 2 API: `Conv2D(64, (3, 3), activation=\"relu\", padding=\"same\")`\n",
            "/usr/local/lib/python3.6/dist-packages/ipykernel_launcher.py:33: UserWarning: Update your `Conv2D` call to the Keras 2 API: `Conv2D(10, (8, 8))`\n"
          ],
          "name": "stderr"
        }
      ]
    },
    {
      "cell_type": "code",
      "metadata": {
        "id": "pCITAauDwOz_",
        "colab_type": "code",
        "outputId": "88ac336b-8376-4472-93db-b5952ff0c4b3",
        "colab": {
          "base_uri": "https://localhost:8080/",
          "height": 1020
        }
      },
      "source": [
        "model.summary()"
      ],
      "execution_count": 0,
      "outputs": [
        {
          "output_type": "stream",
          "text": [
            "_________________________________________________________________\n",
            "Layer (type)                 Output Shape              Param #   \n",
            "=================================================================\n",
            "conv2d_1 (Conv2D)            (None, 32, 32, 32)        896       \n",
            "_________________________________________________________________\n",
            "batch_normalization_1 (Batch (None, 32, 32, 32)        128       \n",
            "_________________________________________________________________\n",
            "activation_1 (Activation)    (None, 32, 32, 32)        0         \n",
            "_________________________________________________________________\n",
            "dropout_1 (Dropout)          (None, 32, 32, 32)        0         \n",
            "_________________________________________________________________\n",
            "batch_normalization_2 (Batch (None, 32, 32, 32)        128       \n",
            "_________________________________________________________________\n",
            "conv2d_2 (Conv2D)            (None, 32, 32, 64)        18496     \n",
            "_________________________________________________________________\n",
            "dropout_2 (Dropout)          (None, 32, 32, 64)        0         \n",
            "_________________________________________________________________\n",
            "conv2d_3 (Conv2D)            (None, 32, 32, 10)        650       \n",
            "_________________________________________________________________\n",
            "max_pooling2d_1 (MaxPooling2 (None, 16, 16, 10)        0         \n",
            "_________________________________________________________________\n",
            "batch_normalization_3 (Batch (None, 16, 16, 10)        40        \n",
            "_________________________________________________________________\n",
            "conv2d_4 (Conv2D)            (None, 16, 16, 32)        2912      \n",
            "_________________________________________________________________\n",
            "dropout_3 (Dropout)          (None, 16, 16, 32)        0         \n",
            "_________________________________________________________________\n",
            "batch_normalization_4 (Batch (None, 16, 16, 32)        128       \n",
            "_________________________________________________________________\n",
            "conv2d_5 (Conv2D)            (None, 16, 16, 64)        18496     \n",
            "_________________________________________________________________\n",
            "dropout_4 (Dropout)          (None, 16, 16, 64)        0         \n",
            "_________________________________________________________________\n",
            "conv2d_6 (Conv2D)            (None, 16, 16, 10)        650       \n",
            "_________________________________________________________________\n",
            "max_pooling2d_2 (MaxPooling2 (None, 8, 8, 10)          0         \n",
            "_________________________________________________________________\n",
            "batch_normalization_5 (Batch (None, 8, 8, 10)          40        \n",
            "_________________________________________________________________\n",
            "conv2d_7 (Conv2D)            (None, 8, 8, 32)          2912      \n",
            "_________________________________________________________________\n",
            "dropout_5 (Dropout)          (None, 8, 8, 32)          0         \n",
            "_________________________________________________________________\n",
            "batch_normalization_6 (Batch (None, 8, 8, 32)          128       \n",
            "_________________________________________________________________\n",
            "conv2d_8 (Conv2D)            (None, 8, 8, 64)          18496     \n",
            "_________________________________________________________________\n",
            "dropout_6 (Dropout)          (None, 8, 8, 64)          0         \n",
            "_________________________________________________________________\n",
            "conv2d_9 (Conv2D)            (None, 1, 1, 10)          40970     \n",
            "_________________________________________________________________\n",
            "flatten_1 (Flatten)          (None, 10)                0         \n",
            "_________________________________________________________________\n",
            "activation_2 (Activation)    (None, 10)                0         \n",
            "=================================================================\n",
            "Total params: 105,070\n",
            "Trainable params: 104,774\n",
            "Non-trainable params: 296\n",
            "_________________________________________________________________\n"
          ],
          "name": "stdout"
        }
      ]
    },
    {
      "cell_type": "code",
      "metadata": {
        "id": "sCJG_eMOvI53",
        "colab_type": "code",
        "outputId": "87649b11-aebb-43ea-de16-1f87eeb7fb7f",
        "colab": {
          "base_uri": "https://localhost:8080/",
          "height": 34
        }
      },
      "source": [
        "# For retrieving the saved best results\n",
        "from google.colab import drive\n",
        "drive.mount('/content/gdrive')"
      ],
      "execution_count": 0,
      "outputs": [
        {
          "output_type": "stream",
          "text": [
            "Drive already mounted at /content/gdrive; to attempt to forcibly remount, call drive.mount(\"/content/gdrive\", force_remount=True).\n"
          ],
          "name": "stdout"
        }
      ]
    },
    {
      "cell_type": "code",
      "metadata": {
        "id": "NvkacCVvv0Im",
        "colab_type": "code",
        "colab": {}
      },
      "source": [
        "# Defining checkpoints\n",
        "from keras.callbacks import ModelCheckpoint\n",
        "filepath=\"/content/gdrive/My Drive/Raajesh-{epoch:02d}-{val_acc:.2f}.hdf5\"\n",
        "checkpoint = ModelCheckpoint(filepath, monitor='acc', verbose=1, save_best_only=True, mode='max')\n",
        "callbacks_list = [checkpoint]"
      ],
      "execution_count": 0,
      "outputs": []
    },
    {
      "cell_type": "code",
      "metadata": {
        "id": "GJTghV-kv1oB",
        "colab_type": "code",
        "outputId": "cb537b96-dadc-44f1-fa41-5d56f73abd5c",
        "colab": {
          "base_uri": "https://localhost:8080/",
          "height": 7323
        }
      },
      "source": [
        "from keras.preprocessing.image import ImageDataGenerator\n",
        "\n",
        "datagen = ImageDataGenerator(zoom_range=0.0, \n",
        "                             horizontal_flip=False)\n",
        "\n",
        "\n",
        "# train the model\n",
        "start = time.time()\n",
        "# Train the model\n",
        "model_info = model.fit_generator(datagen.flow(train_features, train_labels, batch_size = 128),\n",
        "                                 samples_per_epoch = train_features.shape[0], nb_epoch = 100, \n",
        "                                 validation_data = (test_features, test_labels), verbose=1, callbacks=callbacks_list)\n",
        "end = time.time()\n",
        "print (\"Model took %0.2f seconds to train\"%(end - start))\n",
        "# plot model history\n",
        "plot_model_history(model_info)\n",
        "# compute test accuracy\n",
        "print (\"Accuracy on test data is: %0.2f\"%accuracy(test_features, test_labels, model))"
      ],
      "execution_count": 0,
      "outputs": [
        {
          "output_type": "stream",
          "text": [
            "WARNING:tensorflow:From /usr/local/lib/python3.6/dist-packages/tensorflow/python/ops/math_ops.py:3066: to_int32 (from tensorflow.python.ops.math_ops) is deprecated and will be removed in a future version.\n",
            "Instructions for updating:\n",
            "Use tf.cast instead.\n"
          ],
          "name": "stdout"
        },
        {
          "output_type": "stream",
          "text": [
            "/usr/local/lib/python3.6/dist-packages/ipykernel_launcher.py:12: UserWarning: The semantics of the Keras 2 argument `steps_per_epoch` is not the same as the Keras 1 argument `samples_per_epoch`. `steps_per_epoch` is the number of batches to draw from the generator at each epoch. Basically steps_per_epoch = samples_per_epoch/batch_size. Similarly `nb_val_samples`->`validation_steps` and `val_samples`->`steps` arguments have changed. Update your method calls accordingly.\n",
            "  if sys.path[0] == '':\n",
            "/usr/local/lib/python3.6/dist-packages/ipykernel_launcher.py:12: UserWarning: Update your `fit_generator` call to the Keras 2 API: `fit_generator(<keras_pre..., validation_data=(array([[[..., verbose=1, callbacks=[<keras.ca..., steps_per_epoch=390, epochs=100)`\n",
            "  if sys.path[0] == '':\n"
          ],
          "name": "stderr"
        },
        {
          "output_type": "stream",
          "text": [
            "Epoch 1/100\n",
            "390/390 [==============================] - 29s 74ms/step - loss: 1.4644 - acc: 0.4714 - val_loss: 1.2944 - val_acc: 0.5413\n",
            "\n",
            "Epoch 00001: acc improved from -inf to 0.47143, saving model to /content/gdrive/My Drive/Raajesh-01-0.54.hdf5\n",
            "Epoch 2/100\n",
            "390/390 [==============================] - 26s 68ms/step - loss: 1.1066 - acc: 0.6074 - val_loss: 1.2061 - val_acc: 0.5736\n",
            "\n",
            "Epoch 00002: acc improved from 0.47143 to 0.60735, saving model to /content/gdrive/My Drive/Raajesh-02-0.57.hdf5\n",
            "Epoch 3/100\n",
            "390/390 [==============================] - 26s 67ms/step - loss: 0.9364 - acc: 0.6693 - val_loss: 0.9177 - val_acc: 0.6773\n",
            "\n",
            "Epoch 00003: acc improved from 0.60735 to 0.66935, saving model to /content/gdrive/My Drive/Raajesh-03-0.68.hdf5\n",
            "Epoch 4/100\n",
            "390/390 [==============================] - 26s 67ms/step - loss: 0.8288 - acc: 0.7082 - val_loss: 0.8548 - val_acc: 0.6967\n",
            "\n",
            "Epoch 00004: acc improved from 0.66935 to 0.70829, saving model to /content/gdrive/My Drive/Raajesh-04-0.70.hdf5\n",
            "Epoch 5/100\n",
            "390/390 [==============================] - 26s 68ms/step - loss: 0.7513 - acc: 0.7375 - val_loss: 0.7776 - val_acc: 0.7323\n",
            "\n",
            "Epoch 00005: acc improved from 0.70829 to 0.73753, saving model to /content/gdrive/My Drive/Raajesh-05-0.73.hdf5\n",
            "Epoch 6/100\n",
            "390/390 [==============================] - 26s 67ms/step - loss: 0.6940 - acc: 0.7560 - val_loss: 0.9009 - val_acc: 0.6920\n",
            "\n",
            "Epoch 00006: acc improved from 0.73753 to 0.75598, saving model to /content/gdrive/My Drive/Raajesh-06-0.69.hdf5\n",
            "Epoch 7/100\n",
            "390/390 [==============================] - 26s 68ms/step - loss: 0.6497 - acc: 0.7707 - val_loss: 0.7468 - val_acc: 0.7418\n",
            "\n",
            "Epoch 00007: acc improved from 0.75598 to 0.77067, saving model to /content/gdrive/My Drive/Raajesh-07-0.74.hdf5\n",
            "Epoch 8/100\n",
            "390/390 [==============================] - 26s 67ms/step - loss: 0.6113 - acc: 0.7835 - val_loss: 0.7332 - val_acc: 0.7442\n",
            "\n",
            "Epoch 00008: acc improved from 0.77067 to 0.78349, saving model to /content/gdrive/My Drive/Raajesh-08-0.74.hdf5\n",
            "Epoch 9/100\n",
            "390/390 [==============================] - 26s 67ms/step - loss: 0.5830 - acc: 0.7946 - val_loss: 0.7350 - val_acc: 0.7461\n",
            "\n",
            "Epoch 00009: acc improved from 0.78349 to 0.79457, saving model to /content/gdrive/My Drive/Raajesh-09-0.75.hdf5\n",
            "Epoch 10/100\n",
            "390/390 [==============================] - 26s 68ms/step - loss: 0.5547 - acc: 0.8036 - val_loss: 0.7314 - val_acc: 0.7487\n",
            "\n",
            "Epoch 00010: acc improved from 0.79457 to 0.80368, saving model to /content/gdrive/My Drive/Raajesh-10-0.75.hdf5\n",
            "Epoch 11/100\n",
            "390/390 [==============================] - 26s 68ms/step - loss: 0.5360 - acc: 0.8103 - val_loss: 0.7735 - val_acc: 0.7332\n",
            "\n",
            "Epoch 00011: acc improved from 0.80368 to 0.81029, saving model to /content/gdrive/My Drive/Raajesh-11-0.73.hdf5\n",
            "Epoch 12/100\n",
            "390/390 [==============================] - 26s 67ms/step - loss: 0.5188 - acc: 0.8161 - val_loss: 0.6801 - val_acc: 0.7684\n",
            "\n",
            "Epoch 00012: acc improved from 0.81029 to 0.81603, saving model to /content/gdrive/My Drive/Raajesh-12-0.77.hdf5\n",
            "Epoch 13/100\n",
            "390/390 [==============================] - 26s 67ms/step - loss: 0.4972 - acc: 0.8245 - val_loss: 0.7680 - val_acc: 0.7394\n",
            "\n",
            "Epoch 00013: acc improved from 0.81603 to 0.82443, saving model to /content/gdrive/My Drive/Raajesh-13-0.74.hdf5\n",
            "Epoch 14/100\n",
            "390/390 [==============================] - 26s 68ms/step - loss: 0.4815 - acc: 0.8297 - val_loss: 0.6541 - val_acc: 0.7796\n",
            "\n",
            "Epoch 00014: acc improved from 0.82443 to 0.82968, saving model to /content/gdrive/My Drive/Raajesh-14-0.78.hdf5\n",
            "Epoch 15/100\n",
            "390/390 [==============================] - 26s 67ms/step - loss: 0.4644 - acc: 0.8350 - val_loss: 0.7047 - val_acc: 0.7631\n",
            "\n",
            "Epoch 00015: acc improved from 0.82968 to 0.83502, saving model to /content/gdrive/My Drive/Raajesh-15-0.76.hdf5\n",
            "Epoch 16/100\n",
            "390/390 [==============================] - 27s 68ms/step - loss: 0.4477 - acc: 0.8404 - val_loss: 0.6998 - val_acc: 0.7717\n",
            "\n",
            "Epoch 00016: acc improved from 0.83502 to 0.84043, saving model to /content/gdrive/My Drive/Raajesh-16-0.77.hdf5\n",
            "Epoch 17/100\n",
            "390/390 [==============================] - 26s 67ms/step - loss: 0.4365 - acc: 0.8442 - val_loss: 0.7302 - val_acc: 0.7642\n",
            "\n",
            "Epoch 00017: acc improved from 0.84043 to 0.84430, saving model to /content/gdrive/My Drive/Raajesh-17-0.76.hdf5\n",
            "Epoch 18/100\n",
            "390/390 [==============================] - 26s 67ms/step - loss: 0.4297 - acc: 0.8474 - val_loss: 0.7497 - val_acc: 0.7565\n",
            "\n",
            "Epoch 00018: acc improved from 0.84430 to 0.84739, saving model to /content/gdrive/My Drive/Raajesh-18-0.76.hdf5\n",
            "Epoch 19/100\n",
            "390/390 [==============================] - 26s 68ms/step - loss: 0.4145 - acc: 0.8523 - val_loss: 0.6947 - val_acc: 0.7634\n",
            "\n",
            "Epoch 00019: acc improved from 0.84739 to 0.85222, saving model to /content/gdrive/My Drive/Raajesh-19-0.76.hdf5\n",
            "Epoch 20/100\n",
            "390/390 [==============================] - 26s 67ms/step - loss: 0.4059 - acc: 0.8569 - val_loss: 0.6730 - val_acc: 0.7797\n",
            "\n",
            "Epoch 00020: acc improved from 0.85222 to 0.85687, saving model to /content/gdrive/My Drive/Raajesh-20-0.78.hdf5\n",
            "Epoch 21/100\n",
            "390/390 [==============================] - 26s 68ms/step - loss: 0.3989 - acc: 0.8571 - val_loss: 0.7000 - val_acc: 0.7679\n",
            "\n",
            "Epoch 00021: acc improved from 0.85687 to 0.85711, saving model to /content/gdrive/My Drive/Raajesh-21-0.77.hdf5\n",
            "Epoch 22/100\n",
            "390/390 [==============================] - 26s 67ms/step - loss: 0.3862 - acc: 0.8611 - val_loss: 0.7043 - val_acc: 0.7701\n",
            "\n",
            "Epoch 00022: acc improved from 0.85711 to 0.86106, saving model to /content/gdrive/My Drive/Raajesh-22-0.77.hdf5\n",
            "Epoch 23/100\n",
            "390/390 [==============================] - 26s 67ms/step - loss: 0.3794 - acc: 0.8628 - val_loss: 0.6904 - val_acc: 0.7788\n",
            "\n",
            "Epoch 00023: acc improved from 0.86106 to 0.86287, saving model to /content/gdrive/My Drive/Raajesh-23-0.78.hdf5\n",
            "Epoch 24/100\n",
            "390/390 [==============================] - 26s 67ms/step - loss: 0.3743 - acc: 0.8649 - val_loss: 0.6867 - val_acc: 0.7806\n",
            "\n",
            "Epoch 00024: acc improved from 0.86287 to 0.86489, saving model to /content/gdrive/My Drive/Raajesh-24-0.78.hdf5\n",
            "Epoch 25/100\n",
            "390/390 [==============================] - 26s 67ms/step - loss: 0.3683 - acc: 0.8667 - val_loss: 0.6817 - val_acc: 0.7829\n",
            "\n",
            "Epoch 00025: acc improved from 0.86489 to 0.86664, saving model to /content/gdrive/My Drive/Raajesh-25-0.78.hdf5\n",
            "Epoch 26/100\n",
            "390/390 [==============================] - 26s 67ms/step - loss: 0.3617 - acc: 0.8691 - val_loss: 0.7696 - val_acc: 0.7604\n",
            "\n",
            "Epoch 00026: acc improved from 0.86664 to 0.86917, saving model to /content/gdrive/My Drive/Raajesh-26-0.76.hdf5\n",
            "Epoch 27/100\n",
            "390/390 [==============================] - 26s 67ms/step - loss: 0.3571 - acc: 0.8714 - val_loss: 0.7445 - val_acc: 0.7697\n",
            "\n",
            "Epoch 00027: acc improved from 0.86917 to 0.87147, saving model to /content/gdrive/My Drive/Raajesh-27-0.77.hdf5\n",
            "Epoch 28/100\n",
            "390/390 [==============================] - 26s 67ms/step - loss: 0.3486 - acc: 0.8747 - val_loss: 0.7425 - val_acc: 0.7687\n",
            "\n",
            "Epoch 00028: acc improved from 0.87147 to 0.87474, saving model to /content/gdrive/My Drive/Raajesh-28-0.77.hdf5\n",
            "Epoch 29/100\n",
            "390/390 [==============================] - 26s 67ms/step - loss: 0.3474 - acc: 0.8743 - val_loss: 0.7173 - val_acc: 0.7704\n",
            "\n",
            "Epoch 00029: acc did not improve from 0.87474\n",
            "Epoch 30/100\n",
            "390/390 [==============================] - 26s 67ms/step - loss: 0.3459 - acc: 0.8741 - val_loss: 0.7239 - val_acc: 0.7730\n",
            "\n",
            "Epoch 00030: acc did not improve from 0.87474\n",
            "Epoch 31/100\n",
            "390/390 [==============================] - 26s 67ms/step - loss: 0.3367 - acc: 0.8784 - val_loss: 0.6903 - val_acc: 0.7856\n",
            "\n",
            "Epoch 00031: acc improved from 0.87474 to 0.87845, saving model to /content/gdrive/My Drive/Raajesh-31-0.79.hdf5\n",
            "Epoch 32/100\n",
            "390/390 [==============================] - 26s 67ms/step - loss: 0.3298 - acc: 0.8790 - val_loss: 0.7556 - val_acc: 0.7654\n",
            "\n",
            "Epoch 00032: acc improved from 0.87845 to 0.87901, saving model to /content/gdrive/My Drive/Raajesh-32-0.77.hdf5\n",
            "Epoch 33/100\n",
            "390/390 [==============================] - 26s 68ms/step - loss: 0.3298 - acc: 0.8805 - val_loss: 0.7299 - val_acc: 0.7801\n",
            "\n",
            "Epoch 00033: acc improved from 0.87901 to 0.88055, saving model to /content/gdrive/My Drive/Raajesh-33-0.78.hdf5\n",
            "Epoch 34/100\n",
            "390/390 [==============================] - 26s 68ms/step - loss: 0.3216 - acc: 0.8836 - val_loss: 0.6911 - val_acc: 0.7881\n",
            "\n",
            "Epoch 00034: acc improved from 0.88055 to 0.88362, saving model to /content/gdrive/My Drive/Raajesh-34-0.79.hdf5\n",
            "Epoch 35/100\n",
            "390/390 [==============================] - 26s 67ms/step - loss: 0.3178 - acc: 0.8842 - val_loss: 0.7656 - val_acc: 0.7708\n",
            "\n",
            "Epoch 00035: acc improved from 0.88362 to 0.88426, saving model to /content/gdrive/My Drive/Raajesh-35-0.77.hdf5\n",
            "Epoch 36/100\n",
            "390/390 [==============================] - 26s 67ms/step - loss: 0.3143 - acc: 0.8849 - val_loss: 0.6947 - val_acc: 0.7851\n",
            "\n",
            "Epoch 00036: acc improved from 0.88426 to 0.88495, saving model to /content/gdrive/My Drive/Raajesh-36-0.79.hdf5\n",
            "Epoch 37/100\n",
            "390/390 [==============================] - 26s 67ms/step - loss: 0.3020 - acc: 0.8912 - val_loss: 0.7408 - val_acc: 0.7714\n",
            "\n",
            "Epoch 00037: acc improved from 0.88495 to 0.89120, saving model to /content/gdrive/My Drive/Raajesh-37-0.77.hdf5\n",
            "Epoch 38/100\n",
            "390/390 [==============================] - 26s 68ms/step - loss: 0.3051 - acc: 0.8884 - val_loss: 0.7250 - val_acc: 0.7813\n",
            "\n",
            "Epoch 00038: acc did not improve from 0.89120\n",
            "Epoch 39/100\n",
            "390/390 [==============================] - 26s 68ms/step - loss: 0.2983 - acc: 0.8921 - val_loss: 0.7173 - val_acc: 0.7850\n",
            "\n",
            "Epoch 00039: acc improved from 0.89120 to 0.89204, saving model to /content/gdrive/My Drive/Raajesh-39-0.79.hdf5\n",
            "Epoch 40/100\n",
            "390/390 [==============================] - 26s 68ms/step - loss: 0.2986 - acc: 0.8926 - val_loss: 0.6855 - val_acc: 0.7877\n",
            "\n",
            "Epoch 00040: acc improved from 0.89204 to 0.89261, saving model to /content/gdrive/My Drive/Raajesh-40-0.79.hdf5\n",
            "Epoch 41/100\n",
            "390/390 [==============================] - 26s 68ms/step - loss: 0.2941 - acc: 0.8931 - val_loss: 0.7566 - val_acc: 0.7717\n",
            "\n",
            "Epoch 00041: acc improved from 0.89261 to 0.89315, saving model to /content/gdrive/My Drive/Raajesh-41-0.77.hdf5\n",
            "Epoch 42/100\n",
            "390/390 [==============================] - 26s 67ms/step - loss: 0.2974 - acc: 0.8914 - val_loss: 0.7316 - val_acc: 0.7747\n",
            "\n",
            "Epoch 00042: acc did not improve from 0.89315\n",
            "Epoch 43/100\n",
            "390/390 [==============================] - 26s 67ms/step - loss: 0.2845 - acc: 0.8961 - val_loss: 0.7510 - val_acc: 0.7761\n",
            "\n",
            "Epoch 00043: acc improved from 0.89315 to 0.89603, saving model to /content/gdrive/My Drive/Raajesh-43-0.78.hdf5\n",
            "Epoch 44/100\n",
            "390/390 [==============================] - 26s 67ms/step - loss: 0.2889 - acc: 0.8953 - val_loss: 0.7266 - val_acc: 0.7806\n",
            "\n",
            "Epoch 00044: acc did not improve from 0.89603\n",
            "Epoch 45/100\n",
            "390/390 [==============================] - 26s 68ms/step - loss: 0.2876 - acc: 0.8964 - val_loss: 0.7501 - val_acc: 0.7785\n",
            "\n",
            "Epoch 00045: acc improved from 0.89603 to 0.89645, saving model to /content/gdrive/My Drive/Raajesh-45-0.78.hdf5\n",
            "Epoch 46/100\n",
            "390/390 [==============================] - 26s 67ms/step - loss: 0.2780 - acc: 0.8991 - val_loss: 0.7082 - val_acc: 0.7830\n",
            "\n",
            "Epoch 00046: acc improved from 0.89645 to 0.89910, saving model to /content/gdrive/My Drive/Raajesh-46-0.78.hdf5\n",
            "Epoch 47/100\n",
            "390/390 [==============================] - 26s 67ms/step - loss: 0.2826 - acc: 0.8971 - val_loss: 0.7110 - val_acc: 0.7859\n",
            "\n",
            "Epoch 00047: acc did not improve from 0.89910\n",
            "Epoch 48/100\n",
            "390/390 [==============================] - 26s 67ms/step - loss: 0.2787 - acc: 0.8979 - val_loss: 0.7360 - val_acc: 0.7820\n",
            "\n",
            "Epoch 00048: acc did not improve from 0.89910\n",
            "Epoch 49/100\n",
            "390/390 [==============================] - 26s 68ms/step - loss: 0.2747 - acc: 0.8985 - val_loss: 0.7047 - val_acc: 0.7910\n",
            "\n",
            "Epoch 00049: acc did not improve from 0.89910\n",
            "Epoch 50/100\n",
            "390/390 [==============================] - 26s 68ms/step - loss: 0.2758 - acc: 0.8999 - val_loss: 0.7157 - val_acc: 0.7900\n",
            "\n",
            "Epoch 00050: acc improved from 0.89910 to 0.89992, saving model to /content/gdrive/My Drive/Raajesh-50-0.79.hdf5\n",
            "Epoch 51/100\n",
            "390/390 [==============================] - 26s 67ms/step - loss: 0.2670 - acc: 0.9032 - val_loss: 0.7009 - val_acc: 0.7913\n",
            "\n",
            "Epoch 00051: acc improved from 0.89992 to 0.90319, saving model to /content/gdrive/My Drive/Raajesh-51-0.79.hdf5\n",
            "Epoch 52/100\n",
            "390/390 [==============================] - 26s 67ms/step - loss: 0.2668 - acc: 0.9016 - val_loss: 0.7180 - val_acc: 0.7862\n",
            "\n",
            "Epoch 00052: acc did not improve from 0.90319\n",
            "Epoch 53/100\n",
            "390/390 [==============================] - 26s 67ms/step - loss: 0.2622 - acc: 0.9049 - val_loss: 0.7285 - val_acc: 0.7868\n",
            "\n",
            "Epoch 00053: acc improved from 0.90319 to 0.90488, saving model to /content/gdrive/My Drive/Raajesh-53-0.79.hdf5\n",
            "Epoch 54/100\n",
            "390/390 [==============================] - 26s 68ms/step - loss: 0.2603 - acc: 0.9048 - val_loss: 0.7395 - val_acc: 0.7863\n",
            "\n",
            "Epoch 00054: acc did not improve from 0.90488\n",
            "Epoch 55/100\n",
            "390/390 [==============================] - 26s 67ms/step - loss: 0.2576 - acc: 0.9052 - val_loss: 0.7258 - val_acc: 0.7862\n",
            "\n",
            "Epoch 00055: acc improved from 0.90488 to 0.90518, saving model to /content/gdrive/My Drive/Raajesh-55-0.79.hdf5\n",
            "Epoch 56/100\n",
            "390/390 [==============================] - 27s 68ms/step - loss: 0.2560 - acc: 0.9074 - val_loss: 0.7377 - val_acc: 0.7894\n",
            "\n",
            "Epoch 00056: acc improved from 0.90518 to 0.90738, saving model to /content/gdrive/My Drive/Raajesh-56-0.79.hdf5\n",
            "Epoch 57/100\n",
            "390/390 [==============================] - 26s 67ms/step - loss: 0.2564 - acc: 0.9067 - val_loss: 0.7418 - val_acc: 0.7917\n",
            "\n",
            "Epoch 00057: acc did not improve from 0.90738\n",
            "Epoch 58/100\n",
            "390/390 [==============================] - 26s 67ms/step - loss: 0.2545 - acc: 0.9068 - val_loss: 0.7124 - val_acc: 0.7893\n",
            "\n",
            "Epoch 00058: acc did not improve from 0.90738\n",
            "Epoch 59/100\n",
            "390/390 [==============================] - 26s 68ms/step - loss: 0.2513 - acc: 0.9081 - val_loss: 0.7272 - val_acc: 0.7882\n",
            "\n",
            "Epoch 00059: acc improved from 0.90738 to 0.90818, saving model to /content/gdrive/My Drive/Raajesh-59-0.79.hdf5\n",
            "Epoch 60/100\n",
            "390/390 [==============================] - 26s 67ms/step - loss: 0.2461 - acc: 0.9093 - val_loss: 0.7231 - val_acc: 0.7904\n",
            "\n",
            "Epoch 00060: acc improved from 0.90818 to 0.90931, saving model to /content/gdrive/My Drive/Raajesh-60-0.79.hdf5\n",
            "Epoch 61/100\n",
            "390/390 [==============================] - 26s 68ms/step - loss: 0.2492 - acc: 0.9101 - val_loss: 0.7601 - val_acc: 0.7828\n",
            "\n",
            "Epoch 00061: acc improved from 0.90931 to 0.91005, saving model to /content/gdrive/My Drive/Raajesh-61-0.78.hdf5\n",
            "Epoch 62/100\n",
            "390/390 [==============================] - 26s 68ms/step - loss: 0.2456 - acc: 0.9096 - val_loss: 0.7279 - val_acc: 0.7916\n",
            "\n",
            "Epoch 00062: acc did not improve from 0.91005\n",
            "Epoch 63/100\n",
            "390/390 [==============================] - 26s 67ms/step - loss: 0.2442 - acc: 0.9104 - val_loss: 0.7795 - val_acc: 0.7798\n",
            "\n",
            "Epoch 00063: acc improved from 0.91005 to 0.91041, saving model to /content/gdrive/My Drive/Raajesh-63-0.78.hdf5\n",
            "Epoch 64/100\n",
            "390/390 [==============================] - 26s 68ms/step - loss: 0.2455 - acc: 0.9094 - val_loss: 0.7507 - val_acc: 0.7855\n",
            "\n",
            "Epoch 00064: acc did not improve from 0.91041\n",
            "Epoch 65/100\n",
            "390/390 [==============================] - 26s 68ms/step - loss: 0.2474 - acc: 0.9091 - val_loss: 0.7802 - val_acc: 0.7813\n",
            "\n",
            "Epoch 00065: acc did not improve from 0.91041\n",
            "Epoch 66/100\n",
            "390/390 [==============================] - 26s 67ms/step - loss: 0.2399 - acc: 0.9124 - val_loss: 0.7556 - val_acc: 0.7882\n",
            "\n",
            "Epoch 00066: acc improved from 0.91041 to 0.91232, saving model to /content/gdrive/My Drive/Raajesh-66-0.79.hdf5\n",
            "Epoch 67/100\n",
            "390/390 [==============================] - 26s 67ms/step - loss: 0.2411 - acc: 0.9122 - val_loss: 0.7476 - val_acc: 0.7842\n",
            "\n",
            "Epoch 00067: acc did not improve from 0.91232\n",
            "Epoch 68/100\n",
            "390/390 [==============================] - 27s 68ms/step - loss: 0.2344 - acc: 0.9144 - val_loss: 0.7503 - val_acc: 0.7891\n",
            "\n",
            "Epoch 00068: acc improved from 0.91232 to 0.91444, saving model to /content/gdrive/My Drive/Raajesh-68-0.79.hdf5\n",
            "Epoch 69/100\n",
            "390/390 [==============================] - 26s 67ms/step - loss: 0.2388 - acc: 0.9121 - val_loss: 0.7404 - val_acc: 0.7832\n",
            "\n",
            "Epoch 00069: acc did not improve from 0.91444\n",
            "Epoch 70/100\n",
            "390/390 [==============================] - 26s 67ms/step - loss: 0.2337 - acc: 0.9151 - val_loss: 0.7344 - val_acc: 0.7923\n",
            "\n",
            "Epoch 00070: acc improved from 0.91444 to 0.91512, saving model to /content/gdrive/My Drive/Raajesh-70-0.79.hdf5\n",
            "Epoch 71/100\n",
            "390/390 [==============================] - 26s 67ms/step - loss: 0.2360 - acc: 0.9138 - val_loss: 0.7664 - val_acc: 0.7874\n",
            "\n",
            "Epoch 00071: acc did not improve from 0.91512\n",
            "Epoch 72/100\n",
            "390/390 [==============================] - 27s 68ms/step - loss: 0.2331 - acc: 0.9153 - val_loss: 0.7609 - val_acc: 0.7875\n",
            "\n",
            "Epoch 00072: acc improved from 0.91512 to 0.91530, saving model to /content/gdrive/My Drive/Raajesh-72-0.79.hdf5\n",
            "Epoch 73/100\n",
            "390/390 [==============================] - 26s 68ms/step - loss: 0.2261 - acc: 0.9172 - val_loss: 0.7368 - val_acc: 0.7918\n",
            "\n",
            "Epoch 00073: acc improved from 0.91530 to 0.91717, saving model to /content/gdrive/My Drive/Raajesh-73-0.79.hdf5\n",
            "Epoch 74/100\n",
            "390/390 [==============================] - 27s 69ms/step - loss: 0.2306 - acc: 0.9147 - val_loss: 0.7301 - val_acc: 0.7921\n",
            "\n",
            "Epoch 00074: acc did not improve from 0.91717\n",
            "Epoch 75/100\n",
            "390/390 [==============================] - 27s 68ms/step - loss: 0.2217 - acc: 0.9192 - val_loss: 0.8204 - val_acc: 0.7779\n",
            "\n",
            "Epoch 00075: acc improved from 0.91717 to 0.91915, saving model to /content/gdrive/My Drive/Raajesh-75-0.78.hdf5\n",
            "Epoch 76/100\n",
            "390/390 [==============================] - 26s 67ms/step - loss: 0.2283 - acc: 0.9168 - val_loss: 0.7310 - val_acc: 0.7902\n",
            "\n",
            "Epoch 00076: acc did not improve from 0.91915\n",
            "Epoch 77/100\n",
            "390/390 [==============================] - 26s 67ms/step - loss: 0.2253 - acc: 0.9181 - val_loss: 0.7542 - val_acc: 0.7912\n",
            "\n",
            "Epoch 00077: acc did not improve from 0.91915\n",
            "Epoch 78/100\n",
            "390/390 [==============================] - 26s 67ms/step - loss: 0.2272 - acc: 0.9178 - val_loss: 0.7443 - val_acc: 0.7939\n",
            "\n",
            "Epoch 00078: acc did not improve from 0.91915\n",
            "Epoch 79/100\n",
            "390/390 [==============================] - 26s 67ms/step - loss: 0.2190 - acc: 0.9205 - val_loss: 0.7408 - val_acc: 0.7864\n",
            "\n",
            "Epoch 00079: acc improved from 0.91915 to 0.92042, saving model to /content/gdrive/My Drive/Raajesh-79-0.79.hdf5\n",
            "Epoch 80/100\n",
            "390/390 [==============================] - 26s 67ms/step - loss: 0.2223 - acc: 0.9187 - val_loss: 0.8221 - val_acc: 0.7782\n",
            "\n",
            "Epoch 00080: acc did not improve from 0.92042\n",
            "Epoch 81/100\n",
            "390/390 [==============================] - 26s 68ms/step - loss: 0.2215 - acc: 0.9190 - val_loss: 0.7246 - val_acc: 0.7963\n",
            "\n",
            "Epoch 00081: acc did not improve from 0.92042\n",
            "Epoch 82/100\n",
            "390/390 [==============================] - 26s 68ms/step - loss: 0.2167 - acc: 0.9200 - val_loss: 0.7295 - val_acc: 0.7977\n",
            "\n",
            "Epoch 00082: acc did not improve from 0.92042\n",
            "Epoch 83/100\n",
            "390/390 [==============================] - 26s 67ms/step - loss: 0.2194 - acc: 0.9217 - val_loss: 0.7219 - val_acc: 0.7995\n",
            "\n",
            "Epoch 00083: acc improved from 0.92042 to 0.92168, saving model to /content/gdrive/My Drive/Raajesh-83-0.80.hdf5\n",
            "Epoch 84/100\n",
            "390/390 [==============================] - 26s 67ms/step - loss: 0.2170 - acc: 0.9200 - val_loss: 0.7361 - val_acc: 0.7945\n",
            "\n",
            "Epoch 00084: acc did not improve from 0.92168\n",
            "Epoch 85/100\n",
            "390/390 [==============================] - 26s 67ms/step - loss: 0.2166 - acc: 0.9206 - val_loss: 0.7223 - val_acc: 0.7931\n",
            "\n",
            "Epoch 00085: acc did not improve from 0.92168\n",
            "Epoch 86/100\n",
            "390/390 [==============================] - 26s 67ms/step - loss: 0.2139 - acc: 0.9217 - val_loss: 0.7651 - val_acc: 0.7922\n",
            "\n",
            "Epoch 00086: acc improved from 0.92168 to 0.92168, saving model to /content/gdrive/My Drive/Raajesh-86-0.79.hdf5\n",
            "Epoch 87/100\n",
            "390/390 [==============================] - 26s 67ms/step - loss: 0.2151 - acc: 0.9215 - val_loss: 0.8062 - val_acc: 0.7796\n",
            "\n",
            "Epoch 00087: acc did not improve from 0.92168\n",
            "Epoch 88/100\n",
            "390/390 [==============================] - 26s 67ms/step - loss: 0.2129 - acc: 0.9240 - val_loss: 0.7321 - val_acc: 0.7991\n",
            "\n",
            "Epoch 00088: acc improved from 0.92168 to 0.92395, saving model to /content/gdrive/My Drive/Raajesh-88-0.80.hdf5\n",
            "Epoch 89/100\n",
            "390/390 [==============================] - 26s 67ms/step - loss: 0.2136 - acc: 0.9225 - val_loss: 0.7737 - val_acc: 0.7902\n",
            "\n",
            "Epoch 00089: acc did not improve from 0.92395\n",
            "Epoch 90/100\n",
            "390/390 [==============================] - 26s 67ms/step - loss: 0.2083 - acc: 0.9239 - val_loss: 0.7364 - val_acc: 0.7967\n",
            "\n",
            "Epoch 00090: acc improved from 0.92395 to 0.92395, saving model to /content/gdrive/My Drive/Raajesh-90-0.80.hdf5\n",
            "Epoch 91/100\n",
            "390/390 [==============================] - 26s 67ms/step - loss: 0.2102 - acc: 0.9229 - val_loss: 0.7583 - val_acc: 0.7948\n",
            "\n",
            "Epoch 00091: acc did not improve from 0.92395\n",
            "Epoch 92/100\n",
            "390/390 [==============================] - 26s 67ms/step - loss: 0.2122 - acc: 0.9225 - val_loss: 0.7453 - val_acc: 0.7903\n",
            "\n",
            "Epoch 00092: acc did not improve from 0.92395\n",
            "Epoch 93/100\n",
            "390/390 [==============================] - 26s 68ms/step - loss: 0.2070 - acc: 0.9235 - val_loss: 0.7537 - val_acc: 0.7953\n",
            "\n",
            "Epoch 00093: acc did not improve from 0.92395\n",
            "Epoch 94/100\n",
            "390/390 [==============================] - 26s 67ms/step - loss: 0.2083 - acc: 0.9243 - val_loss: 0.7455 - val_acc: 0.7930\n",
            "\n",
            "Epoch 00094: acc improved from 0.92395 to 0.92431, saving model to /content/gdrive/My Drive/Raajesh-94-0.79.hdf5\n",
            "Epoch 95/100\n",
            "390/390 [==============================] - 26s 67ms/step - loss: 0.2034 - acc: 0.9247 - val_loss: 0.7412 - val_acc: 0.7978\n",
            "\n",
            "Epoch 00095: acc improved from 0.92431 to 0.92469, saving model to /content/gdrive/My Drive/Raajesh-95-0.80.hdf5\n",
            "Epoch 96/100\n",
            "390/390 [==============================] - 26s 67ms/step - loss: 0.2048 - acc: 0.9245 - val_loss: 0.7725 - val_acc: 0.7994\n",
            "\n",
            "Epoch 00096: acc did not improve from 0.92469\n",
            "Epoch 97/100\n",
            "390/390 [==============================] - 27s 68ms/step - loss: 0.2081 - acc: 0.9237 - val_loss: 0.7822 - val_acc: 0.7928\n",
            "\n",
            "Epoch 00097: acc did not improve from 0.92469\n",
            "Epoch 98/100\n",
            "390/390 [==============================] - 27s 69ms/step - loss: 0.2075 - acc: 0.9233 - val_loss: 0.7556 - val_acc: 0.7922\n",
            "\n",
            "Epoch 00098: acc did not improve from 0.92469\n",
            "Epoch 99/100\n",
            "390/390 [==============================] - 27s 68ms/step - loss: 0.1978 - acc: 0.9277 - val_loss: 0.7459 - val_acc: 0.7981\n",
            "\n",
            "Epoch 00099: acc improved from 0.92469 to 0.92771, saving model to /content/gdrive/My Drive/Raajesh-99-0.80.hdf5\n",
            "Epoch 100/100\n",
            "390/390 [==============================] - 27s 68ms/step - loss: 0.1985 - acc: 0.9278 - val_loss: 0.7361 - val_acc: 0.7976\n",
            "\n",
            "Epoch 00100: acc improved from 0.92771 to 0.92790, saving model to /content/gdrive/My Drive/Raajesh-100-0.80.hdf5\n",
            "Model took 2646.65 seconds to train\n"
          ],
          "name": "stdout"
        },
        {
          "output_type": "display_data",
          "data": {
            "image/png": "[encoded data removed]",
            "text/plain": [
              "<Figure size 1080x360 with 2 Axes>"
            ]
          },
          "metadata": {
            "tags": []
          }
        },
        {
          "output_type": "stream",
          "text": [
            "Accuracy on test data is: 79.76\n"
          ],
          "name": "stdout"
        }
      ]
    }
  ]
}