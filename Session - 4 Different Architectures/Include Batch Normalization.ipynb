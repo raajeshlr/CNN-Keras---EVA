{
  "nbformat": 4,
  "nbformat_minor": 0,
  "metadata": {
    "colab": {
      "name": "EVASECOND.ipynb",
      "version": "0.3.2",
      "provenance": [],
      "collapsed_sections": []
    },
    "kernelspec": {
      "name": "python3",
      "display_name": "Python 3"
    },
    "accelerator": "GPU"
  },
  "cells": [
    {
      "cell_type": "markdown",
      "metadata": {
        "id": "hlCxHPXvrUrh",
        "colab_type": "text"
      },
      "source": [
        "### WHAT LEARNT FROM FIRST CODE:\n",
        "\n",
        "-   I have understood the model is overfitted last time.\n",
        "-   I had large number of kernels last time and my model is literally mugged up all the training samples and so the validation accuray got stucked at one point.\n",
        "\n",
        "### MY STRATEGY AND IMPROVEMENTS : \n",
        "\n",
        "-  Reducing number of channels - parameters also decreased.\n",
        "-  Introducing Batch Normalization so that it will bring the values between -1 to 1 and so the kernels looks the better receptive field.\n",
        "-  Changing batch size to 64 so that i can reduce the epochs time and also model do learn better seeing large number of images.\n",
        "\n",
        "### Target \n",
        "\n",
        "Reach validation accuracy more than **99.4 with out considering the number of parameters** , Should not use dropout or any learning rate schedular.\n",
        "\n",
        "    -  ACHIEVED 99.480 in 12th EPOCH.\n",
        "\n",
        "#### TOOLS USED AND OBSERVATIONS \n",
        "\n",
        "-   I have just used the same pattern with channels size increased to 128 using 3x3 kernel and decreased to 64 using 1x1 kernel, all the time used batch normalization inbetween.\n",
        "-  Used Batch Normalization, No Dropout, No Learning rate schedular.\n",
        "-  I have never cared about parameters and used a whopping 3,71,914 parameters.\n",
        "-  Using batch size = 64, and the Training accuracies are clearly increasing from 96.7 to 99.9.\n",
        "-   I have ran for 50 epochs and the validation accuracy reached the **MAXIMUM OF 99.480 in 12th epoch**\n",
        "\n"
      ]
    },
    {
      "cell_type": "code",
      "metadata": {
        "id": "3m3w1Cw49Zkt",
        "colab_type": "code",
        "outputId": "ebd66cad-cf07-4296-8b01-6eefb42de799",
        "colab": {
          "base_uri": "https://localhost:8080/",
          "height": 34
        }
      },
      "source": [
        "!pip install -q keras\n",
        "import keras"
      ],
      "execution_count": 0,
      "outputs": [
        {
          "output_type": "stream",
          "text": [
            "Using TensorFlow backend.\n"
          ],
          "name": "stderr"
        }
      ]
    },
    {
      "cell_type": "code",
      "metadata": {
        "id": "Eso6UHE080D4",
        "colab_type": "code",
        "colab": {}
      },
      "source": [
        "import numpy as np\n",
        "\n",
        "from keras.models import Sequential\n",
        "from keras.layers import Dense, Dropout, Activation, Flatten, Add\n",
        "from keras.layers import Convolution2D, MaxPooling2D, BatchNormalization\n",
        "from keras.utils import np_utils\n",
        "\n",
        "from keras.datasets import mnist"
      ],
      "execution_count": 0,
      "outputs": []
    },
    {
      "cell_type": "markdown",
      "metadata": {
        "id": "zByEi95J86RD",
        "colab_type": "text"
      },
      "source": [
        "### Load pre-shuffled MNIST data into train and test sets"
      ]
    },
    {
      "cell_type": "code",
      "metadata": {
        "id": "7eRM0QWN83PV",
        "colab_type": "code",
        "colab": {}
      },
      "source": [
        "(X_train, y_train), (X_test, y_test) = mnist.load_data()"
      ],
      "execution_count": 0,
      "outputs": []
    },
    {
      "cell_type": "code",
      "metadata": {
        "id": "4a4Be72j8-ZC",
        "colab_type": "code",
        "outputId": "81b40bd3-4e8f-4fc1-f90d-0edd31b23441",
        "colab": {
          "base_uri": "https://localhost:8080/",
          "height": 304
        }
      },
      "source": [
        "print (X_train.shape)\n",
        "from matplotlib import pyplot as plt\n",
        "%matplotlib inline\n",
        "plt.imshow(X_train[0])"
      ],
      "execution_count": 0,
      "outputs": [
        {
          "output_type": "stream",
          "text": [
            "(60000, 28, 28)\n"
          ],
          "name": "stdout"
        },
        {
          "output_type": "execute_result",
          "data": {
            "text/plain": [
              "<matplotlib.image.AxesImage at 0x7f8954c95b70>"
            ]
          },
          "metadata": {
            "tags": []
          },
          "execution_count": 4
        },
        {
          "output_type": "display_data",
          "data": {
            "image/png": "[encoded data removed]",
            "text/plain": [
              "<Figure size 432x288 with 1 Axes>"
            ]
          },
          "metadata": {
            "tags": []
          }
        }
      ]
    },
    {
      "cell_type": "code",
      "metadata": {
        "id": "dkmprriw9AnZ",
        "colab_type": "code",
        "colab": {}
      },
      "source": [
        "X_train = X_train.reshape(X_train.shape[0], 28, 28,1)\n",
        "X_test = X_test.reshape(X_test.shape[0], 28, 28,1)"
      ],
      "execution_count": 0,
      "outputs": []
    },
    {
      "cell_type": "code",
      "metadata": {
        "id": "X2m4YS4E9CRh",
        "colab_type": "code",
        "colab": {}
      },
      "source": [
        "X_train = X_train.astype('float32')\n",
        "X_test = X_test.astype('float32')\n",
        "X_train /= 255\n",
        "X_test /= 255"
      ],
      "execution_count": 0,
      "outputs": []
    },
    {
      "cell_type": "code",
      "metadata": {
        "id": "0Mn0vAYD9DvB",
        "colab_type": "code",
        "outputId": "65eb73e8-c686-4312-9e53-acba3ff1bca4",
        "colab": {
          "base_uri": "https://localhost:8080/",
          "height": 34
        }
      },
      "source": [
        "y_train[:10]"
      ],
      "execution_count": 0,
      "outputs": [
        {
          "output_type": "execute_result",
          "data": {
            "text/plain": [
              "array([5, 0, 4, 1, 9, 2, 1, 3, 1, 4], dtype=uint8)"
            ]
          },
          "metadata": {
            "tags": []
          },
          "execution_count": 7
        }
      ]
    },
    {
      "cell_type": "code",
      "metadata": {
        "id": "ZG8JiXR39FHC",
        "colab_type": "code",
        "colab": {}
      },
      "source": [
        "Y_train = np_utils.to_categorical(y_train, 10)\n",
        "Y_test = np_utils.to_categorical(y_test, 10)"
      ],
      "execution_count": 0,
      "outputs": []
    },
    {
      "cell_type": "code",
      "metadata": {
        "id": "fYlFRvKS9HMB",
        "colab_type": "code",
        "outputId": "7a247d91-c113-4180-9ced-1e4dea0daa6d",
        "colab": {
          "base_uri": "https://localhost:8080/",
          "height": 194
        }
      },
      "source": [
        "Y_train[:10]"
      ],
      "execution_count": 0,
      "outputs": [
        {
          "output_type": "execute_result",
          "data": {
            "text/plain": [
              "array([[0., 0., 0., 0., 0., 1., 0., 0., 0., 0.],\n",
              "       [1., 0., 0., 0., 0., 0., 0., 0., 0., 0.],\n",
              "       [0., 0., 0., 0., 1., 0., 0., 0., 0., 0.],\n",
              "       [0., 1., 0., 0., 0., 0., 0., 0., 0., 0.],\n",
              "       [0., 0., 0., 0., 0., 0., 0., 0., 0., 1.],\n",
              "       [0., 0., 1., 0., 0., 0., 0., 0., 0., 0.],\n",
              "       [0., 1., 0., 0., 0., 0., 0., 0., 0., 0.],\n",
              "       [0., 0., 0., 1., 0., 0., 0., 0., 0., 0.],\n",
              "       [0., 1., 0., 0., 0., 0., 0., 0., 0., 0.],\n",
              "       [0., 0., 0., 0., 1., 0., 0., 0., 0., 0.]], dtype=float32)"
            ]
          },
          "metadata": {
            "tags": []
          },
          "execution_count": 9
        }
      ]
    },
    {
      "cell_type": "code",
      "metadata": {
        "id": "osKqT73Q9JJB",
        "colab_type": "code",
        "outputId": "7c0aedc3-ae5f-4ee1-8b4c-a23d20b2998b",
        "colab": {
          "base_uri": "https://localhost:8080/",
          "height": 392
        }
      },
      "source": [
        "from keras.layers import Activation\n",
        "model = Sequential()\n",
        "\n",
        " \n",
        "model.add(Convolution2D(128, 3, 3, activation='relu', input_shape=(28,28,1))) # Receptive field : 3x3 , Resolution output : 26x26x128\n",
        "model.add(BatchNormalization(name='norm_1'))\n",
        "model.add(Convolution2D(64, 1,1, activation='relu')) # Receptive field : 3x3 , Resolution output : 26x26x64\n",
        "\n",
        "model.add(Convolution2D(128, 3, 3, activation='relu')) # Receptive field : 5x5 , Resolution output : 24x24x128\n",
        "model.add(BatchNormalization(name='norm_2'))\n",
        "model.add(Convolution2D(64, 1,1, activation='relu')) # Receptive field : 5x5 , Resolution output : 24x24x64\n",
        "\n",
        "model.add(Convolution2D(128, 3, 3, activation='relu')) # Receptive field : 7x7 , Resolution output : 22x22x128\n",
        "model.add(BatchNormalization(name='norm_3'))\n",
        "model.add(Convolution2D(64, 1,1, activation='relu')) # Receptive field : 7x7 , Resolution output : 22x22x64\n",
        "\n",
        "model.add(MaxPooling2D(pool_size=(2,2))) # Receptive field : 14x14 , Resolution output : 11x11x64\n",
        "\n",
        "model.add(Convolution2D(128, 3, 3, activation='relu')) # Receptive field : 16x16 , Resolution output : 9x9x128\n",
        "model.add(BatchNormalization(name='norm_4'))\n",
        "model.add(Convolution2D(64, 1,1, activation='relu')) # Receptive field : 16x16 , Resolution output : 9x9x64\n",
        "\n",
        "model.add(Convolution2D(128, 3, 3, activation='relu')) # Receptive field : 18x18 , Resolution output : 7x7x128\n",
        "model.add(BatchNormalization(name='norm_5'))\n",
        "model.add(Convolution2D(64, 1,1, activation='relu')) # Receptive field : 18x18 , Resolution output : 7x7x64\n",
        "\n",
        "model.add(Convolution2D(10, 7, 7)) # Resolution output : 1x1x10\n",
        "model.add(Flatten())\n",
        "model.add(Activation('softmax'))"
      ],
      "execution_count": 0,
      "outputs": [
        {
          "output_type": "stream",
          "text": [
            "WARNING:tensorflow:From /usr/local/lib/python3.6/dist-packages/tensorflow/python/framework/op_def_library.py:263: colocate_with (from tensorflow.python.framework.ops) is deprecated and will be removed in a future version.\n",
            "Instructions for updating:\n",
            "Colocations handled automatically by placer.\n"
          ],
          "name": "stdout"
        },
        {
          "output_type": "stream",
          "text": [
            "/usr/local/lib/python3.6/dist-packages/ipykernel_launcher.py:5: UserWarning: Update your `Conv2D` call to the Keras 2 API: `Conv2D(128, (3, 3), activation=\"relu\", input_shape=(28, 28, 1...)`\n",
            "  \"\"\"\n",
            "/usr/local/lib/python3.6/dist-packages/ipykernel_launcher.py:7: UserWarning: Update your `Conv2D` call to the Keras 2 API: `Conv2D(64, (1, 1), activation=\"relu\")`\n",
            "  import sys\n",
            "/usr/local/lib/python3.6/dist-packages/ipykernel_launcher.py:9: UserWarning: Update your `Conv2D` call to the Keras 2 API: `Conv2D(128, (3, 3), activation=\"relu\")`\n",
            "  if __name__ == '__main__':\n",
            "/usr/local/lib/python3.6/dist-packages/ipykernel_launcher.py:11: UserWarning: Update your `Conv2D` call to the Keras 2 API: `Conv2D(64, (1, 1), activation=\"relu\")`\n",
            "  # This is added back by InteractiveShellApp.init_path()\n",
            "/usr/local/lib/python3.6/dist-packages/ipykernel_launcher.py:13: UserWarning: Update your `Conv2D` call to the Keras 2 API: `Conv2D(128, (3, 3), activation=\"relu\")`\n",
            "  del sys.path[0]\n",
            "/usr/local/lib/python3.6/dist-packages/ipykernel_launcher.py:15: UserWarning: Update your `Conv2D` call to the Keras 2 API: `Conv2D(64, (1, 1), activation=\"relu\")`\n",
            "  from ipykernel import kernelapp as app\n",
            "/usr/local/lib/python3.6/dist-packages/ipykernel_launcher.py:19: UserWarning: Update your `Conv2D` call to the Keras 2 API: `Conv2D(128, (3, 3), activation=\"relu\")`\n",
            "/usr/local/lib/python3.6/dist-packages/ipykernel_launcher.py:21: UserWarning: Update your `Conv2D` call to the Keras 2 API: `Conv2D(64, (1, 1), activation=\"relu\")`\n",
            "/usr/local/lib/python3.6/dist-packages/ipykernel_launcher.py:23: UserWarning: Update your `Conv2D` call to the Keras 2 API: `Conv2D(128, (3, 3), activation=\"relu\")`\n",
            "/usr/local/lib/python3.6/dist-packages/ipykernel_launcher.py:25: UserWarning: Update your `Conv2D` call to the Keras 2 API: `Conv2D(64, (1, 1), activation=\"relu\")`\n",
            "/usr/local/lib/python3.6/dist-packages/ipykernel_launcher.py:27: UserWarning: Update your `Conv2D` call to the Keras 2 API: `Conv2D(10, (7, 7))`\n"
          ],
          "name": "stderr"
        }
      ]
    },
    {
      "cell_type": "code",
      "metadata": {
        "id": "TzdAYg1k9K7Z",
        "colab_type": "code",
        "outputId": "baa43740-cf52-43f7-f1ba-04abedd02b7a",
        "colab": {
          "base_uri": "https://localhost:8080/",
          "height": 816
        }
      },
      "source": [
        "model.summary()"
      ],
      "execution_count": 0,
      "outputs": [
        {
          "output_type": "stream",
          "text": [
            "_________________________________________________________________\n",
            "Layer (type)                 Output Shape              Param #   \n",
            "=================================================================\n",
            "conv2d_1 (Conv2D)            (None, 26, 26, 128)       1280      \n",
            "_________________________________________________________________\n",
            "norm_1 (BatchNormalization)  (None, 26, 26, 128)       512       \n",
            "_________________________________________________________________\n",
            "conv2d_2 (Conv2D)            (None, 26, 26, 64)        8256      \n",
            "_________________________________________________________________\n",
            "conv2d_3 (Conv2D)            (None, 24, 24, 128)       73856     \n",
            "_________________________________________________________________\n",
            "norm_2 (BatchNormalization)  (None, 24, 24, 128)       512       \n",
            "_________________________________________________________________\n",
            "conv2d_4 (Conv2D)            (None, 24, 24, 64)        8256      \n",
            "_________________________________________________________________\n",
            "conv2d_5 (Conv2D)            (None, 22, 22, 128)       73856     \n",
            "_________________________________________________________________\n",
            "norm_3 (BatchNormalization)  (None, 22, 22, 128)       512       \n",
            "_________________________________________________________________\n",
            "conv2d_6 (Conv2D)            (None, 22, 22, 64)        8256      \n",
            "_________________________________________________________________\n",
            "max_pooling2d_1 (MaxPooling2 (None, 11, 11, 64)        0         \n",
            "_________________________________________________________________\n",
            "conv2d_7 (Conv2D)            (None, 9, 9, 128)         73856     \n",
            "_________________________________________________________________\n",
            "norm_4 (BatchNormalization)  (None, 9, 9, 128)         512       \n",
            "_________________________________________________________________\n",
            "conv2d_8 (Conv2D)            (None, 9, 9, 64)          8256      \n",
            "_________________________________________________________________\n",
            "conv2d_9 (Conv2D)            (None, 7, 7, 128)         73856     \n",
            "_________________________________________________________________\n",
            "norm_5 (BatchNormalization)  (None, 7, 7, 128)         512       \n",
            "_________________________________________________________________\n",
            "conv2d_10 (Conv2D)           (None, 7, 7, 64)          8256      \n",
            "_________________________________________________________________\n",
            "conv2d_11 (Conv2D)           (None, 1, 1, 10)          31370     \n",
            "_________________________________________________________________\n",
            "flatten_1 (Flatten)          (None, 10)                0         \n",
            "_________________________________________________________________\n",
            "activation_1 (Activation)    (None, 10)                0         \n",
            "=================================================================\n",
            "Total params: 371,914\n",
            "Trainable params: 370,634\n",
            "Non-trainable params: 1,280\n",
            "_________________________________________________________________\n"
          ],
          "name": "stdout"
        }
      ]
    },
    {
      "cell_type": "code",
      "metadata": {
        "id": "0wUo4i_ENTx0",
        "colab_type": "code",
        "outputId": "e99efbe7-07e4-4c74-cea6-d59e7911655c",
        "colab": {
          "base_uri": "https://localhost:8080/",
          "height": 34
        }
      },
      "source": [
        "from google.colab import drive\n",
        "drive.mount('/content/gdrive')"
      ],
      "execution_count": 0,
      "outputs": [
        {
          "output_type": "stream",
          "text": [
            "Drive already mounted at /content/gdrive; to attempt to forcibly remount, call drive.mount(\"/content/gdrive\", force_remount=True).\n"
          ],
          "name": "stdout"
        }
      ]
    },
    {
      "cell_type": "code",
      "metadata": {
        "id": "dHznkCTqPBIW",
        "colab_type": "code",
        "outputId": "5938035d-399a-4f39-fb09-84820c76ff86",
        "colab": {
          "base_uri": "https://localhost:8080/",
          "height": 212
        }
      },
      "source": [
        "!wget https://raw.githubusercontent.com/bckenstler/CLR/master/clr_callback.py\n",
        "from clr_callback import *"
      ],
      "execution_count": 0,
      "outputs": [
        {
          "output_type": "stream",
          "text": [
            "--2019-05-20 13:10:38--  https://raw.githubusercontent.com/bckenstler/CLR/master/clr_callback.py\n",
            "Resolving raw.githubusercontent.com (raw.githubusercontent.com)... 151.101.0.133, 151.101.64.133, 151.101.128.133, ...\n",
            "Connecting to raw.githubusercontent.com (raw.githubusercontent.com)|151.101.0.133|:443... connected.\n",
            "HTTP request sent, awaiting response... 200 OK\n",
            "Length: 5326 (5.2K) [text/plain]\n",
            "Saving to: ‘clr_callback.py.3’\n",
            "\n",
            "\rclr_callback.py.3     0%[                    ]       0  --.-KB/s               \rclr_callback.py.3   100%[===================>]   5.20K  --.-KB/s    in 0s      \n",
            "\n",
            "2019-05-20 13:10:38 (68.6 MB/s) - ‘clr_callback.py.3’ saved [5326/5326]\n",
            "\n"
          ],
          "name": "stdout"
        }
      ]
    },
    {
      "cell_type": "code",
      "metadata": {
        "id": "VTC_XJVvPFSY",
        "colab_type": "code",
        "colab": {}
      },
      "source": [
        "filepath=\"/content/gdrive/My Drive/Raajesh-{epoch:02d}-{val_acc:.2f}.hdf5\"\n",
        "checkpoint = ModelCheckpoint(filepath, monitor='val_acc', verbose=1, save_best_only=True, mode='max')\n",
        "callbacks_list = [checkpoint]"
      ],
      "execution_count": 0,
      "outputs": []
    },
    {
      "cell_type": "code",
      "metadata": {
        "id": "6eomaFUxNEje",
        "colab_type": "code",
        "colab": {}
      },
      "source": [
        "model.compile(loss='categorical_crossentropy', optimizer='adam', metrics=['accuracy'])"
      ],
      "execution_count": 0,
      "outputs": []
    },
    {
      "cell_type": "code",
      "metadata": {
        "id": "PY0YAPQhPRdK",
        "colab_type": "code",
        "outputId": "f4fac4bb-9e79-45b1-997a-0e5e8a8a996e",
        "colab": {
          "base_uri": "https://localhost:8080/",
          "height": 3681
        }
      },
      "source": [
        "model.fit(X_train, Y_train, batch_size=64, epochs=50, verbose=1, validation_data=(X_test, Y_test), callbacks=callbacks_list)"
      ],
      "execution_count": 0,
      "outputs": [
        {
          "output_type": "stream",
          "text": [
            "WARNING:tensorflow:From /usr/local/lib/python3.6/dist-packages/tensorflow/python/ops/math_ops.py:3066: to_int32 (from tensorflow.python.ops.math_ops) is deprecated and will be removed in a future version.\n",
            "Instructions for updating:\n",
            "Use tf.cast instead.\n",
            "Train on 60000 samples, validate on 10000 samples\n",
            "Epoch 1/50\n",
            "60000/60000 [==============================] - 27s 458us/step - loss: 0.1040 - acc: 0.9676 - val_loss: 0.0531 - val_acc: 0.9853\n",
            "\n",
            "Epoch 00001: val_acc improved from -inf to 0.98530, saving model to /content/gdrive/My Drive/Raajesh-01-0.99.hdf5\n",
            "Epoch 2/50\n",
            "60000/60000 [==============================] - 24s 408us/step - loss: 0.0414 - acc: 0.9873 - val_loss: 0.0360 - val_acc: 0.9883\n",
            "\n",
            "Epoch 00002: val_acc improved from 0.98530 to 0.98830, saving model to /content/gdrive/My Drive/Raajesh-02-0.99.hdf5\n",
            "Epoch 3/50\n",
            "60000/60000 [==============================] - 25s 412us/step - loss: 0.0289 - acc: 0.9911 - val_loss: 0.0434 - val_acc: 0.9882\n",
            "\n",
            "Epoch 00003: val_acc did not improve from 0.98830\n",
            "Epoch 4/50\n",
            "60000/60000 [==============================] - 24s 405us/step - loss: 0.0251 - acc: 0.9919 - val_loss: 0.0440 - val_acc: 0.9873\n",
            "\n",
            "Epoch 00004: val_acc did not improve from 0.98830\n",
            "Epoch 5/50\n",
            "60000/60000 [==============================] - 24s 405us/step - loss: 0.0228 - acc: 0.9926 - val_loss: 0.0343 - val_acc: 0.9889\n",
            "\n",
            "Epoch 00005: val_acc improved from 0.98830 to 0.98890, saving model to /content/gdrive/My Drive/Raajesh-05-0.99.hdf5\n",
            "Epoch 6/50\n",
            "60000/60000 [==============================] - 25s 409us/step - loss: 0.0183 - acc: 0.9938 - val_loss: 0.0278 - val_acc: 0.9925\n",
            "\n",
            "Epoch 00006: val_acc improved from 0.98890 to 0.99250, saving model to /content/gdrive/My Drive/Raajesh-06-0.99.hdf5\n",
            "Epoch 7/50\n",
            "60000/60000 [==============================] - 24s 407us/step - loss: 0.0163 - acc: 0.9946 - val_loss: 0.0321 - val_acc: 0.9908\n",
            "\n",
            "Epoch 00007: val_acc did not improve from 0.99250\n",
            "Epoch 8/50\n",
            "60000/60000 [==============================] - 24s 404us/step - loss: 0.0148 - acc: 0.9952 - val_loss: 0.0423 - val_acc: 0.9891\n",
            "\n",
            "Epoch 00008: val_acc did not improve from 0.99250\n",
            "Epoch 9/50\n",
            "60000/60000 [==============================] - 24s 405us/step - loss: 0.0116 - acc: 0.9963 - val_loss: 0.0360 - val_acc: 0.9916\n",
            "\n",
            "Epoch 00009: val_acc did not improve from 0.99250\n",
            "Epoch 10/50\n",
            "60000/60000 [==============================] - 25s 411us/step - loss: 0.0121 - acc: 0.9963 - val_loss: 0.0380 - val_acc: 0.9891\n",
            "\n",
            "Epoch 00010: val_acc did not improve from 0.99250\n",
            "Epoch 11/50\n",
            "60000/60000 [==============================] - 24s 405us/step - loss: 0.0118 - acc: 0.9963 - val_loss: 0.0300 - val_acc: 0.9929\n",
            "\n",
            "Epoch 00011: val_acc improved from 0.99250 to 0.99290, saving model to /content/gdrive/My Drive/Raajesh-11-0.99.hdf5\n",
            "Epoch 12/50\n",
            "60000/60000 [==============================] - 24s 404us/step - loss: 0.0101 - acc: 0.9967 - val_loss: 0.0222 - val_acc: 0.9948\n",
            "\n",
            "Epoch 00012: val_acc improved from 0.99290 to 0.99480, saving model to /content/gdrive/My Drive/Raajesh-12-0.99.hdf5\n",
            "Epoch 13/50\n",
            "60000/60000 [==============================] - 25s 411us/step - loss: 0.0068 - acc: 0.9978 - val_loss: 0.0427 - val_acc: 0.9903\n",
            "\n",
            "Epoch 00013: val_acc did not improve from 0.99480\n",
            "Epoch 14/50\n",
            "60000/60000 [==============================] - 25s 413us/step - loss: 0.0092 - acc: 0.9973 - val_loss: 0.0371 - val_acc: 0.9904\n",
            "\n",
            "Epoch 00014: val_acc did not improve from 0.99480\n",
            "Epoch 15/50\n",
            "60000/60000 [==============================] - 24s 404us/step - loss: 0.0056 - acc: 0.9981 - val_loss: 0.0434 - val_acc: 0.9900\n",
            "\n",
            "Epoch 00015: val_acc did not improve from 0.99480\n",
            "Epoch 16/50\n",
            "60000/60000 [==============================] - 25s 411us/step - loss: 0.0083 - acc: 0.9975 - val_loss: 0.0390 - val_acc: 0.9921\n",
            "\n",
            "Epoch 00016: val_acc did not improve from 0.99480\n",
            "Epoch 17/50\n",
            "60000/60000 [==============================] - 24s 405us/step - loss: 0.0064 - acc: 0.9980 - val_loss: 0.0528 - val_acc: 0.9895\n",
            "\n",
            "Epoch 00017: val_acc did not improve from 0.99480\n",
            "Epoch 18/50\n",
            "60000/60000 [==============================] - 24s 405us/step - loss: 0.0043 - acc: 0.9986 - val_loss: 0.0379 - val_acc: 0.9928\n",
            "\n",
            "Epoch 00018: val_acc did not improve from 0.99480\n",
            "Epoch 19/50\n",
            "60000/60000 [==============================] - 24s 406us/step - loss: 0.0072 - acc: 0.9977 - val_loss: 0.0329 - val_acc: 0.9933\n",
            "\n",
            "Epoch 00019: val_acc did not improve from 0.99480\n",
            "Epoch 20/50\n",
            "60000/60000 [==============================] - 24s 407us/step - loss: 0.0047 - acc: 0.9986 - val_loss: 0.0367 - val_acc: 0.9924\n",
            "\n",
            "Epoch 00020: val_acc did not improve from 0.99480\n",
            "Epoch 21/50\n",
            "60000/60000 [==============================] - 24s 404us/step - loss: 0.0053 - acc: 0.9985 - val_loss: 0.0391 - val_acc: 0.9919\n",
            "\n",
            "Epoch 00021: val_acc did not improve from 0.99480\n",
            "Epoch 22/50\n",
            "60000/60000 [==============================] - 24s 404us/step - loss: 0.0042 - acc: 0.9988 - val_loss: 0.0567 - val_acc: 0.9893\n",
            "\n",
            "Epoch 00022: val_acc did not improve from 0.99480\n",
            "Epoch 23/50\n",
            "60000/60000 [==============================] - 25s 411us/step - loss: 0.0061 - acc: 0.9982 - val_loss: 0.0347 - val_acc: 0.9930\n",
            "\n",
            "Epoch 00023: val_acc did not improve from 0.99480\n",
            "Epoch 24/50\n",
            "60000/60000 [==============================] - 24s 405us/step - loss: 0.0032 - acc: 0.9991 - val_loss: 0.0383 - val_acc: 0.9920\n",
            "\n",
            "Epoch 00024: val_acc did not improve from 0.99480\n",
            "Epoch 25/50\n",
            "60000/60000 [==============================] - 24s 404us/step - loss: 0.0064 - acc: 0.9982 - val_loss: 0.0455 - val_acc: 0.9927\n",
            "\n",
            "Epoch 00025: val_acc did not improve from 0.99480\n",
            "Epoch 26/50\n",
            "60000/60000 [==============================] - 25s 412us/step - loss: 0.0049 - acc: 0.9986 - val_loss: 0.0297 - val_acc: 0.9946\n",
            "\n",
            "Epoch 00026: val_acc did not improve from 0.99480\n",
            "Epoch 27/50\n",
            "60000/60000 [==============================] - 25s 411us/step - loss: 0.0033 - acc: 0.9989 - val_loss: 0.0414 - val_acc: 0.9922\n",
            "\n",
            "Epoch 00027: val_acc did not improve from 0.99480\n",
            "Epoch 28/50\n",
            "60000/60000 [==============================] - 24s 404us/step - loss: 0.0035 - acc: 0.9990 - val_loss: 0.0348 - val_acc: 0.9924\n",
            "\n",
            "Epoch 00028: val_acc did not improve from 0.99480\n",
            "Epoch 29/50\n",
            "60000/60000 [==============================] - 24s 408us/step - loss: 0.0043 - acc: 0.9988 - val_loss: 0.0406 - val_acc: 0.9923\n",
            "\n",
            "Epoch 00029: val_acc did not improve from 0.99480\n",
            "Epoch 30/50\n",
            "60000/60000 [==============================] - 24s 406us/step - loss: 0.0039 - acc: 0.9988 - val_loss: 0.0503 - val_acc: 0.9913\n",
            "\n",
            "Epoch 00030: val_acc did not improve from 0.99480\n",
            "Epoch 31/50\n",
            "60000/60000 [==============================] - 24s 404us/step - loss: 0.0045 - acc: 0.9986 - val_loss: 0.0404 - val_acc: 0.9935\n",
            "\n",
            "Epoch 00031: val_acc did not improve from 0.99480\n",
            "Epoch 32/50\n",
            "60000/60000 [==============================] - 24s 404us/step - loss: 0.0034 - acc: 0.9991 - val_loss: 0.0488 - val_acc: 0.9914\n",
            "\n",
            "Epoch 00032: val_acc did not improve from 0.99480\n",
            "Epoch 33/50\n",
            "60000/60000 [==============================] - 25s 410us/step - loss: 0.0030 - acc: 0.9993 - val_loss: 0.0424 - val_acc: 0.9933\n",
            "\n",
            "Epoch 00033: val_acc did not improve from 0.99480\n",
            "Epoch 34/50\n",
            "60000/60000 [==============================] - 24s 404us/step - loss: 0.0048 - acc: 0.9988 - val_loss: 0.0581 - val_acc: 0.9905\n",
            "\n",
            "Epoch 00034: val_acc did not improve from 0.99480\n",
            "Epoch 35/50\n",
            "60000/60000 [==============================] - 24s 404us/step - loss: 0.0047 - acc: 0.9988 - val_loss: 0.0363 - val_acc: 0.9931\n",
            "\n",
            "Epoch 00035: val_acc did not improve from 0.99480\n",
            "Epoch 36/50\n",
            "60000/60000 [==============================] - 25s 410us/step - loss: 0.0022 - acc: 0.9994 - val_loss: 0.0341 - val_acc: 0.9936\n",
            "\n",
            "Epoch 00036: val_acc did not improve from 0.99480\n",
            "Epoch 37/50\n",
            "60000/60000 [==============================] - 24s 404us/step - loss: 0.0026 - acc: 0.9993 - val_loss: 0.0439 - val_acc: 0.9921\n",
            "\n",
            "Epoch 00037: val_acc did not improve from 0.99480\n",
            "Epoch 38/50\n",
            "60000/60000 [==============================] - 24s 404us/step - loss: 0.0033 - acc: 0.9989 - val_loss: 0.0509 - val_acc: 0.9920\n",
            "\n",
            "Epoch 00038: val_acc did not improve from 0.99480\n",
            "Epoch 39/50\n",
            "60000/60000 [==============================] - 25s 415us/step - loss: 0.0033 - acc: 0.9991 - val_loss: 0.0394 - val_acc: 0.9937\n",
            "\n",
            "Epoch 00039: val_acc did not improve from 0.99480\n",
            "Epoch 40/50\n",
            "60000/60000 [==============================] - 24s 405us/step - loss: 0.0031 - acc: 0.9992 - val_loss: 0.0441 - val_acc: 0.9932\n",
            "\n",
            "Epoch 00040: val_acc did not improve from 0.99480\n",
            "Epoch 41/50\n",
            "60000/60000 [==============================] - 24s 403us/step - loss: 0.0022 - acc: 0.9995 - val_loss: 0.0479 - val_acc: 0.9931\n",
            "\n",
            "Epoch 00041: val_acc did not improve from 0.99480\n",
            "Epoch 42/50\n",
            "60000/60000 [==============================] - 24s 405us/step - loss: 0.0028 - acc: 0.9993 - val_loss: 0.0545 - val_acc: 0.9914\n",
            "\n",
            "Epoch 00042: val_acc did not improve from 0.99480\n",
            "Epoch 43/50\n",
            "60000/60000 [==============================] - 25s 409us/step - loss: 0.0044 - acc: 0.9990 - val_loss: 0.0530 - val_acc: 0.9910\n",
            "\n",
            "Epoch 00043: val_acc did not improve from 0.99480\n",
            "Epoch 44/50\n",
            "60000/60000 [==============================] - 24s 404us/step - loss: 0.0025 - acc: 0.9993 - val_loss: 0.0500 - val_acc: 0.9920\n",
            "\n",
            "Epoch 00044: val_acc did not improve from 0.99480\n",
            "Epoch 45/50\n",
            "60000/60000 [==============================] - 24s 404us/step - loss: 0.0027 - acc: 0.9992 - val_loss: 0.0504 - val_acc: 0.9925\n",
            "\n",
            "Epoch 00045: val_acc did not improve from 0.99480\n",
            "Epoch 46/50\n",
            "60000/60000 [==============================] - 25s 411us/step - loss: 0.0021 - acc: 0.9993 - val_loss: 0.0444 - val_acc: 0.9939\n",
            "\n",
            "Epoch 00046: val_acc did not improve from 0.99480\n",
            "Epoch 47/50\n",
            "60000/60000 [==============================] - 24s 406us/step - loss: 0.0025 - acc: 0.9995 - val_loss: 0.0373 - val_acc: 0.9946\n",
            "\n",
            "Epoch 00047: val_acc did not improve from 0.99480\n",
            "Epoch 48/50\n",
            "60000/60000 [==============================] - 24s 404us/step - loss: 0.0036 - acc: 0.9991 - val_loss: 0.0595 - val_acc: 0.9919\n",
            "\n",
            "Epoch 00048: val_acc did not improve from 0.99480\n",
            "Epoch 49/50\n",
            "60000/60000 [==============================] - 25s 411us/step - loss: 0.0024 - acc: 0.9994 - val_loss: 0.0396 - val_acc: 0.9935\n",
            "\n",
            "Epoch 00049: val_acc did not improve from 0.99480\n",
            "Epoch 50/50\n",
            "60000/60000 [==============================] - 24s 404us/step - loss: 0.0027 - acc: 0.9994 - val_loss: 0.0425 - val_acc: 0.9929\n",
            "\n",
            "Epoch 00050: val_acc did not improve from 0.99480\n"
          ],
          "name": "stdout"
        },
        {
          "output_type": "execute_result",
          "data": {
            "text/plain": [
              "<keras.callbacks.History at 0x7f89415279b0>"
            ]
          },
          "metadata": {
            "tags": []
          },
          "execution_count": 16
        }
      ]
    },
    {
      "cell_type": "code",
      "metadata": {
        "id": "8DBHC_zvSgEe",
        "colab_type": "code",
        "colab": {}
      },
      "source": [
        "model.load_weights('/content/gdrive/My Drive/Raajesh-12-0.99.hdf5')"
      ],
      "execution_count": 0,
      "outputs": []
    },
    {
      "cell_type": "code",
      "metadata": {
        "id": "AtsH-lLk-eLb",
        "colab_type": "code",
        "colab": {}
      },
      "source": [
        "score = model.evaluate(X_test, Y_test, verbose=0)"
      ],
      "execution_count": 0,
      "outputs": []
    },
    {
      "cell_type": "code",
      "metadata": {
        "id": "mkX8JMv79q9r",
        "colab_type": "code",
        "outputId": "e8d7efe2-9a8c-428a-92ef-04c47187944d",
        "colab": {
          "base_uri": "https://localhost:8080/",
          "height": 34
        }
      },
      "source": [
        "print(score)"
      ],
      "execution_count": 0,
      "outputs": [
        {
          "output_type": "stream",
          "text": [
            "[0.022167634683228927, 0.9948]\n"
          ],
          "name": "stdout"
        }
      ]
    },
    {
      "cell_type": "code",
      "metadata": {
        "id": "OCWoJkwE9suh",
        "colab_type": "code",
        "colab": {}
      },
      "source": [
        "y_pred = model.predict(X_test)"
      ],
      "execution_count": 0,
      "outputs": []
    },
    {
      "cell_type": "code",
      "metadata": {
        "id": "Ym7iCFBm9uBs",
        "colab_type": "code",
        "outputId": "fa1be59d-bfdb-47ee-aa55-4cf16630c235",
        "colab": {
          "base_uri": "https://localhost:8080/",
          "height": 354
        }
      },
      "source": [
        "print(y_pred[:9])\n",
        "print(y_test[:9])"
      ],
      "execution_count": 0,
      "outputs": [
        {
          "output_type": "stream",
          "text": [
            "[[1.5769641e-15 2.7399881e-15 3.7148171e-09 2.7764815e-12 2.1274007e-17\n",
            "  1.5276241e-15 4.8698928e-24 1.0000000e+00 2.5432638e-16 3.1107397e-12]\n",
            " [1.0704648e-10 5.0851684e-10 1.0000000e+00 2.3783825e-15 5.2444072e-14\n",
            "  1.0019058e-14 1.8369591e-09 5.2263051e-17 1.5847563e-14 2.1989827e-14]\n",
            " [3.3029729e-10 1.0000000e+00 1.2524996e-08 1.0592786e-12 5.8135203e-09\n",
            "  1.0021975e-08 1.4565563e-09 3.5913491e-08 2.4057855e-11 1.2353520e-10]\n",
            " [9.9999988e-01 3.0035735e-17 1.0276827e-13 2.9852543e-15 2.6220311e-11\n",
            "  1.9304424e-11 4.6378252e-09 3.3058102e-13 1.3646992e-11 8.7312451e-08]\n",
            " [1.8420962e-16 2.7099768e-16 1.0772396e-15 7.0330846e-17 1.0000000e+00\n",
            "  2.7900647e-17 7.8206408e-15 1.2894837e-15 1.0450498e-13 4.5077192e-10]\n",
            " [3.5746538e-11 9.9999964e-01 3.0507539e-07 1.5275428e-14 2.4839888e-08\n",
            "  1.2273069e-11 7.7712420e-11 2.9585323e-08 4.1810336e-12 7.5658285e-10]\n",
            " [2.7025355e-22 5.0600635e-09 3.5380243e-12 2.5075894e-17 1.0000000e+00\n",
            "  1.6950147e-14 1.3940821e-17 1.8548764e-09 1.9447244e-09 1.2452112e-11]\n",
            " [5.3172610e-16 3.4348422e-13 2.7797203e-10 2.0296266e-13 3.8177100e-07\n",
            "  2.0968978e-11 2.6323617e-19 3.8186108e-12 1.9684994e-07 9.9999940e-01]\n",
            " [1.3589795e-13 2.1189257e-18 5.4831470e-13 6.9872493e-15 1.0455302e-15\n",
            "  9.9999905e-01 8.8654656e-07 1.2780379e-15 1.6797911e-07 4.7021774e-12]]\n",
            "[7 2 1 0 4 1 4 9 5]\n"
          ],
          "name": "stdout"
        }
      ]
    },
    {
      "cell_type": "code",
      "metadata": {
        "id": "CT--y98_dr2T",
        "colab_type": "code",
        "colab": {}
      },
      "source": [
        "layer_dict = dict([(layer.name, layer) for layer in model.layers])"
      ],
      "execution_count": 0,
      "outputs": []
    },
    {
      "cell_type": "code",
      "metadata": {
        "id": "2GY4Upv4dsUR",
        "colab_type": "code",
        "colab": {}
      },
      "source": [
        "import numpy as np\n",
        "from matplotlib import pyplot as plt\n",
        "from keras import backend as K\n",
        "%matplotlib inline\n",
        "# util function to convert a tensor into a valid image\n",
        "def deprocess_image(x):\n",
        "    # normalize tensor: center on 0., ensure std is 0.1\n",
        "    x -= x.mean()\n",
        "    x /= (x.std() + 1e-5)\n",
        "    x *= 0.1\n",
        "\n",
        "    # clip to [0, 1]\n",
        "    x += 0.5\n",
        "    x = np.clip(x, 0, 1)\n",
        "\n",
        "    # convert to RGB array\n",
        "    x *= 255\n",
        "    #x = x.transpose((1, 2, 0))\n",
        "    x = np.clip(x, 0, 255).astype('uint8')\n",
        "    return x\n",
        "\n",
        "def vis_img_in_filter(img = np.array(X_train[2]).reshape((1, 28, 28, 1)).astype(np.float64), \n",
        "                      layer_name = 'conv2d_14'):\n",
        "    layer_output = layer_dict[layer_name].output\n",
        "    img_ascs = list()\n",
        "    for filter_index in range(layer_output.shape[3]):\n",
        "        # build a loss function that maximizes the activation\n",
        "        # of the nth filter of the layer considered\n",
        "        loss = K.mean(layer_output[:, :, :, filter_index])\n",
        "\n",
        "        # compute the gradient of the input picture wrt this loss\n",
        "        grads = K.gradients(loss, model.input)[0]\n",
        "\n",
        "        # normalization trick: we normalize the gradient\n",
        "        grads /= (K.sqrt(K.mean(K.square(grads))) + 1e-5)\n",
        "\n",
        "        # this function returns the loss and grads given the input picture\n",
        "        iterate = K.function([model.input], [loss, grads])\n",
        "\n",
        "        # step size for gradient ascent\n",
        "        step = 5.\n",
        "\n",
        "        img_asc = np.array(img)\n",
        "        # run gradient ascent for 20 steps\n",
        "        for i in range(20):\n",
        "            loss_value, grads_value = iterate([img_asc])\n",
        "            img_asc += grads_value * step\n",
        "\n",
        "        img_asc = img_asc[0]\n",
        "        img_ascs.append(deprocess_image(img_asc).reshape((28, 28)))\n",
        "        \n",
        "    if layer_output.shape[3] >= 35:\n",
        "        plot_x, plot_y = 6, 6\n",
        "    elif layer_output.shape[3] >= 23:\n",
        "        plot_x, plot_y = 4, 6\n",
        "    elif layer_output.shape[3] >= 11:\n",
        "        plot_x, plot_y = 2, 6\n",
        "    else:\n",
        "        plot_x, plot_y = 1, 2\n",
        "    fig, ax = plt.subplots(plot_x, plot_y, figsize = (12, 12))\n",
        "    ax[0, 0].imshow(img.reshape((28, 28)), cmap = 'gray')\n",
        "    ax[0, 0].set_title('Input image')\n",
        "    fig.suptitle('Input image and %s filters' % (layer_name,))\n",
        "    fig.tight_layout(pad = 0.3, rect = [0, 0, 0.9, 0.9])\n",
        "    for (x, y) in [(i, j) for i in range(plot_x) for j in range(plot_y)]:\n",
        "        if x == 0 and y == 0:\n",
        "            continue\n",
        "        ax[x, y].imshow(img_ascs[x * plot_y + y - 1], cmap = 'gray')\n",
        "        ax[x, y].set_title('filter %d' % (x * plot_y + y - 1))\n",
        "\n",
        "vis_img_in_filter()"
      ],
      "execution_count": 0,
      "outputs": []
    }
  ]
}
